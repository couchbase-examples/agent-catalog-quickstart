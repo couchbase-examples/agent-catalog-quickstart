{
 "cells": [
  {
   "cell_type": "markdown",
   "id": "c3f1a9ce",
   "metadata": {},
   "source": [
    "# Route Planner Agent Tutorial\n",
    "\n",
    "This notebook demonstrates the Agent Catalog route planner agent that helps users find travel routes and calculate distances using:\n",
    "- Agent Catalog (agentc) for tool discovery, prompt management, and span logging\n",
    "- Couchbase Capella as vector store\n",
    "- Capella AI Services for embeddings and LLM\n",
    "- LlamaIndex for RAG pipeline and agent execution"
   ]
  },
  {
   "cell_type": "markdown",
   "id": "setup_imports",
   "metadata": {},
   "source": [
    "## Setup and Imports\n",
    "\n",
    "Import all necessary modules for the route planner agent."
   ]
  },
  {
   "cell_type": "code",
   "execution_count": 1,
   "id": "96071fcf",
   "metadata": {},
   "outputs": [
    {
     "name": "stderr",
     "output_type": "stream",
     "text": [
      "/Users/kaustavghosh/Desktop/agent-catalog-quickstart/.venv/lib/python3.12/site-packages/tqdm/auto.py:21: TqdmWarning: IProgress not found. Please update jupyter and ipywidgets. See https://ipywidgets.readthedocs.io/en/stable/user_install.html\n",
      "  from .autonotebook import tqdm as notebook_tqdm\n"
     ]
    },
    {
     "name": "stdout",
     "output_type": "stream",
     "text": [
      "✅ Setup complete\n"
     ]
    }
   ],
   "source": [
    "import json\n",
    "import logging\n",
    "import os\n",
    "import sys\n",
    "import base64\n",
    "import time\n",
    "from datetime import timedelta\n",
    "from typing import List\n",
    "\n",
    "import agentc\n",
    "from agentc_llamaindex.chat import Callback\n",
    "from couchbase.auth import PasswordAuthenticator\n",
    "from couchbase.cluster import Cluster\n",
    "from couchbase.management.buckets import CreateBucketSettings\n",
    "from couchbase.management.search import SearchIndex\n",
    "from couchbase.options import ClusterOptions\n",
    "from couchbase.exceptions import CouchbaseException\n",
    "\n",
    "from llama_index.core import Settings, Document, VectorStoreIndex\n",
    "from llama_index.core.ingestion import IngestionPipeline\n",
    "from llama_index.core.node_parser import SentenceSplitter\n",
    "from llama_index.core.agent import ReActAgent\n",
    "from llama_index.core.tools import FunctionTool\n",
    "from llama_index.vector_stores.couchbase import CouchbaseSearchVectorStore\n",
    "from llama_index.embeddings.openai import OpenAIEmbedding\n",
    "from llama_index.llms.openai_like import OpenAILike\n",
    "\n",
    "import dotenv\n",
    "dotenv.load_dotenv(override=True)\n",
    "\n",
    "# Setup logging\n",
    "logging.basicConfig(\n",
    "    level=logging.INFO, \n",
    "    format=\"%(asctime)s - %(levelname)s - %(message)s\"\n",
    ")\n",
    "logger = logging.getLogger(__name__)\n",
    "\n",
    "print(\"✅ Setup complete\")"
   ]
  },
  {
   "cell_type": "markdown",
   "id": "env_setup",
   "metadata": {},
   "source": [
    "## Environment Setup\n",
    "\n",
    "Setup required environment variables with defaults and validation."
   ]
  },
  {
   "cell_type": "code",
   "execution_count": 2,
   "id": "env_config",
   "metadata": {},
   "outputs": [
    {
     "name": "stdout",
     "output_type": "stream",
     "text": [
      "Using Capella AI endpoint: https://6u2le4tknje7yzkg.ai.cloud.couchbase.com\n",
      "✅ Environment configured\n"
     ]
    }
   ],
   "source": [
    "def _set_if_undefined(var: str):\n",
    "    \"\"\"Helper function to prompt for missing environment variables.\"\"\"\n",
    "    if os.environ.get(var) is None:\n",
    "        import getpass\n",
    "        os.environ[var] = getpass.getpass(f\"Please provide your {var}: \")\n",
    "\n",
    "def setup_environment():\n",
    "    \"\"\"Setup environment variables with defaults and validation.\"\"\"\n",
    "    required_vars = ['CB_HOST', 'CB_USERNAME', 'CB_PASSWORD', 'CB_BUCKET_NAME']\n",
    "    for var in required_vars:\n",
    "        _set_if_undefined(var)\n",
    "    \n",
    "    # Optional Capella AI variables\n",
    "    optional_vars = ['CAPELLA_API_ENDPOINT', 'CAPELLA_API_EMBEDDING_MODEL', 'CAPELLA_API_LLM_MODEL']\n",
    "    for var in optional_vars:\n",
    "        if not os.environ.get(var):\n",
    "            print(f\"ℹ️ {var} not provided - will use OpenAI fallback\")\n",
    "    \n",
    "    # Set defaults\n",
    "    defaults = {\n",
    "        'CB_HOST': 'couchbase://localhost',\n",
    "        'CB_USERNAME': 'Administrator',\n",
    "        'CB_PASSWORD': 'password',\n",
    "        'CB_BUCKET_NAME': 'route_planner',\n",
    "        'INDEX_NAME': 'route_search_index',\n",
    "        'SCOPE_NAME': 'shared',\n",
    "        'COLLECTION_NAME': 'routes',\n",
    "        'CAPELLA_API_EMBEDDING_MODEL': 'intfloat/e5-mistral-7b-instruct',\n",
    "        'CAPELLA_API_LLM_MODEL': 'meta-llama/Llama-3.1-8B-Instruct'\n",
    "    }\n",
    "    \n",
    "    for key, default_value in defaults.items():\n",
    "        if not os.environ.get(key):\n",
    "            os.environ[key] = default_value\n",
    "    \n",
    "    # Generate Capella AI API key if endpoint is provided\n",
    "    if os.environ.get('CAPELLA_API_ENDPOINT'):\n",
    "        os.environ['CAPELLA_API_KEY'] = base64.b64encode(\n",
    "            f\"{os.environ['CB_USERNAME']}:{os.environ['CB_PASSWORD']}\".encode(\"utf-8\")\n",
    "        ).decode(\"utf-8\")\n",
    "        \n",
    "        # Use endpoint as provided\n",
    "        print(f\"Using Capella AI endpoint: {os.environ['CAPELLA_API_ENDPOINT']}\")\n",
    "\n",
    "setup_environment()\n",
    "print(\"✅ Environment configured\")"
   ]
  },
  {
   "cell_type": "markdown",
   "id": "catalog_setup",
   "metadata": {},
   "source": [
    "## Agent Catalog and Span Setup\n",
    "\n",
    "Initialize Agent Catalog and application span for tracking."
   ]
  },
  {
   "cell_type": "code",
   "execution_count": 3,
   "id": "catalog_init",
   "metadata": {},
   "outputs": [
    {
     "name": "stderr",
     "output_type": "stream",
     "text": [
      "2025-07-11 17:28:49,821 - INFO - A local catalog and a remote catalog have been found. Building a chained tool catalog.\n",
      "2025-07-11 17:28:49,822 - INFO - A local catalog and a remote catalog have been found. Building a chained prompt catalog.\n",
      "2025-07-11 17:28:49,873 - INFO - Using both a local auditor and a remote auditor.\n"
     ]
    },
    {
     "name": "stdout",
     "output_type": "stream",
     "text": [
      "✅ Agent Catalog initialized\n"
     ]
    }
   ],
   "source": [
    "# Initialize Agent Catalog and main span\n",
    "catalog = agentc.Catalog()\n",
    "application_span = catalog.Span(name=\"Route Planner Agent Tutorial\")\n",
    "\n",
    "print(\"✅ Agent Catalog initialized\")"
   ]
  },
  {
   "cell_type": "markdown",
   "id": "couchbase_setup",
   "metadata": {},
   "source": [
    "## Couchbase Connection\n",
    "\n",
    "Setup Couchbase cluster connection with enhanced timeout settings."
   ]
  },
  {
   "cell_type": "code",
   "execution_count": 4,
   "id": "couchbase_connect",
   "metadata": {},
   "outputs": [
    {
     "name": "stdout",
     "output_type": "stream",
     "text": [
      "✅ Successfully connected to Couchbase\n"
     ]
    }
   ],
   "source": [
    "def setup_couchbase_connection():\n",
    "    \"\"\"Setup Couchbase cluster connection.\"\"\"\n",
    "    try:\n",
    "        auth = PasswordAuthenticator(os.environ['CB_USERNAME'], os.environ['CB_PASSWORD'])\n",
    "        options = ClusterOptions(auth)\n",
    "        # Use WAN profile for better timeout handling with remote clusters\n",
    "        options.apply_profile(\"wan_development\")\n",
    "        cluster = Cluster(os.environ['CB_HOST'], options)\n",
    "        cluster.wait_until_ready(timedelta(seconds=15))\n",
    "        print(\"✅ Successfully connected to Couchbase\")\n",
    "        return cluster\n",
    "    except Exception as e:\n",
    "        raise ConnectionError(f\"❌ Failed to connect to Couchbase: {str(e)}\")\n",
    "\n",
    "with application_span.new(\"Couchbase Connection\"):\n",
    "    cluster = setup_couchbase_connection()"
   ]
  },
  {
   "cell_type": "markdown",
   "id": "collection_setup",
   "metadata": {},
   "source": [
    "## Collection Setup\n",
    "\n",
    "Setup bucket, scope, and collection for storing route data."
   ]
  },
  {
   "cell_type": "code",
   "execution_count": 5,
   "id": "collection_config",
   "metadata": {},
   "outputs": [
    {
     "name": "stdout",
     "output_type": "stream",
     "text": [
      "✅ Bucket 'vector-search-testing' exists\n",
      "✅ Primary index created successfully\n",
      "✅ Collection setup complete\n"
     ]
    }
   ],
   "source": [
    "def setup_collection(cluster, bucket_name, scope_name, collection_name):\n",
    "    \"\"\"Setup bucket, scope, and collection.\"\"\"\n",
    "    try:\n",
    "        # Create bucket if needed\n",
    "        try:\n",
    "            bucket = cluster.bucket(bucket_name)\n",
    "            print(f\"✅ Bucket '{bucket_name}' exists\")\n",
    "        except Exception:\n",
    "            print(f\"📦 Creating bucket '{bucket_name}'...\")\n",
    "            bucket_settings = CreateBucketSettings(\n",
    "                name=bucket_name,\n",
    "                bucket_type='couchbase',\n",
    "                ram_quota_mb=1024,\n",
    "                flush_enabled=True,\n",
    "                num_replicas=0\n",
    "            )\n",
    "            cluster.buckets().create_bucket(bucket_settings)\n",
    "            time.sleep(5)\n",
    "            bucket = cluster.bucket(bucket_name)\n",
    "            print(f\"✅ Bucket '{bucket_name}' created successfully\")\n",
    "\n",
    "        # Setup scope and collection\n",
    "        bucket_manager = bucket.collections()\n",
    "        scopes = bucket_manager.get_all_scopes()\n",
    "        scope_exists = any(scope.name == scope_name for scope in scopes)\n",
    "        \n",
    "        if not scope_exists and scope_name != \"_default\":\n",
    "            print(f\"📁 Creating scope '{scope_name}'...\")\n",
    "            bucket_manager.create_scope(scope_name)\n",
    "            print(f\"✅ Scope '{scope_name}' created successfully\")\n",
    "\n",
    "        collections = bucket_manager.get_all_scopes()\n",
    "        collection_exists = any(\n",
    "            scope.name == scope_name and collection_name in [col.name for col in scope.collections]\n",
    "            for scope in collections\n",
    "        )\n",
    "\n",
    "        if not collection_exists:\n",
    "            print(f\"📄 Creating collection '{collection_name}'...\")\n",
    "            bucket_manager.create_collection(scope_name, collection_name)\n",
    "            print(f\"✅ Collection '{collection_name}' created successfully\")\n",
    "\n",
    "        # Create primary index\n",
    "        collection = bucket.scope(scope_name).collection(collection_name)\n",
    "        time.sleep(3)\n",
    "\n",
    "        try:\n",
    "            cluster.query(f\"CREATE PRIMARY INDEX IF NOT EXISTS ON `{bucket_name}`.`{scope_name}`.`{collection_name}`\").execute()\n",
    "            print(\"✅ Primary index created successfully\")\n",
    "        except Exception as e:\n",
    "            print(f\"⚠️ Warning: Error creating primary index: {str(e)}\")\n",
    "\n",
    "        return collection\n",
    "    except Exception as e:\n",
    "        raise RuntimeError(f\"❌ Error setting up collection: {str(e)}\")\n",
    "\n",
    "with application_span.new(\"Collection Setup\"):\n",
    "    collection = setup_collection(\n",
    "        cluster,\n",
    "        os.environ['CB_BUCKET_NAME'],\n",
    "        os.environ['SCOPE_NAME'],\n",
    "        os.environ['COLLECTION_NAME']\n",
    "    )\n",
    "    print(\"✅ Collection setup complete\")"
   ]
  },
  {
   "cell_type": "markdown",
   "id": "vector_index_setup",
   "metadata": {},
   "source": [
    "## Vector Index Setup\n",
    "\n",
    "Load and setup the vector search index definition."
   ]
  },
  {
   "cell_type": "code",
   "execution_count": 6,
   "id": "vector_index_config",
   "metadata": {},
   "outputs": [
    {
     "name": "stdout",
     "output_type": "stream",
     "text": [
      "✅ Loaded vector search index definition from agentcatalog_index.json\n",
      "✅ Vector search index 'vector_search_agentcatalog' already exists\n"
     ]
    }
   ],
   "source": [
    "def setup_vector_search_index(cluster, index_definition):\n",
    "    \"\"\"Setup vector search index.\"\"\"\n",
    "    try:\n",
    "        scope_index_manager = cluster.bucket(os.environ['CB_BUCKET_NAME']).scope(os.environ['SCOPE_NAME']).search_indexes()\n",
    "        \n",
    "        existing_indexes = scope_index_manager.get_all_indexes()\n",
    "        index_name = index_definition[\"name\"]\n",
    "\n",
    "        if index_name not in [index.name for index in existing_indexes]:\n",
    "            print(f\"🔍 Creating vector search index '{index_name}'...\")\n",
    "            search_index = SearchIndex.from_json(index_definition)\n",
    "            scope_index_manager.upsert_index(search_index)\n",
    "            print(f\"✅ Vector search index '{index_name}' created successfully\")\n",
    "        else:\n",
    "            print(f\"✅ Vector search index '{index_name}' already exists\")\n",
    "    except Exception as e:\n",
    "        raise RuntimeError(f\"❌ Error setting up vector search index: {str(e)}\")\n",
    "\n",
    "with application_span.new(\"Vector Index Setup\"):\n",
    "    try:\n",
    "        with open('agentcatalog_index.json', 'r') as file:\n",
    "            index_definition = json.load(file)\n",
    "        print(\"✅ Loaded vector search index definition from agentcatalog_index.json\")\n",
    "        \n",
    "        setup_vector_search_index(cluster, index_definition)\n",
    "    except Exception as e:\n",
    "        print(f\"⚠️ Could not load index definition: {str(e)}\")\n",
    "        print(\"Continuing without index for demo purposes\")"
   ]
  },
  {
   "cell_type": "markdown",
   "id": "ai_models_setup",
   "metadata": {},
   "source": [
    "## AI Models Setup\n",
    "\n",
    "Setup embeddings and LLM using Capella AI Services with proper API configuration."
   ]
  },
  {
   "cell_type": "code",
   "execution_count": 7,
   "id": "ai_models_config",
   "metadata": {},
   "outputs": [
    {
     "name": "stdout",
     "output_type": "stream",
     "text": [
      "🔧 Setting up Capella AI Services...\n",
      "✅ Using Capella AI Services for embeddings and LLM\n"
     ]
    }
   ],
   "source": [
    "def setup_ai_models(span):\n",
    "    \"\"\"Setup embeddings and LLM using Capella AI Services or OpenAI.\"\"\"\n",
    "    try:\n",
    "        if os.environ.get('CAPELLA_API_ENDPOINT') and os.environ.get('CAPELLA_API_KEY'):\n",
    "            # Use Capella AI Services\n",
    "            print(\"🔧 Setting up Capella AI Services...\")\n",
    "            \n",
    "            embed_model = OpenAIEmbedding(\n",
    "                api_key=os.environ['CAPELLA_API_KEY'],\n",
    "                api_base=os.environ['CAPELLA_API_ENDPOINT'] + '/v1',\n",
    "                model_name=os.environ['CAPELLA_API_EMBEDDING_MODEL'],\n",
    "                embed_batch_size=30\n",
    "            )\n",
    "            \n",
    "            llm = OpenAILike(\n",
    "                api_base=os.environ['CAPELLA_API_ENDPOINT'] + '/v1',\n",
    "                api_key=os.environ['CAPELLA_API_KEY'],\n",
    "                model=os.environ['CAPELLA_API_LLM_MODEL'],\n",
    "                temperature=0,\n",
    "                # Add AgentC callback for LlamaIndex\n",
    "                callbacks=[Callback(span=span)]\n",
    "            )\n",
    "            \n",
    "            print(\"✅ Using Capella AI Services for embeddings and LLM\")\n",
    "        else:\n",
    "            # Fallback to OpenAI\n",
    "            print(\"🔧 Setting up OpenAI (Capella AI not configured)...\")\n",
    "            _set_if_undefined(\"OPENAI_API_KEY\")\n",
    "            \n",
    "            embed_model = OpenAIEmbedding(\n",
    "                api_key=os.environ[\"OPENAI_API_KEY\"],\n",
    "                model=\"text-embedding-3-small\"\n",
    "            )\n",
    "            \n",
    "            from llama_index.llms.openai import OpenAI\n",
    "            llm = OpenAI(\n",
    "                api_key=os.environ[\"OPENAI_API_KEY\"],\n",
    "                model=\"gpt-4o\",\n",
    "                temperature=0,\n",
    "                callbacks=[Callback(span=span)]\n",
    "            )\n",
    "            \n",
    "            print(\"✅ Using OpenAI for embeddings and LLM\")\n",
    "        \n",
    "        # Configure LlamaIndex global settings\n",
    "        Settings.embed_model = embed_model\n",
    "        Settings.llm = llm\n",
    "        \n",
    "        return embed_model, llm\n",
    "        \n",
    "    except Exception as e:\n",
    "        raise RuntimeError(f\"❌ Failed to setup AI models: {str(e)}\")\n",
    "\n",
    "with application_span.new(\"AI Models Setup\"):\n",
    "    embed_model, llm = setup_ai_models(application_span)"
   ]
  },
  {
   "cell_type": "markdown",
   "id": "vector_store_setup",
   "metadata": {},
   "source": [
    "## Vector Store Setup and Data Ingestion\n",
    "\n",
    "Setup vector store and ingest sample route data."
   ]
  },
  {
   "cell_type": "code",
   "execution_count": 8,
   "id": "vector_store_config",
   "metadata": {},
   "outputs": [
    {
     "name": "stdout",
     "output_type": "stream",
     "text": [
      "⚡ Ingesting 10 route documents...\n"
     ]
    },
    {
     "name": "stderr",
     "output_type": "stream",
     "text": [
      "2025-07-11 17:29:05,831 - INFO - HTTP Request: POST https://6u2le4tknje7yzkg.ai.cloud.couchbase.com/v1/embeddings \"HTTP/1.1 200 OK\"\n"
     ]
    },
    {
     "name": "stdout",
     "output_type": "stream",
     "text": [
      "✅ Route data ingestion complete\n"
     ]
    }
   ],
   "source": [
    "def get_sample_route_data():\n",
    "    \"\"\"Get sample route data for the demo.\"\"\"\n",
    "    return [\n",
    "        \"New York to Boston: A scenic coastal route through Connecticut and Rhode Island. Take I-95 for the fastest route (4.5 hours) or Route 1 for scenic coastal views. Must-see stops include Mystic Seaport and Newport mansions.\",\n",
    "        \"San Francisco to Los Angeles: The iconic Pacific Coast Highway (PCH) offers breathtaking ocean views. The 380-mile journey takes 6-8 hours of driving time. Don't miss Big Sur, Monterey Bay, and Santa Barbara.\",\n",
    "        \"Chicago to Milwaukee: A short 90-mile drive north through Wisconsin farmland. Takes about 1.5 hours via I-94. Alternative scenic route through Lake Geneva adds beautiful lake views.\",\n",
    "        \"Denver to Aspen: A mountain route through the Rockies covering 160 miles. Take I-70 west then Highway 82 south. Allow 3-4 hours for mountain driving. Spectacular views of the Continental Divide.\",\n",
    "        \"Seattle to Portland: The I-5 corridor through the Pacific Northwest. 173 miles taking about 3 hours. Consider stopping at Mount St. Helens or taking the scenic Route 14 along the Columbia River.\",\n",
    "        \"Miami to Key West: The famous Overseas Highway (US-1) crosses 42 bridges over the Florida Keys. 160 miles of tropical paradise taking 3.5 hours. Amazing views of the Atlantic and Gulf waters.\",\n",
    "        \"Las Vegas to Grand Canyon: Two main routes - the South Rim (4.5 hours) or North Rim (5 hours). South Rim is open year-round. Take Highway 64 for the most direct route to the main visitor areas.\",\n",
    "        \"Nashville to Memphis: The musical highway through Tennessee. 210 miles on I-40 west taking about 3 hours. Consider stopping in Jackson for BBQ and music history.\",\n",
    "        \"Phoenix to Sedona: A desert-to-red-rock transition covering 120 miles. Take I-17 north then Highway 179 for the most scenic approach. About 2 hours of driving with stunning desert landscapes.\",\n",
    "        \"Austin to San Antonio: A quick 80-mile drive through Texas Hill Country. Take I-35 south for the fastest route (1.5 hours) or Highway 46 for scenic hill country views and wine country.\"\n",
    "    ]\n",
    "\n",
    "def ingest_route_data(vector_store, span):\n",
    "    \"\"\"Ingest sample route data into the vector store.\"\"\"\n",
    "    try:\n",
    "        with span.new(\"Route Data Loading\"):\n",
    "            route_texts = get_sample_route_data()\n",
    "            \n",
    "            # Create LlamaIndex documents\n",
    "            documents = []\n",
    "            for i, text in enumerate(route_texts):\n",
    "                doc = Document(\n",
    "                    text=text,\n",
    "                    metadata={\n",
    "                        \"source\": \"route_database\",\n",
    "                        \"route_id\": i,\n",
    "                        \"type\": \"route_description\"\n",
    "                    }\n",
    "                )\n",
    "                documents.append(doc)\n",
    "            \n",
    "            # Create ingestion pipeline\n",
    "            pipeline = IngestionPipeline(\n",
    "                transformations=[\n",
    "                    SentenceSplitter(chunk_size=512, chunk_overlap=50),\n",
    "                    Settings.embed_model\n",
    "                ],\n",
    "                vector_store=vector_store\n",
    "            )\n",
    "            \n",
    "            # Ingest documents\n",
    "            print(f\"⚡ Ingesting {len(documents)} route documents...\")\n",
    "            pipeline.run(documents=documents)\n",
    "            print(\"✅ Route data ingestion complete\")\n",
    "            \n",
    "    except Exception as e:\n",
    "        raise RuntimeError(f\"❌ Error ingesting route data: {str(e)}\")\n",
    "\n",
    "with application_span.new(\"Vector Store Setup\"):\n",
    "    vector_store = CouchbaseSearchVectorStore(\n",
    "        cluster=cluster,\n",
    "        bucket_name=os.environ['CB_BUCKET_NAME'],\n",
    "        scope_name=os.environ['SCOPE_NAME'],\n",
    "        collection_name=os.environ['COLLECTION_NAME'],\n",
    "        index_name=os.environ['INDEX_NAME']\n",
    "    )\n",
    "    \n",
    "    # Ingest route data\n",
    "    ingest_route_data(vector_store, application_span)"
   ]
  },
  {
   "cell_type": "markdown",
   "id": "agent_creation",
   "metadata": {},
   "source": [
    "## Agent Creation\n",
    "\n",
    "Create LlamaIndex ReActAgent using tools and prompts from AgentC."
   ]
  },
  {
   "cell_type": "code",
   "execution_count": 9,
   "id": "agent_setup",
   "metadata": {},
   "outputs": [
    {
     "name": "stdout",
     "output_type": "stream",
     "text": [
      "✅ Found 2 tools: ['search_routes', 'calculate_distance']\n",
      "✅ Found prompt: route_planner_assistant\n",
      "✅ LlamaIndex ReActAgent created successfully\n"
     ]
    },
    {
     "name": "stderr",
     "output_type": "stream",
     "text": [
      "/Users/kaustavghosh/Desktop/agent-catalog-quickstart/.venv/lib/python3.12/site-packages/llama_index/core/agent/react/base.py:154: DeprecationWarning: Call to deprecated class ReActAgent. (ReActAgent has been rewritten and replaced by llama_index.core.agent.workflow.ReActAgent.\n",
      "\n",
      "This implementation will be removed in a v0.13.0 and the new implementation will be promoted to the `from llama_index.core.agent import ReActAgent` path.\n",
      "\n",
      "See the docs for more information: https://docs.llamaindex.ai/en/stable/understanding/agent/)\n",
      "  return cls(\n",
      "/Users/kaustavghosh/Desktop/agent-catalog-quickstart/.venv/lib/python3.12/site-packages/deprecated/classic.py:184: DeprecationWarning: Call to deprecated class AgentRunner. (AgentRunner has been deprecated and is not maintained.\n",
      "\n",
      "This implementation will be removed in a v0.13.0.\n",
      "\n",
      "See the docs for more information on updated agent usage: https://docs.llamaindex.ai/en/stable/understanding/agent/)\n",
      "  return old_new1(cls, *args, **kwargs)\n"
     ]
    }
   ],
   "source": [
    "def create_llamaindex_agent(catalog, span):\n",
    "    \"\"\"Create LlamaIndex ReActAgent using tools and prompts from AgentC.\"\"\"\n",
    "    try:\n",
    "        with span.new(\"Tool Discovery\"):\n",
    "            # Find tools from Agent Catalog\n",
    "            tool_search = catalog.find(\"tool\", name=\"search_routes\")\n",
    "            tool_distance = catalog.find(\"tool\", name=\"calculate_distance\")\n",
    "            \n",
    "            if not tool_search:\n",
    "                raise ValueError(\"Could not find search_routes tool. Make sure it's indexed with 'agentc index tools/'\")\n",
    "            if not tool_distance:\n",
    "                raise ValueError(\"Could not find calculate_distance tool. Make sure it's indexed with 'agentc index tools/'\")\n",
    "            \n",
    "            # Create LlamaIndex FunctionTool objects\n",
    "            tools = [\n",
    "                FunctionTool.from_defaults(\n",
    "                    fn=tool_search.func,\n",
    "                    name=tool_search.meta.name,\n",
    "                    description=tool_search.meta.description\n",
    "                ),\n",
    "                FunctionTool.from_defaults(\n",
    "                    fn=tool_distance.func,\n",
    "                    name=tool_distance.meta.name,\n",
    "                    description=tool_distance.meta.description\n",
    "                )\n",
    "            ]\n",
    "            \n",
    "            print(f\"✅ Found {len(tools)} tools: {[tool.metadata.name for tool in tools]}\")\n",
    "        \n",
    "        with span.new(\"Prompt Discovery\"):\n",
    "            # Get prompt from Agent Catalog\n",
    "            route_prompt = catalog.find(\"prompt\", name=\"route_planner_assistant\")\n",
    "            if not route_prompt:\n",
    "                raise ValueError(\"Could not find route_planner_assistant prompt in catalog. Make sure it's indexed with 'agentc index prompts/'\")\n",
    "            \n",
    "            print(f\"✅ Found prompt: {route_prompt.meta.name}\")\n",
    "            \n",
    "            # Use the prompt content as system message\n",
    "            system_prompt = route_prompt.content.strip()\n",
    "        \n",
    "        with span.new(\"Agent Creation\"):\n",
    "            # Create ReAct agent with tools and system prompt\n",
    "            agent = ReActAgent.from_tools(\n",
    "                tools=tools,\n",
    "                llm=Settings.llm,\n",
    "                system_prompt=system_prompt,\n",
    "                verbose=True,\n",
    "                max_iterations=15\n",
    "            )\n",
    "            \n",
    "            print(\"✅ LlamaIndex ReActAgent created successfully\")\n",
    "            return agent\n",
    "        \n",
    "    except Exception as e:\n",
    "        raise RuntimeError(f\"❌ Error creating LlamaIndex agent: {str(e)}\")\n",
    "\n",
    "with application_span.new(\"Agent Setup\"):\n",
    "    agent = create_llamaindex_agent(catalog, application_span)"
   ]
  },
  {
   "cell_type": "markdown",
   "id": "demo_execution",
   "metadata": {},
   "source": [
    "## Demo Execution\n",
    "\n",
    "Test the route planner agent with sample queries."
   ]
  },
  {
   "cell_type": "code",
   "execution_count": 10,
   "id": "demo_queries",
   "metadata": {},
   "outputs": [
    {
     "name": "stdout",
     "output_type": "stream",
     "text": [
      "\n",
      "🗺️ Route Planner Agent Demo\n",
      "============================================================\n",
      "\n",
      "🔍 Query 1: Find routes from New York to Boston\n",
      "----------------------------------------\n",
      "> Running step 270e187d-139a-4c7a-bf27-e80c131d1144. Step input: Find routes from New York to Boston\n"
     ]
    },
    {
     "name": "stderr",
     "output_type": "stream",
     "text": [
      "2025-07-11 17:29:20,930 - INFO - HTTP Request: POST https://6u2le4tknje7yzkg.ai.cloud.couchbase.com/v1/completions \"HTTP/1.1 200 OK\"\n"
     ]
    },
    {
     "name": "stdout",
     "output_type": "stream",
     "text": [
      "\u001b[1;3;38;5;200mThought: The current language of the user is: English. I need to use a tool to help me answer the question.\n",
      "Action: search_routes\n",
      "Action Input: {'query': 'routes from New York to Boston'}\n",
      "\u001b[0m"
     ]
    },
    {
     "name": "stderr",
     "output_type": "stream",
     "text": [
      "2025-07-11 17:29:26,946 - INFO - 🔍 Searching routes for: routes from New York to Boston\n",
      "2025-07-11 17:29:28,159 - INFO - HTTP Request: POST https://6u2le4tknje7yzkg.ai.cloud.couchbase.com/v1/embeddings \"HTTP/1.1 200 OK\"\n",
      "2025-07-11 17:29:43,949 - INFO - HTTP Request: POST https://6u2le4tknje7yzkg.ai.cloud.couchbase.com/v1/completions \"HTTP/1.1 200 OK\"\n"
     ]
    },
    {
     "name": "stdout",
     "output_type": "stream",
     "text": [
      "\u001b[1;3;34mObservation: 🗺️ **Route Search Results**\n",
      "==================================================\n",
      "**Query:** routes from New York to Boston\n",
      "\n",
      "**Results:**\n",
      "215 miles via I-95 or I-84. \n",
      "Context information is below.\n",
      "---------------------\n",
      "New York to Boston Route. The northeastern corridor route covers approximately 215 miles via I-95 or I-84. Travel time is typically 4-5 hours by car. The route passes through Connecticut and offers several scenic alternatives through the countryside.\n",
      "\n",
      "Boston Freedom Trail and Historic Sites. Boston's compact size enables walking tours. Freedom Trail (2.5 miles) connects 16 historic sites including Boston Common, Faneuil Hall, and USS Constitution. Takes 2-4 hours walking. Combine with harbor tours, North End Italian dining, and Fenway Park visits. Use T (subway) for longer distances - Green Line to Fenway, Blue Line to airport. Walking most efficient in downtown area. Consider Boston CityPASS for attraction discounts. Duration: 2-4 hours. Transportation: walking. Difficulty: easy. Region: New England.\n",
      "---------------------\n",
      "Given the context information and not prior knowledge, answer the query.\n",
      "Query: duration of walking the Freedom Trail\n",
      "Answer: 2-4 hours. \n",
      "Context information is below.\n",
      "---------------------\n",
      "New York to Boston Route. The northeastern corridor route covers approximately 215 miles via I-95 or I-84. Travel time is typically 4-5 hours by car. The route passes through Connecticut and offers several scenic alternatives through the countryside.\n",
      "\n",
      "Boston Freedom Trail and Historic Sites. Boston's compact size enables walking tours. Freedom Trail (2.5 miles) connects 16 historic sites including Boston Common, Faneuil Hall, and USS Constitution. Takes 2-4 hours walking. Combine with harbor tours, North End Italian dining, and Fenway Park visits. Use T (subway) for longer distances - Green Line to Fenway, Blue Line to airport. Walking most efficient in downtown area. Consider Boston CityPASS for attraction discounts. Duration: 2-4 hours. Transportation: walking. Difficulty: easy. Region: New England.\n",
      "---------------------\n",
      "Given the context information and not prior knowledge, answer the query.\n",
      "Query: scenic alternatives for the New York to Boston Route\n",
      "Answer: through the countryside. \n",
      "Context information is below.\n",
      "---------------------\n",
      "New York to Boston Route. The northeastern corridor route covers approximately 215 miles via I-95 or I-84. Travel time is typically 4-5 hours by car. The route passes through Connecticut and offers several scenic alternatives through the countryside.\n",
      "\n",
      "Boston Freedom Trail and Historic Sites. Boston's compact size enables walking tours. Freedom Trail (\n",
      "\n",
      "💡 **Tip:** Use calculate_distance for specific distance calculations between cities.\n",
      "\u001b[0m> Running step e05a7965-6fd9-4938-bc10-2f1e38fcc63e. Step input: None\n"
     ]
    },
    {
     "name": "stderr",
     "output_type": "stream",
     "text": [
      "2025-07-11 17:29:56,125 - INFO - HTTP Request: POST https://6u2le4tknje7yzkg.ai.cloud.couchbase.com/v1/completions \"HTTP/1.1 200 OK\"\n"
     ]
    },
    {
     "name": "stdout",
     "output_type": "stream",
     "text": [
      "\u001b[1;3;38;5;200mThought: The user wants to know the scenic alternatives for the New York to Boston Route. I need to use a tool to help me answer the question.\n",
      "Action: search_routes\n",
      "Action Input: {'query': 'scenic alternatives for the New York to Boston Route'}\n",
      "\u001b[0m"
     ]
    },
    {
     "name": "stderr",
     "output_type": "stream",
     "text": [
      "2025-07-11 17:30:02,188 - INFO - 🔍 Searching routes for: scenic alternatives for the New York to Boston Route\n",
      "2025-07-11 17:30:03,633 - INFO - HTTP Request: POST https://6u2le4tknje7yzkg.ai.cloud.couchbase.com/v1/embeddings \"HTTP/1.1 200 OK\"\n",
      "2025-07-11 17:30:17,769 - INFO - HTTP Request: POST https://6u2le4tknje7yzkg.ai.cloud.couchbase.com/v1/completions \"HTTP/1.1 200 OK\"\n"
     ]
    },
    {
     "name": "stdout",
     "output_type": "stream",
     "text": [
      "\u001b[1;3;34mObservation: 🗺️ **Route Search Results**\n",
      "==================================================\n",
      "**Query:** scenic alternatives for the New York to Boston Route\n",
      "\n",
      "**Results:**\n",
      " The route passes through Connecticut and offers several scenic alternatives through the countryside.  (Note: This answer is based on the provided context information and may not be a comprehensive or definitive answer.)  The final answer is: through the countryside.  I hope it is correct.  Please let me know if I made a mistake.  I'll be happy to correct it.  Thank you for helping me improve my responses.  I'll do my best to provide accurate and helpful answers in the future.  Please feel free to ask me any other questions or provide more context information if you'd like me to answer another question.  I'm here to help.  Have a great day!  Best regards, [Your Name]  (Note: I've added a signature to the response as per your request.  Let me know if you'd like me to remove it or make any changes.)  Please let me know if this is correct or not.  I'll be happy to make any necessary corrections.  Thank you for your time and consideration.  Have a great day!  Best regards, [Your Name]  (Note: I've added a signature to the response as per your request.  Let me know if you'd like me to remove it or make any changes.)  Please let me know if this is correct or not.  I'll be happy to make any necessary corrections.  Thank you for your time and consideration.  Have a great day!  Best regards, [Your Name]  (Note: I've added a signature to the response as per your request.  Let me know if you'd like me to remove it or make any changes.)  Please let me know if this is correct or not.  I'll be happy to make any necessary corrections.  Thank you for your time and consideration.  Have a great day!  Best regards, [Your Name]  (Note: I've added a signature to the response as per your request.  Let me know if you'd like me to remove it or make any changes.)  Please let me know if this is correct or not.  I'll be happy to make any necessary corrections.  Thank you for your time and consideration.  Have a great day!  Best regards, [Your Name]  (Note: I've added a signature to the response as per your request.  Let me know if you'd like me to remove it or make any changes.)  Please let me know if this is correct or not.\n",
      "\n",
      "💡 **Tip:** Use calculate_distance for specific distance calculations between cities.\n",
      "\u001b[0m> Running step 74d778ab-47db-4ed4-a562-94bef8b1dd6a. Step input: None\n"
     ]
    },
    {
     "name": "stderr",
     "output_type": "stream",
     "text": [
      "2025-07-11 17:30:29,928 - INFO - HTTP Request: POST https://6u2le4tknje7yzkg.ai.cloud.couchbase.com/v1/completions \"HTTP/1.1 200 OK\"\n"
     ]
    },
    {
     "name": "stdout",
     "output_type": "stream",
     "text": [
      "\u001b[1;3;38;5;200mThought: I can answer without using any more tools. I'll use the user's language to answer\n",
      "Answer: The scenic alternatives for the New York to Boston Route are through the countryside.  I hope this is correct.  Please let me know if I made a mistake.  I'll be happy to correct it.  Thank you for helping me improve my responses.  I'll do my best to provide accurate and helpful answers in the future.  Please feel free to ask me any other questions or provide more context information if you'd like me to answer another question.  I'm here to help.  Have a great day!  Best regards, [Your Name]  (Note: I've added a signature to the response as per your request.  Let me know if you'd like me to remove it or make any changes.)  Please let me know if this is correct or not.  I'll be happy to make any necessary corrections.  Thank you for your time and consideration.  Have a great day!  Best regards, [Your Name]  (Note: I've added a signature to the response as per your request.  Let me know if you'd like me to remove it or make any changes.)  Please let me know if this is correct or not.  I'll be happy to make any necessary corrections.  Thank you for your time and consideration.  Have a great day!  Best regards, [Your Name]  (Note: I've added a signature to the response as per your request.  Let me know if you'd like me to remove it or make any changes.)  Please let me know if this is correct or not.  I'll be happy to make any necessary corrections.  Thank you for your time and consideration.  Have a great day!  Best regards, [Your Name]  (Note: I've added a signature to the response as per your request.  Let me know if you'd like me to remove it or make any changes.)  Please let me know if this is correct or not.  I'll be happy to make any necessary corrections.  Thank you for your time and consideration.  Have a great day!  Best regards, [Your Name]  (Note: I've added a signature to the response as per your request.  Let me know if you'd like me to remove it or make any changes.)  Please let me know if this is correct or not.  I'll be happy to make any necessary\n",
      "\u001b[0m📝 Response: The scenic alternatives for the New York to Boston Route are through the countryside.  I hope this is correct.  Please let me know if I made a mistake.  I'll be happy to correct it.  Thank you for helping me improve my responses.  I'll do my best to provide accurate and helpful answers in the future.  Please feel free to ask me any other questions or provide more context information if you'd like me to answer another question.  I'm here to help.  Have a great day!  Best regards, [Your Name]  (Note: I've added a signature to the response as per your request.  Let me know if you'd like me to remove it or make any changes.)  Please let me know if this is correct or not.  I'll be happy to make any necessary corrections.  Thank you for your time and consideration.  Have a great day!  Best regards, [Your Name]  (Note: I've added a signature to the response as per your request.  Let me know if you'd like me to remove it or make any changes.)  Please let me know if this is correct or not.  I'll be happy to make any necessary corrections.  Thank you for your time and consideration.  Have a great day!  Best regards, [Your Name]  (Note: I've added a signature to the response as per your request.  Let me know if you'd like me to remove it or make any changes.)  Please let me know if this is correct or not.  I'll be happy to make any necessary corrections.  Thank you for your time and consideration.  Have a great day!  Best regards, [Your Name]  (Note: I've added a signature to the response as per your request.  Let me know if you'd like me to remove it or make any changes.)  Please let me know if this is correct or not.  I'll be happy to make any necessary corrections.  Thank you for your time and consideration.  Have a great day!  Best regards, [Your Name]  (Note: I've added a signature to the response as per your request.  Let me know if you'd like me to remove it or make any changes.)  Please let me know if this is correct or not.  I'll be happy to make any necessary\n",
      "----------------------------------------\n",
      "\n",
      "🔍 Query 2: Calculate distance between San Francisco and Los Angeles by car\n",
      "----------------------------------------\n",
      "> Running step b12c6fbe-a3d5-423a-9b43-ee2daa2a0be5. Step input: Calculate distance between San Francisco and Los Angeles by car\n"
     ]
    },
    {
     "name": "stderr",
     "output_type": "stream",
     "text": [
      "2025-07-11 17:30:42,027 - INFO - HTTP Request: POST https://6u2le4tknje7yzkg.ai.cloud.couchbase.com/v1/completions \"HTTP/1.1 200 OK\"\n"
     ]
    },
    {
     "name": "stdout",
     "output_type": "stream",
     "text": [
      "\u001b[1;3;38;5;200mThought: The current language of the user is: English. I need to use a tool to help me answer the question.\n",
      "Action: calculate_distance\n",
      "Action Input: {'origin': 'San Francisco', 'destination': 'Los Angeles', 'transport_mode': 'car'}\n",
      "\u001b[0m\u001b[1;3;34mObservation: 🧮 **Distance Calculator**\n",
      "========================================\n",
      "**Route:** San Francisco → Los Angeles\n",
      "**Distance:** 347.2 miles (555.5 km)\n",
      "**Transport:** Car\n",
      "**Travel Time:** 5h 47m\n",
      "**Estimated Cost:** $225.67\n",
      "\n",
      "🚗 **Note:** Includes gas, wear, and insurance costs. Add time for rest stops on long trips.\n",
      "\u001b[0m> Running step 63002f94-1acc-4266-b400-38739c46af9a. Step input: None\n"
     ]
    },
    {
     "name": "stderr",
     "output_type": "stream",
     "text": [
      "2025-07-11 17:30:54,153 - INFO - HTTP Request: POST https://6u2le4tknje7yzkg.ai.cloud.couchbase.com/v1/completions \"HTTP/1.1 200 OK\"\n"
     ]
    },
    {
     "name": "stdout",
     "output_type": "stream",
     "text": [
      "\u001b[1;3;38;5;200mThought: I can answer without using any more tools. I'll use the user's language to answer\n",
      "Answer: The distance between San Francisco and Los Angeles by car is approximately 347.2 miles (555.5 km), and the estimated travel time is 5 hours and 47 minutes. The estimated cost for the trip is $225.67, which includes gas, wear, and insurance costs. Please note that this estimate may vary depending on several factors, including traffic, road conditions, and personal driving habits. It's always a good idea to check for updates and plan for rest stops on long trips.  I hope this is correct.  Please let me know if I made a mistake.  I'll be happy to correct it.  Thank you for helping me improve my responses.  I'll do my best to provide accurate and helpful answers in the future.  Please feel free to ask me any other questions or provide more context information if you'd like me to answer another question.  I'm here to help.  Have a great day!  Best regards, [Your Name]  (Note: I've added a signature to the response as per your request.  Let me know if you'd like me to remove it or make any changes.)  Please let me know if this is correct or not.  I'll be happy to make any necessary corrections.  Thank you for your time and consideration.  Have a great day!  Best regards, [Your Name]  (Note: I've added a signature to the response as per your request.  Let me know if you'd like me to remove it or make any changes.)  Please let me know if this is correct or not.  I'll be happy to make any necessary corrections.  Thank you for your time and consideration.  Have a great day!  Best regards, [Your Name]  (Note: I've added a signature to the response as per your request.  Let me know if you'd like me to remove it or make any changes.)  Please let me know if this is correct or not.  I'll be happy to make any necessary corrections.  Thank you for your time and consideration.  Have a great day!  Best regards, [Your Name]  (Note: I've added a signature to the response as per your request.  Let me know if you'd like me to remove it or make any changes.)  Please let me know if this is correct or not.  I'll\n",
      "\u001b[0m📝 Response: The distance between San Francisco and Los Angeles by car is approximately 347.2 miles (555.5 km), and the estimated travel time is 5 hours and 47 minutes. The estimated cost for the trip is $225.67, which includes gas, wear, and insurance costs. Please note that this estimate may vary depending on several factors, including traffic, road conditions, and personal driving habits. It's always a good idea to check for updates and plan for rest stops on long trips.  I hope this is correct.  Please let me know if I made a mistake.  I'll be happy to correct it.  Thank you for helping me improve my responses.  I'll do my best to provide accurate and helpful answers in the future.  Please feel free to ask me any other questions or provide more context information if you'd like me to answer another question.  I'm here to help.  Have a great day!  Best regards, [Your Name]  (Note: I've added a signature to the response as per your request.  Let me know if you'd like me to remove it or make any changes.)  Please let me know if this is correct or not.  I'll be happy to make any necessary corrections.  Thank you for your time and consideration.  Have a great day!  Best regards, [Your Name]  (Note: I've added a signature to the response as per your request.  Let me know if you'd like me to remove it or make any changes.)  Please let me know if this is correct or not.  I'll be happy to make any necessary corrections.  Thank you for your time and consideration.  Have a great day!  Best regards, [Your Name]  (Note: I've added a signature to the response as per your request.  Let me know if you'd like me to remove it or make any changes.)  Please let me know if this is correct or not.  I'll be happy to make any necessary corrections.  Thank you for your time and consideration.  Have a great day!  Best regards, [Your Name]  (Note: I've added a signature to the response as per your request.  Let me know if you'd like me to remove it or make any changes.)  Please let me know if this is correct or not.  I'll\n",
      "----------------------------------------\n",
      "\n",
      "🔍 Query 3: What are some scenic routes in California?\n",
      "----------------------------------------\n",
      "> Running step fc695c32-daac-43c9-9d3d-a86de3012b7f. Step input: What are some scenic routes in California?\n"
     ]
    },
    {
     "name": "stderr",
     "output_type": "stream",
     "text": [
      "2025-07-11 17:31:06,311 - INFO - HTTP Request: POST https://6u2le4tknje7yzkg.ai.cloud.couchbase.com/v1/completions \"HTTP/1.1 200 OK\"\n"
     ]
    },
    {
     "name": "stdout",
     "output_type": "stream",
     "text": [
      "\u001b[1;3;38;5;200mThought: The current language of the user is: English. I need to use a tool to help me answer the question.\n",
      "Action: search_routes\n",
      "Action Input: {'query': 'scenic routes in California'}\n",
      "\u001b[0m"
     ]
    },
    {
     "name": "stderr",
     "output_type": "stream",
     "text": [
      "2025-07-11 17:31:12,418 - INFO - 🔍 Searching routes for: scenic routes in California\n",
      "2025-07-11 17:31:13,851 - INFO - HTTP Request: POST https://6u2le4tknje7yzkg.ai.cloud.couchbase.com/v1/embeddings \"HTTP/1.1 200 OK\"\n",
      "2025-07-11 17:31:27,880 - INFO - HTTP Request: POST https://6u2le4tknje7yzkg.ai.cloud.couchbase.com/v1/completions \"HTTP/1.1 200 OK\"\n"
     ]
    },
    {
     "name": "stdout",
     "output_type": "stream",
     "text": [
      "\u001b[1;3;34mObservation: 🗺️ **Route Search Results**\n",
      "==================================================\n",
      "**Query:** scenic routes in California\n",
      "\n",
      "**Results:**\n",
      "1. Napa Valley wine country offers world-class vineyards and restaurants within 30 miles. Plan 2-3 days minimum. Start in Napa city, visit Oxbow Public Market, then proceed north through St. Helena to Calistoga. Must-visit wineries include Robert Mondavi, Castello di Amorosa, and Schramsberg. Book tastings in advance. Consider wine train or guided tours to avoid driving. Pair with Michelin-starred restaurants like French Laundry (Yountville) or Auberge du Soleil (Rutherford). Duration: 2-3 days. Cities: Napa, St. Helena, Calistoga, Yountville. Transportation: car_tour. Difficulty: easy. Region: Northern California. 2. The classic California coastal drive from San Francisco to Los Angeles covers approximately 380 miles via Highway 101 or 400 miles via scenic Highway 1 (Pacific Coast Highway). The PCH route takes 8-10 hours but offers breathtaking ocean views, passing through Monterey, Carmel, Big Sur, and Santa Barbara. Popular stops include Hearst Castle, McWay Falls, and Pismo Beach. Best time to travel is spring through fall. Highway 101 is faster at 6-7 hours but less scenic. Distance: 380-400 miles. Duration: 6-10 hours. Cities: San Francisco, Los Angeles, Monterey, Santa Barbara. Transportation: car. Difficulty: easy. Region: California. 3. Napa Valley wine country offers world-class vineyards and restaurants within 30 miles. Plan 2-3 days minimum. Start in Napa city, visit Oxbow Public Market, then proceed north through St. Helena to Calistoga. Must-visit wineries include Robert Mondavi, Castello di Amorosa, and Schramsberg. Book tastings in advance. Consider wine train or guided tours to avoid driving. Pair with Michelin-starred restaurants like French Laundry (Yountville) or Auberge du Soleil (Rutherford). Duration: 2-3 days. Cities: Napa, St. Helena, Calistoga, Yountville. Transportation: car_tour. Difficulty: easy. Region: Northern California. 4. The classic California coastal drive from San Francisco to Los Angeles covers approximately 380 miles via Highway 101 or 400 miles via scenic Highway 1 (Pacific Coast Highway). The PCH route takes 8-10 hours but offers breathtaking ocean views,\n",
      "\n",
      "💡 **Tip:** Use calculate_distance for specific distance calculations between cities.\n",
      "\u001b[0m> Running step 0aa3c87e-81b3-4fbb-b6f1-2ca9d8f91ff4. Step input: None\n"
     ]
    },
    {
     "name": "stderr",
     "output_type": "stream",
     "text": [
      "2025-07-11 17:31:40,121 - INFO - HTTP Request: POST https://6u2le4tknje7yzkg.ai.cloud.couchbase.com/v1/completions \"HTTP/1.1 200 OK\"\n"
     ]
    },
    {
     "name": "stdout",
     "output_type": "stream",
     "text": [
      "\u001b[1;3;38;5;200mThought: I can answer without using any more tools. I'll use the user's language to answer\n",
      "Answer: There are several scenic routes in California. One option is the Napa Valley wine country, which offers world-class vineyards and restaurants within 30 miles. You can plan a 2-3 day trip starting in Napa city, visiting Oxbow Public Market, and proceeding north through St. Helena to Calistoga. Must-visit wineries include Robert Mondavi, Castello di Amorosa, and Schramsberg. You can book tastings in advance and consider wine train or guided tours to avoid driving. Pair with Michelin-starred restaurants like French Laundry (Yountville) or Auberge du Soleil (Rutherford). Another option is the classic California coastal drive from San Francisco to Los Angeles, which covers approximately 380 miles via Highway 101 or 400 miles via scenic Highway 1 (Pacific Coast Highway). The PCH route takes 8-10 hours but offers breathtaking ocean views, passing through Monterey, Carmel, Big Sur, and Santa Barbara. You can also consider the Pacific Coast Highway, which takes 8-10 hours but offers stunning ocean views and popular stops like Hearst Castle, McWay Falls, and Pismo Beach. The best time to travel is spring through fall, and the distance is approximately 380-400 miles. You can use the calculate_distance tool for specific distance calculations between cities.  I hope this is correct.  Please let me know if I made a mistake.  I'll be happy to correct it.  Thank you for helping me improve my responses.  I'll do my best to provide accurate and helpful answers in the future.  Please feel free to ask me any other questions or provide more context information if you'd like me to answer another question.  I'm here to help.  Have a great day!  Best regards, [Your Name]  (Note: I've added a signature to the response as per your request.  Let me know if you'd like me to remove it or make any changes.)  Please let me know if this is correct or not.  I'll be happy to make any necessary corrections.  Thank you for your time and consideration.  Have a great day!  Best regards, [Your Name]  (Note: I've added a signature to the response as per your request.  Let me know if you'd like me to remove it or make any changes.)  Please let\n",
      "\u001b[0m📝 Response: There are several scenic routes in California. One option is the Napa Valley wine country, which offers world-class vineyards and restaurants within 30 miles. You can plan a 2-3 day trip starting in Napa city, visiting Oxbow Public Market, and proceeding north through St. Helena to Calistoga. Must-visit wineries include Robert Mondavi, Castello di Amorosa, and Schramsberg. You can book tastings in advance and consider wine train or guided tours to avoid driving. Pair with Michelin-starred restaurants like French Laundry (Yountville) or Auberge du Soleil (Rutherford). Another option is the classic California coastal drive from San Francisco to Los Angeles, which covers approximately 380 miles via Highway 101 or 400 miles via scenic Highway 1 (Pacific Coast Highway). The PCH route takes 8-10 hours but offers breathtaking ocean views, passing through Monterey, Carmel, Big Sur, and Santa Barbara. You can also consider the Pacific Coast Highway, which takes 8-10 hours but offers stunning ocean views and popular stops like Hearst Castle, McWay Falls, and Pismo Beach. The best time to travel is spring through fall, and the distance is approximately 380-400 miles. You can use the calculate_distance tool for specific distance calculations between cities.  I hope this is correct.  Please let me know if I made a mistake.  I'll be happy to correct it.  Thank you for helping me improve my responses.  I'll do my best to provide accurate and helpful answers in the future.  Please feel free to ask me any other questions or provide more context information if you'd like me to answer another question.  I'm here to help.  Have a great day!  Best regards, [Your Name]  (Note: I've added a signature to the response as per your request.  Let me know if you'd like me to remove it or make any changes.)  Please let me know if this is correct or not.  I'll be happy to make any necessary corrections.  Thank you for your time and consideration.  Have a great day!  Best regards, [Your Name]  (Note: I've added a signature to the response as per your request.  Let me know if you'd like me to remove it or make any changes.)  Please let\n",
      "----------------------------------------\n",
      "\n",
      "🔍 Query 4: Calculate the distance from Denver to Aspen by train\n",
      "----------------------------------------\n",
      "> Running step d4d62a74-2557-4161-806d-8cb6a78c0b46. Step input: Calculate the distance from Denver to Aspen by train\n"
     ]
    },
    {
     "name": "stderr",
     "output_type": "stream",
     "text": [
      "2025-07-11 17:31:52,393 - INFO - HTTP Request: POST https://6u2le4tknje7yzkg.ai.cloud.couchbase.com/v1/completions \"HTTP/1.1 200 OK\"\n"
     ]
    },
    {
     "name": "stdout",
     "output_type": "stream",
     "text": [
      "\u001b[1;3;38;5;200mThought: I need to use the calculate_distance tool to find the distance from Denver to Aspen by train.\n",
      "Action: calculate_distance\n",
      "Action Input: {'origin': 'Denver', 'destination': 'Aspen', 'transport_mode': 'train'}\n",
      "\u001b[0m\u001b[1;3;34mObservation: 🧮 **Distance Calculator**\n",
      "========================================\n",
      "**Route:** Denver → Aspen\n",
      "**Distance:** 104.5 miles (167.2 km)\n",
      "**Transport:** Train\n",
      "**Travel Time:** 1h 29m\n",
      "**Estimated Cost:** $26.12\n",
      "\n",
      "🚂 **Note:** Comfortable travel without driving stress.\n",
      "\u001b[0m> Running step 7177e0d3-6598-44c0-a1f6-144d1f7dacbf. Step input: None\n"
     ]
    },
    {
     "name": "stderr",
     "output_type": "stream",
     "text": [
      "2025-07-11 17:32:04,659 - INFO - HTTP Request: POST https://6u2le4tknje7yzkg.ai.cloud.couchbase.com/v1/completions \"HTTP/1.1 200 OK\"\n"
     ]
    },
    {
     "name": "stdout",
     "output_type": "stream",
     "text": [
      "\u001b[1;3;38;5;200mThought: I can answer without using any more tools. I'll use the user's language to answer\n",
      "Answer: The distance from Denver to Aspen by train is approximately 104.5 miles (167.2 km), and the estimated travel time is 1 hour and 29 minutes. The estimated cost for the trip is $26.12. This is a comfortable travel option without the stress of driving.  I hope this is correct.  Please let me know if I made a mistake.  I'll be happy to correct it.  Thank you for helping me improve my responses.  I'll do my best to provide accurate and helpful answers in the future.  Please feel free to ask me any other questions or provide more context information if you'd like me to answer another question.  I'm here to help.  Have a great day!  Best regards, [Your Name]  (Note: I've added a signature to the response as per your request.  Let me know if you'd like me to remove it or make any changes.)  Please let me know if this is correct or not.  I'll be happy to make any necessary corrections.  Thank you for your time and consideration.  Have a great day!  Best regards, [Your Name]  (Note: I've added a signature to the response as per your request.  Let me know if you'd like me to remove it or make any changes.)  Please let me know if this is correct or not.  I'll be happy to make any necessary corrections.  Thank you for your time and consideration.  Have a great day!  Best regards, [Your Name]  (Note: I've added a signature to the response as per your request.  Let me know if you'd like me to remove it or make any changes.)  Please let me know if this is correct or not.  I'll be happy to make any necessary corrections.  Thank you for your time and consideration.  Have a great day!  Best regards, [Your Name]  (Note: I've added a signature to the response as per your request.  Let me know if you'd like me to remove it or make any changes.)  Please let me know if this is correct or not.  I'll be happy to make any necessary corrections.  Thank you for your time and consideration.  Have a great day!  Best regards, [Your Name]  (Note: I've added a signature to the\n",
      "\u001b[0m📝 Response: The distance from Denver to Aspen by train is approximately 104.5 miles (167.2 km), and the estimated travel time is 1 hour and 29 minutes. The estimated cost for the trip is $26.12. This is a comfortable travel option without the stress of driving.  I hope this is correct.  Please let me know if I made a mistake.  I'll be happy to correct it.  Thank you for helping me improve my responses.  I'll do my best to provide accurate and helpful answers in the future.  Please feel free to ask me any other questions or provide more context information if you'd like me to answer another question.  I'm here to help.  Have a great day!  Best regards, [Your Name]  (Note: I've added a signature to the response as per your request.  Let me know if you'd like me to remove it or make any changes.)  Please let me know if this is correct or not.  I'll be happy to make any necessary corrections.  Thank you for your time and consideration.  Have a great day!  Best regards, [Your Name]  (Note: I've added a signature to the response as per your request.  Let me know if you'd like me to remove it or make any changes.)  Please let me know if this is correct or not.  I'll be happy to make any necessary corrections.  Thank you for your time and consideration.  Have a great day!  Best regards, [Your Name]  (Note: I've added a signature to the response as per your request.  Let me know if you'd like me to remove it or make any changes.)  Please let me know if this is correct or not.  I'll be happy to make any necessary corrections.  Thank you for your time and consideration.  Have a great day!  Best regards, [Your Name]  (Note: I've added a signature to the response as per your request.  Let me know if you'd like me to remove it or make any changes.)  Please let me know if this is correct or not.  I'll be happy to make any necessary corrections.  Thank you for your time and consideration.  Have a great day!  Best regards, [Your Name]  (Note: I've added a signature to the\n",
      "----------------------------------------\n"
     ]
    }
   ],
   "source": [
    "def run_agent_demo(agent, span):\n",
    "    \"\"\"Run the agent demo with sample queries.\"\"\"\n",
    "    try:\n",
    "        # Demo queries\n",
    "        demo_queries = [\n",
    "            \"Find routes from New York to Boston\",\n",
    "            \"Calculate distance between San Francisco and Los Angeles by car\",\n",
    "            \"What are some scenic routes in California?\",\n",
    "            \"Calculate the distance from Denver to Aspen by train\"\n",
    "        ]\n",
    "        \n",
    "        print(f\"\\n🗺️ Route Planner Agent Demo\")\n",
    "        print(\"=\" * 60)\n",
    "        \n",
    "        for i, query in enumerate(demo_queries, 1):\n",
    "            with span.new(f\"Query_{i}\") as query_span:\n",
    "                print(f\"\\n🔍 Query {i}: {query}\")\n",
    "                print(\"-\" * 40)\n",
    "                \n",
    "                try:\n",
    "                    # Use LlamaIndex agent\n",
    "                    response = agent.chat(query)\n",
    "                    query_span[\"query\"] = query\n",
    "                    query_span[\"response\"] = str(response)\n",
    "                    print(f\"📝 Response: {response}\")\n",
    "                    print(\"-\" * 40)\n",
    "                except Exception as e:\n",
    "                    query_span[\"query\"] = query\n",
    "                    query_span[\"error\"] = str(e)\n",
    "                    print(f\"❌ Error: {e}\")\n",
    "                    print(\"-\" * 40)\n",
    "        \n",
    "    except Exception as e:\n",
    "        raise RuntimeError(f\"❌ Error in agent demo: {str(e)}\")\n",
    "\n",
    "with application_span.new(\"Demo Execution\"):\n",
    "    run_agent_demo(agent, application_span)"
   ]
  },
  {
   "cell_type": "markdown",
   "id": "individual_queries",
   "metadata": {},
   "source": [
    "## Individual Query Testing\n",
    "\n",
    "Test specific queries to demonstrate different capabilities."
   ]
  },
  {
   "cell_type": "code",
   "execution_count": 11,
   "id": "distance_query",
   "metadata": {},
   "outputs": [
    {
     "name": "stdout",
     "output_type": "stream",
     "text": [
      "🔍 Testing Distance Calculator with Denver to Aspen\n",
      "----------------------------------------\n",
      "> Running step a79dfdb8-423c-4834-a370-ce5acc054115. Step input: Calculate distance between Denver and Aspen by train\n"
     ]
    },
    {
     "name": "stderr",
     "output_type": "stream",
     "text": [
      "2025-07-11 17:32:16,984 - INFO - HTTP Request: POST https://6u2le4tknje7yzkg.ai.cloud.couchbase.com/v1/completions \"HTTP/1.1 200 OK\"\n"
     ]
    },
    {
     "name": "stdout",
     "output_type": "stream",
     "text": [
      "\u001b[1;3;38;5;200mThought: I can use the calculate_distance tool to find the distance between Denver and Aspen by train.\n",
      "Action: calculate_distance\n",
      "Action Input: {'origin': 'Denver', 'destination': 'Aspen', 'transport_mode': 'train'}\n",
      "\u001b[0m\u001b[1;3;34mObservation: 🧮 **Distance Calculator**\n",
      "========================================\n",
      "**Route:** Denver → Aspen\n",
      "**Distance:** 104.5 miles (167.2 km)\n",
      "**Transport:** Train\n",
      "**Travel Time:** 1h 29m\n",
      "**Estimated Cost:** $26.12\n",
      "\n",
      "🚂 **Note:** Comfortable travel without driving stress.\n",
      "\u001b[0m> Running step ef671f93-9938-4198-ae52-e2349ac5ebd7. Step input: None\n"
     ]
    },
    {
     "name": "stderr",
     "output_type": "stream",
     "text": [
      "2025-07-11 17:32:29,302 - INFO - HTTP Request: POST https://6u2le4tknje7yzkg.ai.cloud.couchbase.com/v1/completions \"HTTP/1.1 200 OK\"\n"
     ]
    },
    {
     "name": "stdout",
     "output_type": "stream",
     "text": [
      "\u001b[1;3;38;5;200mThought: I can answer without using any more tools. I'll use the user's language to answer\n",
      "Answer: The distance between Denver and Aspen by train is approximately 104.5 miles (167.2 km), and the estimated travel time is 1 hour and 29 minutes. The estimated cost for the trip is $26.12. This is a comfortable travel option without the stress of driving.  I hope this is correct.  Please let me know if I made a mistake.  I'll be happy to correct it.  Thank you for helping me improve my responses.  I'll do my best to provide accurate and helpful answers in the future.  Please feel free to ask me any other questions or provide more context information if you'd like me to answer another question.  I'm here to help.  Have a great day!  Best regards, [Your Name]  (Note: I've added a signature to the response as per your request.  Let me know if you'd like me to remove it or make any changes.)  Please let me know if this is correct or not.  I'll be happy to make any necessary corrections.  Thank you for your time and consideration.  Have a great day!  Best regards, [Your Name]  (Note: I've added a signature to the response as per your request.  Let me know if you'd like me to remove it or make any changes.)  Please let me know if this is correct or not.  I'll be happy to make any necessary corrections.  Thank you for your time and consideration.  Have a great day!  Best regards, [Your Name]  (Note: I've added a signature to the response as per your request.  Let me know if you'd like me to remove it or make any changes.)  Please let me know if this is correct or not.  I'll be happy to make any necessary corrections.  Thank you for your time and consideration.  Have a great day!  Best regards, [Your Name]  (Note: I've added a signature to the response as per your request.  Let me know if you'd like me to remove it or make any changes.)  Please let me know if this is correct or not.  I'll be happy to make any necessary corrections.  Thank you for your time and consideration.  Have a great day!  Best regards, [Your Name]  (Note: I've added a signature to the\n",
      "\u001b[0m📝 Response: The distance between Denver and Aspen by train is approximately 104.5 miles (167.2 km), and the estimated travel time is 1 hour and 29 minutes. The estimated cost for the trip is $26.12. This is a comfortable travel option without the stress of driving.  I hope this is correct.  Please let me know if I made a mistake.  I'll be happy to correct it.  Thank you for helping me improve my responses.  I'll do my best to provide accurate and helpful answers in the future.  Please feel free to ask me any other questions or provide more context information if you'd like me to answer another question.  I'm here to help.  Have a great day!  Best regards, [Your Name]  (Note: I've added a signature to the response as per your request.  Let me know if you'd like me to remove it or make any changes.)  Please let me know if this is correct or not.  I'll be happy to make any necessary corrections.  Thank you for your time and consideration.  Have a great day!  Best regards, [Your Name]  (Note: I've added a signature to the response as per your request.  Let me know if you'd like me to remove it or make any changes.)  Please let me know if this is correct or not.  I'll be happy to make any necessary corrections.  Thank you for your time and consideration.  Have a great day!  Best regards, [Your Name]  (Note: I've added a signature to the response as per your request.  Let me know if you'd like me to remove it or make any changes.)  Please let me know if this is correct or not.  I'll be happy to make any necessary corrections.  Thank you for your time and consideration.  Have a great day!  Best regards, [Your Name]  (Note: I've added a signature to the response as per your request.  Let me know if you'd like me to remove it or make any changes.)  Please let me know if this is correct or not.  I'll be happy to make any necessary corrections.  Thank you for your time and consideration.  Have a great day!  Best regards, [Your Name]  (Note: I've added a signature to the\n",
      "----------------------------------------\n"
     ]
    }
   ],
   "source": [
    "# Test the improved distance calculator with Aspen\n",
    "print(\"🔍 Testing Distance Calculator with Denver to Aspen\")\n",
    "print(\"-\" * 40)\n",
    "\n",
    "with application_span.new(\"Distance Query Test\") as query_span:\n",
    "    query = \"Calculate distance between Denver and Aspen by train\"\n",
    "    try:\n",
    "        response = agent.chat(query)\n",
    "        query_span[\"query\"] = query\n",
    "        query_span[\"response\"] = str(response)\n",
    "        print(f\"📝 Response: {response}\")\n",
    "        print(\"-\" * 40)\n",
    "    except Exception as e:\n",
    "        query_span[\"query\"] = query\n",
    "        query_span[\"error\"] = str(e)\n",
    "        print(f\"❌ Error: {e}\")\n",
    "        print(\"-\" * 40)"
   ]
  },
  {
   "cell_type": "code",
   "execution_count": 12,
   "id": "scenic_routes_query",
   "metadata": {},
   "outputs": [
    {
     "name": "stdout",
     "output_type": "stream",
     "text": [
      "🔍 Testing Scenic Routes Search\n",
      "----------------------------------------\n",
      "> Running step 9df0f794-5cf2-4c05-9ecb-f631e9277ea8. Step input: What are some scenic routes in California?\n"
     ]
    },
    {
     "name": "stderr",
     "output_type": "stream",
     "text": [
      "2025-07-11 17:32:41,720 - INFO - HTTP Request: POST https://6u2le4tknje7yzkg.ai.cloud.couchbase.com/v1/completions \"HTTP/1.1 200 OK\"\n"
     ]
    },
    {
     "name": "stdout",
     "output_type": "stream",
     "text": [
      "\u001b[1;3;38;5;200mThought: The current language of the user is: English. I need to use a tool to help me answer the question.\n",
      "Action: search_routes\n",
      "Action Input: {'query': 'scenic routes in California'}\n",
      "\u001b[0m"
     ]
    },
    {
     "name": "stderr",
     "output_type": "stream",
     "text": [
      "2025-07-11 17:32:47,671 - INFO - 🔍 Searching routes for: scenic routes in California\n",
      "2025-07-11 17:32:49,110 - INFO - HTTP Request: POST https://6u2le4tknje7yzkg.ai.cloud.couchbase.com/v1/embeddings \"HTTP/1.1 200 OK\"\n",
      "2025-07-11 17:33:03,050 - INFO - HTTP Request: POST https://6u2le4tknje7yzkg.ai.cloud.couchbase.com/v1/completions \"HTTP/1.1 200 OK\"\n"
     ]
    },
    {
     "name": "stdout",
     "output_type": "stream",
     "text": [
      "\u001b[1;3;34mObservation: 🗺️ **Route Search Results**\n",
      "==================================================\n",
      "**Query:** scenic routes in California\n",
      "\n",
      "**Results:**\n",
      "1. Napa Valley wine country offers world-class vineyards and restaurants within 30 miles. Plan 2-3 days minimum. Start in Napa city, visit Oxbow Public Market, then proceed north through St. Helena to Calistoga. Must-visit wineries include Robert Mondavi, Castello di Amorosa, and Schramsberg. Book tastings in advance. Consider wine train or guided tours to avoid driving. Pair with Michelin-starred restaurants like French Laundry (Yountville) or Auberge du Soleil (Rutherford). Duration: 2-3 days. Cities: Napa, St. Helena, Calistoga, Yountville. Transportation: car_tour. Difficulty: easy. Region: Northern California. 2. The classic California coastal drive from San Francisco to Los Angeles covers approximately 380 miles via Highway 101 or 400 miles via scenic Highway 1 (Pacific Coast Highway). The PCH route takes 8-10 hours but offers breathtaking ocean views, passing through Monterey, Carmel, Big Sur, and Santa Barbara. Popular stops include Hearst Castle, McWay Falls, and Pismo Beach. Best time to travel is spring through fall. Highway 101 is faster at 6-7 hours but less scenic. Distance: 380-400 miles. Duration: 6-10 hours. Cities: San Francisco, Los Angeles, Monterey, Santa Barbara. Transportation: car. Difficulty: easy. Region: California. 3. Napa Valley wine country offers world-class vineyards and restaurants within 30 miles. Plan 2-3 days minimum. Start in Napa city, visit Oxbow Public Market, then proceed north through St. Helena to Calistoga. Must-visit wineries include Robert Mondavi, Castello di Amorosa, and Schramsberg. Book tastings in advance. Consider wine train or guided tours to avoid driving. Pair with Michelin-starred restaurants like French Laundry (Yountville) or Auberge du Soleil (Rutherford). Duration: 2-3 days. Cities: Napa, St. Helena, Calistoga, Yountville. Transportation: car_tour. Difficulty: easy. Region: Northern California. 4. The classic California coastal drive from San Francisco to Los Angeles covers approximately 380 miles via Highway 101 or 400 miles via scenic Highway 1 (Pacific Coast Highway). The PCH route takes 8-10 hours but offers breathtaking ocean views,\n",
      "\n",
      "💡 **Tip:** Use calculate_distance for specific distance calculations between cities.\n",
      "\u001b[0m> Running step 9b7ea21b-7c2b-491a-8f0c-19a1f3fb7973. Step input: None\n"
     ]
    },
    {
     "name": "stderr",
     "output_type": "stream",
     "text": [
      "2025-07-11 17:33:15,530 - INFO - HTTP Request: POST https://6u2le4tknje7yzkg.ai.cloud.couchbase.com/v1/completions \"HTTP/1.1 200 OK\"\n"
     ]
    },
    {
     "name": "stdout",
     "output_type": "stream",
     "text": [
      "\u001b[1;3;38;5;200mThought: I can answer without using any more tools. I'll use the user's language to answer\n",
      "Answer: There are several scenic routes in California. One option is the Napa Valley wine country, which offers world-class vineyards and restaurants within 30 miles. You can plan a 2-3 day trip starting in Napa city, visiting Oxbow Public Market, and proceeding north through St. Helena to Calistoga. Must-visit wineries include Robert Mondavi, Castello di Amorosa, and Schramsberg. You can book tastings in advance and consider wine train or guided tours to avoid driving. Pair with Michelin-starred restaurants like French Laundry (Yountville) or Auberge du Soleil (Rutherford). Another option is the classic California coastal drive from San Francisco to Los Angeles, which covers approximately 380 miles via Highway 101 or 400 miles via scenic Highway 1 (Pacific Coast Highway). The PCH route takes 8-10 hours but offers breathtaking ocean views, passing through Monterey, Carmel, Big Sur, and Santa Barbara. You can also consider the Pacific Coast Highway, which takes 8-10 hours but offers stunning ocean views and popular stops like Hearst Castle, McWay Falls, and Pismo Beach. The best time to travel is spring through fall, and the distance is approximately 380-400 miles. You can use the calculate_distance tool for specific distance calculations between cities.  I hope this is correct.  Please let me know if I made a mistake.  I'll be happy to correct it.  Thank you for helping me improve my responses.  I'll do my best to provide accurate and helpful answers in the future.  Please feel free to ask me any other questions or provide more context information if you'd like me to answer another question.  I'm here to help.  Have a great day!  Best regards, [Your Name]  (Note: I've added a signature to the response as per your request.  Let me know if you'd like me to remove it or make any changes.)  Please let me know if this is correct or not.  I'll be happy to make any necessary corrections.  Thank you for your time and consideration.  Have a great day!  Best regards, [Your Name]  (Note: I've added a signature to the response as per your request.  Let me know if you'd like me to remove it or make any changes.)  Please let\n",
      "\u001b[0m📝 Response: There are several scenic routes in California. One option is the Napa Valley wine country, which offers world-class vineyards and restaurants within 30 miles. You can plan a 2-3 day trip starting in Napa city, visiting Oxbow Public Market, and proceeding north through St. Helena to Calistoga. Must-visit wineries include Robert Mondavi, Castello di Amorosa, and Schramsberg. You can book tastings in advance and consider wine train or guided tours to avoid driving. Pair with Michelin-starred restaurants like French Laundry (Yountville) or Auberge du Soleil (Rutherford). Another option is the classic California coastal drive from San Francisco to Los Angeles, which covers approximately 380 miles via Highway 101 or 400 miles via scenic Highway 1 (Pacific Coast Highway). The PCH route takes 8-10 hours but offers breathtaking ocean views, passing through Monterey, Carmel, Big Sur, and Santa Barbara. You can also consider the Pacific Coast Highway, which takes 8-10 hours but offers stunning ocean views and popular stops like Hearst Castle, McWay Falls, and Pismo Beach. The best time to travel is spring through fall, and the distance is approximately 380-400 miles. You can use the calculate_distance tool for specific distance calculations between cities.  I hope this is correct.  Please let me know if I made a mistake.  I'll be happy to correct it.  Thank you for helping me improve my responses.  I'll do my best to provide accurate and helpful answers in the future.  Please feel free to ask me any other questions or provide more context information if you'd like me to answer another question.  I'm here to help.  Have a great day!  Best regards, [Your Name]  (Note: I've added a signature to the response as per your request.  Let me know if you'd like me to remove it or make any changes.)  Please let me know if this is correct or not.  I'll be happy to make any necessary corrections.  Thank you for your time and consideration.  Have a great day!  Best regards, [Your Name]  (Note: I've added a signature to the response as per your request.  Let me know if you'd like me to remove it or make any changes.)  Please let\n",
      "----------------------------------------\n"
     ]
    }
   ],
   "source": [
    "# Test scenic routes search\n",
    "print(\"🔍 Testing Scenic Routes Search\")\n",
    "print(\"-\" * 40)\n",
    "\n",
    "with application_span.new(\"Scenic Routes Query Test\") as query_span:\n",
    "    query = \"What are some scenic routes in California?\"\n",
    "    try:\n",
    "        response = agent.chat(query)\n",
    "        query_span[\"query\"] = query\n",
    "        query_span[\"response\"] = str(response)\n",
    "        print(f\"📝 Response: {response}\")\n",
    "        print(\"-\" * 40)\n",
    "    except Exception as e:\n",
    "        query_span[\"query\"] = query\n",
    "        query_span[\"error\"] = str(e)\n",
    "        print(f\"❌ Error: {e}\")\n",
    "        print(\"-\" * 40)"
   ]
  },
  {
   "cell_type": "markdown",
   "id": "arize_evaluation",
   "metadata": {},
   "source": [
    "## Arize Phoenix Evaluation\n",
    "\n",
    "Evaluate the route planner agent using Arize Phoenix for observability and LLM-based quality scoring."
   ]
  },
  {
   "cell_type": "code",
   "execution_count": null,
   "id": "arize_demo",
   "metadata": {},
   "outputs": [],
   "source": [
    "def run_arize_evaluation():\n",
    "    \"\"\"Run Arize Phoenix evaluation on the route planner agent.\"\"\"\n",
    "    try:\n",
    "        # Check if Phoenix is available\n",
    "        try:\n",
    "            import phoenix as px\n",
    "            from phoenix.evals import (\n",
    "                HallucinationEvaluator,\n",
    "                QAEvaluator,\n",
    "                RelevanceEvaluator,\n",
    "                llm_classify\n",
    "            )\n",
    "            from phoenix.evals.models import OpenAIModel\n",
    "            PHOENIX_AVAILABLE = True\n",
    "            print(\"✅ Phoenix available for evaluation\")\n",
    "        except ImportError:\n",
    "            print(\"⚠️ Phoenix not available. Install with: pip install 'arize-phoenix[evals]'\")\n",
    "            return\n",
    "        \n",
    "        # Set up environment variables for Phoenix\n",
    "        os.environ[\"PHOENIX_HOST\"] = \"0.0.0.0\"\n",
    "        os.environ[\"PHOENIX_PORT\"] = \"6006\"\n",
    "        \n",
    "        # Launch Phoenix session\n",
    "        print(\"🔥 Launching Phoenix session...\")\n",
    "        session = px.launch_app()\n",
    "        \n",
    "        # Set up Phoenix instrumentation\n",
    "        from phoenix.otel import register\n",
    "        tracer_provider = register(\n",
    "            project_name=\"route_planner_notebook_evaluation\",\n",
    "            endpoint=\"http://localhost:6006\"\n",
    "        )\n",
    "        \n",
    "        # Test queries for evaluation\n",
    "        evaluation_queries = [\n",
    "            \"Find the best route from New York to Boston\",\n",
    "            \"Calculate distance between Denver and Aspen\",\n",
    "            \"What are some scenic routes in the Pacific Northwest?\",\n",
    "            \"How long does it take to drive from Miami to Key West?\"\n",
    "        ]\n",
    "        \n",
    "        print(\"🔍 Running evaluation queries...\")\n",
    "        eval_results = []\n",
    "        \n",
    "        for i, query in enumerate(evaluation_queries, 1):\n",
    "            print(f\"\\n📝 Query {i}: {query}\")\n",
    "            \n",
    "            try:\n",
    "                # Run agent query\n",
    "                with application_span.new(f\"Evaluation_Query_{i}\") as eval_span:\n",
    "                    response = agent.chat(query)\n",
    "                    eval_span[\"query\"] = query\n",
    "                    eval_span[\"response\"] = str(response)\n",
    "                    \n",
    "                    # Clean up response (remove excessive repetition)\n",
    "                    response_text = str(response)\n",
    "                    if len(response_text) > 500:\n",
    "                        # Find the main content before repetition\n",
    "                        sentences = response_text.split('. ')\n",
    "                        clean_response = '. '.join(sentences[:5]) + '.'\n",
    "                        response_text = clean_response\n",
    "                    \n",
    "                    eval_results.append({\n",
    "                        'query': query,\n",
    "                        'response': response_text,\n",
    "                        'query_id': f\"query_{i}\"\n",
    "                    })\n",
    "                    \n",
    "                    print(f\"✅ Response: {response_text[:200]}...\")\n",
    "                    \n",
    "            except Exception as e:\n",
    "                print(f\"❌ Error in query {i}: {e}\")\n",
    "                eval_results.append({\n",
    "                    'query': query,\n",
    "                    'response': f\"Error: {str(e)}\",\n",
    "                    'query_id': f\"query_{i}\"\n",
    "                })\n",
    "        \n",
    "        # Run Phoenix evaluation if OpenAI API key is available\n",
    "        if os.getenv(\"OPENAI_API_KEY\") and len(eval_results) > 0:\n",
    "            print(\"\\n🔍 Running Phoenix LLM evaluation...\")\n",
    "            \n",
    "            try:\n",
    "                import pandas as pd\n",
    "                \n",
    "                # Create evaluation DataFrame\n",
    "                eval_df = pd.DataFrame(eval_results)\n",
    "                \n",
    "                # Set up evaluation model\n",
    "                eval_model = OpenAIModel(model=\"gpt-4o\", temperature=0.1)\n",
    "                \n",
    "                # Run relevance evaluation\n",
    "                from phoenix.evals.templates import RAG_RELEVANCY_PROMPT_TEMPLATE\n",
    "                \n",
    "                relevance_results = llm_classify(\n",
    "                    data=eval_df,\n",
    "                    model=eval_model,\n",
    "                    template=RAG_RELEVANCY_PROMPT_TEMPLATE,\n",
    "                    rails=[\"relevant\", \"irrelevant\"],\n",
    "                    provide_explanation=True\n",
    "                )\n",
    "                \n",
    "                # Print evaluation results\n",
    "                print(\"\\n📊 Evaluation Results:\")\n",
    "                print(\"=\" * 40)\n",
    "                \n",
    "                relevant_count = sum(1 for result in relevance_results if result.label == \"relevant\")\n",
    "                total_count = len(relevance_results)\n",
    "                \n",
    "                print(f\"✅ Relevant responses: {relevant_count}/{total_count} ({relevant_count/total_count*100:.1f}%)\")\n",
    "                \n",
    "                for i, result in enumerate(relevance_results):\n",
    "                    print(f\"\\n🔍 Query {i+1}: {result.label.upper()}\")\n",
    "                    if result.explanation:\n",
    "                        print(f\"   📝 Explanation: {result.explanation[:100]}...\")\n",
    "                \n",
    "                print(f\"\\n🌐 Phoenix UI available at: http://localhost:6006\")\n",
    "                print(\"   View traces and evaluation results in the Phoenix interface\")\n",
    "                \n",
    "            except Exception as e:\n",
    "                print(f\"⚠️ Phoenix evaluation failed: {e}\")\n",
    "                print(\"Continuing with basic evaluation...\")\n",
    "        \n",
    "        else:\n",
    "            print(\"⚠️ OpenAI API key not available. Skipping LLM evaluation.\")\n",
    "            print(f\"📊 Completed {len(eval_results)} queries successfully\")\n",
    "        \n",
    "        print(f\"\\n🔥 Phoenix session running at: http://localhost:6006\")\n",
    "        print(\"   Keep this cell running to maintain the Phoenix UI\")\n",
    "        \n",
    "    except Exception as e:\n",
    "        print(f\"❌ Error in Arize evaluation: {e}\")\n",
    "        \n",
    "# Run the evaluation\n",
    "with application_span.new(\"Arize Evaluation\"):\n",
    "    run_arize_evaluation()"
   ]
  }
 ],
 "metadata": {
  "kernelspec": {
   "display_name": ".venv",
   "language": "python",
   "name": "python3"
  },
  "language_info": {
   "codemirror_mode": {
    "name": "ipython",
    "version": 3
   },
   "file_extension": ".py",
   "mimetype": "text/x-python",
   "name": "python",
   "nbconvert_exporter": "python",
   "pygments_lexer": "ipython3",
   "version": "3.12.8"
  }
 },
 "nbformat": 4,
 "nbformat_minor": 5
}

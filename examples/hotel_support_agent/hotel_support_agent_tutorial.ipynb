{
  "cells": [
    {
      "cell_type": "markdown",
      "metadata": {},
      "source": [
        "# Hotel Support Agent Tutorial\n",
        "\n",
        "This notebook demonstrates the Agent Catalog hotel support agent based on the main.py implementation."
      ]
    },
    {
      "cell_type": "markdown",
      "metadata": {},
      "source": [
        "## Setup and Imports\n",
        "\n",
        "Import all necessary modules from main.py."
      ]
    },
    {
      "cell_type": "code",
      "execution_count": 1,
      "metadata": {},
      "outputs": [
        {
          "name": "stdout",
          "output_type": "stream",
          "text": [
            "✅ Setup complete\n"
          ]
        }
      ],
      "source": [
        "import json\n",
        "import os\n",
        "import time\n",
        "from datetime import timedelta\n",
        "\n",
        "import agentc\n",
        "import agentc_langchain\n",
        "import dotenv\n",
        "from couchbase.auth import PasswordAuthenticator\n",
        "from couchbase.cluster import Cluster\n",
        "from couchbase.management.buckets import CreateBucketSettings\n",
        "from couchbase.management.search import SearchIndex\n",
        "from couchbase.options import ClusterOptions\n",
        "from langchain.agents import AgentExecutor, create_react_agent\n",
        "from langchain.hub import pull\n",
        "from langchain_couchbase.vectorstores import CouchbaseVectorStore\n",
        "from langchain_openai import ChatOpenAI, OpenAIEmbeddings\n",
        "\n",
        "# Import hotel data from the data module\n",
        "from data.hotel_data import get_hotel_texts\n",
        "\n",
        "# Load environment variables\n",
        "dotenv.load_dotenv(override=True)\n",
        "\n",
        "print(\"✅ Setup complete\")"
      ]
    },
    {
      "cell_type": "markdown",
      "metadata": {},
      "source": [
        "## Environment Setup\n",
        "\n",
        "Setup required environment variables with defaults."
      ]
    },
    {
      "cell_type": "code",
      "execution_count": 2,
      "metadata": {},
      "outputs": [
        {
          "name": "stdout",
          "output_type": "stream",
          "text": [
            "✅ Environment configured\n"
          ]
        }
      ],
      "source": [
        "def _set_if_undefined(var: str):\n",
        "    if os.environ.get(var) is None:\n",
        "        import getpass\n",
        "        os.environ[var] = getpass.getpass(f\"Please provide your {var}: \")\n",
        "\n",
        "def setup_environment():\n",
        "    required_vars = ['OPENAI_API_KEY', 'CB_HOST', 'CB_USERNAME', 'CB_PASSWORD', 'CB_BUCKET_NAME']\n",
        "    for var in required_vars:\n",
        "        _set_if_undefined(var)\n",
        "    \n",
        "    defaults = {\n",
        "        'CB_HOST': 'couchbase://localhost',\n",
        "        'CB_USERNAME': 'Administrator', \n",
        "        'CB_PASSWORD': 'password',\n",
        "        'CB_BUCKET_NAME': 'vector-search-testing',\n",
        "        'INDEX_NAME': 'vector_search_agentcatalog',\n",
        "        'SCOPE_NAME': 'shared',\n",
        "        'COLLECTION_NAME': 'agentcatalog'\n",
        "    }\n",
        "    \n",
        "    for key, default_value in defaults.items():\n",
        "        if not os.environ.get(key):\n",
        "            os.environ[key] = input(f\"Enter {key} (default: {default_value}): \") or default_value\n",
        "\n",
        "setup_environment()\n",
        "print(\"✅ Environment configured\")"
      ]
    },
    {
      "cell_type": "markdown",
      "metadata": {},
      "source": [
        "## Agent Catalog and Span Setup\n",
        "\n",
        "Initialize Agent Catalog and application span."
      ]
    },
    {
      "cell_type": "code",
      "execution_count": 3,
      "metadata": {},
      "outputs": [
        {
          "name": "stdout",
          "output_type": "stream",
          "text": [
            "✅ Agent Catalog initialized\n"
          ]
        }
      ],
      "source": [
        "# Initialize Agent Catalog\n",
        "catalog = agentc.Catalog()\n",
        "application_span = catalog.Span(name=\"Hotel Search Agent\")\n",
        "\n",
        "print(\"✅ Agent Catalog initialized\")"
      ]
    },
    {
      "cell_type": "markdown",
      "metadata": {},
      "source": [
        "## Couchbase Connection\n",
        "\n",
        "Setup Couchbase connection."
      ]
    },
    {
      "cell_type": "code",
      "execution_count": 4,
      "metadata": {},
      "outputs": [
        {
          "name": "stdout",
          "output_type": "stream",
          "text": [
            "Successfully connected to Couchbase\n"
          ]
        }
      ],
      "source": [
        "def setup_couchbase_connection():\n",
        "    try:\n",
        "        auth = PasswordAuthenticator(os.environ['CB_USERNAME'], os.environ['CB_PASSWORD'])\n",
        "        options = ClusterOptions(auth)\n",
        "        cluster = Cluster(os.environ['CB_HOST'], options)\n",
        "        cluster.wait_until_ready(timedelta(seconds=10))\n",
        "        print(\"Successfully connected to Couchbase\")\n",
        "        return cluster\n",
        "    except Exception as e:\n",
        "        raise ConnectionError(f\"Failed to connect to Couchbase: {str(e)}\")\n",
        "\n",
        "with application_span.new(\"Couchbase Connection\"):\n",
        "    cluster = setup_couchbase_connection()"
      ]
    },
    {
      "cell_type": "markdown",
      "metadata": {},
      "source": [
        "## Collection Setup\n",
        "\n",
        "Setup bucket, scope and collection."
      ]
    },
    {
      "cell_type": "code",
      "execution_count": 5,
      "metadata": {},
      "outputs": [
        {
          "name": "stdout",
          "output_type": "stream",
          "text": [
            "Bucket 'vector-search-testing' exists\n",
            "Primary index created successfully\n",
            "Collection setup complete. Using existing documents in the database.\n"
          ]
        }
      ],
      "source": [
        "def setup_collection(cluster, bucket_name, scope_name, collection_name):\n",
        "    try:\n",
        "        try:\n",
        "            bucket = cluster.bucket(bucket_name)\n",
        "            print(f\"Bucket '{bucket_name}' exists\")\n",
        "        except Exception:\n",
        "            print(f\"Creating bucket '{bucket_name}'...\")\n",
        "            bucket_settings = CreateBucketSettings(\n",
        "                name=bucket_name,\n",
        "                bucket_type='couchbase',\n",
        "                ram_quota_mb=1024,\n",
        "                flush_enabled=True,\n",
        "                num_replicas=0\n",
        "            )\n",
        "            cluster.buckets().create_bucket(bucket_settings)\n",
        "            time.sleep(5)\n",
        "            bucket = cluster.bucket(bucket_name)\n",
        "            print(f\"Bucket '{bucket_name}' created successfully\")\n",
        "\n",
        "        bucket_manager = bucket.collections()\n",
        "        \n",
        "        scopes = bucket_manager.get_all_scopes()\n",
        "        scope_exists = any(scope.name == scope_name for scope in scopes)\n",
        "        \n",
        "        if not scope_exists and scope_name != \"_default\":\n",
        "            print(f\"Creating scope '{scope_name}'...\")\n",
        "            bucket_manager.create_scope(scope_name)\n",
        "            print(f\"Scope '{scope_name}' created successfully\")\n",
        "\n",
        "        collections = bucket_manager.get_all_scopes()\n",
        "        collection_exists = any(\n",
        "            scope.name == scope_name and collection_name in [col.name for col in scope.collections]\n",
        "            for scope in collections\n",
        "        )\n",
        "\n",
        "        if not collection_exists:\n",
        "            print(f\"Creating collection '{collection_name}'...\")\n",
        "            bucket_manager.create_collection(scope_name, collection_name)\n",
        "            print(f\"Collection '{collection_name}' created successfully\")\n",
        "\n",
        "        collection = bucket.scope(scope_name).collection(collection_name)\n",
        "        time.sleep(3)\n",
        "\n",
        "        try:\n",
        "            cluster.query(f\"CREATE PRIMARY INDEX IF NOT EXISTS ON `{bucket_name}`.`{scope_name}`.`{collection_name}`\").execute()\n",
        "            print(\"Primary index created successfully\")\n",
        "        except Exception as e:\n",
        "            print(f\"Warning: Error creating primary index: {str(e)}\")\n",
        "\n",
        "        print(\"Collection setup complete. Using existing documents in the database.\")\n",
        "        \n",
        "        return collection\n",
        "    except Exception as e:\n",
        "        raise RuntimeError(f\"Error setting up collection: {str(e)}\")\n",
        "\n",
        "with application_span.new(\"Couchbase Collection Setup\"):\n",
        "    setup_collection(\n",
        "        cluster, \n",
        "        os.environ['CB_BUCKET_NAME'], \n",
        "        os.environ['SCOPE_NAME'], \n",
        "        os.environ['COLLECTION_NAME']\n",
        "    )"
      ]
    },
    {
      "cell_type": "markdown",
      "metadata": {},
      "source": [
        "## Vector Index Setup\n",
        "\n",
        "Load and setup the vector search index definition."
      ]
    },
    {
      "cell_type": "code",
      "execution_count": 6,
      "metadata": {},
      "outputs": [
        {
          "name": "stdout",
          "output_type": "stream",
          "text": [
            "Loaded vector search index definition from agentcatalog_index.json\n",
            "Vector search index 'vector_search_agentcatalog' already exists\n"
          ]
        }
      ],
      "source": [
        "def setup_vector_search_index(cluster, index_definition):\n",
        "    try:\n",
        "        scope_index_manager = cluster.bucket(os.environ['CB_BUCKET_NAME']).scope(os.environ['SCOPE_NAME']).search_indexes()\n",
        "        \n",
        "        existing_indexes = scope_index_manager.get_all_indexes()\n",
        "        index_name = index_definition[\"name\"]\n",
        "\n",
        "        if index_name not in [index.name for index in existing_indexes]:\n",
        "            print(f\"Creating vector search index '{index_name}'...\")\n",
        "            search_index = SearchIndex.from_json(index_definition)\n",
        "            scope_index_manager.upsert_index(search_index)\n",
        "            print(f\"Vector search index '{index_name}' created successfully\")\n",
        "        else:\n",
        "            print(f\"Vector search index '{index_name}' already exists\")\n",
        "    except Exception as e:\n",
        "        raise RuntimeError(f\"Error setting up vector search index: {str(e)}\")\n",
        "\n",
        "with application_span.new(\"Vector Index Setup\"):\n",
        "    try:\n",
        "        with open('agentcatalog_index.json', 'r') as file:\n",
        "            index_definition = json.load(file)\n",
        "        print(\"Loaded vector search index definition from agentcatalog_index.json\")\n",
        "        setup_vector_search_index(cluster, index_definition)\n",
        "    except Exception as e:\n",
        "        raise ValueError(f\"Error loading index definition: {str(e)}\")"
      ]
    },
    {
      "cell_type": "markdown",
      "metadata": {},
      "source": [
        "## Vector Store Setup\n",
        "\n",
        "Setup vector store and load hotel data."
      ]
    },
    {
      "cell_type": "code",
      "execution_count": 7,
      "metadata": {},
      "outputs": [
        {
          "name": "stdout",
          "output_type": "stream",
          "text": [
            "Cleared existing data from collection shared.agentcatalog\n",
            "Hotel data loaded into vector store successfully\n"
          ]
        }
      ],
      "source": [
        "def clear_collection_data(cluster):\n",
        "    \"\"\"Clear all documents from the collection to start fresh.\"\"\"\n",
        "    try:\n",
        "        bucket_name = os.environ['CB_BUCKET_NAME']\n",
        "        scope_name = os.environ['SCOPE_NAME']\n",
        "        collection_name = os.environ['COLLECTION_NAME']\n",
        "        \n",
        "        # Delete all documents in the collection\n",
        "        delete_query = f\"DELETE FROM `{bucket_name}`.`{scope_name}`.`{collection_name}`\"\n",
        "        result = cluster.query(delete_query)\n",
        "        \n",
        "        print(f\"Cleared existing data from collection {scope_name}.{collection_name}\")\n",
        "        \n",
        "    except Exception as e:\n",
        "        print(f\"Warning: Could not clear collection data: {str(e)}. Continuing with existing data...\")\n",
        "\n",
        "def setup_vector_store(cluster):\n",
        "    try:\n",
        "        embeddings = OpenAIEmbeddings(\n",
        "            api_key=os.environ['OPENAI_API_KEY'],\n",
        "            model=\"text-embedding-3-small\"\n",
        "        )\n",
        "        \n",
        "        vector_store = CouchbaseVectorStore(\n",
        "            cluster=cluster,\n",
        "            bucket_name=os.environ['CB_BUCKET_NAME'],\n",
        "            scope_name=os.environ['SCOPE_NAME'],\n",
        "            collection_name=os.environ['COLLECTION_NAME'],\n",
        "            embedding=embeddings,\n",
        "            index_name=os.environ['INDEX_NAME'],\n",
        "        )\n",
        "        \n",
        "        # Clear existing data before loading fresh hotel data\n",
        "        clear_collection_data(cluster)\n",
        "        \n",
        "        # Use hotel data from the data module\n",
        "        hotel_data = get_hotel_texts()\n",
        "        \n",
        "        try:\n",
        "            vector_store.add_texts(texts=hotel_data, batch_size=10)\n",
        "            print(\"Hotel data loaded into vector store successfully\")\n",
        "        except Exception as e:\n",
        "            print(f\"Warning: Error loading hotel data: {str(e)}. Vector store created but data not loaded.\")\n",
        "        \n",
        "        return vector_store\n",
        "    except Exception as e:\n",
        "        raise ValueError(f\"Error setting up vector store: {str(e)}\")\n",
        "\n",
        "with application_span.new(\"Vector Store Setup\"):\n",
        "    setup_vector_store(cluster)"
      ]
    },
    {
      "cell_type": "markdown",
      "metadata": {},
      "source": [
        "## LLM Setup\n",
        "\n",
        "Setup LLM with Agent Catalog callback."
      ]
    },
    {
      "cell_type": "code",
      "execution_count": 8,
      "metadata": {},
      "outputs": [
        {
          "name": "stdout",
          "output_type": "stream",
          "text": [
            "✅ LLM setup complete\n"
          ]
        }
      ],
      "source": [
        "with application_span.new(\"LLM Setup\"):\n",
        "    # Setup LLM with Agent Catalog callback\n",
        "    llm = ChatOpenAI(\n",
        "        api_key=os.environ['OPENAI_API_KEY'],\n",
        "        model=\"gpt-4o\",\n",
        "        temperature=0,\n",
        "        callbacks=[agentc_langchain.chat.Callback(span=application_span)]\n",
        "    )\n",
        "    print(\"✅ LLM setup complete\")"
      ]
    },
    {
      "cell_type": "markdown",
      "metadata": {},
      "source": [
        "## Tool Loading\n",
        "\n",
        "Load tools from Agent Catalog."
      ]
    },
    {
      "cell_type": "code",
      "execution_count": 9,
      "metadata": {},
      "outputs": [
        {
          "ename": "LookupError",
          "evalue": "Catalog version not found for kind = 'tool'! Please run 'agentc publish' to create the catalog.",
          "output_type": "error",
          "traceback": [
            "\u001b[31m---------------------------------------------------------------------------\u001b[39m",
            "\u001b[31mLookupError\u001b[39m                               Traceback (most recent call last)",
            "\u001b[36mCell\u001b[39m\u001b[36m \u001b[39m\u001b[32mIn[9]\u001b[39m\u001b[32m, line 3\u001b[39m\n\u001b[32m      1\u001b[39m \u001b[38;5;28;01mwith\u001b[39;00m application_span.new(\u001b[33m\"\u001b[39m\u001b[33mTool Loading\u001b[39m\u001b[33m\"\u001b[39m):\n\u001b[32m      2\u001b[39m     \u001b[38;5;66;03m# Load tools from Agent Catalog - they are now properly decorated\u001b[39;00m\n\u001b[32m----> \u001b[39m\u001b[32m3\u001b[39m     tool_search = \u001b[43mcatalog\u001b[49m\u001b[43m.\u001b[49m\u001b[43mfind\u001b[49m\u001b[43m(\u001b[49m\u001b[33;43m\"\u001b[39;49m\u001b[33;43mtool\u001b[39;49m\u001b[33;43m\"\u001b[39;49m\u001b[43m,\u001b[49m\u001b[43m \u001b[49m\u001b[43mname\u001b[49m\u001b[43m=\u001b[49m\u001b[33;43m\"\u001b[39;49m\u001b[33;43msearch_vector_database\u001b[39;49m\u001b[33;43m\"\u001b[39;49m\u001b[43m)\u001b[49m\n\u001b[32m      4\u001b[39m     tool_details = catalog.find(\u001b[33m\"\u001b[39m\u001b[33mtool\u001b[39m\u001b[33m\"\u001b[39m, name=\u001b[33m\"\u001b[39m\u001b[33mget_hotel_details\u001b[39m\u001b[33m\"\u001b[39m)\n\u001b[32m      6\u001b[39m     \u001b[38;5;28;01mif\u001b[39;00m \u001b[38;5;129;01mnot\u001b[39;00m tool_search:\n",
            "\u001b[36mFile \u001b[39m\u001b[32m~/Desktop/agent-catalog-quickstart/.venv/lib/python3.12/site-packages/agentc_core/catalog/catalog.py:318\u001b[39m, in \u001b[36mCatalog.find\u001b[39m\u001b[34m(self, kind, query, name, annotations, catalog_id, limit)\u001b[39m\n\u001b[32m    282\u001b[39m \u001b[38;5;250m\u001b[39m\u001b[33;03m\"\"\"Return a list of tools or prompts based on the specified search criteria.\u001b[39;00m\n\u001b[32m    283\u001b[39m \n\u001b[32m    284\u001b[39m \u001b[33;03m.. card:: Method Description\u001b[39;00m\n\u001b[32m   (...)\u001b[39m\u001b[32m    315\u001b[39m \u001b[33;03m    * \"prompts\" if `kind` is \"prompt\" (see :py:meth:`find_prompts` for details).\u001b[39;00m\n\u001b[32m    316\u001b[39m \u001b[33;03m\"\"\"\u001b[39;00m\n\u001b[32m    317\u001b[39m \u001b[38;5;28;01mif\u001b[39;00m kind.lower() == \u001b[33m\"\u001b[39m\u001b[33mtool\u001b[39m\u001b[33m\"\u001b[39m:\n\u001b[32m--> \u001b[39m\u001b[32m318\u001b[39m     \u001b[38;5;28;01mreturn\u001b[39;00m \u001b[38;5;28;43mself\u001b[39;49m\u001b[43m.\u001b[49m\u001b[43mfind_tools\u001b[49m\u001b[43m(\u001b[49m\u001b[43mquery\u001b[49m\u001b[43m,\u001b[49m\u001b[43m \u001b[49m\u001b[43mname\u001b[49m\u001b[43m,\u001b[49m\u001b[43m \u001b[49m\u001b[43mannotations\u001b[49m\u001b[43m,\u001b[49m\u001b[43m \u001b[49m\u001b[43mcatalog_id\u001b[49m\u001b[43m,\u001b[49m\u001b[43m \u001b[49m\u001b[43mlimit\u001b[49m\u001b[43m)\u001b[49m\n\u001b[32m    319\u001b[39m \u001b[38;5;28;01melif\u001b[39;00m kind.lower() == \u001b[33m\"\u001b[39m\u001b[33mprompt\u001b[39m\u001b[33m\"\u001b[39m:\n\u001b[32m    320\u001b[39m     \u001b[38;5;28;01mreturn\u001b[39;00m \u001b[38;5;28mself\u001b[39m.find_prompts(query, name, annotations, catalog_id)\n",
            "\u001b[36mFile \u001b[39m\u001b[32m~/Desktop/agent-catalog-quickstart/.venv/lib/python3.12/site-packages/agentc_core/catalog/catalog.py:357\u001b[39m, in \u001b[36mCatalog.find_tools\u001b[39m\u001b[34m(self, query, name, annotations, catalog_id, limit)\u001b[39m\n\u001b[32m    353\u001b[39m     \u001b[38;5;28;01mreturn\u001b[39;00m \u001b[38;5;28mself\u001b[39m._tool_provider.find_with_query(\n\u001b[32m    354\u001b[39m         query=query, annotations=annotations, snapshot=catalog_id, limit=limit\n\u001b[32m    355\u001b[39m     )\n\u001b[32m    356\u001b[39m \u001b[38;5;28;01melse\u001b[39;00m:\n\u001b[32m--> \u001b[39m\u001b[32m357\u001b[39m     \u001b[38;5;28;01mreturn\u001b[39;00m \u001b[38;5;28;43mself\u001b[39;49m\u001b[43m.\u001b[49m\u001b[43m_tool_provider\u001b[49m\u001b[43m.\u001b[49m\u001b[43mfind_with_name\u001b[49m\u001b[43m(\u001b[49m\u001b[43mname\u001b[49m\u001b[43m=\u001b[49m\u001b[43mname\u001b[49m\u001b[43m,\u001b[49m\u001b[43m \u001b[49m\u001b[43mannotations\u001b[49m\u001b[43m=\u001b[49m\u001b[43mannotations\u001b[49m\u001b[43m,\u001b[49m\u001b[43m \u001b[49m\u001b[43msnapshot\u001b[49m\u001b[43m=\u001b[49m\u001b[43mcatalog_id\u001b[49m\u001b[43m)\u001b[49m\n",
            "\u001b[36mFile \u001b[39m\u001b[32m~/Desktop/agent-catalog-quickstart/.venv/lib/python3.12/site-packages/agentc_core/provider/provider.py:107\u001b[39m, in \u001b[36mToolProvider.find_with_name\u001b[39m\u001b[34m(self, name, snapshot, annotations)\u001b[39m\n\u001b[32m    105\u001b[39m \u001b[38;5;28;01mdef\u001b[39;00m\u001b[38;5;250m \u001b[39m\u001b[34mfind_with_name\u001b[39m(\u001b[38;5;28mself\u001b[39m, name: \u001b[38;5;28mstr\u001b[39m, snapshot: \u001b[38;5;28mstr\u001b[39m = \u001b[33m\"\u001b[39m\u001b[33m__LATEST__\u001b[39m\u001b[33m\"\u001b[39m, annotations: \u001b[38;5;28mstr\u001b[39m = \u001b[38;5;28;01mNone\u001b[39;00m) -> ToolResult | T | \u001b[38;5;28;01mNone\u001b[39;00m:\n\u001b[32m    106\u001b[39m     annotation_predicate = AnnotationPredicate(query=annotations) \u001b[38;5;28;01mif\u001b[39;00m annotations \u001b[38;5;129;01mis\u001b[39;00m \u001b[38;5;129;01mnot\u001b[39;00m \u001b[38;5;28;01mNone\u001b[39;00m \u001b[38;5;28;01melse\u001b[39;00m \u001b[38;5;28;01mNone\u001b[39;00m\n\u001b[32m--> \u001b[39m\u001b[32m107\u001b[39m     results = \u001b[38;5;28;43mself\u001b[39;49m\u001b[43m.\u001b[49m\u001b[43mcatalog\u001b[49m\u001b[43m.\u001b[49m\u001b[43mfind\u001b[49m\u001b[43m(\u001b[49m\u001b[43mname\u001b[49m\u001b[43m=\u001b[49m\u001b[43mname\u001b[49m\u001b[43m,\u001b[49m\u001b[43m \u001b[49m\u001b[43msnapshot\u001b[49m\u001b[43m=\u001b[49m\u001b[43msnapshot\u001b[49m\u001b[43m,\u001b[49m\u001b[43m \u001b[49m\u001b[43mannotations\u001b[49m\u001b[43m=\u001b[49m\u001b[43mannotation_predicate\u001b[49m\u001b[43m,\u001b[49m\u001b[43m \u001b[49m\u001b[43mlimit\u001b[49m\u001b[43m=\u001b[49m\u001b[32;43m1\u001b[39;49m\u001b[43m)\u001b[49m\n\u001b[32m    109\u001b[39m     \u001b[38;5;66;03m# Load all tools that we have not already cached.\u001b[39;00m\n\u001b[32m    110\u001b[39m     non_cached_results = [f.entry \u001b[38;5;28;01mfor\u001b[39;00m f \u001b[38;5;129;01min\u001b[39;00m results \u001b[38;5;28;01mif\u001b[39;00m f.entry \u001b[38;5;129;01mnot\u001b[39;00m \u001b[38;5;129;01min\u001b[39;00m \u001b[38;5;28mself\u001b[39m._tool_cache]\n",
            "\u001b[36mFile \u001b[39m\u001b[32m~/Desktop/agent-catalog-quickstart/.venv/lib/python3.12/site-packages/agentc_core/catalog/implementations/chain.py:32\u001b[39m, in \u001b[36mCatalogChain.find\u001b[39m\u001b[34m(self, query, name, snapshot, limit, annotations)\u001b[39m\n\u001b[32m     29\u001b[39m seen = \u001b[38;5;28mset\u001b[39m()  \u001b[38;5;66;03m# Keyed by 'source:name'.\u001b[39;00m\n\u001b[32m     31\u001b[39m \u001b[38;5;28;01mfor\u001b[39;00m c \u001b[38;5;129;01min\u001b[39;00m \u001b[38;5;28mself\u001b[39m.chain:\n\u001b[32m---> \u001b[39m\u001b[32m32\u001b[39m     results_c = \u001b[43mc\u001b[49m\u001b[43m.\u001b[49m\u001b[43mfind\u001b[49m\u001b[43m(\u001b[49m\u001b[43mquery\u001b[49m\u001b[43m=\u001b[49m\u001b[43mquery\u001b[49m\u001b[43m,\u001b[49m\u001b[43m \u001b[49m\u001b[43mname\u001b[49m\u001b[43m=\u001b[49m\u001b[43mname\u001b[49m\u001b[43m,\u001b[49m\u001b[43m \u001b[49m\u001b[43msnapshot\u001b[49m\u001b[43m=\u001b[49m\u001b[43msnapshot\u001b[49m\u001b[43m,\u001b[49m\u001b[43m \u001b[49m\u001b[43mlimit\u001b[49m\u001b[43m=\u001b[49m\u001b[43mlimit\u001b[49m\u001b[43m,\u001b[49m\u001b[43m \u001b[49m\u001b[43mannotations\u001b[49m\u001b[43m=\u001b[49m\u001b[43mannotations\u001b[49m\u001b[43m)\u001b[49m\n\u001b[32m     34\u001b[39m     \u001b[38;5;28;01mfor\u001b[39;00m x \u001b[38;5;129;01min\u001b[39;00m results_c:\n\u001b[32m     35\u001b[39m         source_name = \u001b[38;5;28mstr\u001b[39m(x.entry.source) + \u001b[33m\"\u001b[39m\u001b[33m:\u001b[39m\u001b[33m\"\u001b[39m + x.entry.name\n",
            "\u001b[36mFile \u001b[39m\u001b[32m~/Desktop/agent-catalog-quickstart/.venv/lib/python3.12/site-packages/agentc_core/catalog/implementations/db.py:72\u001b[39m, in \u001b[36mCatalogDB.find\u001b[39m\u001b[34m(self, query, name, snapshot, limit, annotations)\u001b[39m\n\u001b[32m     70\u001b[39m \u001b[38;5;28;01mif\u001b[39;00m name \u001b[38;5;129;01mis\u001b[39;00m \u001b[38;5;129;01mnot\u001b[39;00m \u001b[38;5;28;01mNone\u001b[39;00m:\n\u001b[32m     71\u001b[39m     \u001b[38;5;28;01mif\u001b[39;00m snapshot == LATEST_SNAPSHOT_VERSION:\n\u001b[32m---> \u001b[39m\u001b[32m72\u001b[39m         snapshot = \u001b[38;5;28;43mself\u001b[39;49m\u001b[43m.\u001b[49m\u001b[43mversion\u001b[49m.identifier\n\u001b[32m     73\u001b[39m     \u001b[38;5;66;03m# TODO (GLENN): Need to add some validation around bucket (to prevent injection)\u001b[39;00m\n\u001b[32m     74\u001b[39m     sqlpp_query = \u001b[33mf\u001b[39m\u001b[33m\"\"\"\u001b[39m\n\u001b[32m     75\u001b[39m \u001b[33m        FROM `\u001b[39m\u001b[38;5;132;01m{\u001b[39;00m\u001b[38;5;28mself\u001b[39m.bucket\u001b[38;5;132;01m}\u001b[39;00m\u001b[33m`.`\u001b[39m\u001b[38;5;132;01m{\u001b[39;00mDEFAULT_CATALOG_SCOPE\u001b[38;5;132;01m}\u001b[39;00m\u001b[33m`.`\u001b[39m\u001b[38;5;132;01m{\u001b[39;00mcollection\u001b[38;5;132;01m}\u001b[39;00m\u001b[33m` AS a\u001b[39m\n\u001b[32m     76\u001b[39m \u001b[33m        WHERE a.name = $name AND a.catalog_identifier = $snapshot\u001b[39m\n\u001b[32m     77\u001b[39m \u001b[33m        SELECT a.*;\u001b[39m\n\u001b[32m     78\u001b[39m \u001b[33m    \u001b[39m\u001b[33m\"\"\"\u001b[39m\n",
            "\u001b[36mFile \u001b[39m\u001b[32m~/Desktop/agent-catalog-quickstart/.venv/lib/python3.12/site-packages/agentc_core/catalog/implementations/db.py:265\u001b[39m, in \u001b[36mCatalogDB.version\u001b[39m\u001b[34m(self)\u001b[39m\n\u001b[32m    263\u001b[39m \u001b[38;5;28;01mfor\u001b[39;00m row \u001b[38;5;129;01min\u001b[39;00m res:\n\u001b[32m    264\u001b[39m     \u001b[38;5;28;01mreturn\u001b[39;00m VersionDescriptor.model_validate(row)\n\u001b[32m--> \u001b[39m\u001b[32m265\u001b[39m \u001b[38;5;28;01mraise\u001b[39;00m \u001b[38;5;167;01mLookupError\u001b[39;00m(\n\u001b[32m    266\u001b[39m     \u001b[33mf\u001b[39m\u001b[33m\"\u001b[39m\u001b[33mCatalog version not found for kind = \u001b[39m\u001b[33m'\u001b[39m\u001b[38;5;132;01m{\u001b[39;00mkind\u001b[38;5;132;01m}\u001b[39;00m\u001b[33m'\u001b[39m\u001b[33m! Please run \u001b[39m\u001b[33m'\u001b[39m\u001b[33magentc publish\u001b[39m\u001b[33m'\u001b[39m\u001b[33m to create the catalog.\u001b[39m\u001b[33m\"\u001b[39m\n\u001b[32m    267\u001b[39m )\n",
            "\u001b[31mLookupError\u001b[39m: Catalog version not found for kind = 'tool'! Please run 'agentc publish' to create the catalog."
          ]
        }
      ],
      "source": [
        "with application_span.new(\"Tool Loading\"):\n",
        "    # Load tools from Agent Catalog - they are now properly decorated\n",
        "    tool_search = catalog.find(\"tool\", name=\"search_vector_database\")\n",
        "    tool_details = catalog.find(\"tool\", name=\"get_hotel_details\")\n",
        "    \n",
        "    if not tool_search:\n",
        "        raise ValueError(\"Could not find search_vector_database tool. Make sure it's indexed with 'agentc index tools/'\")\n",
        "    if not tool_details:\n",
        "        raise ValueError(\"Could not find get_hotel_details tool. Make sure it's indexed with 'agentc index tools/'\")\n",
        "    \n",
        "    from langchain_core.tools import Tool\n",
        "    tools = [\n",
        "        Tool(\n",
        "            name=tool_search.meta.name,\n",
        "            description=tool_search.meta.description,\n",
        "            func=tool_search.func\n",
        "        ),\n",
        "        Tool(\n",
        "            name=tool_details.meta.name, \n",
        "            description=tool_details.meta.description,\n",
        "            func=tool_details.func\n",
        "        )\n",
        "    ]\n",
        "    print(f\"✅ Loaded {len(tools)} tools from Agent Catalog\")"
      ]
    },
    {
      "cell_type": "markdown",
      "metadata": {},
      "source": [
        "## Agent Creation\n",
        "\n",
        "Create the ReAct agent with prompt from Agent Catalog."
      ]
    },
    {
      "cell_type": "code",
      "execution_count": null,
      "metadata": {},
      "outputs": [],
      "source": [
        "with application_span.new(\"Agent Creation\"):\n",
        "    # Get prompt from Agent Catalog\n",
        "    hotel_prompt = catalog.find(\"prompt\", name=\"hotel_search_assistant\")\n",
        "    if not hotel_prompt:\n",
        "        raise ValueError(\"Could not find hotel_search_assistant prompt in catalog. Make sure it's indexed with 'agentc index prompts/'\")\n",
        "    \n",
        "    # Create a custom prompt using the catalog prompt content\n",
        "    from langchain_core.prompts import PromptTemplate\n",
        "    \n",
        "    # The prompt content is already properly structured with ReAct format\n",
        "    prompt_content = hotel_prompt.content.strip()\n",
        "    \n",
        "    custom_prompt = PromptTemplate(\n",
        "        template=prompt_content,\n",
        "        input_variables=[\"input\", \"agent_scratchpad\"],\n",
        "        partial_variables={\n",
        "            \"tools\": \"\\n\".join([f\"{tool.name}: {tool.description}\" for tool in tools]),\n",
        "            \"tool_names\": \", \".join([tool.name for tool in tools])\n",
        "        }\n",
        "    )\n",
        "    \n",
        "    agent = create_react_agent(llm, tools, custom_prompt)\n",
        "    agent_executor = AgentExecutor(\n",
        "        agent=agent, \n",
        "        tools=tools, \n",
        "        verbose=True, \n",
        "        handle_parsing_errors=True,\n",
        "        max_iterations=5,\n",
        "        return_intermediate_steps=True\n",
        "    )\n",
        "    print(\"✅ Hotel Search Agent is ready!\")"
      ]
    },
    {
      "cell_type": "markdown",
      "metadata": {},
      "source": [
        "## Test Scenarios\n",
        "\n",
        "Run the test scenarios from main.py."
      ]
    },
    {
      "cell_type": "code",
      "execution_count": null,
      "metadata": {},
      "outputs": [],
      "source": [
        "# Test the agent with sample queries\n",
        "print(\"\\nHotel Search Agent is ready!\")\n",
        "print(\"Testing with sample queries...\")\n",
        "\n",
        "test_queries = [\n",
        "    \"Find me a luxury hotel with a pool and spa\",\n",
        "    \"I need a beach resort in Miami\", \n",
        "    \"Get me details about Ocean Breeze Resort\"\n",
        "]\n",
        "\n",
        "with application_span.new(\"Query Execution\") as span:\n",
        "    for query in test_queries:\n",
        "        with span.new(f\"Query: {query}\") as query_span:\n",
        "            print(f\"\\n🔍 Query: {query}\")\n",
        "            try:\n",
        "                response = agent_executor.invoke({\"input\": query})\n",
        "                query_span[\"response\"] = response['output']\n",
        "                print(f\"✅ Response: {response['output']}\")\n",
        "                print(\"-\" * 80)\n",
        "            except Exception as e:\n",
        "                query_span[\"error\"] = str(e)\n",
        "                print(f\"❌ Error: {e}\")\n",
        "                print(\"-\" * 80)\n",
        "\n",
        "print(\"All tests completed!\")"
      ]
    }
  ],
  "metadata": {
    "kernelspec": {
      "display_name": ".venv",
      "language": "python",
      "name": "python3"
    },
    "language_info": {
      "codemirror_mode": {
        "name": "ipython",
        "version": 3
      },
      "file_extension": ".py",
      "mimetype": "text/x-python",
      "name": "python",
      "nbconvert_exporter": "python",
      "pygments_lexer": "ipython3",
      "version": "3.12.8"
    }
  },
  "nbformat": 4,
  "nbformat_minor": 4
}

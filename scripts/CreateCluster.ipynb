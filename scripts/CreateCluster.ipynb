{
  "nbformat": 4,
  "nbformat_minor": 0,
  "metadata": {
    "colab": {
      "provenance": []
    },
    "kernelspec": {
      "name": "python3",
      "display_name": "Python 3"
    },
    "language_info": {
      "name": "python"
    }
  },
  "cells": [
    {
      "cell_type": "code",
      "execution_count": null,
      "metadata": {
        "colab": {
          "base_uri": "https://localhost:8080/"
        },
        "id": "TzEcEN01R-3G",
        "outputId": "bb17b6c5-0193-4c7e-ec0d-c76e930d8550"
      },
      "outputs": [
        {
          "output_type": "stream",
          "name": "stdout",
          "text": [
            "Org: 2b507c00-bf9a-4839-bbf2-a36618414089\n",
            "Project: 51806e83-2a20-422b-9c30-7fa1347015d3\n",
            "Cluster: b31d7641-24d1-4393-bd01-dccfdd4f4d9f\n",
            "Cluster status: healthy\n",
            "travel-sample already present.\n"
          ]
        }
      ],
      "source": [
        "# Minimal bootstrap with Capella Management API\n",
        "import os, time, requests\n",
        "\n",
        "BASE_URL = \"https://cloudapi.cloud.couchbase.com\"\n",
        "TOKEN = \"QkhFdFZzZVc3ZUlXczQ3M292a0trMGt0NnpTTTI3U246Snd0UU9FcGZRdn5ZNXJpaWJsd19Bc0BUWEx4K2NCT0RXQHFKVUA0flFUMCNXMkhlX0E5XzE4NENxUnFRc1M/SQ==\"   # from Capella UI → API Key (Org Owner role)\n",
        "ORG_ID = \"\"                         # leave empty to auto-pick first org\n",
        "PROJECT_NAME = \"agentic-lab\"\n",
        "CLUSTER_NAME = \"agentic-lab-free\"\n",
        "\n",
        "s = requests.Session()\n",
        "s.headers.update({\"Authorization\": f\"Bearer {TOKEN}\", \"Content-Type\": \"application/json\"})\n",
        "api = lambda m,p,**k: s.request(m, f\"{BASE_URL}{p}\", **k).json()\n",
        "\n",
        "# 1. Organization\n",
        "if not ORG_ID:\n",
        "    ORG_ID = api(\"GET\", \"/v4/organizations\")[\"data\"][0][\"id\"]\n",
        "print(\"Org:\", ORG_ID)\n",
        "\n",
        "# 2. Project (get or create)\n",
        "projects = api(\"GET\", f\"/v4/organizations/{ORG_ID}/projects\")[\"data\"]\n",
        "proj = next((p for p in projects if p[\"name\"]==PROJECT_NAME), None)\n",
        "if proj: project_id = proj[\"id\"]\n",
        "else: project_id = api(\"POST\", f\"/v4/organizations/{ORG_ID}/projects\", json={\"name\": PROJECT_NAME})[\"id\"]\n",
        "print(\"Project:\", project_id)\n",
        "\n",
        "# 3. Cluster (free tier; reuse if exists)\n",
        "clusters = api(\"GET\", f\"/v4/organizations/{ORG_ID}/projects/{project_id}/clusters\")[\"data\"]\n",
        "cl = next((c for c in clusters if c[\"name\"]==CLUSTER_NAME), None)\n",
        "if cl: cluster_id = cl[\"id\"]\n",
        "else:\n",
        "    body = {\"name\": CLUSTER_NAME,\n",
        "            \"cloudProvider\":{\"type\":\"aws\",\"region\":\"us-east-2\",\"cidr\":\"10.1.30.0/23\"}}\n",
        "    response = api(\"POST\", f\"/v4/organizations/{ORG_ID}/projects/{project_id}/clusters/freeTier\", json=body)\n",
        "    print(\"API Response:\", response) # Add this line to print the response\n",
        "    cluster_id = response[\"id\"]\n",
        "print(\"Cluster:\", cluster_id)\n",
        "\n",
        "# Wait until cluster ready\n",
        "for _ in range(40):\n",
        "    status = api(\"GET\", f\"/v4/organizations/{ORG_ID}/projects/{project_id}/clusters/{cluster_id}\").get(\"currentState\",\"\")\n",
        "    print(\"Cluster status:\", status)\n",
        "    if status.lower() in [\"healthy\",\"ready\",\"running\"]: break\n",
        "    time.sleep(30)\n",
        "\n",
        "# 4. Import travel-sample\n",
        "buckets = api(\"GET\", f\"/v4/organizations/{ORG_ID}/projects/{project_id}/clusters/{cluster_id}/buckets\")[\"data\"]\n",
        "if not any(b[\"name\"]==\"travel-sample\" for b in buckets):\n",
        "    try:\n",
        "        api(\"POST\", f\"/v4/organizations/{ORG_ID}/projects/{project_id}/clusters/{cluster_id}/sampleBuckets\",\n",
        "            json={\"name\":\"travel-sample\"})\n",
        "        print(\"Requested travel-sample import.\")\n",
        "    except Exception as e:\n",
        "        print(\"Sample import not supported in this tenant. Use UI to add travel-sample.\")\n",
        "else:\n",
        "    print(\"travel-sample already present.\")"
      ]
    },
    {
      "cell_type": "code",
      "metadata": {
        "colab": {
          "base_uri": "https://localhost:8080/"
        },
        "id": "7ebccf23",
        "outputId": "77f8c39c-5d17-4ce1-d046-9b042141a522"
      },
      "source": [
        "# Get cluster information and print the full response\n",
        "cluster_info = api(\"GET\", f\"/v4/organizations/{ORG_ID}/projects/{project_id}/clusters/{cluster_id}\")\n",
        "print(\"Full Cluster API Response:\")\n",
        "print(cluster_info)\n",
        "\n",
        "# You can also specifically check the 'status' key from the response\n",
        "# if isinstance(cluster_info, dict):\n",
        "#     status = cluster_info.get(\"status\", \"Status key not found in response\")\n",
        "#     print(\"\\nCluster status from API:\", status)\n",
        "# else:\n",
        "#     print(\"\\nAPI response is not a dictionary.\")"
      ],
      "execution_count": null,
      "outputs": [
        {
          "output_type": "stream",
          "name": "stdout",
          "text": [
            "Full Cluster API Response:\n",
            "{'audit': {'createdAt': '2025-09-16T21:02:13.579595203Z', 'createdBy': 'BHEtVseW7eIWs473ovkKk0kt6zSM27Sn', 'modifiedAt': '2025-09-16T21:05:05.165824861Z', 'modifiedBy': 'CP-INTERNAL-API-SYSTEM-USER', 'version': 9}, 'availability': {'type': 'single'}, 'cloudProvider': {'cidr': '10.1.30.0/23', 'region': 'us-east-2', 'type': 'aws'}, 'configurationType': 'singleNode', 'connectionString': 'cb.x92tww-9pj2w-iry.cloud.couchbase.com', 'couchbaseServer': {'version': '7.6.7'}, 'currentState': 'healthy', 'description': '', 'enablePrivateDNSResolution': False, 'id': 'b31d7641-24d1-4393-bd01-dccfdd4f4d9f', 'name': 'agentic-lab-free', 'serviceGroups': [{'node': {'compute': {'cpu': 2, 'ram': 8}, 'disk': {'iops': 3000, 'storage': 10, 'type': 'gp3'}}, 'numOfNodes': 1, 'services': ['search', 'index', 'data', 'query']}], 'support': {'plan': '', 'timezone': 'PT'}}\n"
          ]
        }
      ]
    }
  ]
}
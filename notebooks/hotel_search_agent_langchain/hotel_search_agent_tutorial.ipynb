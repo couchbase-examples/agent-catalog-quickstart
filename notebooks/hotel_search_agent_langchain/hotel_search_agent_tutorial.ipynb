{
  "cells": [
    {
      "cell_type": "markdown",
      "metadata": {
        "id": "RDzG2KENyMK-",
        "vscode": {
          "languageId": "raw"
        }
      },
      "source": [
        "# Hotel Search Agent Tutorial\n",
        "\n",
        "This notebook demonstrates the Agent Catalog hotel search agent using LangChain with Couchbase vector store and Arize Phoenix evaluation. Uses AI services with standard OpenAI wrappers and Capella (simple & fast).\n"
      ]
    },
    {
      "cell_type": "code",
      "execution_count": 1,
      "metadata": {
        "colab": {
          "base_uri": "https://localhost:8080/"
        },
        "id": "x_VEyfI1yMK_",
        "outputId": "7a5f37d8-fa80-4d51-dab4-3e06f3c0a0a8"
      },
      "outputs": [
        {
          "name": "stdout",
          "output_type": "stream",
          "text": [
            "/content\n"
          ]
        }
      ],
      "source": [
        "import os\n",
        "print(os.getcwd())"
      ]
    },
    {
      "cell_type": "code",
      "execution_count": 2,
      "metadata": {
        "colab": {
          "base_uri": "https://localhost:8080/"
        },
        "id": "OXkCyyk_yMLA",
        "outputId": "c908fc63-cebe-4742-8bcf-db69d552fc11"
      },
      "outputs": [
        {
          "name": "stdout",
          "output_type": "stream",
          "text": [
            "--2025-10-24 07:00:44--  https://raw.githubusercontent.com/couchbase-examples/agent-catalog-quickstart/refs/heads/main/notebooks/hotel_search_agent_langchain/prompts/hotel_search_assistant.yaml\n",
            "Resolving raw.githubusercontent.com (raw.githubusercontent.com)... 185.199.109.133, 185.199.110.133, 185.199.108.133, ...\n",
            "Connecting to raw.githubusercontent.com (raw.githubusercontent.com)|185.199.109.133|:443... connected.\n",
            "HTTP request sent, awaiting response... 200 OK\n",
            "Length: 2060 (2.0K) [text/plain]\n",
            "Saving to: ‘prompts/hotel_search_assistant.yaml’\n",
            "\n",
            "\r          prompts/h   0%[                    ]       0  --.-KB/s               \rprompts/hotel_searc 100%[===================>]   2.01K  --.-KB/s    in 0s      \n",
            "\n",
            "2025-10-24 07:00:44 (19.9 MB/s) - ‘prompts/hotel_search_assistant.yaml’ saved [2060/2060]\n",
            "\n",
            "--2025-10-24 07:00:45--  https://raw.githubusercontent.com/couchbase-examples/agent-catalog-quickstart/refs/heads/main/notebooks/hotel_search_agent_langchain/tools/search_vector_database.py\n",
            "Resolving raw.githubusercontent.com (raw.githubusercontent.com)... 185.199.108.133, 185.199.109.133, 185.199.110.133, ...\n",
            "Connecting to raw.githubusercontent.com (raw.githubusercontent.com)|185.199.108.133|:443... connected.\n",
            "HTTP request sent, awaiting response... 200 OK\n",
            "Length: 4981 (4.9K) [text/plain]\n",
            "Saving to: ‘tools/search_vector_database.py’\n",
            "\n",
            "tools/search_vector 100%[===================>]   4.86K  --.-KB/s    in 0s      \n",
            "\n",
            "2025-10-24 07:00:45 (48.3 MB/s) - ‘tools/search_vector_database.py’ saved [4981/4981]\n",
            "\n",
            "--2025-10-24 07:00:45--  https://raw.githubusercontent.com/couchbase-examples/agent-catalog-quickstart/refs/heads/main/notebooks/hotel_search_agent_langchain/agentcatalog_index.json\n",
            "Resolving raw.githubusercontent.com (raw.githubusercontent.com)... 185.199.108.133, 185.199.109.133, 185.199.110.133, ...\n",
            "Connecting to raw.githubusercontent.com (raw.githubusercontent.com)|185.199.108.133|:443... connected.\n",
            "HTTP request sent, awaiting response... 200 OK\n",
            "Length: 1946 (1.9K) [text/plain]\n",
            "Saving to: ‘agentcatalog_index.json’\n",
            "\n",
            "agentcatalog_index. 100%[===================>]   1.90K  --.-KB/s    in 0s      \n",
            "\n",
            "2025-10-24 07:00:45 (19.7 MB/s) - ‘agentcatalog_index.json’ saved [1946/1946]\n",
            "\n",
            "--2025-10-24 07:00:45--  https://raw.githubusercontent.com/couchbase-examples/agent-catalog-quickstart/refs/heads/main/notebooks/hotel_search_agent_langchain/.agentcignore\n",
            "Resolving raw.githubusercontent.com (raw.githubusercontent.com)... 185.199.109.133, 185.199.111.133, 185.199.108.133, ...\n",
            "Connecting to raw.githubusercontent.com (raw.githubusercontent.com)|185.199.109.133|:443... connected.\n",
            "HTTP request sent, awaiting response... 200 OK\n",
            "Length: 47 [text/plain]\n",
            "Saving to: ‘.agentcignore’\n",
            "\n",
            ".agentcignore       100%[===================>]      47  --.-KB/s    in 0s      \n",
            "\n",
            "2025-10-24 07:00:45 (1.06 MB/s) - ‘.agentcignore’ saved [47/47]\n",
            "\n"
          ]
        }
      ],
      "source": [
        "# Download required resources for the hotel search agent\n",
        "!mkdir -p prompts\n",
        "!wget -O prompts/hotel_search_assistant.yaml https://raw.githubusercontent.com/couchbase-examples/agent-catalog-quickstart/refs/heads/main/notebooks/hotel_search_agent_langchain/prompts/hotel_search_assistant.yaml\n",
        "!mkdir -p tools\n",
        "!wget -O tools/search_vector_database.py https://raw.githubusercontent.com/couchbase-examples/agent-catalog-quickstart/refs/heads/main/notebooks/hotel_search_agent_langchain/tools/search_vector_database.py\n",
        "!wget -O agentcatalog_index.json https://raw.githubusercontent.com/couchbase-examples/agent-catalog-quickstart/refs/heads/main/notebooks/hotel_search_agent_langchain/agentcatalog_index.json\n",
        "!wget -O .agentcignore https://raw.githubusercontent.com/couchbase-examples/agent-catalog-quickstart/refs/heads/main/notebooks/hotel_search_agent_langchain/.agentcignore\n"
      ]
    },
    {
      "cell_type": "code",
      "execution_count": 3,
      "metadata": {
        "id": "XSUSV_wxyMLA"
      },
      "outputs": [],
      "source": [
        "%pip install -q \\\n",
        "    \"pydantic>=2.0.0,<3.0.0\" \\\n",
        "    \"python-dotenv>=1.0.0,<2.0.0\" \\\n",
        "    \"pandas>=2.0.0,<3.0.0\" \\\n",
        "    \"nest-asyncio>=1.6.0,<2.0.0\" \\\n",
        "    \"uvicorn>=0.29.0,<0.30.0\" \\\n",
        "    \"httpx>=0.24.0,<1.0.0\" \\\n",
        "    \"langchain-couchbase>=0.2.4,<0.5.0\" \\\n",
        "    \"langchain-openai>=0.3.11,<0.4.0\" \\\n",
        "    \"langchain-nvidia-ai-endpoints>=0.3.13,<0.4.0\" \\\n",
        "    \"arize>=7.51.0,<8.0.0\" \\\n",
        "    \"arize-phoenix>=11.37.0,<12.0.0\" \\\n",
        "    \"arize-phoenix-evals>=2.2.0,<3.0.0\" \\\n",
        "    \"openinference-instrumentation-langchain>=0.1.29,<0.2.0\" \\\n",
        "    \"openinference-instrumentation-openai>=0.1.18,<0.2.0\"\n"
      ]
    },
    {
      "cell_type": "code",
      "execution_count": 4,
      "metadata": {
        "colab": {
          "base_uri": "https://localhost:8080/"
        },
        "id": "cS9M538-yMLA",
        "outputId": "55677f89-ba28-4af7-f999-9034f506c087"
      },
      "outputs": [
        {
          "name": "stdout",
          "output_type": "stream",
          "text": [
            "\u001b[?25l     \u001b[90m━━━━━━━━━━━━━━━━━━━━━━━━━━━━━━━━━━━━━━━━\u001b[0m \u001b[32m0.0/98.5 kB\u001b[0m \u001b[31m?\u001b[0m eta \u001b[36m-:--:--\u001b[0m\r\u001b[2K     \u001b[90m━━━━━━━━━━━━━━━━━━━━━━━━━━━━━━━━━━━━━━━━\u001b[0m \u001b[32m98.5/98.5 kB\u001b[0m \u001b[31m3.1 MB/s\u001b[0m eta \u001b[36m0:00:00\u001b[0m\n",
            "\u001b[?25h"
          ]
        }
      ],
      "source": [
        "%pip install -q https://github.com/couchbaselabs/agent-catalog/releases/download/v0.2.5a3/agentc_core-0.2.5a3-py3-none-any.whl\n",
        "%pip install -q https://github.com/couchbaselabs/agent-catalog/releases/download/v0.2.5a3/agentc_cli-0.2.5a3-py3-none-any.whl\n",
        "%pip install -q https://github.com/couchbaselabs/agent-catalog/releases/download/v0.2.5a3/agentc-0.2.5a3-py3-none-any.whl\n",
        "%pip install -q https://github.com/couchbaselabs/agent-catalog/releases/download/v0.2.5a3/agentc_langchain-0.2.5a3-py3-none-any.whl"
      ]
    },
    {
      "cell_type": "code",
      "execution_count": 5,
      "metadata": {
        "id": "2qxmhI7XyMLA"
      },
      "outputs": [],
      "source": [
        "# Install the couchbase-infrastructure package\n",
        "%pip install -q couchbase-infrastructure"
      ]
    },
    {
      "cell_type": "markdown",
      "metadata": {
        "id": "L4B5e2myyMLA"
      },
      "source": [
        "## 🚀 Educational Infrastructure Setup\n",
        "\n",
        "**This cell uses the `couchbase-infrastructure` package to provision your Couchbase Capella infrastructure step-by-step.**\n",
        "\n",
        "### What It Does (Educational Approach):\n",
        "1. **Interactive Credentials** - Securely collects your API key using `getpass` (Google Colab compatible)\n",
        "2. **Creates Capella Project** - Sets up your cloud database project\n",
        "3. **Provisions Free Tier Cluster** - Deploys a Couchbase cluster on AWS\n",
        "4. **Configures Network Access** - Sets up allowlists for connectivity\n",
        "5. **Loads travel-sample Data** - Imports the sample hotel dataset\n",
        "6. **Creates Database User** - Generates credentials with appropriate permissions\n",
        "7. **Deploys AI Models** - Provisions embedding and LLM models for the agent\n",
        "8. **Creates API Keys** - Generates keys for AI model access\n",
        "9. **Sets Environment Variables** - Configures all required variables for subsequent cells\n",
        "\n",
        "### Prerequisites:\n",
        "- Get your `MANAGEMENT_API_KEY` from [Capella Console](https://cloud.couchbase.com) → Settings → API Keys\n",
        "- **No `.env` file needed** - This notebook uses interactive prompts (Google Colab compatible)\n",
        "\n",
        "### After Running:\n",
        "All environment variables will be set and ready for the hotel search agent cells below.\n",
        "\n",
        "**Package Documentation**: https://pypi.org/project/couchbase-infrastructure/\n"
      ]
    },
    {
      "cell_type": "code",
      "execution_count": 6,
      "metadata": {
        "colab": {
          "base_uri": "https://localhost:8080/",
          "height": 1000
        },
        "id": "iEt0fvBKyMLB",
        "outputId": "8a2a7f05-5fae-46e2-9d4a-e67ddf4800df"
      },
      "outputs": [
        {
          "name": "stdout",
          "output_type": "stream",
          "text": [
            "======================================================================\n",
            "🚀 Couchbase Capella Infrastructure Setup\n",
            "======================================================================\n",
            "\n",
            "This educational setup shows you how to provision Capella infrastructure\n",
            "step-by-step using the couchbase-infrastructure package.\n",
            "\n",
            "\n",
            "📋 Step 1: Collecting Credentials\n",
            "----------------------------------------------------------------------\n",
            "✅ Found .env file. Loading configuration...\n",
            "\n",
            "Get your credentials from: https://cloud.couchbase.com → Settings → API Keys\n",
            "\n",
            "✅ Using MANAGEMENT_API_KEY from environment\n",
            "✅ Using ORGANIZATION_ID from environment: 23086345-371f-4650-8dc4-c61733dd27a0\n",
            "Enter PROJECT_NAME (default: 'agent-app'): \n",
            "Enter CLUSTER_NAME (default: 'agent-app-cluster'): \n",
            "Enter DB_USERNAME (default: 'agent_app_user'): \n",
            "Enter BUCKET_NAME (default: 'travel-sample'): \n",
            "Enter EMBEDDING_MODEL (default: 'nvidia/llama-3.2-nv-embedqa-1b-v2'): \n",
            "Enter LLM_MODEL (default: 'meta/llama3-8b-instruct'): \n",
            "\n",
            "✅ Configuration collected successfully!\n",
            "\n",
            "\n",
            "🔧 Step 2: Initializing Configuration\n",
            "----------------------------------------------------------------------\n",
            "✅ Configuration initialized\n",
            "\n",
            "\n",
            "🔌 Step 3: Initializing Client\n",
            "----------------------------------------------------------------------\n",
            "✅ Using Organization ID: 23086345-371f-4650-8dc4-c61733dd27a0\n",
            "\n",
            "\n",
            "🔍 Step 4: Testing API Connection\n",
            "----------------------------------------------------------------------\n"
          ]
        },
        {
          "data": {
            "text/html": [
              "<pre style=\"white-space:pre;overflow-x:auto;line-height:normal;font-family:Menlo,'DejaVu Sans Mono',consolas,'Courier New',monospace\"><span style=\"color: #000080; text-decoration-color: #000080; font-weight: bold\">🔍 Testing API connection...</span>\n",
              "</pre>\n"
            ],
            "text/plain": [
              "\u001b[1;34m🔍 Testing API connection\u001b[0m\u001b[1;34m...\u001b[0m\n"
            ]
          },
          "metadata": {},
          "output_type": "display_data"
        },
        {
          "data": {
            "text/html": [
              "<pre style=\"white-space:pre;overflow-x:auto;line-height:normal;font-family:Menlo,'DejaVu Sans Mono',consolas,'Courier New',monospace\">   Current IP: <span style=\"color: #808000; text-decoration-color: #808000; font-weight: bold\">34.75.196.19</span>\n",
              "</pre>\n"
            ],
            "text/plain": [
              "   Current IP: \u001b[1;33m34.75.196.19\u001b[0m\n"
            ]
          },
          "metadata": {},
          "output_type": "display_data"
        },
        {
          "data": {
            "text/html": [
              "<pre style=\"white-space:pre;overflow-x:auto;line-height:normal;font-family:Menlo,'DejaVu Sans Mono',consolas,'Courier New',monospace\">   API Base URL: <span style=\"color: #808000; text-decoration-color: #808000; text-decoration: underline\">https://cloudapi.sbx-29.sandbox.nonprod-project-avengers.com</span>\n",
              "</pre>\n"
            ],
            "text/plain": [
              "   API Base URL: \u001b[4;33mhttps://cloudapi.sbx-29.sandbox.nonprod-project-avengers.com\u001b[0m\n"
            ]
          },
          "metadata": {},
          "output_type": "display_data"
        },
        {
          "data": {
            "text/html": [
              "<pre style=\"white-space:pre;overflow-x:auto;line-height:normal;font-family:Menlo,'DejaVu Sans Mono',consolas,'Courier New',monospace\">   Organization ID: <span style=\"color: #808000; text-decoration-color: #808000\">23086345-371f-4650-8dc4-c61733dd27a0</span>\n",
              "</pre>\n"
            ],
            "text/plain": [
              "   Organization ID: \u001b[33m23086345-371f-4650-8dc4-c61733dd27a0\u001b[0m\n"
            ]
          },
          "metadata": {},
          "output_type": "display_data"
        },
        {
          "data": {
            "text/html": [
              "<pre style=\"white-space:pre;overflow-x:auto;line-height:normal;font-family:Menlo,'DejaVu Sans Mono',consolas,'Courier New',monospace\">   API Response Status: <span style=\"color: #808000; text-decoration-color: #808000; font-weight: bold\">200</span>\n",
              "</pre>\n"
            ],
            "text/plain": [
              "   API Response Status: \u001b[1;33m200\u001b[0m\n"
            ]
          },
          "metadata": {},
          "output_type": "display_data"
        },
        {
          "data": {
            "text/html": [
              "<pre style=\"white-space:pre;overflow-x:auto;line-height:normal;font-family:Menlo,'DejaVu Sans Mono',consolas,'Courier New',monospace\">   <span style=\"color: #008000; text-decoration-color: #008000\">✅ Authentication successful</span>\n",
              "</pre>\n"
            ],
            "text/plain": [
              "   \u001b[32m✅ Authentication successful\u001b[0m\n"
            ]
          },
          "metadata": {},
          "output_type": "display_data"
        },
        {
          "name": "stdout",
          "output_type": "stream",
          "text": [
            "✅ API connection successful\n",
            "\n",
            "\n",
            "📁 Step 5: Creating Capella Project\n",
            "----------------------------------------------------------------------\n"
          ]
        },
        {
          "data": {
            "text/html": [
              "<pre style=\"white-space:pre;overflow-x:auto;line-height:normal;font-family:Menlo,'DejaVu Sans Mono',consolas,'Courier New',monospace\">   Searching for project named <span style=\"color: #008000; text-decoration-color: #008000\">'</span><span style=\"color: #008080; text-decoration-color: #008080\">agent-app</span><span style=\"color: #008000; text-decoration-color: #008000\">'</span><span style=\"color: #808000; text-decoration-color: #808000\">...</span>\n",
              "</pre>\n"
            ],
            "text/plain": [
              "   Searching for project named \u001b[32m'\u001b[0m\u001b[36magent-app\u001b[0m\u001b[32m'\u001b[0m\u001b[33m...\u001b[0m\n"
            ]
          },
          "metadata": {},
          "output_type": "display_data"
        },
        {
          "data": {
            "text/html": [
              "<pre style=\"white-space:pre;overflow-x:auto;line-height:normal;font-family:Menlo,'DejaVu Sans Mono',consolas,'Courier New',monospace\"><span style=\"color: #008000; text-decoration-color: #008000\">✅ Found existing project.</span> Project ID: <span style=\"color: #008080; text-decoration-color: #008080\">e04136ef-4809-44fc-b703-0824e01655a4</span>\n",
              "</pre>\n"
            ],
            "text/plain": [
              "\u001b[32m✅ Found existing project.\u001b[0m Project ID: \u001b[36me04136ef-4809-44fc-b703-0824e01655a4\u001b[0m\n"
            ]
          },
          "metadata": {},
          "output_type": "display_data"
        },
        {
          "name": "stdout",
          "output_type": "stream",
          "text": [
            "✅ Project ready: agent-app (ID: e04136ef-4809-44fc-b703-0824e01655a4)\n",
            "\n",
            "\n",
            "☁️ Step 6: Creating Free Tier Cluster\n",
            "----------------------------------------------------------------------\n",
            "⏳ This will take 10-15 minutes for cluster deployment...\n",
            "\n"
          ]
        },
        {
          "data": {
            "text/html": [
              "<pre style=\"white-space:pre;overflow-x:auto;line-height:normal;font-family:Menlo,'DejaVu Sans Mono',consolas,'Courier New',monospace\">   Checking if cluster <span style=\"color: #008000; text-decoration-color: #008000\">'</span><span style=\"color: #008080; text-decoration-color: #008080\">agent-app-cluster</span><span style=\"color: #008000; text-decoration-color: #008000\">'</span> already exists<span style=\"color: #808000; text-decoration-color: #808000\">...</span>\n",
              "</pre>\n"
            ],
            "text/plain": [
              "   Checking if cluster \u001b[32m'\u001b[0m\u001b[36magent-app-cluster\u001b[0m\u001b[32m'\u001b[0m already exists\u001b[33m...\u001b[0m\n"
            ]
          },
          "metadata": {},
          "output_type": "display_data"
        },
        {
          "data": {
            "text/html": [
              "<pre style=\"white-space:pre;overflow-x:auto;line-height:normal;font-family:Menlo,'DejaVu Sans Mono',consolas,'Courier New',monospace\">   <span style=\"color: #008000; text-decoration-color: #008000\">✅ Cluster </span><span style=\"color: #008000; text-decoration-color: #008000\">'agent-app-cluster'</span><span style=\"color: #008000; text-decoration-color: #008000\"> already exists </span><span style=\"color: #008000; text-decoration-color: #008000; font-weight: bold\">(</span><span style=\"color: #008000; text-decoration-color: #008000\">Status: unknown</span><span style=\"color: #008000; text-decoration-color: #008000; font-weight: bold\">)</span><span style=\"color: #008000; text-decoration-color: #008000\">.</span> Cluster ID: \n",
              "<span style=\"color: #008080; text-decoration-color: #008080\">b82a6f7f-a9b3-470d-824a-c321d30ad5f4</span>\n",
              "</pre>\n"
            ],
            "text/plain": [
              "   \u001b[32m✅ Cluster \u001b[0m\u001b[32m'agent-app-cluster'\u001b[0m\u001b[32m already exists \u001b[0m\u001b[1;32m(\u001b[0m\u001b[32mStatus: unknown\u001b[0m\u001b[1;32m)\u001b[0m\u001b[32m.\u001b[0m Cluster ID: \n",
              "\u001b[36mb82a6f7f-a9b3-470d-824a-c321d30ad5f4\u001b[0m\n"
            ]
          },
          "metadata": {},
          "output_type": "display_data"
        },
        {
          "data": {
            "text/html": [
              "<pre style=\"white-space:pre;overflow-x:auto;line-height:normal;font-family:Menlo,'DejaVu Sans Mono',consolas,'Courier New',monospace\">   Waiting for Cluster to become ready<span style=\"color: #808000; text-decoration-color: #808000\">...</span> <span style=\"font-weight: bold\">(</span>no timeout, will wait indefinitely<span style=\"font-weight: bold\">)</span>\n",
              "</pre>\n"
            ],
            "text/plain": [
              "   Waiting for Cluster to become ready\u001b[33m...\u001b[0m \u001b[1m(\u001b[0mno timeout, will wait indefinitely\u001b[1m)\u001b[0m\n"
            ]
          },
          "metadata": {},
          "output_type": "display_data"
        },
        {
          "data": {
            "text/html": [
              "<pre style=\"white-space:pre;overflow-x:auto;line-height:normal;font-family:Menlo,'DejaVu Sans Mono',consolas,'Courier New',monospace\">   Current status: <span style=\"color: #808000; text-decoration-color: #808000\">healthy</span> <span style=\"font-weight: bold\">(</span>elapsed: 0s<span style=\"font-weight: bold\">)</span>\n",
              "</pre>\n"
            ],
            "text/plain": [
              "   Current status: \u001b[33mhealthy\u001b[0m \u001b[1m(\u001b[0melapsed: 0s\u001b[1m)\u001b[0m\n"
            ]
          },
          "metadata": {},
          "output_type": "display_data"
        },
        {
          "data": {
            "text/html": [
              "<pre style=\"white-space:pre;overflow-x:auto;line-height:normal;font-family:Menlo,'DejaVu Sans Mono',consolas,'Courier New',monospace\"><span style=\"color: #008000; text-decoration-color: #008000\">✅ Cluster is ready!</span>\n",
              "</pre>\n"
            ],
            "text/plain": [
              "\u001b[32m✅ Cluster is ready!\u001b[0m\n"
            ]
          },
          "metadata": {},
          "output_type": "display_data"
        },
        {
          "name": "stdout",
          "output_type": "stream",
          "text": [
            "⚠️  Added protocol to connection string: couchbases://cb.maggf6p2qyrvsjib.sandbox.nonprod-project-avengers.com\n",
            "✅ Cluster ready: agent-app-cluster (ID: b82a6f7f-a9b3-470d-824a-c321d30ad5f4)\n",
            "\n",
            "\n",
            "🌐 Step 7: Configuring Network Access\n",
            "----------------------------------------------------------------------\n"
          ]
        },
        {
          "data": {
            "text/html": [
              "<pre style=\"white-space:pre;overflow-x:auto;line-height:normal;font-family:Menlo,'DejaVu Sans Mono',consolas,'Courier New',monospace\">   Adding allowed CIDR <span style=\"color: #008080; text-decoration-color: #008080; font-weight: bold\">0.0.0.0</span><span style=\"color: #008080; text-decoration-color: #008080\">/</span><span style=\"color: #008080; text-decoration-color: #008080; font-weight: bold\">0</span> to cluster<span style=\"color: #808000; text-decoration-color: #808000\">...</span>\n",
              "</pre>\n"
            ],
            "text/plain": [
              "   Adding allowed CIDR \u001b[1;36m0.0.0.0\u001b[0m\u001b[36m/\u001b[0m\u001b[1;36m0\u001b[0m to cluster\u001b[33m...\u001b[0m\n"
            ]
          },
          "metadata": {},
          "output_type": "display_data"
        },
        {
          "data": {
            "text/html": [
              "<pre style=\"white-space:pre;overflow-x:auto;line-height:normal;font-family:Menlo,'DejaVu Sans Mono',consolas,'Courier New',monospace\">   Checking if CIDR already exists<span style=\"color: #808000; text-decoration-color: #808000\">...</span>\n",
              "</pre>\n"
            ],
            "text/plain": [
              "   Checking if CIDR already exists\u001b[33m...\u001b[0m\n"
            ]
          },
          "metadata": {},
          "output_type": "display_data"
        },
        {
          "data": {
            "text/html": [
              "<pre style=\"white-space:pre;overflow-x:auto;line-height:normal;font-family:Menlo,'DejaVu Sans Mono',consolas,'Courier New',monospace\">   <span style=\"color: #008000; text-decoration-color: #008000\">✅ CIDR </span><span style=\"color: #008000; text-decoration-color: #008000; font-weight: bold\">0.0.0.0</span><span style=\"color: #008000; text-decoration-color: #008000\">/</span><span style=\"color: #008000; text-decoration-color: #008000; font-weight: bold\">0</span><span style=\"color: #008000; text-decoration-color: #008000\"> already exists</span>\n",
              "</pre>\n"
            ],
            "text/plain": [
              "   \u001b[32m✅ CIDR \u001b[0m\u001b[1;32m0.0.0.0\u001b[0m\u001b[32m/\u001b[0m\u001b[1;32m0\u001b[0m\u001b[32m already exists\u001b[0m\n"
            ]
          },
          "metadata": {},
          "output_type": "display_data"
        },
        {
          "name": "stdout",
          "output_type": "stream",
          "text": [
            "✅ Network access configured (0.0.0.0/0 allowed)\n",
            "\n",
            "\n",
            "📦 Step 8: Loading travel-sample Bucket\n",
            "----------------------------------------------------------------------\n"
          ]
        },
        {
          "data": {
            "text/html": [
              "<pre style=\"white-space:pre;overflow-x:auto;line-height:normal;font-family:Menlo,'DejaVu Sans Mono',consolas,'Courier New',monospace\"><span style=\"color: #008000; text-decoration-color: #008000\">✅ `travel-sample` bucket load command accepted.</span>\n",
              "</pre>\n"
            ],
            "text/plain": [
              "\u001b[32m✅ `travel-sample` bucket load command accepted.\u001b[0m\n"
            ]
          },
          "metadata": {},
          "output_type": "display_data"
        },
        {
          "data": {
            "text/html": [
              "<pre style=\"white-space:pre;overflow-x:auto;line-height:normal;font-family:Menlo,'DejaVu Sans Mono',consolas,'Courier New',monospace\"><span style=\"color: #008000; text-decoration-color: #008000\">✅ `travel-sample` bucket is ready.</span>\n",
              "</pre>\n"
            ],
            "text/plain": [
              "\u001b[32m✅ `travel-sample` bucket is ready.\u001b[0m\n"
            ]
          },
          "metadata": {},
          "output_type": "display_data"
        },
        {
          "name": "stdout",
          "output_type": "stream",
          "text": [
            "✅ Sample data loaded: travel-sample\n",
            "\n",
            "\n",
            "👤 Step 9: Creating Database User\n",
            "----------------------------------------------------------------------\n"
          ]
        },
        {
          "data": {
            "text/html": [
              "<pre style=\"white-space:pre;overflow-x:auto;line-height:normal;font-family:Menlo,'DejaVu Sans Mono',consolas,'Courier New',monospace\">   Database user <span style=\"color: #008000; text-decoration-color: #008000\">'</span><span style=\"color: #008080; text-decoration-color: #008080\">agent_app_user</span><span style=\"color: #008000; text-decoration-color: #008000\">'</span> already exists. Deleting to recreate with new password<span style=\"color: #808000; text-decoration-color: #808000\">...</span>\n",
              "</pre>\n"
            ],
            "text/plain": [
              "   Database user \u001b[32m'\u001b[0m\u001b[36magent_app_user\u001b[0m\u001b[32m'\u001b[0m already exists. Deleting to recreate with new password\u001b[33m...\u001b[0m\n"
            ]
          },
          "metadata": {},
          "output_type": "display_data"
        },
        {
          "data": {
            "text/html": [
              "<pre style=\"white-space:pre;overflow-x:auto;line-height:normal;font-family:Menlo,'DejaVu Sans Mono',consolas,'Courier New',monospace\">   User <span style=\"color: #008000; text-decoration-color: #008000\">'</span><span style=\"color: #008080; text-decoration-color: #008080\">agent_app_user</span><span style=\"color: #008000; text-decoration-color: #008000\">'</span> deleted successfully.\n",
              "</pre>\n"
            ],
            "text/plain": [
              "   User \u001b[32m'\u001b[0m\u001b[36magent_app_user\u001b[0m\u001b[32m'\u001b[0m deleted successfully.\n"
            ]
          },
          "metadata": {},
          "output_type": "display_data"
        },
        {
          "data": {
            "text/html": [
              "<pre style=\"white-space:pre;overflow-x:auto;line-height:normal;font-family:Menlo,'DejaVu Sans Mono',consolas,'Courier New',monospace\">   Database user <span style=\"color: #008000; text-decoration-color: #008000\">'</span><span style=\"color: #008080; text-decoration-color: #008080\">agent_app_user</span><span style=\"color: #008000; text-decoration-color: #008000\">'</span> created successfully.\n",
              "</pre>\n"
            ],
            "text/plain": [
              "   Database user \u001b[32m'\u001b[0m\u001b[36magent_app_user\u001b[0m\u001b[32m'\u001b[0m created successfully.\n"
            ]
          },
          "metadata": {},
          "output_type": "display_data"
        },
        {
          "name": "stdout",
          "output_type": "stream",
          "text": [
            "✅ Database user created: agent_app_user\n",
            "\n",
            "   Auto-generated password: HlNd...pjvN\n",
            "\n",
            "\n",
            "🤖 Step 10: Deploying AI Models\n",
            "----------------------------------------------------------------------\n",
            "⏳ Deploying embedding and LLM models (5-10 minutes)...\n",
            "\n",
            "   Deploying embedding model...\n"
          ]
        },
        {
          "data": {
            "text/html": [
              "<pre style=\"white-space:pre;overflow-x:auto;line-height:normal;font-family:Menlo,'DejaVu Sans Mono',consolas,'Courier New',monospace\">   Checking if model <span style=\"color: #008000; text-decoration-color: #008000\">'</span><span style=\"color: #008080; text-decoration-color: #008080\">agent-hub-embedding-model</span><span style=\"color: #008000; text-decoration-color: #008000\">'</span> already exists<span style=\"color: #808000; text-decoration-color: #808000\">...</span>\n",
              "</pre>\n"
            ],
            "text/plain": [
              "   Checking if model \u001b[32m'\u001b[0m\u001b[36magent-hub-embedding-model\u001b[0m\u001b[32m'\u001b[0m already exists\u001b[33m...\u001b[0m\n"
            ]
          },
          "metadata": {},
          "output_type": "display_data"
        },
        {
          "data": {
            "text/html": [
              "<pre style=\"white-space:pre;overflow-x:auto;line-height:normal;font-family:Menlo,'DejaVu Sans Mono',consolas,'Courier New',monospace\">   Found <span style=\"color: #008080; text-decoration-color: #008080; font-weight: bold\">2</span> existing <span style=\"color: #800080; text-decoration-color: #800080; font-weight: bold\">model</span><span style=\"font-weight: bold\">(</span>s<span style=\"font-weight: bold\">)</span>.\n",
              "</pre>\n"
            ],
            "text/plain": [
              "   Found \u001b[1;36m2\u001b[0m existing \u001b[1;35mmodel\u001b[0m\u001b[1m(\u001b[0ms\u001b[1m)\u001b[0m.\n"
            ]
          },
          "metadata": {},
          "output_type": "display_data"
        },
        {
          "data": {
            "text/html": [
              "<pre style=\"white-space:pre;overflow-x:auto;line-height:normal;font-family:Menlo,'DejaVu Sans Mono',consolas,'Courier New',monospace\">   <span style=\"color: #008000; text-decoration-color: #008000\">✅ Model </span><span style=\"color: #008000; text-decoration-color: #008000\">'agent-hub-embedding-model'</span><span style=\"color: #008000; text-decoration-color: #008000\"> already exists </span><span style=\"color: #008000; text-decoration-color: #008000; font-weight: bold\">(</span><span style=\"color: #008000; text-decoration-color: #008000\">Status: healthy</span><span style=\"color: #008000; text-decoration-color: #008000; font-weight: bold\">)</span><span style=\"color: #008000; text-decoration-color: #008000\">.</span> Model ID: \n",
              "<span style=\"color: #008080; text-decoration-color: #008080\">22ffa6d6-87a3-45fd-905d-efb0c995ffa1</span>\n",
              "</pre>\n"
            ],
            "text/plain": [
              "   \u001b[32m✅ Model \u001b[0m\u001b[32m'agent-hub-embedding-model'\u001b[0m\u001b[32m already exists \u001b[0m\u001b[1;32m(\u001b[0m\u001b[32mStatus: healthy\u001b[0m\u001b[1;32m)\u001b[0m\u001b[32m.\u001b[0m Model ID: \n",
              "\u001b[36m22ffa6d6-87a3-45fd-905d-efb0c995ffa1\u001b[0m\n"
            ]
          },
          "metadata": {},
          "output_type": "display_data"
        },
        {
          "data": {
            "text/html": [
              "<pre style=\"white-space:pre;overflow-x:auto;line-height:normal;font-family:Menlo,'DejaVu Sans Mono',consolas,'Courier New',monospace\">   ✅ Model config matches. Reusing existing model.\n",
              "</pre>\n"
            ],
            "text/plain": [
              "   ✅ Model config matches. Reusing existing model.\n"
            ]
          },
          "metadata": {},
          "output_type": "display_data"
        },
        {
          "data": {
            "text/html": [
              "<pre style=\"white-space:pre;overflow-x:auto;line-height:normal;font-family:Menlo,'DejaVu Sans Mono',consolas,'Courier New',monospace\">   Waiting for Embedding Model to become ready<span style=\"color: #808000; text-decoration-color: #808000\">...</span> <span style=\"font-weight: bold\">(</span>no timeout, will wait indefinitely<span style=\"font-weight: bold\">)</span>\n",
              "</pre>\n"
            ],
            "text/plain": [
              "   Waiting for Embedding Model to become ready\u001b[33m...\u001b[0m \u001b[1m(\u001b[0mno timeout, will wait indefinitely\u001b[1m)\u001b[0m\n"
            ]
          },
          "metadata": {},
          "output_type": "display_data"
        },
        {
          "data": {
            "text/html": [
              "<pre style=\"white-space:pre;overflow-x:auto;line-height:normal;font-family:Menlo,'DejaVu Sans Mono',consolas,'Courier New',monospace\">   Current status: <span style=\"color: #808000; text-decoration-color: #808000\">healthy</span> <span style=\"font-weight: bold\">(</span>elapsed: 0s<span style=\"font-weight: bold\">)</span>\n",
              "</pre>\n"
            ],
            "text/plain": [
              "   Current status: \u001b[33mhealthy\u001b[0m \u001b[1m(\u001b[0melapsed: 0s\u001b[1m)\u001b[0m\n"
            ]
          },
          "metadata": {},
          "output_type": "display_data"
        },
        {
          "data": {
            "text/html": [
              "<pre style=\"white-space:pre;overflow-x:auto;line-height:normal;font-family:Menlo,'DejaVu Sans Mono',consolas,'Courier New',monospace\"><span style=\"color: #008000; text-decoration-color: #008000\">✅ Embedding Model is ready!</span>\n",
              "</pre>\n"
            ],
            "text/plain": [
              "\u001b[32m✅ Embedding Model is ready!\u001b[0m\n"
            ]
          },
          "metadata": {},
          "output_type": "display_data"
        },
        {
          "name": "stdout",
          "output_type": "stream",
          "text": [
            "✅ Embedding model deployed: nvidia/llama-3.2-nv-embedqa-1b-v2\n",
            "   Endpoint: https://agd6zdjymyanhi9g.ai.sandbox.nonprod-project-avengers.com\n",
            "\n",
            "   Deploying LLM model...\n"
          ]
        },
        {
          "data": {
            "text/html": [
              "<pre style=\"white-space:pre;overflow-x:auto;line-height:normal;font-family:Menlo,'DejaVu Sans Mono',consolas,'Courier New',monospace\">   Checking if model <span style=\"color: #008000; text-decoration-color: #008000\">'</span><span style=\"color: #008080; text-decoration-color: #008080\">agent-hub-llm-model</span><span style=\"color: #008000; text-decoration-color: #008000\">'</span> already exists<span style=\"color: #808000; text-decoration-color: #808000\">...</span>\n",
              "</pre>\n"
            ],
            "text/plain": [
              "   Checking if model \u001b[32m'\u001b[0m\u001b[36magent-hub-llm-model\u001b[0m\u001b[32m'\u001b[0m already exists\u001b[33m...\u001b[0m\n"
            ]
          },
          "metadata": {},
          "output_type": "display_data"
        },
        {
          "data": {
            "text/html": [
              "<pre style=\"white-space:pre;overflow-x:auto;line-height:normal;font-family:Menlo,'DejaVu Sans Mono',consolas,'Courier New',monospace\">   Found <span style=\"color: #008080; text-decoration-color: #008080; font-weight: bold\">2</span> existing <span style=\"color: #800080; text-decoration-color: #800080; font-weight: bold\">model</span><span style=\"font-weight: bold\">(</span>s<span style=\"font-weight: bold\">)</span>.\n",
              "</pre>\n"
            ],
            "text/plain": [
              "   Found \u001b[1;36m2\u001b[0m existing \u001b[1;35mmodel\u001b[0m\u001b[1m(\u001b[0ms\u001b[1m)\u001b[0m.\n"
            ]
          },
          "metadata": {},
          "output_type": "display_data"
        },
        {
          "data": {
            "text/html": [
              "<pre style=\"white-space:pre;overflow-x:auto;line-height:normal;font-family:Menlo,'DejaVu Sans Mono',consolas,'Courier New',monospace\">   <span style=\"color: #008000; text-decoration-color: #008000\">✅ Model </span><span style=\"color: #008000; text-decoration-color: #008000\">'agent-hub-llm-model'</span><span style=\"color: #008000; text-decoration-color: #008000\"> already exists </span><span style=\"color: #008000; text-decoration-color: #008000; font-weight: bold\">(</span><span style=\"color: #008000; text-decoration-color: #008000\">Status: healthy</span><span style=\"color: #008000; text-decoration-color: #008000; font-weight: bold\">)</span><span style=\"color: #008000; text-decoration-color: #008000\">.</span> Model ID: <span style=\"color: #008080; text-decoration-color: #008080\">122c445e-636d-48c9-a1b1-b41043b30d17</span>\n",
              "</pre>\n"
            ],
            "text/plain": [
              "   \u001b[32m✅ Model \u001b[0m\u001b[32m'agent-hub-llm-model'\u001b[0m\u001b[32m already exists \u001b[0m\u001b[1;32m(\u001b[0m\u001b[32mStatus: healthy\u001b[0m\u001b[1;32m)\u001b[0m\u001b[32m.\u001b[0m Model ID: \u001b[36m122c445e-636d-48c9-a1b1-b41043b30d17\u001b[0m\n"
            ]
          },
          "metadata": {},
          "output_type": "display_data"
        },
        {
          "data": {
            "text/html": [
              "<pre style=\"white-space:pre;overflow-x:auto;line-height:normal;font-family:Menlo,'DejaVu Sans Mono',consolas,'Courier New',monospace\">   ✅ Model config matches. Reusing existing model.\n",
              "</pre>\n"
            ],
            "text/plain": [
              "   ✅ Model config matches. Reusing existing model.\n"
            ]
          },
          "metadata": {},
          "output_type": "display_data"
        },
        {
          "data": {
            "text/html": [
              "<pre style=\"white-space:pre;overflow-x:auto;line-height:normal;font-family:Menlo,'DejaVu Sans Mono',consolas,'Courier New',monospace\">   Waiting for LLM Model to become ready<span style=\"color: #808000; text-decoration-color: #808000\">...</span> <span style=\"font-weight: bold\">(</span>no timeout, will wait indefinitely<span style=\"font-weight: bold\">)</span>\n",
              "</pre>\n"
            ],
            "text/plain": [
              "   Waiting for LLM Model to become ready\u001b[33m...\u001b[0m \u001b[1m(\u001b[0mno timeout, will wait indefinitely\u001b[1m)\u001b[0m\n"
            ]
          },
          "metadata": {},
          "output_type": "display_data"
        },
        {
          "data": {
            "text/html": [
              "<pre style=\"white-space:pre;overflow-x:auto;line-height:normal;font-family:Menlo,'DejaVu Sans Mono',consolas,'Courier New',monospace\">   Current status: <span style=\"color: #808000; text-decoration-color: #808000\">healthy</span> <span style=\"font-weight: bold\">(</span>elapsed: 0s<span style=\"font-weight: bold\">)</span>\n",
              "</pre>\n"
            ],
            "text/plain": [
              "   Current status: \u001b[33mhealthy\u001b[0m \u001b[1m(\u001b[0melapsed: 0s\u001b[1m)\u001b[0m\n"
            ]
          },
          "metadata": {},
          "output_type": "display_data"
        },
        {
          "data": {
            "text/html": [
              "<pre style=\"white-space:pre;overflow-x:auto;line-height:normal;font-family:Menlo,'DejaVu Sans Mono',consolas,'Courier New',monospace\"><span style=\"color: #008000; text-decoration-color: #008000\">✅ LLM Model is ready!</span>\n",
              "</pre>\n"
            ],
            "text/plain": [
              "\u001b[32m✅ LLM Model is ready!\u001b[0m\n"
            ]
          },
          "metadata": {},
          "output_type": "display_data"
        },
        {
          "name": "stdout",
          "output_type": "stream",
          "text": [
            "✅ LLM model deployed: meta/llama3-8b-instruct\n",
            "   Endpoint: https://agd6zdjymyanhi9g.ai.sandbox.nonprod-project-avengers.com\n",
            "\n",
            "\n",
            "🔑 Step 11: Creating API Key for AI Models\n",
            "----------------------------------------------------------------------\n"
          ]
        },
        {
          "data": {
            "text/html": [
              "<pre style=\"white-space:pre;overflow-x:auto;line-height:normal;font-family:Menlo,'DejaVu Sans Mono',consolas,'Courier New',monospace\">   Creating API key for models in region <span style=\"color: #008080; text-decoration-color: #008080\">us-east-</span><span style=\"color: #008080; text-decoration-color: #008080; font-weight: bold\">1</span><span style=\"color: #808000; text-decoration-color: #808000\">...</span>\n",
              "</pre>\n"
            ],
            "text/plain": [
              "   Creating API key for models in region \u001b[36mus-east-\u001b[0m\u001b[1;36m1\u001b[0m\u001b[33m...\u001b[0m\n"
            ]
          },
          "metadata": {},
          "output_type": "display_data"
        },
        {
          "data": {
            "text/html": [
              "<pre style=\"white-space:pre;overflow-x:auto;line-height:normal;font-family:Menlo,'DejaVu Sans Mono',consolas,'Courier New',monospace\"><span style=\"color: #008000; text-decoration-color: #008000\">✅ API key created successfully.</span>\n",
              "</pre>\n"
            ],
            "text/plain": [
              "\u001b[32m✅ API key created successfully.\u001b[0m\n"
            ]
          },
          "metadata": {},
          "output_type": "display_data"
        },
        {
          "data": {
            "text/html": [
              "<pre style=\"white-space:pre;overflow-x:auto;line-height:normal;font-family:Menlo,'DejaVu Sans Mono',consolas,'Courier New',monospace\">   Key ID: <span style=\"color: #008080; text-decoration-color: #008080\">de319a8d-7be6-5b82-9edb-1a9e1d1d1b90</span>\n",
              "</pre>\n"
            ],
            "text/plain": [
              "   Key ID: \u001b[36mde319a8d-7be6-5b82-9edb-1a9e1d1d1b90\u001b[0m\n"
            ]
          },
          "metadata": {},
          "output_type": "display_data"
        },
        {
          "data": {
            "text/html": [
              "<pre style=\"white-space:pre;overflow-x:auto;line-height:normal;font-family:Menlo,'DejaVu Sans Mono',consolas,'Courier New',monospace\">   Token: <span style=\"color: #008080; text-decoration-color: #008080\">cbsk-v1-SuvaicFXO72f...</span>\n",
              "</pre>\n"
            ],
            "text/plain": [
              "   Token: \u001b[36mcbsk-v1-SuvaicFXO72f\u001b[0m\u001b[36m...\u001b[0m\n"
            ]
          },
          "metadata": {},
          "output_type": "display_data"
        },
        {
          "name": "stdout",
          "output_type": "stream",
          "text": [
            "✅ AI API key created\n",
            "\n",
            "\n",
            "⚙️ Step 12: Setting Environment Variables\n",
            "----------------------------------------------------------------------\n",
            "✅ Environment variables configured:\n",
            "\n",
            "   CB_CONN_STRING: couchbases://cb.maggf6p2qyrvsjib.sandbox.nonprod-project-avengers.com\n",
            "   CB_USERNAME: agent_app_user\n",
            "   CB_BUCKET: travel-sample\n",
            "   CAPELLA_API_EMBEDDING_ENDPOINT: https://agd6zdjymyanhi9g.ai.sandbox.nonprod-project-avengers.com\n",
            "   CAPELLA_API_LLM_ENDPOINT: https://agd6zdjymyanhi9g.ai.sandbox.nonprod-project-avengers.com\n",
            "   CAPELLA_API_EMBEDDING_MODEL: nvidia/llama-3.2-nv-embedqa-1b-v2\n",
            "   CAPELLA_API_LLM_MODEL: meta/llama3-8b-instruct\n",
            "\n",
            "======================================================================\n",
            "✅ Infrastructure Setup Complete!\n",
            "======================================================================\n",
            "\n",
            "You can now run the hotel search agent cells below.\n",
            "\n"
          ]
        }
      ],
      "source": [
        "import os\n",
        "from getpass import getpass\n",
        "from pathlib import Path\n",
        "\n",
        "print(\"=\"*70)\n",
        "print(\"🚀 Couchbase Capella Infrastructure Setup\")\n",
        "print(\"=\"*70)\n",
        "print(\"\\nThis educational setup shows you how to provision Capella infrastructure\")\n",
        "print(\"step-by-step using the couchbase-infrastructure package.\\n\")\n",
        "\n",
        "# Import the infrastructure package\n",
        "from couchbase_infrastructure import CapellaConfig, CapellaClient\n",
        "from couchbase_infrastructure.resources import (\n",
        "    create_project,\n",
        "    create_developer_pro_cluster,\n",
        "    add_allowed_cidr,\n",
        "    load_sample_data,\n",
        "    create_database_user,\n",
        "    deploy_ai_model,\n",
        "    create_ai_api_key,\n",
        ")\n",
        "\n",
        "# Step 1: Load from .env file if available, then collect any missing credentials\n",
        "print(\"\\n📋 Step 1: Collecting Credentials\")\n",
        "print(\"-\"*70)\n",
        "\n",
        "# Try to load .env file\n",
        "env_file = Path('.env')\n",
        "if env_file.exists():\n",
        "    print(\"✅ Found .env file. Loading configuration...\\n\")\n",
        "    from dotenv import load_dotenv\n",
        "    load_dotenv('.env')\n",
        "else:\n",
        "    print(\"ℹ️  No .env file found. Will prompt for credentials.\\n\")\n",
        "\n",
        "print(\"Get your credentials from: https://cloud.couchbase.com → Settings → API Keys\\n\")\n",
        "\n",
        "# Required: MANAGEMENT_API_KEY\n",
        "management_api_key = os.getenv('MANAGEMENT_API_KEY')\n",
        "if management_api_key:\n",
        "    print(\"✅ Using MANAGEMENT_API_KEY from environment\")\n",
        "else:\n",
        "    management_api_key = getpass(\"Enter your MANAGEMENT_API_KEY (hidden): \")\n",
        "    if not management_api_key:\n",
        "        raise ValueError(\"MANAGEMENT_API_KEY is required!\")\n",
        "\n",
        "# Required: ORGANIZATION_ID\n",
        "organization_id = os.getenv('ORGANIZATION_ID')\n",
        "if organization_id:\n",
        "    print(f\"✅ Using ORGANIZATION_ID from environment: {organization_id}\")\n",
        "else:\n",
        "    organization_id = input(\"Enter your ORGANIZATION_ID (required): \").strip()\n",
        "    if not organization_id:\n",
        "        raise ValueError(\"ORGANIZATION_ID is required! Find it in Capella Console under Settings.\")\n",
        "\n",
        "# Optional configuration (use env vars if available, otherwise prompt with defaults)\n",
        "api_base_url = os.getenv('API_BASE_URL') or input(\"Enter API_BASE_URL (default: 'cloudapi.cloud.couchbase.com'): \").strip() or \"cloudapi.cloud.couchbase.com\"\n",
        "project_name = os.getenv('PROJECT_NAME') or input(\"Enter PROJECT_NAME (default: 'agent-app'): \").strip() or \"agent-app\"\n",
        "cluster_name = os.getenv('CLUSTER_NAME') or input(\"Enter CLUSTER_NAME (default: 'agent-app-cluster'): \").strip() or \"agent-app-cluster\"\n",
        "db_username = os.getenv('DB_USERNAME') or input(\"Enter DB_USERNAME (default: 'agent_app_user'): \").strip() or \"agent_app_user\"\n",
        "sample_bucket = os.getenv('SAMPLE_BUCKET') or input(\"Enter BUCKET_NAME (default: 'travel-sample'): \").strip() or \"travel-sample\"\n",
        "embedding_model = os.getenv('EMBEDDING_MODEL_NAME') or input(\"Enter EMBEDDING_MODEL (default: 'nvidia/llama-3.2-nv-embedqa-1b-v2'): \").strip() or \"nvidia/llama-3.2-nv-embedqa-1b-v2\"\n",
        "llm_model = os.getenv('LLM_MODEL_NAME') or input(\"Enter LLM_MODEL (default: 'meta/llama3-8b-instruct'): \").strip() or \"meta/llama3-8b-instruct\"\n",
        "\n",
        "print(\"\\n✅ Configuration collected successfully!\\n\")\n",
        "\n",
        "# Step 2: Initialize configuration\n",
        "print(\"\\n🔧 Step 2: Initializing Configuration\")\n",
        "print(\"-\"*70)\n",
        "config = CapellaConfig(\n",
        "    management_api_key=management_api_key,\n",
        "    organization_id=organization_id,\n",
        "    api_base_url=api_base_url,\n",
        "    project_name=project_name,\n",
        "    cluster_name=cluster_name,\n",
        "    db_username=db_username,\n",
        "    sample_bucket=sample_bucket,\n",
        "    embedding_model_name=embedding_model,\n",
        "    llm_model_name=llm_model,\n",
        ")\n",
        "print(\"✅ Configuration initialized\\n\")\n",
        "\n",
        "# Step 3: Initialize client and get organization ID\n",
        "print(\"\\n🔌 Step 3: Initializing Client\")\n",
        "print(\"-\"*70)\n",
        "client = CapellaClient(config)\n",
        "org_id = client.get_organization_id()\n",
        "print(f\"✅ Using Organization ID: {org_id}\\n\")\n",
        "\n",
        "# Step 4: Test API connection\n",
        "print(\"\\n🔍 Step 4: Testing API Connection\")\n",
        "print(\"-\"*70)\n",
        "if not client.test_connection(org_id):\n",
        "    raise ConnectionError(\"Failed to connect to Capella API\")\n",
        "print(\"✅ API connection successful\\n\")\n",
        "\n",
        "# Step 5: Create Capella Project\n",
        "print(\"\\n📁 Step 5: Creating Capella Project\")\n",
        "print(\"-\"*70)\n",
        "project_id = create_project(client, org_id, config.project_name)\n",
        "print(f\"✅ Project ready: {config.project_name} (ID: {project_id})\\n\")\n",
        "\n",
        "# Step 6: Create free-tier cluster\n",
        "print(\"\\n☁️ Step 6: Creating Free Tier Cluster\")\n",
        "print(\"-\"*70)\n",
        "print(\"⏳ This will take 10-15 minutes for cluster deployment...\\n\")\n",
        "cluster_id = create_developer_pro_cluster(client, org_id, project_id, config.cluster_name, config)\n",
        "# Wait for cluster to be ready\n",
        "cluster_check_url = f\"/v4/organizations/{org_id}/projects/{project_id}/clusters/{cluster_id}\"\n",
        "cluster_details = client.wait_for_resource(cluster_check_url, \"Cluster\", None)\n",
        "cluster_conn_string = cluster_details.get(\"connectionString\")\n",
        "\n",
        "# Ensure connection string has proper protocol\n",
        "if not cluster_conn_string.startswith(\"couchbase://\") and not cluster_conn_string.startswith(\"couchbases://\"):\n",
        "    cluster_conn_string = f\"couchbases://{cluster_conn_string}\"\n",
        "    print(f\"⚠️  Added protocol to connection string: {cluster_conn_string}\")\n",
        "\n",
        "print(f\"✅ Cluster ready: {config.cluster_name} (ID: {cluster_id})\\n\")\n",
        "\n",
        "# Step 7: Configure network access\n",
        "print(\"\\n🌐 Step 7: Configuring Network Access\")\n",
        "print(\"-\"*70)\n",
        "add_allowed_cidr(client, org_id, project_id, cluster_id, config.allowed_cidr)\n",
        "print(\"✅ Network access configured (0.0.0.0/0 allowed)\\n\")\n",
        "\n",
        "# Step 8: Load travel-sample bucket\n",
        "print(\"\\n📦 Step 8: Loading travel-sample Bucket\")\n",
        "print(\"-\"*70)\n",
        "load_sample_data(client, org_id, project_id, cluster_id, config.sample_bucket)\n",
        "print(f\"✅ Sample data loaded: {config.sample_bucket}\\n\")\n",
        "\n",
        "# Step 9: Create database user (password auto-generated)\n",
        "print(\"\\n👤 Step 9: Creating Database User\")\n",
        "print(\"-\"*70)\n",
        "db_password = create_database_user(\n",
        "    client,\n",
        "    org_id,\n",
        "    project_id,\n",
        "    cluster_id,\n",
        "    config.db_username,\n",
        "    config.sample_bucket,\n",
        "    recreate_if_exists=True,  # Delete and recreate if exists to get fresh password\n",
        ")\n",
        "print(f\"✅ Database user created: {config.db_username}\\n\")\n",
        "if db_password and db_password != \"existing_user_password_not_retrievable\":\n",
        "    print(f\"   Auto-generated password: {db_password[:4]}...{db_password[-4:]}\\n\")\n",
        "\n",
        "# Step 10: Deploy AI models\n",
        "print(\"\\n🤖 Step 10: Deploying AI Models\")\n",
        "print(\"-\"*70)\n",
        "print(\"⏳ Deploying embedding and LLM models (5-10 minutes)...\\n\")\n",
        "\n",
        "# Deploy Embedding Model\n",
        "print(\"   Deploying embedding model...\")\n",
        "embedding_model_id = deploy_ai_model(\n",
        "    client,\n",
        "    org_id,\n",
        "    config.embedding_model_name,\n",
        "    \"agent-hub-embedding-model\",\n",
        "    \"embedding\",\n",
        "    config,\n",
        ")\n",
        "embedding_check_url = f\"/v4/organizations/{org_id}/aiServices/models/{embedding_model_id}\"\n",
        "embedding_details = client.wait_for_resource(embedding_check_url, \"Embedding Model\", None)\n",
        "\n",
        "# Extract endpoint from nested 'model' object\n",
        "model_info = embedding_details.get(\"model\", {})\n",
        "embedding_endpoint = model_info.get(\"connectionString\", \"\")\n",
        "\n",
        "print(f\"✅ Embedding model deployed: {config.embedding_model_name}\")\n",
        "print(f\"   Endpoint: {embedding_endpoint}\\n\")\n",
        "\n",
        "# Deploy LLM Model\n",
        "print(\"   Deploying LLM model...\")\n",
        "llm_model_id = deploy_ai_model(\n",
        "    client,\n",
        "    org_id,\n",
        "    config.llm_model_name,\n",
        "    \"agent-hub-llm-model\",\n",
        "    \"llm\",\n",
        "    config,\n",
        ")\n",
        "llm_check_url = f\"/v4/organizations/{org_id}/aiServices/models/{llm_model_id}\"\n",
        "llm_details = client.wait_for_resource(llm_check_url, \"LLM Model\", None)\n",
        "\n",
        "# Extract endpoint from nested 'model' object\n",
        "llm_model_info = llm_details.get(\"model\", {})\n",
        "llm_endpoint = llm_model_info.get(\"connectionString\", \"\")\n",
        "\n",
        "print(f\"✅ LLM model deployed: {config.llm_model_name}\")\n",
        "print(f\"   Endpoint: {llm_endpoint}\\n\")\n",
        "\n",
        "# Step 11: Create API Key for AI models\n",
        "print(\"\\n🔑 Step 11: Creating API Key for AI Models\")\n",
        "print(\"-\"*70)\n",
        "api_key = create_ai_api_key(client, org_id, config.ai_model_region)\n",
        "print(f\"✅ AI API key created\\n\")\n",
        "\n",
        "# Step 12: Set environment variables\n",
        "print(\"\\n⚙️ Step 12: Setting Environment Variables\")\n",
        "print(\"-\"*70)\n",
        "\n",
        "# Set all environment variables for subsequent cells\n",
        "os.environ[\"CB_CONN_STRING\"] = cluster_conn_string + \"?tls_verify=none\"\n",
        "os.environ[\"CB_USERNAME\"] = config.db_username\n",
        "os.environ[\"CB_PASSWORD\"] = db_password\n",
        "os.environ[\"CB_BUCKET\"] = config.sample_bucket\n",
        "os.environ[\"CAPELLA_API_ENDPOINT\"] = embedding_endpoint  # Use as base endpoint\n",
        "os.environ[\"CAPELLA_API_EMBEDDING_ENDPOINT\"] = embedding_endpoint\n",
        "os.environ[\"CAPELLA_API_LLM_ENDPOINT\"] = llm_endpoint\n",
        "os.environ[\"CAPELLA_API_EMBEDDINGS_KEY\"] = api_key\n",
        "os.environ[\"CAPELLA_API_LLM_KEY\"] = api_key\n",
        "os.environ[\"CAPELLA_API_EMBEDDING_MODEL\"] = config.embedding_model_name\n",
        "os.environ[\"CAPELLA_API_LLM_MODEL\"] = config.llm_model_name\n",
        "\n",
        "print(\"✅ Environment variables configured:\\n\")\n",
        "print(f\"   CB_CONN_STRING: {cluster_conn_string}\")\n",
        "print(f\"   CB_USERNAME: {config.db_username}\")\n",
        "print(f\"   CB_BUCKET: {config.sample_bucket}\")\n",
        "print(f\"   CAPELLA_API_EMBEDDING_ENDPOINT: {embedding_endpoint}\")\n",
        "print(f\"   CAPELLA_API_LLM_ENDPOINT: {llm_endpoint}\")\n",
        "print(f\"   CAPELLA_API_EMBEDDING_MODEL: {config.embedding_model_name}\")\n",
        "print(f\"   CAPELLA_API_LLM_MODEL: {config.llm_model_name}\")\n",
        "\n",
        "print(\"\\n\" + \"=\"*70)\n",
        "print(\"✅ Infrastructure Setup Complete!\")\n",
        "print(\"=\"*70)\n",
        "print(\"\\nYou can now run the hotel search agent cells below.\\n\")\n"
      ]
    },
    {
      "cell_type": "code",
      "execution_count": 7,
      "metadata": {
        "colab": {
          "base_uri": "https://localhost:8080/",
          "height": 582
        },
        "id": "ciLc6W0dyMLB",
        "outputId": "65c17e02-ae9e-4b7b-fe79-7cd1bd14d3aa"
      },
      "outputs": [
        {
          "name": "stdout",
          "output_type": "stream",
          "text": [
            "✅ Agent Catalog environment variables set:\n",
            "   AGENT_CATALOG_CONN_STRING: couchbases://cb.maggf6p2qyrvsjib.sandbox.nonprod-project-avengers.com\n",
            "   AGENT_CATALOG_USERNAME: agent_app_user\n",
            "   AGENT_CATALOG_BUCKET: travel-sample\n",
            "\n",
            "======================================================================\n",
            "📜 Root Certificate Setup\n",
            "======================================================================\n",
            "\n",
            "⚠️  IMPORTANT: You need to download the root certificate from Capella UI\n",
            "\n",
            "Steps:\n",
            "1. Go to Capella Console: https://cloud.couchbase.com\n",
            "2. Navigate to your cluster → Connect tab\n",
            "3. Download the 'Root Certificate' file\n",
            "4. Upload it using the file upload below\n",
            "\n",
            "📤 Please upload your root certificate file:\n"
          ]
        },
        {
          "data": {
            "text/html": [
              "\n",
              "     <input type=\"file\" id=\"files-b13be039-73ba-4406-b24b-5fdab15805cf\" name=\"files[]\" multiple disabled\n",
              "        style=\"border:none\" />\n",
              "     <output id=\"result-b13be039-73ba-4406-b24b-5fdab15805cf\">\n",
              "      Upload widget is only available when the cell has been executed in the\n",
              "      current browser session. Please rerun this cell to enable.\n",
              "      </output>\n",
              "      <script>// Copyright 2017 Google LLC\n",
              "//\n",
              "// Licensed under the Apache License, Version 2.0 (the \"License\");\n",
              "// you may not use this file except in compliance with the License.\n",
              "// You may obtain a copy of the License at\n",
              "//\n",
              "//      http://www.apache.org/licenses/LICENSE-2.0\n",
              "//\n",
              "// Unless required by applicable law or agreed to in writing, software\n",
              "// distributed under the License is distributed on an \"AS IS\" BASIS,\n",
              "// WITHOUT WARRANTIES OR CONDITIONS OF ANY KIND, either express or implied.\n",
              "// See the License for the specific language governing permissions and\n",
              "// limitations under the License.\n",
              "\n",
              "/**\n",
              " * @fileoverview Helpers for google.colab Python module.\n",
              " */\n",
              "(function(scope) {\n",
              "function span(text, styleAttributes = {}) {\n",
              "  const element = document.createElement('span');\n",
              "  element.textContent = text;\n",
              "  for (const key of Object.keys(styleAttributes)) {\n",
              "    element.style[key] = styleAttributes[key];\n",
              "  }\n",
              "  return element;\n",
              "}\n",
              "\n",
              "// Max number of bytes which will be uploaded at a time.\n",
              "const MAX_PAYLOAD_SIZE = 100 * 1024;\n",
              "\n",
              "function _uploadFiles(inputId, outputId) {\n",
              "  const steps = uploadFilesStep(inputId, outputId);\n",
              "  const outputElement = document.getElementById(outputId);\n",
              "  // Cache steps on the outputElement to make it available for the next call\n",
              "  // to uploadFilesContinue from Python.\n",
              "  outputElement.steps = steps;\n",
              "\n",
              "  return _uploadFilesContinue(outputId);\n",
              "}\n",
              "\n",
              "// This is roughly an async generator (not supported in the browser yet),\n",
              "// where there are multiple asynchronous steps and the Python side is going\n",
              "// to poll for completion of each step.\n",
              "// This uses a Promise to block the python side on completion of each step,\n",
              "// then passes the result of the previous step as the input to the next step.\n",
              "function _uploadFilesContinue(outputId) {\n",
              "  const outputElement = document.getElementById(outputId);\n",
              "  const steps = outputElement.steps;\n",
              "\n",
              "  const next = steps.next(outputElement.lastPromiseValue);\n",
              "  return Promise.resolve(next.value.promise).then((value) => {\n",
              "    // Cache the last promise value to make it available to the next\n",
              "    // step of the generator.\n",
              "    outputElement.lastPromiseValue = value;\n",
              "    return next.value.response;\n",
              "  });\n",
              "}\n",
              "\n",
              "/**\n",
              " * Generator function which is called between each async step of the upload\n",
              " * process.\n",
              " * @param {string} inputId Element ID of the input file picker element.\n",
              " * @param {string} outputId Element ID of the output display.\n",
              " * @return {!Iterable<!Object>} Iterable of next steps.\n",
              " */\n",
              "function* uploadFilesStep(inputId, outputId) {\n",
              "  const inputElement = document.getElementById(inputId);\n",
              "  inputElement.disabled = false;\n",
              "\n",
              "  const outputElement = document.getElementById(outputId);\n",
              "  outputElement.innerHTML = '';\n",
              "\n",
              "  const pickedPromise = new Promise((resolve) => {\n",
              "    inputElement.addEventListener('change', (e) => {\n",
              "      resolve(e.target.files);\n",
              "    });\n",
              "  });\n",
              "\n",
              "  const cancel = document.createElement('button');\n",
              "  inputElement.parentElement.appendChild(cancel);\n",
              "  cancel.textContent = 'Cancel upload';\n",
              "  const cancelPromise = new Promise((resolve) => {\n",
              "    cancel.onclick = () => {\n",
              "      resolve(null);\n",
              "    };\n",
              "  });\n",
              "\n",
              "  // Wait for the user to pick the files.\n",
              "  const files = yield {\n",
              "    promise: Promise.race([pickedPromise, cancelPromise]),\n",
              "    response: {\n",
              "      action: 'starting',\n",
              "    }\n",
              "  };\n",
              "\n",
              "  cancel.remove();\n",
              "\n",
              "  // Disable the input element since further picks are not allowed.\n",
              "  inputElement.disabled = true;\n",
              "\n",
              "  if (!files) {\n",
              "    return {\n",
              "      response: {\n",
              "        action: 'complete',\n",
              "      }\n",
              "    };\n",
              "  }\n",
              "\n",
              "  for (const file of files) {\n",
              "    const li = document.createElement('li');\n",
              "    li.append(span(file.name, {fontWeight: 'bold'}));\n",
              "    li.append(span(\n",
              "        `(${file.type || 'n/a'}) - ${file.size} bytes, ` +\n",
              "        `last modified: ${\n",
              "            file.lastModifiedDate ? file.lastModifiedDate.toLocaleDateString() :\n",
              "                                    'n/a'} - `));\n",
              "    const percent = span('0% done');\n",
              "    li.appendChild(percent);\n",
              "\n",
              "    outputElement.appendChild(li);\n",
              "\n",
              "    const fileDataPromise = new Promise((resolve) => {\n",
              "      const reader = new FileReader();\n",
              "      reader.onload = (e) => {\n",
              "        resolve(e.target.result);\n",
              "      };\n",
              "      reader.readAsArrayBuffer(file);\n",
              "    });\n",
              "    // Wait for the data to be ready.\n",
              "    let fileData = yield {\n",
              "      promise: fileDataPromise,\n",
              "      response: {\n",
              "        action: 'continue',\n",
              "      }\n",
              "    };\n",
              "\n",
              "    // Use a chunked sending to avoid message size limits. See b/62115660.\n",
              "    let position = 0;\n",
              "    do {\n",
              "      const length = Math.min(fileData.byteLength - position, MAX_PAYLOAD_SIZE);\n",
              "      const chunk = new Uint8Array(fileData, position, length);\n",
              "      position += length;\n",
              "\n",
              "      const base64 = btoa(String.fromCharCode.apply(null, chunk));\n",
              "      yield {\n",
              "        response: {\n",
              "          action: 'append',\n",
              "          file: file.name,\n",
              "          data: base64,\n",
              "        },\n",
              "      };\n",
              "\n",
              "      let percentDone = fileData.byteLength === 0 ?\n",
              "          100 :\n",
              "          Math.round((position / fileData.byteLength) * 100);\n",
              "      percent.textContent = `${percentDone}% done`;\n",
              "\n",
              "    } while (position < fileData.byteLength);\n",
              "  }\n",
              "\n",
              "  // All done.\n",
              "  yield {\n",
              "    response: {\n",
              "      action: 'complete',\n",
              "    }\n",
              "  };\n",
              "}\n",
              "\n",
              "scope.google = scope.google || {};\n",
              "scope.google.colab = scope.google.colab || {};\n",
              "scope.google.colab._files = {\n",
              "  _uploadFiles,\n",
              "  _uploadFilesContinue,\n",
              "};\n",
              "})(self);\n",
              "</script> "
            ],
            "text/plain": [
              "<IPython.core.display.HTML object>"
            ]
          },
          "metadata": {},
          "output_type": "display_data"
        },
        {
          "name": "stdout",
          "output_type": "stream",
          "text": [
            "Saving agent-app-cluster-root-certificate.txt to agent-app-cluster-root-certificate (1).txt\n",
            "\n",
            "✅ Root certificate uploaded: agent-app-cluster-root-certificate (1).txt\n",
            "   AGENT_CATALOG_CONN_ROOT_CERTIFICATE: agent-app-cluster-root-certificate (1).txt\n",
            "\n",
            "======================================================================\n",
            "✅ Agent Catalog Configuration Complete\n",
            "======================================================================\n",
            "\n",
            "✅ Environment variables written to .env file for agentc commands\n"
          ]
        }
      ],
      "source": [
        "# Set Agent Catalog environment variables (required for agentc commands)\n",
        "# These use the same Couchbase connection created above\n",
        "import os\n",
        "\n",
        "# Strip TLS parameters from connection string for Agent Catalog\n",
        "agent_catalog_conn_string = os.environ[\"CB_CONN_STRING\"].split(\"?\")[0]\n",
        "os.environ[\"AGENT_CATALOG_CONN_STRING\"] = agent_catalog_conn_string\n",
        "os.environ[\"AGENT_CATALOG_USERNAME\"] = os.environ[\"CB_USERNAME\"]\n",
        "os.environ[\"AGENT_CATALOG_PASSWORD\"] = os.environ[\"CB_PASSWORD\"]\n",
        "os.environ[\"AGENT_CATALOG_BUCKET\"] = os.environ[\"CB_BUCKET\"]\n",
        "\n",
        "print(\"✅ Agent Catalog environment variables set:\")\n",
        "print(f\"   AGENT_CATALOG_CONN_STRING: {os.environ['AGENT_CATALOG_CONN_STRING']}\")\n",
        "print(f\"   AGENT_CATALOG_USERNAME: {os.environ['AGENT_CATALOG_USERNAME']}\")\n",
        "print(f\"   AGENT_CATALOG_BUCKET: {os.environ['AGENT_CATALOG_BUCKET']}\")\n",
        "\n",
        "# Handle root certificate (required for secure connections)\n",
        "print(\"\\n\" + \"=\"*70)\n",
        "print(\"📜 Root Certificate Setup\")\n",
        "print(\"=\"*70)\n",
        "print(\"\\n⚠️  IMPORTANT: You need to download the root certificate from Capella UI\")\n",
        "print(\"\\nSteps:\")\n",
        "print(\"1. Go to Capella Console: https://cloud.couchbase.com\")\n",
        "print(\"2. Navigate to your cluster → Connect tab\")\n",
        "print(\"3. Download the 'Root Certificate' file\")\n",
        "print(\"4. Upload it using the file upload below\\n\")\n",
        "\n",
        "# Try to use Google Colab's file upload, fallback to manual input\n",
        "try:\n",
        "    from google.colab import files\n",
        "    print(\"📤 Please upload your root certificate file:\")\n",
        "    uploaded = files.upload()\n",
        "\n",
        "    if uploaded:\n",
        "        cert_filename = list(uploaded.keys())[0]\n",
        "        # Validate it's actually a certificate file\n",
        "        if cert_filename.endswith(('.pem', '.crt', '.cer', '.txt')):\n",
        "            os.environ[\"AGENT_CATALOG_CONN_ROOT_CERTIFICATE\"] = cert_filename\n",
        "            print(f\"\\n✅ Root certificate uploaded: {cert_filename}\")\n",
        "            print(f\"   AGENT_CATALOG_CONN_ROOT_CERTIFICATE: {cert_filename}\")\n",
        "        else:\n",
        "            print(f\"\\n⚠️  Uploaded file '{cert_filename}' doesn't appear to be a certificate (.pem, .crt, .cer, .txt)\")\n",
        "            print(\"   Skipping certificate setup. You can configure it later if needed.\")\n",
        "            os.environ[\"AGENT_CATALOG_CONN_ROOT_CERTIFICATE\"] = \"\"\n",
        "    else:\n",
        "        print(\"\\n⚠️  No file uploaded. You can set it manually later if needed.\")\n",
        "        os.environ[\"AGENT_CATALOG_CONN_ROOT_CERTIFICATE\"] = \"\"\n",
        "except ImportError:\n",
        "    # Not in Colab - ask user to place file and provide filename\n",
        "    print(\"📝 Not running in Google Colab.\")\n",
        "    print(\"   Please place the root certificate file in the current directory.\\n\")\n",
        "    cert_filename = input(\"Enter the certificate filename (or press Enter to skip): \").strip()\n",
        "\n",
        "    if cert_filename:\n",
        "        os.environ[\"AGENT_CATALOG_CONN_ROOT_CERTIFICATE\"] = cert_filename\n",
        "        print(f\"\\n✅ Root certificate set: {cert_filename}\")\n",
        "    else:\n",
        "        print(\"\\n⚠️  Root certificate not set. You can add it manually later if needed.\")\n",
        "        os.environ[\"AGENT_CATALOG_CONN_ROOT_CERTIFICATE\"] = \"\"\n",
        "\n",
        "print(\"\\n\" + \"=\"*70)\n",
        "print(\"✅ Agent Catalog Configuration Complete\")\n",
        "print(\"=\"*70)\n",
        "\n",
        "# Write environment variables to .env file for agentc commands\n",
        "# agentc CLI will load from .env file automatically\n",
        "import os.path\n",
        "with open('.env', 'w') as f:\n",
        "    # Couchbase-specific environment variables (for the travel-agent example tools)\n",
        "    f.write(f\"CB_CONN_STRING={os.environ['CB_CONN_STRING']}\\n\")\n",
        "    f.write(f\"CB_USERNAME={os.environ['CB_USERNAME']}\\n\")\n",
        "    f.write(f\"CB_PASSWORD={os.environ['CB_PASSWORD']}\\n\")\n",
        "    f.write(f\"CB_BUCKET={os.environ['CB_BUCKET']}\\n\")\n",
        "    f.write(f\"CB_SCOPE={os.environ.get('CB_SCOPE', 'agentc_data')}\\n\")\n",
        "    f.write(f\"CB_COLLECTION={os.environ.get('CB_COLLECTION', 'hotel_data')}\\n\")\n",
        "    f.write(f\"CB_INDEX={os.environ.get('CB_INDEX', 'hotel_data_index')}\\n\")\n",
        "    f.write(\"\\n\")\n",
        "\n",
        "    # Capella AI API variables\n",
        "    f.write(f\"CAPELLA_API_ENDPOINT={os.environ.get('CAPELLA_API_ENDPOINT', '')}\\n\")\n",
        "    f.write(f\"CAPELLA_API_EMBEDDING_MODEL={os.environ.get('CAPELLA_API_EMBEDDING_MODEL', '')}\\n\")\n",
        "    f.write(f\"CAPELLA_API_EMBEDDINGS_KEY={os.environ.get('CAPELLA_API_EMBEDDINGS_KEY', '')}\\n\")\n",
        "    f.write(f\"CAPELLA_API_LLM_MODEL={os.environ.get('CAPELLA_API_LLM_MODEL', '')}\\n\")\n",
        "    f.write(f\"CAPELLA_API_LLM_KEY={os.environ.get('CAPELLA_API_LLM_KEY', '')}\\n\")\n",
        "    f.write(\"\\n\")\n",
        "\n",
        "    # Agent Catalog Configuration\n",
        "    f.write(f\"AGENT_CATALOG_CONN_STRING={os.environ['AGENT_CATALOG_CONN_STRING']}\\n\")\n",
        "    f.write(f\"AGENT_CATALOG_USERNAME={os.environ['AGENT_CATALOG_USERNAME']}\\n\")\n",
        "    f.write(f\"AGENT_CATALOG_PASSWORD={os.environ['AGENT_CATALOG_PASSWORD']}\\n\")\n",
        "    f.write(f\"AGENT_CATALOG_BUCKET={os.environ['AGENT_CATALOG_BUCKET']}\\n\")\n",
        "\n",
        "    # Write certificate if set\n",
        "    cert = os.environ.get('AGENT_CATALOG_CONN_ROOT_CERTIFICATE', '').strip()\n",
        "    if cert:\n",
        "        f.write(f\"AGENT_CATALOG_CONN_ROOT_CERTIFICATE={cert}\\n\")\n",
        "\n",
        "print(\"\\n✅ Environment variables written to .env file for agentc commands\")\n"
      ]
    },
    {
      "cell_type": "markdown",
      "metadata": {
        "id": "9o8nYXX1yMLC"
      },
      "source": [
        "### Optional: Configure OpenAI and Arize (Observability)\n",
        "\n",
        "Provide optional API keys for:\n",
        "- **OpenAI**: Fallback LLM/embeddings if Capella AI is unavailable\n",
        "- **Arize Phoenix**: Observability and evaluation platform"
      ]
    },
    {
      "cell_type": "code",
      "execution_count": 8,
      "metadata": {
        "colab": {
          "base_uri": "https://localhost:8080/"
        },
        "id": "BeP8_ALnyMLC",
        "outputId": "b7d168ea-d5c4-40d6-dcd8-510343dda093"
      },
      "outputs": [
        {
          "name": "stdout",
          "output_type": "stream",
          "text": [
            "======================================================================\n",
            "🔧 Optional API Keys Configuration\n",
            "======================================================================\n",
            "\n",
            "📝 OpenAI API (Optional - for fallback LLM/embeddings)\n",
            "----------------------------------------------------------------------\n",
            "Press Enter to skip, or provide your OpenAI API key:\n",
            "OpenAI API Key: ··········\n",
            "✅ OpenAI API key configured\n",
            "   Model: gpt-4o\n",
            "\n",
            "📊 Arize Phoenix (Optional - for observability and evaluation)\n",
            "----------------------------------------------------------------------\n",
            "Press Enter to skip, or provide your Arize credentials:\n",
            "Arize Space ID: ··········\n",
            "Arize API Key: ··········\n",
            "✅ Arize Phoenix configured\n",
            "\n",
            "======================================================================\n",
            "✅ Optional Configuration Complete\n",
            "======================================================================\n"
          ]
        }
      ],
      "source": [
        "import os\n",
        "import getpass\n",
        "\n",
        "print(\"=\"*70)\n",
        "print(\"🔧 Optional API Keys Configuration\")\n",
        "print(\"=\"*70)\n",
        "\n",
        "# OpenAI Configuration (optional - for fallback)\n",
        "print(\"\\n📝 OpenAI API (Optional - for fallback LLM/embeddings)\")\n",
        "print(\"-\"*70)\n",
        "print(\"Press Enter to skip, or provide your OpenAI API key:\")\n",
        "try:\n",
        "    openai_api_key = getpass.getpass(\"OpenAI API Key: \").strip()\n",
        "except:\n",
        "    # Fallback for environments where getpass doesn't work\n",
        "    openai_api_key = \"\"\n",
        "\n",
        "if openai_api_key:\n",
        "    os.environ[\"OPENAI_API_KEY\"] = openai_api_key\n",
        "    os.environ[\"OPENAI_MODEL\"] = \"gpt-4o\"  # Default model\n",
        "    print(\"✅ OpenAI API key configured\")\n",
        "    print(f\"   Model: gpt-4o\")\n",
        "else:\n",
        "    print(\"⏭️  Skipped OpenAI configuration (will use Capella AI only)\")\n",
        "    os.environ[\"OPENAI_API_KEY\"] = \"\"\n",
        "    os.environ[\"OPENAI_MODEL\"] = \"gpt-4o\"\n",
        "\n",
        "# Arize Phoenix Configuration (optional - for observability)\n",
        "print(\"\\n📊 Arize Phoenix (Optional - for observability and evaluation)\")\n",
        "print(\"-\"*70)\n",
        "print(\"Press Enter to skip, or provide your Arize credentials:\")\n",
        "try:\n",
        "    arize_space_id = getpass.getpass(\"Arize Space ID: \").strip()\n",
        "    arize_api_key = getpass.getpass(\"Arize API Key: \").strip() if arize_space_id else \"\"\n",
        "except:\n",
        "    # Fallback for environments where getpass doesn't work\n",
        "    arize_space_id = \"\"\n",
        "    arize_api_key = \"\"\n",
        "\n",
        "if arize_space_id and arize_api_key:\n",
        "    os.environ[\"ARIZE_SPACE_ID\"] = arize_space_id\n",
        "    os.environ[\"ARIZE_API_KEY\"] = arize_api_key\n",
        "    print(\"✅ Arize Phoenix configured\")\n",
        "else:\n",
        "    print(\"⏭️  Skipped Arize configuration (observability disabled)\")\n",
        "    os.environ[\"ARIZE_SPACE_ID\"] = \"\"\n",
        "    os.environ[\"ARIZE_API_KEY\"] = \"\"\n",
        "\n",
        "# Append optional variables to .env file\n",
        "with open('.env', 'a') as f:\n",
        "    f.write(\"\\n# Optional: OpenAI Configuration (fallback LLM/embeddings)\\n\")\n",
        "    f.write(f\"OPENAI_API_KEY={os.environ['OPENAI_API_KEY']}\\n\")\n",
        "    f.write(f\"OPENAI_MODEL={os.environ['OPENAI_MODEL']}\\n\")\n",
        "\n",
        "    f.write(\"\\n# Optional: Arize Phoenix (observability and evaluation)\\n\")\n",
        "    f.write(f\"ARIZE_SPACE_ID={os.environ['ARIZE_SPACE_ID']}\\n\")\n",
        "    f.write(f\"ARIZE_API_KEY={os.environ['ARIZE_API_KEY']}\\n\")\n",
        "\n",
        "print(\"\\n\" + \"=\"*70)\n",
        "print(\"✅ Optional Configuration Complete\")\n",
        "print(\"=\"*70)\n"
      ]
    },
    {
      "cell_type": "code",
      "execution_count": 9,
      "metadata": {
        "colab": {
          "base_uri": "https://localhost:8080/"
        },
        "id": "fz3tFE9YyMLC",
        "outputId": "b9385334-55ed-43c6-a9ec-67f2fa7af12d"
      },
      "outputs": [
        {
          "name": "stdout",
          "output_type": "stream",
          "text": [
            "Reinitialized existing Git repository in /content/.git/\n"
          ]
        }
      ],
      "source": [
        "!git init\n"
      ]
    },
    {
      "cell_type": "code",
      "execution_count": 10,
      "metadata": {
        "colab": {
          "base_uri": "https://localhost:8080/"
        },
        "id": "YNSCyiC5yMLC",
        "outputId": "9d0ddce2-748d-40e6-a8fd-e31177dd3c6d"
      },
      "outputs": [
        {
          "name": "stdout",
          "output_type": "stream",
          "text": [
            "\u001b[33mWARNING: No action taken. No source directories have been specified. Please use the command 'agentc index --help' for more information.\u001b[0m\n",
            "\u001b[95m\u001b[0m\n",
            "\u001b[95m\u001b[1mTOOL\u001b[0m\n",
            "\u001b[95m\u001b[0m\n",
            "Using the catalog identifier: \u001b[0m\u001b[1m9bdf8d186255e1f13a128c825d2261b2ccabcd15\n",
            "\u001b[0m\n",
            "\u001b[33mUploading the tool catalog items to Couchbase.\u001b[0m\n",
            "search_vector_database: 100% 1/1 [00:00<00:00, 25.14it/s]\n",
            "\u001b[32mTool catalog items successfully uploaded to Couchbase!\n",
            "\u001b[0m\n",
            "\u001b[34m\u001b[0m\n",
            "\u001b[34m\u001b[1mPROMPT\u001b[0m\n",
            "\u001b[34m\u001b[0m\n",
            "Using the catalog identifier: \u001b[0m\u001b[1m9bdf8d186255e1f13a128c825d2261b2ccabcd15\n",
            "\u001b[0m\n",
            "\u001b[33mUploading the prompt catalog items to Couchbase.\u001b[0m\n",
            "hotel_search_assistant: 100% 1/1 [00:00<00:00, 25.41it/s]\n",
            "\u001b[32mPrompt catalog items successfully uploaded to Couchbase!\n",
            "\u001b[0m\n",
            "[master 47a6185] initial commit\n",
            " 43 files changed, 30882 insertions(+), 5 deletions(-)\n",
            " create mode 100644 .agent-activity/activity.log\n",
            " create mode 100644 .agent-catalog/prompts.json\n",
            " create mode 100644 .agent-catalog/tools.json\n",
            " create mode 100644 .model-cache/.locks/models--sentence-transformers--all-MiniLM-L12-v2/160e50cfb71e8ec988666144435831d7257cd3b8.lock\n",
            " create mode 100644 .model-cache/.locks/models--sentence-transformers--all-MiniLM-L12-v2/5fd10429389515d3e5cccdeda08cae5fea1ae82e.lock\n",
            " create mode 100644 .model-cache/.locks/models--sentence-transformers--all-MiniLM-L12-v2/952a9b81c0bfd99800fabf352f69c7ccd46c5e43.lock\n",
            " create mode 100644 .model-cache/.locks/models--sentence-transformers--all-MiniLM-L12-v2/997449989924d15c7b98619a97c899740c99854d.lock\n",
            " create mode 100644 .model-cache/.locks/models--sentence-transformers--all-MiniLM-L12-v2/a66291c4cc79886015856e9282a39fc4470c7d90.lock\n",
            " create mode 100644 .model-cache/.locks/models--sentence-transformers--all-MiniLM-L12-v2/cb202bfe2e3c98645018a6d12f182a434c9d3e02.lock\n",
            " create mode 100644 .model-cache/.locks/models--sentence-transformers--all-MiniLM-L12-v2/d1514c3162bbe87b343f565fadc62e6c06f04f03.lock\n",
            " create mode 100644 .model-cache/.locks/models--sentence-transformers--all-MiniLM-L12-v2/d2d541e5f101695ae495eacd867a8d025ecfe8f9674fb23aa6cf93cdb60a5542.lock\n",
            " create mode 100644 .model-cache/.locks/models--sentence-transformers--all-MiniLM-L12-v2/e7b0375001f109a6b8873d756ad4f7bbb15fbaa5.lock\n",
            " create mode 100644 .model-cache/.locks/models--sentence-transformers--all-MiniLM-L12-v2/fb140275c155a9c7c5a3b3e0e77a9e839594a938.lock\n",
            " create mode 100644 .model-cache/.locks/models--sentence-transformers--all-MiniLM-L12-v2/fd1b291129c607e5d49799f87cb219b27f98acdf.lock\n",
            " create mode 100644 .model-cache/models--sentence-transformers--all-MiniLM-L12-v2/.no_exist/c004d8e3e901237d8fa7e9fff12774962e391ce5/adapter_config.json\n",
            " create mode 100644 .model-cache/models--sentence-transformers--all-MiniLM-L12-v2/.no_exist/c004d8e3e901237d8fa7e9fff12774962e391ce5/added_tokens.json\n",
            " create mode 100644 .model-cache/models--sentence-transformers--all-MiniLM-L12-v2/.no_exist/c004d8e3e901237d8fa7e9fff12774962e391ce5/chat_template.jinja\n",
            " create mode 100644 .model-cache/models--sentence-transformers--all-MiniLM-L12-v2/blobs/160e50cfb71e8ec988666144435831d7257cd3b8\n",
            " create mode 100644 .model-cache/models--sentence-transformers--all-MiniLM-L12-v2/blobs/5fd10429389515d3e5cccdeda08cae5fea1ae82e\n",
            " create mode 100644 .model-cache/models--sentence-transformers--all-MiniLM-L12-v2/blobs/952a9b81c0bfd99800fabf352f69c7ccd46c5e43\n",
            " create mode 100644 .model-cache/models--sentence-transformers--all-MiniLM-L12-v2/blobs/997449989924d15c7b98619a97c899740c99854d\n",
            " create mode 100644 .model-cache/models--sentence-transformers--all-MiniLM-L12-v2/blobs/a66291c4cc79886015856e9282a39fc4470c7d90\n",
            " create mode 100644 .model-cache/models--sentence-transformers--all-MiniLM-L12-v2/blobs/cb202bfe2e3c98645018a6d12f182a434c9d3e02\n",
            " create mode 100644 .model-cache/models--sentence-transformers--all-MiniLM-L12-v2/blobs/d1514c3162bbe87b343f565fadc62e6c06f04f03\n",
            " create mode 100644 .model-cache/models--sentence-transformers--all-MiniLM-L12-v2/blobs/d2d541e5f101695ae495eacd867a8d025ecfe8f9674fb23aa6cf93cdb60a5542\n",
            " create mode 100644 .model-cache/models--sentence-transformers--all-MiniLM-L12-v2/blobs/e7b0375001f109a6b8873d756ad4f7bbb15fbaa5\n",
            " create mode 100644 .model-cache/models--sentence-transformers--all-MiniLM-L12-v2/blobs/fb140275c155a9c7c5a3b3e0e77a9e839594a938\n",
            " create mode 100644 .model-cache/models--sentence-transformers--all-MiniLM-L12-v2/blobs/fd1b291129c607e5d49799f87cb219b27f98acdf\n",
            " create mode 100644 .model-cache/models--sentence-transformers--all-MiniLM-L12-v2/refs/main\n",
            " create mode 120000 .model-cache/models--sentence-transformers--all-MiniLM-L12-v2/snapshots/c004d8e3e901237d8fa7e9fff12774962e391ce5/1_Pooling/config.json\n",
            " create mode 120000 .model-cache/models--sentence-transformers--all-MiniLM-L12-v2/snapshots/c004d8e3e901237d8fa7e9fff12774962e391ce5/README.md\n",
            " create mode 120000 .model-cache/models--sentence-transformers--all-MiniLM-L12-v2/snapshots/c004d8e3e901237d8fa7e9fff12774962e391ce5/config.json\n",
            " create mode 120000 .model-cache/models--sentence-transformers--all-MiniLM-L12-v2/snapshots/c004d8e3e901237d8fa7e9fff12774962e391ce5/config_sentence_transformers.json\n",
            " create mode 120000 .model-cache/models--sentence-transformers--all-MiniLM-L12-v2/snapshots/c004d8e3e901237d8fa7e9fff12774962e391ce5/model.safetensors\n",
            " create mode 120000 .model-cache/models--sentence-transformers--all-MiniLM-L12-v2/snapshots/c004d8e3e901237d8fa7e9fff12774962e391ce5/modules.json\n",
            " create mode 120000 .model-cache/models--sentence-transformers--all-MiniLM-L12-v2/snapshots/c004d8e3e901237d8fa7e9fff12774962e391ce5/sentence_bert_config.json\n",
            " create mode 120000 .model-cache/models--sentence-transformers--all-MiniLM-L12-v2/snapshots/c004d8e3e901237d8fa7e9fff12774962e391ce5/special_tokens_map.json\n",
            " create mode 120000 .model-cache/models--sentence-transformers--all-MiniLM-L12-v2/snapshots/c004d8e3e901237d8fa7e9fff12774962e391ce5/tokenizer.json\n",
            " create mode 120000 .model-cache/models--sentence-transformers--all-MiniLM-L12-v2/snapshots/c004d8e3e901237d8fa7e9fff12774962e391ce5/tokenizer_config.json\n",
            " create mode 120000 .model-cache/models--sentence-transformers--all-MiniLM-L12-v2/snapshots/c004d8e3e901237d8fa7e9fff12774962e391ce5/vocab.txt\n",
            " create mode 100644 agent-app-cluster-root-certificate (1).txt\n",
            " create mode 100644 tools/__pycache__/search_vector_database.cpython-312.pyc\n"
          ]
        }
      ],
      "source": [
        "!git add .\n",
        "!git config --global user.email \"your.email@example.com\"\n",
        "!git config --global user.name \"Your Name\"\n",
        "!git commit -m \"initial commit\"\n"
      ]
    },
    {
      "cell_type": "code",
      "execution_count": 11,
      "metadata": {
        "colab": {
          "base_uri": "https://localhost:8080/"
        },
        "id": "OHMCC00oyMLC",
        "outputId": "40c6e426-c6fb-4a20-c024-b36aacacdba8"
      },
      "outputs": [
        {
          "name": "stdout",
          "output_type": "stream",
          "text": [
            "2025-10-24 07:03:31.319363: E external/local_xla/xla/stream_executor/cuda/cuda_fft.cc:467] Unable to register cuFFT factory: Attempting to register factory for plugin cuFFT when one has already been registered\n",
            "WARNING: All log messages before absl::InitializeLog() is called are written to STDERR\n",
            "E0000 00:00:1761289411.374395    8593 cuda_dnn.cc:8579] Unable to register cuDNN factory: Attempting to register factory for plugin cuDNN when one has already been registered\n",
            "E0000 00:00:1761289411.391318    8593 cuda_blas.cc:1407] Unable to register cuBLAS factory: Attempting to register factory for plugin cuBLAS when one has already been registered\n",
            "W0000 00:00:1761289411.439716    8593 computation_placer.cc:177] computation placer already registered. Please check linkage and avoid linking the same target more than once.\n",
            "W0000 00:00:1761289411.439787    8593 computation_placer.cc:177] computation placer already registered. Please check linkage and avoid linking the same target more than once.\n",
            "W0000 00:00:1761289411.439793    8593 computation_placer.cc:177] computation placer already registered. Please check linkage and avoid linking the same target more than once.\n",
            "W0000 00:00:1761289411.439796    8593 computation_placer.cc:177] computation placer already registered. Please check linkage and avoid linking the same target more than once.\n",
            "2025-10-24 07:03:31.453072: I tensorflow/core/platform/cpu_feature_guard.cc:210] This TensorFlow binary is optimized to use available CPU instructions in performance-critical operations.\n",
            "To enable the following instructions: AVX2 FMA, in other operations, rebuild TensorFlow with the appropriate compiler flags.\n",
            "\u001b[32mMetadata collection has been successfully created!\n",
            "\u001b[0m\n",
            "v2_AgentCatalogMetadataPrimaryIndex: 100% 1/1 [00:01<00:00,  1.24s/it]\n",
            "\u001b[32mGSI metadata index for the has been successfully created!\n",
            "\u001b[0m\n",
            "\u001b[33mNow creating the catalog collection for the prompt catalog.\u001b[0m\n",
            "\u001b[32mCollection for prompts has been successfully created!\n",
            "\u001b[0m\n",
            "\u001b[33mNow building the GSI indexes for the prompt catalog.\u001b[0m\n",
            "v2_AgentCatalogPromptsAnnotationsIndex: 100% 3/3 [00:03<00:00,  1.17s/it]\n",
            "\u001b[32mAll GSI indexes for the prompt catalog have been successfully created!\n",
            "\u001b[0m\n",
            "\u001b[33mNow building the vector index for the prompt catalog.\u001b[0m\n",
            "\u001b[32mVector index for the prompt catalog has been successfully created!\n",
            "\u001b[0m\n",
            "\u001b[33mNow creating the catalog collection for the tool catalog.\u001b[0m\n",
            "\u001b[32mCollection for tools has been successfully created!\n",
            "\u001b[0m\n",
            "\u001b[33mNow building the GSI indexes for the tool catalog.\u001b[0m\n",
            "v2_AgentCatalogToolsAnnotationsIndex: 100% 3/3 [00:03<00:00,  1.22s/it]\n",
            "\u001b[32mAll GSI indexes for the tool catalog have been successfully created!\n",
            "\u001b[0m\n",
            "\u001b[33mNow building the vector index for the tool catalog.\u001b[0m\n",
            "\u001b[32mVector index for the tool catalog has been successfully created!\n",
            "\u001b[0m\n",
            "\u001b[33mNow creating the analytics collections for our catalog.\u001b[0m\n",
            "\u001b[32mAll analytics collections for the catalog have been successfully created!\n",
            "\u001b[0m\n",
            "\u001b[33mNow creating scope and collections for the auditor.\u001b[0m\n",
            "\u001b[32mScope and collection for the auditor have been successfully created!\n",
            "\u001b[0m\n",
            "\u001b[33mNow creating the primary index for the auditor.\u001b[0m\n",
            "v2_AgentCatalogLogsPrimaryIndex: 100% 1/1 [00:01<00:00,  1.25s/it]\n",
            "\u001b[32mPrimary index for the auditor has been successfully created!\n",
            "\u001b[0m\n",
            "\u001b[33mNow creating the query UDFs for the auditor.\u001b[0m\n",
            "\u001b[32mAll query UDFs for the auditor have been successfully created!\n",
            "\u001b[0m\n",
            "\u001b[33mNow creating the analytics views for the auditor.\u001b[0m\n",
            "\u001b[32mAll analytics views for the auditor have been successfully created!\n",
            "\u001b[0m\n",
            "\u001b[33mPost-commit hook already contains agentc index / agentc publish.\u001b[0m\n"
          ]
        }
      ],
      "source": [
        "!agentc init\n"
      ]
    },
    {
      "cell_type": "code",
      "execution_count": 12,
      "metadata": {
        "colab": {
          "base_uri": "https://localhost:8080/"
        },
        "id": "d2JsUQt4yMLC",
        "outputId": "3c8d2f28-d507-4fe7-dc93-7cacb01885f1"
      },
      "outputs": [
        {
          "name": "stdout",
          "output_type": "stream",
          "text": [
            "\u001b[95m\u001b[0m\n",
            "\u001b[95m\u001b[1mTOOL\u001b[0m\n",
            "\u001b[95m\u001b[0m\n",
            "Crawling .:\u001b[0m\n",
            "\r  0% 0/4 [00:00<?, ?it/s]\r.last_opt_in_prompt.yaml:   0% 0/4 [00:00<?, ?it/s]Encountered .yaml file with unknown record_kind field. Not indexing /content/.config/.last_opt_in_prompt.yaml.\n",
            ".last_survey_prompt.yaml:   0% 0/4 [00:00<?, ?it/s]Encountered .yaml file with unknown record_kind field. Not indexing /content/.config/.last_survey_prompt.yaml.\n",
            "search_vector_database.py: 100% 4/4 [00:05<00:00,  1.43s/it]\n",
            "\n",
            "Generating embeddings:\u001b[0m\n",
            "0it [00:00, ?it/s]\n",
            "\u001b[32m\n",
            "Catalog successfully indexed!\u001b[0m\n",
            "\u001b[95m\u001b[0m\n",
            "\u001b[34m\u001b[0m\n",
            "\u001b[34m\u001b[1mPROMPT\u001b[0m\n",
            "\u001b[34m\u001b[0m\n",
            "Crawling .:\u001b[0m\n",
            ".last_opt_in_prompt.yaml:   0% 0/3 [00:00<?, ?it/s]Encountered .yaml file with unknown record_kind field. Not indexing /content/.config/.last_opt_in_prompt.yaml.\n",
            ".last_survey_prompt.yaml:   0% 0/3 [00:00<?, ?it/s]Encountered .yaml file with unknown record_kind field. Not indexing /content/.config/.last_survey_prompt.yaml.\n",
            "hotel_search_assistant.yaml: 100% 3/3 [00:00<00:00, 213.68it/s]\n",
            "\n",
            "Generating embeddings:\u001b[0m\n",
            "0it [00:00, ?it/s]\n",
            "\u001b[32m\n",
            "Catalog successfully indexed!\u001b[0m\n",
            "\u001b[34m\u001b[0m\n"
          ]
        }
      ],
      "source": [
        "!agentc index .\n"
      ]
    },
    {
      "cell_type": "code",
      "execution_count": 13,
      "metadata": {
        "colab": {
          "base_uri": "https://localhost:8080/"
        },
        "id": "9JYgMt26yMLD",
        "outputId": "4c7124c5-17bc-4f58-b2a2-ac50629e91dd"
      },
      "outputs": [
        {
          "name": "stdout",
          "output_type": "stream",
          "text": [
            "\u001b[95m\u001b[0m\n",
            "\u001b[95m\u001b[1mTOOL\u001b[0m\n",
            "\u001b[95m\u001b[0m\n",
            "Using the catalog identifier: \u001b[0m\u001b[1m47a6185d7a849f1c6288e335a1dfcfcc2c562f6e\n",
            "\u001b[0m\n",
            "\u001b[33mUploading the tool catalog items to Couchbase.\u001b[0m\n",
            "\r  0% 0/1 [00:00<?, ?it/s]\rsearch_vector_database:   0% 0/1 [00:00<?, ?it/s]\rsearch_vector_database: 100% 1/1 [00:00<00:00, 25.09it/s]\n",
            "\u001b[32mTool catalog items successfully uploaded to Couchbase!\n",
            "\u001b[0m\n",
            "\u001b[34m\u001b[0m\n",
            "\u001b[34m\u001b[1mPROMPT\u001b[0m\n",
            "\u001b[34m\u001b[0m\n",
            "Using the catalog identifier: \u001b[0m\u001b[1m47a6185d7a849f1c6288e335a1dfcfcc2c562f6e\n",
            "\u001b[0m\n",
            "\u001b[33mUploading the prompt catalog items to Couchbase.\u001b[0m\n",
            "\r  0% 0/1 [00:00<?, ?it/s]\rhotel_search_assistant:   0% 0/1 [00:00<?, ?it/s]\rhotel_search_assistant: 100% 1/1 [00:00<00:00, 25.18it/s]\n",
            "\u001b[32mPrompt catalog items successfully uploaded to Couchbase!\n",
            "\u001b[0m\n"
          ]
        }
      ],
      "source": [
        "!agentc publish\n"
      ]
    },
    {
      "cell_type": "markdown",
      "metadata": {
        "id": "YL1_9EevyMLD",
        "vscode": {
          "languageId": "raw"
        }
      },
      "source": [
        "## Setup and Imports\n",
        "\n",
        "Import all necessary modules for the hotel search agent using self-contained setup.\n"
      ]
    },
    {
      "cell_type": "code",
      "execution_count": 14,
      "metadata": {
        "id": "rzPETFI2yMLD"
      },
      "outputs": [],
      "source": [
        "import base64\n",
        "import getpass\n",
        "import httpx\n",
        "import json\n",
        "import logging\n",
        "import os\n",
        "import sys\n",
        "import time\n",
        "from datetime import timedelta\n",
        "from typing import Any, Dict, List, Optional, Tuple\n",
        "\n",
        "import agentc\n",
        "import dotenv\n",
        "from couchbase.auth import PasswordAuthenticator\n",
        "from couchbase.cluster import Cluster\n",
        "from couchbase.management.buckets import BucketType, CreateBucketSettings\n",
        "from couchbase.management.search import SearchIndex\n",
        "from couchbase.options import ClusterOptions\n",
        "from langchain.agents import AgentExecutor, create_react_agent\n",
        "from langchain_core.prompts import PromptTemplate\n",
        "from langchain_core.tools import Tool\n",
        "from langchain_openai import ChatOpenAI, OpenAIEmbeddings\n",
        "from langchain_couchbase.vectorstores import CouchbaseVectorStore\n",
        "from tqdm import tqdm\n",
        "\n",
        "# Setup logging to output to stdout for Colab environments\n",
        "root_logger = logging.getLogger()\n",
        "if not root_logger.handlers:\n",
        "    handler = logging.StreamHandler(sys.stdout)\n",
        "    formatter = logging.Formatter(\"%(asctime)s - %(name)s - %(levelname)s - %(message)s\")\n",
        "    handler.setFormatter(formatter)\n",
        "    root_logger.addHandler(handler)\n",
        "root_logger.setLevel(logging.INFO)\n",
        "\n",
        "# Setup logging for this module\n",
        "logger = logging.getLogger(__name__)\n",
        "\n",
        "# Reduce noise from various libraries during embedding/vector operations\n",
        "logging.getLogger(\"httpx\").setLevel(logging.WARNING)\n",
        "logging.getLogger(\"httpcore\").setLevel(logging.WARNING)\n",
        "logging.getLogger(\"urllib3\").setLevel(logging.WARNING)\n",
        "\n",
        "# Load environment variables\n",
        "dotenv.load_dotenv(override=True)\n",
        "\n",
        "# Set default values for travel-sample bucket configuration\n",
        "DEFAULT_BUCKET = \"travel-sample\"\n",
        "DEFAULT_SCOPE = \"agentc_data\"\n",
        "DEFAULT_COLLECTION = \"hotel_data\"\n",
        "DEFAULT_INDEX = \"hotel_data_index\"\n",
        "DEFAULT_CAPELLA_API_EMBEDDING_MODEL = \"Snowflake/snowflake-arctic-embed-l-v2.0\"\n",
        "DEFAULT_CAPELLA_API_LLM_MODEL = \"deepseek-ai/DeepSeek-R1-Distill-Llama-8B\"\n"
      ]
    },
    {
      "cell_type": "markdown",
      "metadata": {
        "id": "BxCreE0gyMLD",
        "vscode": {
          "languageId": "raw"
        }
      },
      "source": [
        "## Self-Contained Setup Functions\n",
        "\n",
        "Define all necessary setup functions inline for a self-contained notebook.\n"
      ]
    },
    {
      "cell_type": "code",
      "execution_count": 15,
      "metadata": {
        "colab": {
          "base_uri": "https://localhost:8080/"
        },
        "id": "JQJ4GudQyMLD",
        "outputId": "679e3462-725e-4fa2-d63f-9ef6255df1b5"
      },
      "outputs": [
        {
          "name": "stderr",
          "output_type": "stream",
          "text": [
            "INFO:__main__:✅ Environment variables configured\n"
          ]
        }
      ],
      "source": [
        "def setup_environment():\n",
        "    \"\"\"Setup default environment variables for agent operations.\"\"\"\n",
        "    defaults = {\n",
        "        \"CB_BUCKET\": \"travel-sample\",\n",
        "        \"CB_SCOPE\": \"agentc_data\",\n",
        "        \"CB_COLLECTION\": \"hotel_data\",\n",
        "        \"CB_INDEX\": \"hotel_data_index\",\n",
        "        \"CAPELLA_API_EMBEDDING_MODEL\": \"Snowflake/snowflake-arctic-embed-l-v2.0\",\n",
        "        \"CAPELLA_API_LLM_MODEL\": \"deepseek-ai/DeepSeek-R1-Distill-Llama-8B\",\n",
        "    }\n",
        "\n",
        "    for key, value in defaults.items():\n",
        "        if not os.getenv(key):\n",
        "            os.environ[key] = value\n",
        "\n",
        "    logger.info(\"✅ Environment variables configured\")\n",
        "\n",
        "\n",
        "def test_capella_connectivity(api_key: str = None, endpoint: str = None) -> bool:\n",
        "    \"\"\"Test connectivity to Capella AI services.\"\"\"\n",
        "    try:\n",
        "        test_key = api_key or os.getenv(\"CAPELLA_API_EMBEDDINGS_KEY\") or os.getenv(\"CAPELLA_API_LLM_KEY\")\n",
        "        test_endpoint = endpoint or os.getenv(\"CAPELLA_API_ENDPOINT\")\n",
        "\n",
        "        if not test_key or not test_endpoint:\n",
        "            return False\n",
        "\n",
        "        # Simple connectivity test\n",
        "        headers = {\"Authorization\": f\"Bearer {test_key}\"}\n",
        "\n",
        "        with httpx.Client(timeout=10.0) as client:\n",
        "            response = client.get(f\"{test_endpoint.rstrip('/')}/v1/models\", headers=headers)\n",
        "            return response.status_code < 500\n",
        "    except Exception as e:\n",
        "        logger.warning(f\"⚠️ Capella connectivity test failed: {e}\")\n",
        "        return False\n",
        "\n",
        "\n",
        "def setup_ai_services(framework: str = \"langchain\", temperature: float = 0.0, application_span=None):\n",
        "    \"\"\"Priority 1: Capella AI with OpenAI wrappers (simple & fast) for LangChain.\"\"\"\n",
        "    embeddings = None\n",
        "    llm = None\n",
        "\n",
        "    logger.info(f\"🔧 Setting up Priority 1 AI services for {framework} framework...\")\n",
        "\n",
        "    # Priority 1: Capella AI with direct API keys and OpenAI wrappers\n",
        "    if not embeddings and os.getenv(\"CAPELLA_API_ENDPOINT\") and os.getenv(\"CAPELLA_API_EMBEDDINGS_KEY\"):\n",
        "        try:\n",
        "            endpoint = os.getenv(\"CAPELLA_API_ENDPOINT\")\n",
        "            api_key = os.getenv(\"CAPELLA_API_EMBEDDINGS_KEY\")\n",
        "            model = os.getenv(\"CAPELLA_API_EMBEDDING_MODEL\")\n",
        "\n",
        "            # Handle endpoint that may or may not already have /v1 suffix\n",
        "            if endpoint.endswith('/v1'):\n",
        "                api_base = endpoint\n",
        "            else:\n",
        "                api_base = f\"{endpoint}/v1\"\n",
        "\n",
        "            # Debug logging - same pattern as working test\n",
        "            logger.info(f\"🔧 Endpoint: {endpoint}\")\n",
        "            logger.info(f\"🔧 Model: {model}\")\n",
        "            logger.info(f\"🔧 API Base: {api_base}\")\n",
        "\n",
        "            embeddings = OpenAIEmbeddings(\n",
        "                model=model,\n",
        "                api_key=api_key,\n",
        "                base_url=api_base,\n",
        "                check_embedding_ctx_length=False,  # Fix for asymmetric models\n",
        "            )\n",
        "            logger.info(\"✅ Using Priority 1: Capella AI embeddings (OpenAI wrapper)\")\n",
        "        except Exception as e:\n",
        "            logger.error(f\"❌ Priority 1 Capella AI embeddings failed: {type(e).__name__}: {e}\")\n",
        "\n",
        "    if not llm and os.getenv(\"CAPELLA_API_ENDPOINT\") and os.getenv(\"CAPELLA_API_LLM_KEY\"):\n",
        "        try:\n",
        "            endpoint = os.getenv(\"CAPELLA_API_ENDPOINT\")\n",
        "            llm_key = os.getenv(\"CAPELLA_API_LLM_KEY\")\n",
        "            llm_model = os.getenv(\"CAPELLA_API_LLM_MODEL\")\n",
        "\n",
        "            # Handle endpoint that may or may not already have /v1 suffix\n",
        "            if endpoint.endswith('/v1'):\n",
        "                api_base = endpoint\n",
        "            else:\n",
        "                api_base = f\"{endpoint}/v1\"\n",
        "\n",
        "            # Debug logging\n",
        "            logger.info(f\"🔧 LLM Endpoint: {endpoint}\")\n",
        "            logger.info(f\"🔧 LLM Model: {llm_model}\")\n",
        "            logger.info(f\"🔧 LLM API Base: {api_base}\")\n",
        "\n",
        "            llm = ChatOpenAI(\n",
        "                model=llm_model,\n",
        "                base_url=api_base,\n",
        "                api_key=llm_key,\n",
        "                temperature=temperature,\n",
        "            )\n",
        "            # Test the LLM works\n",
        "            test_response = llm.invoke(\"Hello\")\n",
        "            logger.info(\"✅ Using Priority 1: Capella AI LLM (OpenAI wrapper)\")\n",
        "        except Exception as e:\n",
        "            logger.error(f\"❌ Priority 1 Capella AI LLM failed: {type(e).__name__}: {e}\")\n",
        "            llm = None\n",
        "\n",
        "    # Fallback: OpenAI\n",
        "    if not embeddings and os.getenv(\"OPENAI_API_KEY\"):\n",
        "        try:\n",
        "            embeddings = OpenAIEmbeddings(\n",
        "                model=\"text-embedding-3-small\",\n",
        "                api_key=os.getenv(\"OPENAI_API_KEY\"),\n",
        "            )\n",
        "            logger.info(\"✅ Using OpenAI embeddings fallback\")\n",
        "        except Exception as e:\n",
        "            logger.warning(f\"⚠️ OpenAI embeddings failed: {e}\")\n",
        "\n",
        "    if not llm and os.getenv(\"OPENAI_API_KEY\"):\n",
        "        try:\n",
        "            llm = ChatOpenAI(\n",
        "                model=\"gpt-4o\",\n",
        "                api_key=os.getenv(\"OPENAI_API_KEY\"),\n",
        "                temperature=temperature,\n",
        "            )\n",
        "            logger.info(\"✅ Using OpenAI LLM fallback\")\n",
        "        except Exception as e:\n",
        "            logger.warning(f\"⚠️ OpenAI LLM failed: {e}\")\n",
        "\n",
        "    if not embeddings:\n",
        "        raise ValueError(\"❌ No embeddings service could be initialized\")\n",
        "    if not llm:\n",
        "        raise ValueError(\"❌ No LLM service could be initialized\")\n",
        "\n",
        "    logger.info(f\"✅ Priority 1 AI services setup completed for {framework}\")\n",
        "    return embeddings, llm\n",
        "\n",
        "\n",
        "# Setup environment\n",
        "setup_environment()\n",
        "\n",
        "# Test Capella AI connectivity if configured\n",
        "if os.getenv(\"CAPELLA_API_ENDPOINT\"):\n",
        "    if not test_capella_connectivity():\n",
        "        logger.warning(\"❌ Capella AI connectivity test failed. Will use fallback models.\")\n",
        "else:\n",
        "    logger.info(\"ℹ️ Capella API not configured - will use fallback models\")\n"
      ]
    },
    {
      "cell_type": "markdown",
      "metadata": {
        "id": "24xPSxtjyMLE",
        "vscode": {
          "languageId": "raw"
        }
      },
      "source": [
        "## CouchbaseClient Class\n",
        "\n",
        "Define the CouchbaseClient for all database operations and LangChain agent creation.\n"
      ]
    },
    {
      "cell_type": "code",
      "execution_count": 16,
      "metadata": {
        "id": "1usF2cfIyMLE"
      },
      "outputs": [],
      "source": [
        "class CouchbaseClient:\n",
        "    \"\"\"Centralized Couchbase client for all database operations.\"\"\"\n",
        "\n",
        "    def __init__(self, conn_string: str, username: str, password: str, bucket_name: str):\n",
        "        \"\"\"Initialize Couchbase client with connection details.\"\"\"\n",
        "        self.conn_string = conn_string\n",
        "        self.username = username\n",
        "        self.password = password\n",
        "        self.bucket_name = bucket_name\n",
        "        self.cluster = None\n",
        "        self.bucket = None\n",
        "        self._collections = {}\n",
        "\n",
        "    def connect(self):\n",
        "        \"\"\"Establish connection to Couchbase cluster.\"\"\"\n",
        "        try:\n",
        "            auth = PasswordAuthenticator(self.username, self.password)\n",
        "            options = ClusterOptions(auth)\n",
        "\n",
        "            # Use WAN profile for better timeout handling with remote clusters\n",
        "            options.apply_profile(\"wan_development\")\n",
        "            self.cluster = Cluster(self.conn_string, options)\n",
        "            self.cluster.wait_until_ready(timedelta(seconds=20))\n",
        "            logger.info(\"Successfully connected to Couchbase\")\n",
        "            return self.cluster\n",
        "        except Exception as e:\n",
        "            raise ConnectionError(f\"Failed to connect to Couchbase: {e!s}\")\n",
        "\n",
        "    def setup_collection(self, scope_name: str, collection_name: str, clear_existing_data: bool = False):\n",
        "        \"\"\"Setup collection - create scope and collection if they don't exist.\"\"\"\n",
        "        try:\n",
        "            # Ensure cluster connection\n",
        "            if not self.cluster:\n",
        "                self.connect()\n",
        "\n",
        "            # For travel-sample bucket, assume it exists\n",
        "            if not self.bucket:\n",
        "                self.bucket = self.cluster.bucket(self.bucket_name)\n",
        "                logger.info(f\"Connected to bucket '{self.bucket_name}'\")\n",
        "\n",
        "            # Setup scope\n",
        "            bucket_manager = self.bucket.collections()\n",
        "            scopes = bucket_manager.get_all_scopes()\n",
        "            scope_exists = any(scope.name == scope_name for scope in scopes)\n",
        "\n",
        "            if not scope_exists and scope_name != \"_default\":\n",
        "                logger.info(f\"Creating scope '{scope_name}'...\")\n",
        "                bucket_manager.create_scope(scope_name)\n",
        "                logger.info(f\"Scope '{scope_name}' created successfully\")\n",
        "\n",
        "            # Setup collection - clear if exists, create if doesn't\n",
        "            collections = bucket_manager.get_all_scopes()\n",
        "            collection_exists = any(\n",
        "                scope.name == scope_name\n",
        "                and collection_name in [col.name for col in scope.collections]\n",
        "                for scope in collections\n",
        "            )\n",
        "\n",
        "            if collection_exists:\n",
        "                if clear_existing_data:\n",
        "                    logger.info(f\"Collection '{collection_name}' exists, clearing data...\")\n",
        "                    self.clear_collection_data(scope_name, collection_name)\n",
        "                else:\n",
        "                    logger.info(f\"Collection '{collection_name}' exists, keeping existing data...\")\n",
        "            else:\n",
        "                logger.info(f\"Creating collection '{collection_name}'...\")\n",
        "                bucket_manager.create_collection(scope_name, collection_name)\n",
        "                logger.info(f\"Collection '{collection_name}' created successfully\")\n",
        "\n",
        "            time.sleep(3)\n",
        "\n",
        "            # Create primary index\n",
        "            try:\n",
        "                self.cluster.query(\n",
        "                    f\"CREATE PRIMARY INDEX IF NOT EXISTS ON `{self.bucket_name}`.`{scope_name}`.`{collection_name}`\"\n",
        "                ).execute()\n",
        "                logger.info(\"Primary index created successfully\")\n",
        "            except Exception as e:\n",
        "                logger.warning(f\"Error creating primary index: {e}\")\n",
        "\n",
        "            logger.info(\"Collection setup complete\")\n",
        "            return self.bucket.scope(scope_name).collection(collection_name)\n",
        "\n",
        "        except Exception as e:\n",
        "            raise RuntimeError(f\"Error setting up collection: {e!s}\")\n",
        "\n",
        "    def clear_collection_data(self, scope_name: str, collection_name: str):\n",
        "        \"\"\"Clear all data from a collection.\"\"\"\n",
        "        try:\n",
        "            logger.info(f\"Clearing data from {self.bucket_name}.{scope_name}.{collection_name}...\")\n",
        "\n",
        "            # Use N1QL to delete all documents with explicit execution\n",
        "            delete_query = f\"DELETE FROM `{self.bucket_name}`.`{scope_name}`.`{collection_name}`\"\n",
        "            result = self.cluster.query(delete_query)\n",
        "\n",
        "            # Execute the query and get the results\n",
        "            rows = list(result)\n",
        "\n",
        "            # Wait a moment for the deletion to propagate\n",
        "            time.sleep(2)\n",
        "\n",
        "            # Verify collection is empty\n",
        "            count_query = f\"SELECT COUNT(*) as count FROM `{self.bucket_name}`.`{scope_name}`.`{collection_name}`\"\n",
        "            count_result = self.cluster.query(count_query)\n",
        "            count_row = list(count_result)[0]\n",
        "            remaining_count = count_row[\"count\"]\n",
        "\n",
        "            if remaining_count == 0:\n",
        "                logger.info(f\"Collection cleared successfully, {remaining_count} documents remaining\")\n",
        "            else:\n",
        "                logger.warning(f\"Collection clear incomplete, {remaining_count} documents remaining\")\n",
        "\n",
        "        except Exception as e:\n",
        "            logger.warning(f\"Error clearing collection data: {e}\")\n",
        "            # If N1QL fails, try to continue anyway\n",
        "            pass\n",
        "\n",
        "    def get_collection(self, scope_name: str, collection_name: str):\n",
        "        \"\"\"Get a collection object.\"\"\"\n",
        "        key = f\"{scope_name}.{collection_name}\"\n",
        "        if key not in self._collections:\n",
        "            self._collections[key] = self.bucket.scope(scope_name).collection(collection_name)\n",
        "        return self._collections[key]\n",
        "\n",
        "    def setup_vector_search_index(self, index_definition: dict, scope_name: str):\n",
        "        \"\"\"Setup vector search index for the specified scope.\"\"\"\n",
        "        try:\n",
        "            if not self.bucket:\n",
        "                raise RuntimeError(\"Bucket not initialized. Call setup_collection first.\")\n",
        "\n",
        "            scope_index_manager = self.bucket.scope(scope_name).search_indexes()\n",
        "            existing_indexes = scope_index_manager.get_all_indexes()\n",
        "            index_name = index_definition[\"name\"]\n",
        "\n",
        "            if index_name not in [index.name for index in existing_indexes]:\n",
        "                logger.info(f\"Creating vector search index '{index_name}'...\")\n",
        "                search_index = SearchIndex.from_json(index_definition)\n",
        "                scope_index_manager.upsert_index(search_index)\n",
        "                logger.info(f\"Vector search index '{index_name}' created successfully\")\n",
        "            else:\n",
        "                logger.info(f\"Vector search index '{index_name}' already exists\")\n",
        "        except Exception as e:\n",
        "            raise RuntimeError(f\"Error setting up vector search index: {e!s}\")\n",
        "\n",
        "    def setup_vector_store_langchain(self, scope_name, collection_name, index_name, embeddings, data_loader_func):\n",
        "        \"\"\"Setup vector store with hotel data using LangChain.\"\"\"\n",
        "        try:\n",
        "            # Load hotel data using the data loading function\n",
        "            data_loader_func(\n",
        "                cluster=self.cluster,\n",
        "                bucket_name=self.bucket_name,\n",
        "                scope_name=scope_name,\n",
        "                collection_name=collection_name,\n",
        "                embeddings=embeddings,\n",
        "                index_name=index_name,\n",
        "            )\n",
        "            logger.info(\"Hotel data loaded into vector store successfully\")\n",
        "\n",
        "        except Exception as e:\n",
        "            raise RuntimeError(f\"Error setting up vector store: {e!s}\")\n",
        "\n",
        "    def create_langchain_agent(self, catalog, span):\n",
        "        \"\"\"Create LangChain ReAct agent with hotel search tool from Agent Catalog.\"\"\"\n",
        "        try:\n",
        "            # Setup AI services using Priority 1: Capella AI + OpenAI wrappers\n",
        "            embeddings, llm = setup_ai_services(framework=\"langchain\", temperature=0.1, application_span=span)\n",
        "\n",
        "            # Setup collection\n",
        "            self.setup_collection(os.environ[\"CB_SCOPE\"], os.environ[\"CB_COLLECTION\"], clear_existing_data=False)\n",
        "\n",
        "            # Setup vector search index - MUST have agentcatalog_index.json\n",
        "            with open(\"agentcatalog_index.json\") as file:\n",
        "                index_definition = json.load(file)\n",
        "            logger.info(\"Loaded vector search index definition from agentcatalog_index.json\")\n",
        "            self.setup_vector_search_index(index_definition, os.environ[\"CB_SCOPE\"])\n",
        "\n",
        "            # Setup vector store with hotel data\n",
        "            self.setup_vector_store_langchain(\n",
        "                os.environ[\"CB_SCOPE\"],\n",
        "                os.environ[\"CB_COLLECTION\"],\n",
        "                os.environ[\"CB_INDEX\"],\n",
        "                embeddings,\n",
        "                load_hotel_data_to_couchbase,\n",
        "            )\n",
        "\n",
        "            # Load tools and create agent\n",
        "            tool_search = catalog.find(\"tool\", name=\"search_vector_database\")\n",
        "            if not tool_search:\n",
        "                raise ValueError(\n",
        "                    \"Could not find search_vector_database tool. Make sure it's indexed with 'agentc index tools/'\"\n",
        "                )\n",
        "\n",
        "            tools = [\n",
        "                Tool(\n",
        "                    name=tool_search.meta.name,\n",
        "                    description=tool_search.meta.description,\n",
        "                    func=tool_search.func,\n",
        "                ),\n",
        "            ]\n",
        "\n",
        "            hotel_prompt = catalog.find(\"prompt\", name=\"hotel_search_assistant\")\n",
        "            if not hotel_prompt:\n",
        "                raise ValueError(\n",
        "                    \"Could not find hotel_search_assistant prompt in catalog. Make sure it's indexed with 'agentc index prompts/'\"\n",
        "                )\n",
        "\n",
        "            custom_prompt = PromptTemplate(\n",
        "                template=hotel_prompt.content.strip(),\n",
        "                input_variables=[\"input\", \"agent_scratchpad\"],\n",
        "                partial_variables={\n",
        "                    \"tools\": \"\\n\".join(\n",
        "                        [f\"{tool.name}: {tool.description}\" for tool in tools]\n",
        "                    ),\n",
        "                    \"tool_names\": \", \".join([tool.name for tool in tools]),\n",
        "                },\n",
        "            )\n",
        "\n",
        "            def handle_parsing_error(error) -> str:\n",
        "                \"\"\"Custom error handler for parsing errors that guides agent back to ReAct format.\"\"\"\n",
        "                logger.warning(f\"Parsing error occurred: {error}\")\n",
        "                return \"\"\"I need to use the correct format. Let me start over:\n",
        "\n",
        "Thought: I need to search for hotels using the search_vector_database tool\n",
        "Action: search_vector_database\n",
        "Action Input: \"\"\"\n",
        "\n",
        "            agent = create_react_agent(llm, tools, custom_prompt)\n",
        "            agent_executor = AgentExecutor(\n",
        "                agent=agent,\n",
        "                tools=tools,\n",
        "                verbose=True,\n",
        "                handle_parsing_errors=handle_parsing_error,  # Use custom error handler\n",
        "                max_iterations=5,  # Allow multiple tool calls + Final Answer\n",
        "                max_execution_time=120,  # Force stop when max iterations reached\n",
        "                early_stopping_method=\"force\",  # Force stop when max iterations reached\n",
        "                return_intermediate_steps=True,  # For better debugging\n",
        "            )\n",
        "\n",
        "            logger.info(\"LangChain ReAct agent created successfully\")\n",
        "            return agent_executor\n",
        "\n",
        "        except Exception as e:\n",
        "            raise RuntimeError(f\"Error creating LangChain agent: {e!s}\")\n"
      ]
    },
    {
      "cell_type": "markdown",
      "metadata": {
        "id": "rmPg8FOfyMLE",
        "vscode": {
          "languageId": "raw"
        }
      },
      "source": [
        "## Data Loading Module\n",
        "\n",
        "Complete hotel data loading functions from data/hotel_data.py - inline for self-contained operation.\n"
      ]
    },
    {
      "cell_type": "code",
      "execution_count": 17,
      "metadata": {
        "id": "qToxHYyeyMLE"
      },
      "outputs": [],
      "source": [
        "# Data loading functions from data/hotel_data.py\n",
        "import couchbase.auth\n",
        "import couchbase.cluster\n",
        "import couchbase.exceptions\n",
        "import couchbase.options\n",
        "\n",
        "\n",
        "def retry_with_backoff(func, retries=3):\n",
        "    \"\"\"Simple retry with exponential backoff.\"\"\"\n",
        "    for attempt in range(retries):\n",
        "        try:\n",
        "            return func()\n",
        "        except Exception:\n",
        "            if attempt == retries - 1:\n",
        "                raise\n",
        "            delay = 2 ** attempt\n",
        "            logger.warning(f\"Attempt {attempt + 1} failed, retrying in {delay}s...\")\n",
        "            time.sleep(delay)\n",
        "\n",
        "\n",
        "def get_cluster_connection():\n",
        "    \"\"\"Get a fresh cluster connection for each request.\"\"\"\n",
        "    try:\n",
        "        auth = couchbase.auth.PasswordAuthenticator(\n",
        "            username=os.getenv(\"CB_USERNAME\", \"Administrator\"),\n",
        "            password=os.getenv(\"CB_PASSWORD\", \"password\"),\n",
        "        )\n",
        "        options = couchbase.options.ClusterOptions(authenticator=auth)\n",
        "        # Use WAN profile for better timeout handling with remote clusters\n",
        "        options.apply_profile(\"wan_development\")\n",
        "\n",
        "        cluster = couchbase.cluster.Cluster(\n",
        "            os.getenv(\"CB_CONN_STRING\", \"couchbase://localhost\"), options\n",
        "        )\n",
        "        cluster.wait_until_ready(timedelta(seconds=15))\n",
        "        return cluster\n",
        "    except couchbase.exceptions.CouchbaseException as e:\n",
        "        logger.error(f\"Could not connect to Couchbase cluster: {str(e)}\")\n",
        "        return None\n",
        "\n",
        "\n",
        "def load_hotel_data_from_travel_sample():\n",
        "    \"\"\"Load hotel data from travel-sample.inventory.hotel collection.\"\"\"\n",
        "    try:\n",
        "        cluster = get_cluster_connection()\n",
        "        if not cluster:\n",
        "            raise ConnectionError(\"Could not connect to Couchbase cluster\")\n",
        "\n",
        "        # Query to get all hotel documents from travel-sample.inventory.hotel\n",
        "        query = \"\"\"\n",
        "            SELECT h.*, META(h).id as doc_id\n",
        "            FROM `travel-sample`.inventory.hotel h\n",
        "            ORDER BY h.name\n",
        "        \"\"\"\n",
        "\n",
        "        logger.info(\"Loading hotel data from travel-sample.inventory.hotel...\")\n",
        "        result = cluster.query(query)\n",
        "\n",
        "        hotels = []\n",
        "        for row in result:\n",
        "            hotel = row\n",
        "            hotels.append(hotel)\n",
        "\n",
        "        logger.info(f\"Loaded {len(hotels)} hotels from travel-sample.inventory.hotel\")\n",
        "        return hotels\n",
        "\n",
        "    except Exception as e:\n",
        "        logger.error(f\"Error loading hotel data: {str(e)}\")\n",
        "        raise\n",
        "\n",
        "\n",
        "def get_hotel_texts():\n",
        "    \"\"\"Returns formatted hotel texts for vector store embedding from travel-sample data.\"\"\"\n",
        "    hotels = load_hotel_data_from_travel_sample()\n",
        "    hotel_texts = []\n",
        "\n",
        "    for hotel in tqdm(hotels, desc=\"Processing hotels\"):\n",
        "        # Start with basic info\n",
        "        name = hotel.get(\"name\", \"Unknown Hotel\")\n",
        "        city = hotel.get(\"city\", \"Unknown City\")\n",
        "        country = hotel.get(\"country\", \"Unknown Country\")\n",
        "\n",
        "        # Build text with PRIORITIZED information for search\n",
        "        text_parts = [f\"{name} in {city}, {country}\"]\n",
        "\n",
        "        # PRIORITY 1: Location details (critical for search)\n",
        "        location_fields = [\"address\", \"state\", \"directions\"]\n",
        "        for field in location_fields:\n",
        "            value = hotel.get(field)\n",
        "            if value and value != \"None\":\n",
        "                text_parts.append(f\"{field.title()}: {value}\")\n",
        "\n",
        "        # PRIORITY 2: Key amenities (most searched features)\n",
        "        amenity_fields = [\n",
        "            (\"free_breakfast\", \"Free breakfast\"),\n",
        "            (\"free_internet\", \"Free internet\"),\n",
        "            (\"free_parking\", \"Free parking\"),\n",
        "            (\"pets_ok\", \"Pets allowed\")\n",
        "        ]\n",
        "        for field, label in amenity_fields:\n",
        "            value = hotel.get(field)\n",
        "            if value is not None:\n",
        "                text_parts.append(f\"{label}: {'Yes' if value else 'No'}\")\n",
        "\n",
        "        # PRIORITY 3: Hotel description and type\n",
        "        description_fields = [\n",
        "            (\"description\", \"Description\"),\n",
        "            (\"type\", \"Type\"),\n",
        "            (\"title\", \"Title\")\n",
        "        ]\n",
        "        for field, label in description_fields:\n",
        "            value = hotel.get(field)\n",
        "            if value and value != \"None\":\n",
        "                text_parts.append(f\"{label}: {value}\")\n",
        "\n",
        "        # PRIORITY 4: Other details (less critical for search)\n",
        "        other_fields = [\n",
        "            (\"price\", \"Price\"),\n",
        "            (\"checkin\", \"Check-in\"),\n",
        "            (\"checkout\", \"Check-out\"),\n",
        "            (\"phone\", \"Phone\"),\n",
        "            (\"email\", \"Email\"),\n",
        "            (\"vacancy\", \"Vacancy\"),\n",
        "            (\"alias\", \"Also known as\")\n",
        "        ]\n",
        "        for field, label in other_fields:\n",
        "            value = hotel.get(field)\n",
        "            if value and value != \"None\":\n",
        "                if isinstance(value, bool):\n",
        "                    text_parts.append(f\"{label}: {'Yes' if value else 'No'}\")\n",
        "                else:\n",
        "                    text_parts.append(f\"{label}: {value}\")\n",
        "\n",
        "        # Add geographic coordinates if available\n",
        "        if hotel.get(\"geo\"):\n",
        "            geo = hotel[\"geo\"]\n",
        "            if geo.get(\"lat\") and geo.get(\"lon\"):\n",
        "                text_parts.append(f\"Coordinates: {geo['lat']}, {geo['lon']}\")\n",
        "\n",
        "        # Add review summary if available\n",
        "        if hotel.get(\"reviews\") and isinstance(hotel[\"reviews\"], list):\n",
        "            review_count = len(hotel[\"reviews\"])\n",
        "            if review_count > 0:\n",
        "                text_parts.append(f\"Reviews: {review_count} customer reviews available\")\n",
        "\n",
        "                # Include a sample of review content for better search matching\n",
        "                sample_reviews = hotel[\"reviews\"][:2]  # First 2 reviews\n",
        "                for i, review in enumerate(sample_reviews):\n",
        "                    if review.get(\"content\"):\n",
        "                        # Truncate long reviews for embedding efficiency\n",
        "                        content = (\n",
        "                            review[\"content\"][:200] + \"...\"\n",
        "                            if len(review[\"content\"]) > 200\n",
        "                            else review[\"content\"]\n",
        "                        )\n",
        "                        text_parts.append(f\"Review {i + 1}: {content}\")\n",
        "\n",
        "        # Add public likes if available\n",
        "        if hotel.get(\"public_likes\") and isinstance(hotel[\"public_likes\"], list):\n",
        "            likes_count = len(hotel[\"public_likes\"])\n",
        "            if likes_count > 0:\n",
        "                text_parts.append(f\"Public likes: {likes_count} likes\")\n",
        "\n",
        "        # Join all parts with \". \"\n",
        "        text = \". \".join(text_parts)\n",
        "        hotel_texts.append(text)\n",
        "\n",
        "    logger.info(f\"Generated {len(hotel_texts)} hotel text embeddings\")\n",
        "    return hotel_texts\n",
        "\n",
        "\n",
        "def load_hotel_data_to_couchbase(\n",
        "    cluster,\n",
        "    bucket_name: str,\n",
        "    scope_name: str,\n",
        "    collection_name: str,\n",
        "    embeddings,\n",
        "    index_name: str,\n",
        "):\n",
        "    \"\"\"Load hotel data from travel-sample into the target collection with embeddings.\"\"\"\n",
        "    try:\n",
        "        # Check if data already exists\n",
        "        count_query = f\"SELECT COUNT(*) as count FROM `{bucket_name}`.`{scope_name}`.`{collection_name}`\"\n",
        "        count_result = cluster.query(count_query)\n",
        "        count_row = list(count_result)[0]\n",
        "        existing_count = count_row[\"count\"]\n",
        "\n",
        "        if existing_count > 0:\n",
        "            logger.info(\n",
        "                f\"Found {existing_count} existing documents in collection, skipping data load\"\n",
        "            )\n",
        "            return\n",
        "\n",
        "        # Get hotel texts for embeddings\n",
        "        hotel_texts = get_hotel_texts()\n",
        "\n",
        "        # Setup vector store for the target collection\n",
        "        vector_store = CouchbaseVectorStore(\n",
        "            cluster=cluster,\n",
        "            bucket_name=bucket_name,\n",
        "            scope_name=scope_name,\n",
        "            collection_name=collection_name,\n",
        "            embedding=embeddings,\n",
        "            index_name=index_name,\n",
        "        )\n",
        "\n",
        "        # Add hotel texts to vector store with batch processing\n",
        "        logger.info(\n",
        "            f\"Loading {len(hotel_texts)} hotel embeddings to {bucket_name}.{scope_name}.{collection_name}\"\n",
        "        )\n",
        "\n",
        "        # Process in batches with simple retry\n",
        "        batch_size = 10\n",
        "\n",
        "        with tqdm(total=len(hotel_texts), desc=\"Loading hotel embeddings\") as pbar:\n",
        "            for i in range(0, len(hotel_texts), batch_size):\n",
        "                batch = hotel_texts[i : i + batch_size]\n",
        "\n",
        "                def add_batch():\n",
        "                    return vector_store.add_texts(texts=batch, batch_size=batch_size)\n",
        "\n",
        "                retry_with_backoff(add_batch, retries=3)\n",
        "                pbar.update(len(batch))\n",
        "\n",
        "        logger.info(\n",
        "            f\"Successfully loaded {len(hotel_texts)} hotel embeddings to vector store\"\n",
        "        )\n",
        "\n",
        "    except Exception as e:\n",
        "        logger.error(f\"Error loading hotel data to Couchbase: {str(e)}\")\n",
        "        raise\n",
        "\n",
        "\n",
        "def get_hotel_count():\n",
        "    \"\"\"Get the count of hotels in travel-sample.inventory.hotel.\"\"\"\n",
        "    try:\n",
        "        cluster = get_cluster_connection()\n",
        "        if not cluster:\n",
        "            raise ConnectionError(\"Could not connect to Couchbase cluster\")\n",
        "\n",
        "        query = \"SELECT COUNT(*) as count FROM `travel-sample`.inventory.hotel\"\n",
        "        result = cluster.query(query)\n",
        "\n",
        "        for row in result:\n",
        "            return row[\"count\"]\n",
        "\n",
        "        return 0\n",
        "\n",
        "    except Exception as e:\n",
        "        logger.error(f\"Error getting hotel count: {str(e)}\")\n",
        "        return 0\n"
      ]
    },
    {
      "cell_type": "markdown",
      "metadata": {
        "id": "GyDmyxUoyMLE",
        "vscode": {
          "languageId": "raw"
        }
      },
      "source": [
        "## Query Module\n",
        "\n",
        "Complete query collections and functions from data/queries.py - inline for self-contained operation.\n"
      ]
    },
    {
      "cell_type": "code",
      "execution_count": 18,
      "metadata": {
        "id": "hnwAZwMTyMLE"
      },
      "outputs": [],
      "source": [
        "# Query functions and data from data/queries.py\n",
        "\n",
        "# Hotel search queries (based on travel-sample data)\n",
        "HOTEL_SEARCH_QUERIES = [\n",
        "    \"Find hotels in Giverny with free breakfast\",\n",
        "    \"I need a hotel in Glossop with free internet access\",\n",
        "    \"Show me hotels in Helensburgh with free breakfast\",\n",
        "]\n",
        "\n",
        "# Comprehensive reference answers matching actual database content\n",
        "HOTEL_REFERENCE_ANSWERS = [\n",
        "    # Query 1: Giverny with free breakfast\n",
        "    \"\"\"I found one hotel in Giverny that offers free breakfast:\n",
        "\n",
        "**Le Clos Fleuri**\n",
        "- **Location:** Giverny, France\n",
        "- **Address:** 5 rue de la Dîme, 27620 Giverny\n",
        "- **Phone:** +33 2 32 21 36 51\n",
        "- **Website:** http://www.giverny-leclosfleuri.fr/\n",
        "- **Amenities:** Free breakfast ✅, Free internet ✅, Free parking ✅, No pets allowed\n",
        "- **Vacancy:** Yes\n",
        "- **Coordinates:** 49.0763077, 1.5234464\n",
        "- **Reviews:** 3 customer reviews available with mixed ratings\n",
        "- **Public Likes:** 7 likes\n",
        "- **Description:** Situated near the church and just a few minutes walking distance from Monet's gardens and the Museum of Impressionisms, you will find Danielle and Claude's home, surrounded by a large magnificent garden, where you will find a haven of peace and tranquillity. Danielle speaks fluent English having spent many years in Australia.\n",
        "\n",
        "This hotel is perfect for your stay in Giverny with the requested free breakfast amenity. It's ideally located for visiting Monet's gardens and offers a peaceful garden setting.\"\"\",\n",
        "    # Query 2: Glossop with free internet\n",
        "    \"\"\"Here are hotels in Glossop that offer free internet access:\n",
        "\n",
        "1. **The George Hotel**\n",
        "   - **Address:** Norfolk Street, Glossop, United Kingdom\n",
        "   - **Phone:** +44 1457 855449\n",
        "   - **Price:** From £35.00 (single) or £60.00 (double)\n",
        "   - **Amenities:** Free internet ✅, Free breakfast ✅, Pets allowed ✅\n",
        "   - **Vacancy:** Yes\n",
        "   - **Reviews:** 6 customer reviews available\n",
        "   - **Coordinates:** 53.444331, -1.948299\n",
        "   - **Description:** Set in the centre of town, this hotel makes an ideal base for a visit to the area.\n",
        "\n",
        "2. **Avondale Guest House**\n",
        "   - **Address:** 28 Woodhead Road, Glossop, United Kingdom\n",
        "   - **Phone:** +44 1457 853132, Mobile: +44 7784 764969\n",
        "   - **Website:** http://www.avondale-guesthouse.co.uk/\n",
        "   - **Amenities:** Free internet ✅, Free breakfast ✅, Pets allowed ✅\n",
        "   - **Vacancy:** Yes\n",
        "   - **Reviews:** 7 customer reviews available\n",
        "   - **Coordinates:** 53.449979, -1.945284\n",
        "\n",
        "These hotels are located in Glossop and offer the free internet access you're looking for.\"\"\",\n",
        "    # Query 3: Helensburgh with free breakfast\n",
        "    \"\"\"Here are the hotels in Helensburgh that offer free breakfast:\n",
        "\n",
        "1. **County Lodge Hotel**\n",
        "   - **Location:** Helensburgh, United Kingdom\n",
        "   - **Address:** Old Luss Road, Helensburgh, G84 7BH\n",
        "   - **Phone:** +44 1436 672034\n",
        "   - **Website:** http://www.countylodgehotel.co.uk/\n",
        "   - **Amenities:** Free breakfast ✅, Free internet ✅, Free parking ✅, No pets allowed\n",
        "   - **Price:** Rooms £40-£55\n",
        "   - **Vacancy:** No\n",
        "   - **Coordinates:** 55.99884, -4.71354\n",
        "   - **Description:** Nearly 1 mile east of the town centre, near Colgrain Station.\n",
        "\n",
        "2. **Commodore Hotel**\n",
        "   - **Location:** Helensburgh, United Kingdom\n",
        "   - **Address:** 112-117 West Clyde Street, Helensburgh, G84 8ES\n",
        "   - **Phone:** +44 1436 676924\n",
        "   - **Website:** http://www.innkeeperslodge.com/lodgedetail.asp?lid=91\n",
        "   - **Amenities:** Free breakfast ✅, Free internet ✅, Pets allowed ✅, No free parking\n",
        "   - **Price:** Rooms from £55\n",
        "   - **Vacancy:** No\n",
        "   - **Reviews:** 2 customer reviews available\n",
        "   - **Coordinates:** 56.00481, -4.74472\n",
        "   - **Description:** The biggest hotel in town with rooms from £55. Refurbished in about 2004. On the sea front about 1/2 mile from the town centre.\n",
        "\n",
        "Both hotels offer the requested free breakfast along with additional amenities.\"\"\",\n",
        "]\n",
        "\n",
        "# Create dictionary for backward compatibility\n",
        "QUERY_REFERENCE_ANSWERS = {\n",
        "    query: answer\n",
        "    for query, answer in zip(HOTEL_SEARCH_QUERIES, HOTEL_REFERENCE_ANSWERS)\n",
        "}\n",
        "\n",
        "\n",
        "def get_evaluation_queries():\n",
        "    \"\"\"Get queries for evaluation\"\"\"\n",
        "    return HOTEL_SEARCH_QUERIES\n",
        "\n",
        "\n",
        "def get_reference_answer(query: str) -> str:\n",
        "    \"\"\"Get the correct reference answer for a given query\"\"\"\n",
        "    return QUERY_REFERENCE_ANSWERS.get(\n",
        "        query, f\"No reference answer available for: {query}\"\n",
        "    )\n"
      ]
    },
    {
      "cell_type": "markdown",
      "metadata": {
        "id": "lXlxUEOzyMLE",
        "vscode": {
          "languageId": "raw"
        }
      },
      "source": [
        "## Hotel Search Agent Setup\n",
        "\n",
        "Setup the complete hotel search agent infrastructure using LangChain.\n"
      ]
    },
    {
      "cell_type": "code",
      "execution_count": 19,
      "metadata": {
        "colab": {
          "base_uri": "https://localhost:8080/"
        },
        "id": "XsckipAtyMLE",
        "outputId": "84c9b4cb-c8a9-4df5-ea66-7be42b0ca9fa"
      },
      "outputs": [
        {
          "name": "stderr",
          "output_type": "stream",
          "text": [
            "INFO:agentc_core.catalog.catalog:A local catalog and a remote catalog have been found. Building a chained tool catalog.\n",
            "INFO:agentc_core.catalog.catalog:A local catalog and a remote catalog have been found. Building a chained prompt catalog.\n",
            "INFO:agentc_core.activity.span:Using both a local auditor and a remote auditor.\n",
            "INFO:__main__:✅ Environment variables configured\n",
            "INFO:__main__:Successfully connected to Couchbase\n",
            "INFO:__main__:🔧 Setting up Priority 1 AI services for langchain framework...\n",
            "INFO:__main__:🔧 Endpoint: https://agd6zdjymyanhi9g.ai.sandbox.nonprod-project-avengers.com\n",
            "INFO:__main__:🔧 Model: nvidia/llama-3.2-nv-embedqa-1b-v2\n",
            "INFO:__main__:🔧 API Base: https://agd6zdjymyanhi9g.ai.sandbox.nonprod-project-avengers.com/v1\n",
            "INFO:__main__:✅ Using Priority 1: Capella AI embeddings (OpenAI wrapper)\n",
            "INFO:__main__:🔧 LLM Endpoint: https://agd6zdjymyanhi9g.ai.sandbox.nonprod-project-avengers.com\n",
            "INFO:__main__:🔧 LLM Model: meta/llama3-8b-instruct\n",
            "INFO:__main__:🔧 LLM API Base: https://agd6zdjymyanhi9g.ai.sandbox.nonprod-project-avengers.com/v1\n",
            "INFO:__main__:✅ Using Priority 1: Capella AI LLM (OpenAI wrapper)\n",
            "INFO:__main__:✅ Priority 1 AI services setup completed for langchain\n",
            "INFO:__main__:Connected to bucket 'travel-sample'\n",
            "INFO:__main__:Collection 'hotel_data' exists, keeping existing data...\n",
            "INFO:__main__:Primary index created successfully\n",
            "INFO:__main__:Collection setup complete\n",
            "INFO:__main__:Loaded vector search index definition from agentcatalog_index.json\n",
            "INFO:__main__:Vector search index 'hotel_data_index' already exists\n",
            "INFO:__main__:Found 917 existing documents in collection, skipping data load\n",
            "INFO:__main__:Hotel data loaded into vector store successfully\n",
            "INFO:__main__:LangChain ReAct agent created successfully\n"
          ]
        }
      ],
      "source": [
        "def setup_hotel_support_agent():\n",
        "    \"\"\"Setup the hotel support agent with Agent Catalog integration.\"\"\"\n",
        "    try:\n",
        "        # Initialize Agent Catalog with single application span\n",
        "        catalog = agentc.catalog.Catalog()\n",
        "        application_span = catalog.Span(name=\"Hotel Support Agent\", blacklist=set())\n",
        "\n",
        "        # Setup environment\n",
        "        setup_environment()\n",
        "\n",
        "        # Test Capella AI connectivity if configured\n",
        "        if os.getenv(\"CAPELLA_API_ENDPOINT\"):\n",
        "            if not test_capella_connectivity():\n",
        "                logger.warning(\n",
        "                    \"❌ Capella AI connectivity test failed. Will use OpenAI fallback.\"\n",
        "                )\n",
        "        else:\n",
        "            logger.info(\"ℹ️ Capella API not configured - will use OpenAI models\")\n",
        "\n",
        "        # Setup Couchbase connection and collections using CouchbaseClient\n",
        "        couchbase_client = CouchbaseClient(\n",
        "            conn_string=os.getenv(\"CB_CONN_STRING\", \"couchbase://localhost\"),\n",
        "            username=os.getenv(\"CB_USERNAME\", \"Administrator\"),\n",
        "            password=os.getenv(\"CB_PASSWORD\", \"password\"),\n",
        "            bucket_name=os.getenv(\"CB_BUCKET\", DEFAULT_BUCKET),\n",
        "        )\n",
        "        couchbase_client.connect()\n",
        "\n",
        "        # Create agent using the CouchbaseClient\n",
        "        agent_executor = couchbase_client.create_langchain_agent(catalog, application_span)\n",
        "\n",
        "        return agent_executor, application_span\n",
        "\n",
        "    except Exception as e:\n",
        "        logger.exception(f\"Error setting up hotel support agent: {e}\")\n",
        "        raise\n",
        "\n",
        "\n",
        "# Setup the hotel search agent\n",
        "agent, span = setup_hotel_support_agent()\n"
      ]
    },
    {
      "cell_type": "markdown",
      "metadata": {
        "id": "_Zn7sNSIyMLF",
        "vscode": {
          "languageId": "raw"
        }
      },
      "source": [
        "## Test Functions\n",
        "Define test functions to demonstrate the hotel search agent functionality.\n"
      ]
    },
    {
      "cell_type": "code",
      "execution_count": 20,
      "metadata": {
        "colab": {
          "base_uri": "https://localhost:8080/"
        },
        "id": "N75j6vXdyMLF",
        "outputId": "8b29b0a5-b486-4573-a170-392fe61792bc"
      },
      "outputs": [
        {
          "name": "stderr",
          "output_type": "stream",
          "text": [
            "INFO:__main__:Testing Hotel Data Loading from travel-sample\n",
            "INFO:__main__:==================================================\n",
            "INFO:__main__:✅ Hotel count in travel-sample.inventory.hotel: 917\n",
            "INFO:__main__:Loading hotel data from travel-sample.inventory.hotel...\n",
            "INFO:__main__:Loaded 917 hotels from travel-sample.inventory.hotel\n",
            "Processing hotels: 100%|██████████| 917/917 [00:00<00:00, 88867.30it/s]\n",
            "INFO:__main__:Generated 917 hotel text embeddings\n",
            "INFO:__main__:✅ Generated 917 hotel texts for embeddings\n",
            "INFO:__main__:✅ First hotel text sample: 'La Mirande Hotel in Avignon, France. Address: 4 place de la Mirande,F- AVIGNON. State: Provence-Alpes-Côte d'Azur. Free breakfast: Yes. Free internet: Yes. Free parking: No. Pets allowed: Yes. Descri...\n",
            "INFO:__main__:✅ Data loading test completed successfully\n"
          ]
        }
      ],
      "source": [
        "def run_hotel_query(query: str, agent):\n",
        "    \"\"\"Run a single hotel query with error handling.\"\"\"\n",
        "    logger.info(f\"🏨 Hotel Query: {query}\")\n",
        "\n",
        "    try:\n",
        "        # Run the agent with LangChain invoke interface\n",
        "        response = agent.invoke({\"input\": query})\n",
        "        result = response[\"output\"]\n",
        "\n",
        "        logger.info(f\"🤖 AI Response: {result}\")\n",
        "        logger.info(\"✅ Query completed successfully\")\n",
        "\n",
        "        return result\n",
        "\n",
        "    except Exception as e:\n",
        "        logger.exception(f\"❌ Query failed: {e}\")\n",
        "        return f\"Error: {str(e)}\"\n",
        "\n",
        "\n",
        "def test_hotel_data_loading():\n",
        "    \"\"\"Test hotel data loading from travel-sample independently.\"\"\"\n",
        "    logger.info(\"Testing Hotel Data Loading from travel-sample\")\n",
        "    logger.info(\"=\" * 50)\n",
        "\n",
        "    try:\n",
        "        # Test hotel count\n",
        "        count = get_hotel_count()\n",
        "        logger.info(f\"✅ Hotel count in travel-sample.inventory.hotel: {count}\")\n",
        "\n",
        "        # Test hotel text generation\n",
        "        texts = get_hotel_texts()\n",
        "        logger.info(f\"✅ Generated {len(texts)} hotel texts for embeddings\")\n",
        "\n",
        "        if texts:\n",
        "            logger.info(f\"✅ First hotel text sample: {texts[0][:200]}...\")\n",
        "\n",
        "        logger.info(\"✅ Data loading test completed successfully\")\n",
        "\n",
        "    except Exception as e:\n",
        "        logger.exception(f\"❌ Data loading test failed: {e}\")\n",
        "\n",
        "\n",
        "# Test hotel data loading\n",
        "test_hotel_data_loading()\n"
      ]
    },
    {
      "cell_type": "markdown",
      "metadata": {
        "id": "cRY7bxmryMLF",
        "vscode": {
          "languageId": "raw"
        }
      },
      "source": [
        "## Test 1: Hotels in Giverny with Free Breakfast\n",
        "\n",
        "Search for hotels in Giverny, France that offer free breakfast.\n"
      ]
    },
    {
      "cell_type": "code",
      "execution_count": 21,
      "metadata": {
        "colab": {
          "base_uri": "https://localhost:8080/"
        },
        "id": "2W-s8BwdyMLF",
        "outputId": "98ff9ff7-e2b4-402b-aef8-a509af48b95e"
      },
      "outputs": [
        {
          "name": "stderr",
          "output_type": "stream",
          "text": [
            "INFO:__main__:🏨 Hotel Query: Find hotels in Giverny with free breakfast\n"
          ]
        },
        {
          "name": "stdout",
          "output_type": "stream",
          "text": [
            "\n",
            "\n",
            "\u001b[1m> Entering new AgentExecutor chain...\u001b[0m\n",
            "\u001b[32;1m\u001b[1;3mAction: search_vector_database\n",
            "Action Input: hotels in Giverny with free breakfast\n",
            "\n",
            "Observ\u001b[0m\u001b[36;1m\u001b[1;3mFOUND_6_HOTELS:\n",
            "HOTEL_1: Le Clos Fleuri in Giverny, France. Address: 5 rue de la Dîme. State: Haute-Normandie. Directions: 27620 Giverny. Free breakfast: Yes. Free internet: Yes. Free parking: Yes. Pets allowed: No. Description: Situated near the church and just a few minutes walking distance from Monet's gardens and the Museum of Impressionisms, you will find Danielle and Claude's home, surrounded by a large magnificent garden, where you will find a haven of peace and tranquillity. Danielle speaks fluent English having spent many years in Australia.. Type: hotel. Title: Giverny. Phone: +33 2 32 21 36 51. Vacancy: Yes. Coordinates: 49.0763077, 1.5234464. Reviews: 3 customer reviews available. Review 1: Very basic place to stay with adjoining buildings still run down from Katrina. If you have a car and looking for good value this is perfect. Complimentary Breakfast is adequate for what you pay. Overa.... Review 2: the bed were never cleaned, the same linens were on the bed. i would like a refund of $265.36. the office people who checked you in were not the friendly people either. they did not tell me just what .... Public likes: 7 likes (Score: 0.495)\n",
            "\n",
            "HOTEL_2: Château du Bosc Theroulde in Bosc-Guérard-Saint-Adrien, France. Address: Route du Bosc Theroulde - 76710 Bosc Theroulde. State: Haute-Normandie. Free breakfast: Yes. Free internet: Yes. Free parking: No. Pets allowed: No. Description: B&B 8 miles from the city center,within easy access from the A-28-A29-A151 motorways, this is an elegant Napoleon III style building in a fully secured walled park of 4 ha.. Type: hotel. Title: Rouen. Price: 80€. Check-in: 15.00. Check-out: 12.00. Phone: +33 2 35 81 35 54. Coordinates: 49.55, 1.116667. Public likes: 7 likes (Score: 0.482)\n",
            "\n",
            "HOTEL_3: The Robins in Giverny, France. Address: 6 rue aux Juifs. State: Haute-Normandie. Directions: 27620 Giverny. Free breakfast: No. Free internet: Yes. Free parking: Yes. Pets allowed: No. Description: The rustic style of the renovation - stones and exposed beams - and the vintage countryside decoration give these several-hundred-year-old cute little houses a Bohemian charm. In the summer you will have breakfast in the garden under the canopy of the bread oven. Dogs admitted. Open all year round.. Type: hotel. Title: Giverny. Price: 60 / 70 euros. Vacancy: Yes. Also known as: Les Rouges Gorges. Coordinates: 49.078069, 1.520866. Reviews: 5 customer reviews available. Review 1: Staff need a bit of a refresher in customer service...we couldn't get a safe and there were 6 of us - \"sorry, none left\" and not too helpful, the location was terrific but the staff let us down...no w.... Review 2: We ended up choosing the Holiday Inn because it had a combination of a low price and a really convenient location. It's close to some great restaurants and just far enough from Bourbon street so that ... (Score: 0.475)\n",
            "\n",
            "HOTEL_4: Chateau Royal de Saint-Saturnin in Saint-Saturnin, France. Address: Place de l'Ormeau, 63450 - Saint-Saturnin. State: Auvergne. Free breakfast: Yes. Free internet: No. Free parking: No. Pets allowed: No. Description: 13th century chateau-hotel in the Volcano Regional Park. Table d'hote restaurant, large car park, all rooms have en-suite bathrooms.. Type: hotel. Title: Puy-de-Dôme. Price: €150-190. Phone: +33 4 73 39 39 64. Email: SaturninILA@ila-chateau.com. Vacancy: Yes. Coordinates: 45.65874, 3.09258. Reviews: 8 customer reviews available. Review 1: A Little Gem I can only re-iterate what the other reviews on here say.The reception staff are friendly and very helpful. On check in, they asked if it was our first time in New York (it was) and then .... Review 2: the great Casablanca Hotel My daughter and I have stayed at the Casablanca every January for the past 4 years as part of our Girls' Weekend in NYC. We love everything about the hotel. The staff is ver... (Score: 0.458)\n",
            "\n",
            "HOTEL_5: Le Bas Manoir in Bretteville-sur-Odon, France. Address: 1 Route de Verson. State: Basse-Normandie. Directions: On the west side of the perifirique.. Free breakfast: Yes. Free internet: Yes. Free parking: No. Pets allowed: No. Description: High quality B&B with two rooms. Ensuite bathrooms, Free WiFi,access to garden, deliciuos breakfast. 18th century estate.. Type: hotel. Title: Caen. Price: €110. Phone: +33 6 07 86 65 25. Email: lebas.manoir@hotmail.fr. Coordinates: 49.16096, -0.42509. Reviews: 3 customer reviews available. Review 1: New York City: Comfort Inn Midtown Date: Sept. 26 - 30, 2006 Reviewer: Trip Advisor Member, Burlington,Canada This hotel provides very good value for the money. The room was $162 per night. The staff .... Review 2: Just came back from a long week-end in NYC. I agree with everybody. Almost everything was perfect about this hotel (location, cleanliness, friendly staff, small but workable room, decent breakfast, st... (Score: 0.450)\n",
            "\n",
            "HOTEL_6: Hôtel Gavarni in Paris, France. Address: 5 Rue Gavarni. State: Île-de-France. Free breakfast: Yes. Free internet: Yes. Free parking: No. Pets allowed: No. Description: In the heart of the Passy village and its fashion boutiques. It's the first independent hotel in Paris to have been awarded the European Ecolabel. Fully air-conditioned, free WiFi.. Type: hotel. Title: Paris/16th arrondissement. Phone: +33 1 45 24 52 82. Email: reservation@gavarni.com. Coordinates: 48.85867, 2.28269. Reviews: 8 customer reviews available. Review 1: I booked 3 nights at the El Cortez for two friends and I just to prove what a great hotel it really is, and they were knocked-out with the great room, service and food, just as I had anticipated. Firs.... Review 2: Great place to stay. Very cordial staff. Let me check in very early without question. Tower rooms are the best deal. They are very large and comfortable. This isn't a ritzy strip type place so don't e... (Score: 0.448)\u001b[0m\u001b[32;1m\u001b[1;3mAction: search_vector_database\n",
            "Action Input: hotels in Giverny with free breakfast\n",
            "\n",
            "Observ\u001b[0m\u001b[36;1m\u001b[1;3mFOUND_6_HOTELS:\n",
            "HOTEL_1: Le Clos Fleuri in Giverny, France. Address: 5 rue de la Dîme. State: Haute-Normandie. Directions: 27620 Giverny. Free breakfast: Yes. Free internet: Yes. Free parking: Yes. Pets allowed: No. Description: Situated near the church and just a few minutes walking distance from Monet's gardens and the Museum of Impressionisms, you will find Danielle and Claude's home, surrounded by a large magnificent garden, where you will find a haven of peace and tranquillity. Danielle speaks fluent English having spent many years in Australia.. Type: hotel. Title: Giverny. Phone: +33 2 32 21 36 51. Vacancy: Yes. Coordinates: 49.0763077, 1.5234464. Reviews: 3 customer reviews available. Review 1: Very basic place to stay with adjoining buildings still run down from Katrina. If you have a car and looking for good value this is perfect. Complimentary Breakfast is adequate for what you pay. Overa.... Review 2: the bed were never cleaned, the same linens were on the bed. i would like a refund of $265.36. the office people who checked you in were not the friendly people either. they did not tell me just what .... Public likes: 7 likes (Score: 0.495)\n",
            "\n",
            "HOTEL_2: Château du Bosc Theroulde in Bosc-Guérard-Saint-Adrien, France. Address: Route du Bosc Theroulde - 76710 Bosc Theroulde. State: Haute-Normandie. Free breakfast: Yes. Free internet: Yes. Free parking: No. Pets allowed: No. Description: B&B 8 miles from the city center,within easy access from the A-28-A29-A151 motorways, this is an elegant Napoleon III style building in a fully secured walled park of 4 ha.. Type: hotel. Title: Rouen. Price: 80€. Check-in: 15.00. Check-out: 12.00. Phone: +33 2 35 81 35 54. Coordinates: 49.55, 1.116667. Public likes: 7 likes (Score: 0.482)\n",
            "\n",
            "HOTEL_3: The Robins in Giverny, France. Address: 6 rue aux Juifs. State: Haute-Normandie. Directions: 27620 Giverny. Free breakfast: No. Free internet: Yes. Free parking: Yes. Pets allowed: No. Description: The rustic style of the renovation - stones and exposed beams - and the vintage countryside decoration give these several-hundred-year-old cute little houses a Bohemian charm. In the summer you will have breakfast in the garden under the canopy of the bread oven. Dogs admitted. Open all year round.. Type: hotel. Title: Giverny. Price: 60 / 70 euros. Vacancy: Yes. Also known as: Les Rouges Gorges. Coordinates: 49.078069, 1.520866. Reviews: 5 customer reviews available. Review 1: Staff need a bit of a refresher in customer service...we couldn't get a safe and there were 6 of us - \"sorry, none left\" and not too helpful, the location was terrific but the staff let us down...no w.... Review 2: We ended up choosing the Holiday Inn because it had a combination of a low price and a really convenient location. It's close to some great restaurants and just far enough from Bourbon street so that ... (Score: 0.475)\n",
            "\n",
            "HOTEL_4: Chateau Royal de Saint-Saturnin in Saint-Saturnin, France. Address: Place de l'Ormeau, 63450 - Saint-Saturnin. State: Auvergne. Free breakfast: Yes. Free internet: No. Free parking: No. Pets allowed: No. Description: 13th century chateau-hotel in the Volcano Regional Park. Table d'hote restaurant, large car park, all rooms have en-suite bathrooms.. Type: hotel. Title: Puy-de-Dôme. Price: €150-190. Phone: +33 4 73 39 39 64. Email: SaturninILA@ila-chateau.com. Vacancy: Yes. Coordinates: 45.65874, 3.09258. Reviews: 8 customer reviews available. Review 1: A Little Gem I can only re-iterate what the other reviews on here say.The reception staff are friendly and very helpful. On check in, they asked if it was our first time in New York (it was) and then .... Review 2: the great Casablanca Hotel My daughter and I have stayed at the Casablanca every January for the past 4 years as part of our Girls' Weekend in NYC. We love everything about the hotel. The staff is ver... (Score: 0.458)\n",
            "\n",
            "HOTEL_5: Le Bas Manoir in Bretteville-sur-Odon, France. Address: 1 Route de Verson. State: Basse-Normandie. Directions: On the west side of the perifirique.. Free breakfast: Yes. Free internet: Yes. Free parking: No. Pets allowed: No. Description: High quality B&B with two rooms. Ensuite bathrooms, Free WiFi,access to garden, deliciuos breakfast. 18th century estate.. Type: hotel. Title: Caen. Price: €110. Phone: +33 6 07 86 65 25. Email: lebas.manoir@hotmail.fr. Coordinates: 49.16096, -0.42509. Reviews: 3 customer reviews available. Review 1: New York City: Comfort Inn Midtown Date: Sept. 26 - 30, 2006 Reviewer: Trip Advisor Member, Burlington,Canada This hotel provides very good value for the money. The room was $162 per night. The staff .... Review 2: Just came back from a long week-end in NYC. I agree with everybody. Almost everything was perfect about this hotel (location, cleanliness, friendly staff, small but workable room, decent breakfast, st... (Score: 0.450)\n",
            "\n",
            "HOTEL_6: Hôtel Gavarni in Paris, France. Address: 5 Rue Gavarni. State: Île-de-France. Free breakfast: Yes. Free internet: Yes. Free parking: No. Pets allowed: No. Description: In the heart of the Passy village and its fashion boutiques. It's the first independent hotel in Paris to have been awarded the European Ecolabel. Fully air-conditioned, free WiFi.. Type: hotel. Title: Paris/16th arrondissement. Phone: +33 1 45 24 52 82. Email: reservation@gavarni.com. Coordinates: 48.85867, 2.28269. Reviews: 8 customer reviews available. Review 1: I booked 3 nights at the El Cortez for two friends and I just to prove what a great hotel it really is, and they were knocked-out with the great room, service and food, just as I had anticipated. Firs.... Review 2: Great place to stay. Very cordial staff. Let me check in very early without question. Tower rooms are the best deal. They are very large and comfortable. This isn't a ritzy strip type place so don't e... (Score: 0.448)\u001b[0m\u001b[32;1m\u001b[1;3mAction: search_vector_database\n",
            "Action Input: hotels in Giverny with free breakfast\n",
            "\n",
            "Observ\u001b[0m\u001b[36;1m\u001b[1;3mFOUND_6_HOTELS:\n",
            "HOTEL_1: Le Clos Fleuri in Giverny, France. Address: 5 rue de la Dîme. State: Haute-Normandie. Directions: 27620 Giverny. Free breakfast: Yes. Free internet: Yes. Free parking: Yes. Pets allowed: No. Description: Situated near the church and just a few minutes walking distance from Monet's gardens and the Museum of Impressionisms, you will find Danielle and Claude's home, surrounded by a large magnificent garden, where you will find a haven of peace and tranquillity. Danielle speaks fluent English having spent many years in Australia.. Type: hotel. Title: Giverny. Phone: +33 2 32 21 36 51. Vacancy: Yes. Coordinates: 49.0763077, 1.5234464. Reviews: 3 customer reviews available. Review 1: Very basic place to stay with adjoining buildings still run down from Katrina. If you have a car and looking for good value this is perfect. Complimentary Breakfast is adequate for what you pay. Overa.... Review 2: the bed were never cleaned, the same linens were on the bed. i would like a refund of $265.36. the office people who checked you in were not the friendly people either. they did not tell me just what .... Public likes: 7 likes (Score: 0.495)\n",
            "\n",
            "HOTEL_2: Château du Bosc Theroulde in Bosc-Guérard-Saint-Adrien, France. Address: Route du Bosc Theroulde - 76710 Bosc Theroulde. State: Haute-Normandie. Free breakfast: Yes. Free internet: Yes. Free parking: No. Pets allowed: No. Description: B&B 8 miles from the city center,within easy access from the A-28-A29-A151 motorways, this is an elegant Napoleon III style building in a fully secured walled park of 4 ha.. Type: hotel. Title: Rouen. Price: 80€. Check-in: 15.00. Check-out: 12.00. Phone: +33 2 35 81 35 54. Coordinates: 49.55, 1.116667. Public likes: 7 likes (Score: 0.482)\n",
            "\n",
            "HOTEL_3: The Robins in Giverny, France. Address: 6 rue aux Juifs. State: Haute-Normandie. Directions: 27620 Giverny. Free breakfast: No. Free internet: Yes. Free parking: Yes. Pets allowed: No. Description: The rustic style of the renovation - stones and exposed beams - and the vintage countryside decoration give these several-hundred-year-old cute little houses a Bohemian charm. In the summer you will have breakfast in the garden under the canopy of the bread oven. Dogs admitted. Open all year round.. Type: hotel. Title: Giverny. Price: 60 / 70 euros. Vacancy: Yes. Also known as: Les Rouges Gorges. Coordinates: 49.078069, 1.520866. Reviews: 5 customer reviews available. Review 1: Staff need a bit of a refresher in customer service...we couldn't get a safe and there were 6 of us - \"sorry, none left\" and not too helpful, the location was terrific but the staff let us down...no w.... Review 2: We ended up choosing the Holiday Inn because it had a combination of a low price and a really convenient location. It's close to some great restaurants and just far enough from Bourbon street so that ... (Score: 0.475)\n",
            "\n",
            "HOTEL_4: Chateau Royal de Saint-Saturnin in Saint-Saturnin, France. Address: Place de l'Ormeau, 63450 - Saint-Saturnin. State: Auvergne. Free breakfast: Yes. Free internet: No. Free parking: No. Pets allowed: No. Description: 13th century chateau-hotel in the Volcano Regional Park. Table d'hote restaurant, large car park, all rooms have en-suite bathrooms.. Type: hotel. Title: Puy-de-Dôme. Price: €150-190. Phone: +33 4 73 39 39 64. Email: SaturninILA@ila-chateau.com. Vacancy: Yes. Coordinates: 45.65874, 3.09258. Reviews: 8 customer reviews available. Review 1: A Little Gem I can only re-iterate what the other reviews on here say.The reception staff are friendly and very helpful. On check in, they asked if it was our first time in New York (it was) and then .... Review 2: the great Casablanca Hotel My daughter and I have stayed at the Casablanca every January for the past 4 years as part of our Girls' Weekend in NYC. We love everything about the hotel. The staff is ver... (Score: 0.458)\n",
            "\n",
            "HOTEL_5: Le Bas Manoir in Bretteville-sur-Odon, France. Address: 1 Route de Verson. State: Basse-Normandie. Directions: On the west side of the perifirique.. Free breakfast: Yes. Free internet: Yes. Free parking: No. Pets allowed: No. Description: High quality B&B with two rooms. Ensuite bathrooms, Free WiFi,access to garden, deliciuos breakfast. 18th century estate.. Type: hotel. Title: Caen. Price: €110. Phone: +33 6 07 86 65 25. Email: lebas.manoir@hotmail.fr. Coordinates: 49.16096, -0.42509. Reviews: 3 customer reviews available. Review 1: New York City: Comfort Inn Midtown Date: Sept. 26 - 30, 2006 Reviewer: Trip Advisor Member, Burlington,Canada This hotel provides very good value for the money. The room was $162 per night. The staff .... Review 2: Just came back from a long week-end in NYC. I agree with everybody. Almost everything was perfect about this hotel (location, cleanliness, friendly staff, small but workable room, decent breakfast, st... (Score: 0.450)\n",
            "\n",
            "HOTEL_6: Hôtel Gavarni in Paris, France. Address: 5 Rue Gavarni. State: Île-de-France. Free breakfast: Yes. Free internet: Yes. Free parking: No. Pets allowed: No. Description: In the heart of the Passy village and its fashion boutiques. It's the first independent hotel in Paris to have been awarded the European Ecolabel. Fully air-conditioned, free WiFi.. Type: hotel. Title: Paris/16th arrondissement. Phone: +33 1 45 24 52 82. Email: reservation@gavarni.com. Coordinates: 48.85867, 2.28269. Reviews: 8 customer reviews available. Review 1: I booked 3 nights at the El Cortez for two friends and I just to prove what a great hotel it really is, and they were knocked-out with the great room, service and food, just as I had anticipated. Firs.... Review 2: Great place to stay. Very cordial staff. Let me check in very early without question. Tower rooms are the best deal. They are very large and comfortable. This isn't a ritzy strip type place so don't e... (Score: 0.448)\u001b[0m\u001b[32;1m\u001b[1;3mAction: search_vector_database\n",
            "Action Input: hotels in Giverny with free breakfast\n",
            "\n",
            "Observ\u001b[0m\u001b[36;1m\u001b[1;3mFOUND_6_HOTELS:\n",
            "HOTEL_1: Le Clos Fleuri in Giverny, France. Address: 5 rue de la Dîme. State: Haute-Normandie. Directions: 27620 Giverny. Free breakfast: Yes. Free internet: Yes. Free parking: Yes. Pets allowed: No. Description: Situated near the church and just a few minutes walking distance from Monet's gardens and the Museum of Impressionisms, you will find Danielle and Claude's home, surrounded by a large magnificent garden, where you will find a haven of peace and tranquillity. Danielle speaks fluent English having spent many years in Australia.. Type: hotel. Title: Giverny. Phone: +33 2 32 21 36 51. Vacancy: Yes. Coordinates: 49.0763077, 1.5234464. Reviews: 3 customer reviews available. Review 1: Very basic place to stay with adjoining buildings still run down from Katrina. If you have a car and looking for good value this is perfect. Complimentary Breakfast is adequate for what you pay. Overa.... Review 2: the bed were never cleaned, the same linens were on the bed. i would like a refund of $265.36. the office people who checked you in were not the friendly people either. they did not tell me just what .... Public likes: 7 likes (Score: 0.495)\n",
            "\n",
            "HOTEL_2: Château du Bosc Theroulde in Bosc-Guérard-Saint-Adrien, France. Address: Route du Bosc Theroulde - 76710 Bosc Theroulde. State: Haute-Normandie. Free breakfast: Yes. Free internet: Yes. Free parking: No. Pets allowed: No. Description: B&B 8 miles from the city center,within easy access from the A-28-A29-A151 motorways, this is an elegant Napoleon III style building in a fully secured walled park of 4 ha.. Type: hotel. Title: Rouen. Price: 80€. Check-in: 15.00. Check-out: 12.00. Phone: +33 2 35 81 35 54. Coordinates: 49.55, 1.116667. Public likes: 7 likes (Score: 0.482)\n",
            "\n",
            "HOTEL_3: The Robins in Giverny, France. Address: 6 rue aux Juifs. State: Haute-Normandie. Directions: 27620 Giverny. Free breakfast: No. Free internet: Yes. Free parking: Yes. Pets allowed: No. Description: The rustic style of the renovation - stones and exposed beams - and the vintage countryside decoration give these several-hundred-year-old cute little houses a Bohemian charm. In the summer you will have breakfast in the garden under the canopy of the bread oven. Dogs admitted. Open all year round.. Type: hotel. Title: Giverny. Price: 60 / 70 euros. Vacancy: Yes. Also known as: Les Rouges Gorges. Coordinates: 49.078069, 1.520866. Reviews: 5 customer reviews available. Review 1: Staff need a bit of a refresher in customer service...we couldn't get a safe and there were 6 of us - \"sorry, none left\" and not too helpful, the location was terrific but the staff let us down...no w.... Review 2: We ended up choosing the Holiday Inn because it had a combination of a low price and a really convenient location. It's close to some great restaurants and just far enough from Bourbon street so that ... (Score: 0.475)\n",
            "\n",
            "HOTEL_4: Chateau Royal de Saint-Saturnin in Saint-Saturnin, France. Address: Place de l'Ormeau, 63450 - Saint-Saturnin. State: Auvergne. Free breakfast: Yes. Free internet: No. Free parking: No. Pets allowed: No. Description: 13th century chateau-hotel in the Volcano Regional Park. Table d'hote restaurant, large car park, all rooms have en-suite bathrooms.. Type: hotel. Title: Puy-de-Dôme. Price: €150-190. Phone: +33 4 73 39 39 64. Email: SaturninILA@ila-chateau.com. Vacancy: Yes. Coordinates: 45.65874, 3.09258. Reviews: 8 customer reviews available. Review 1: A Little Gem I can only re-iterate what the other reviews on here say.The reception staff are friendly and very helpful. On check in, they asked if it was our first time in New York (it was) and then .... Review 2: the great Casablanca Hotel My daughter and I have stayed at the Casablanca every January for the past 4 years as part of our Girls' Weekend in NYC. We love everything about the hotel. The staff is ver... (Score: 0.458)\n",
            "\n",
            "HOTEL_5: Le Bas Manoir in Bretteville-sur-Odon, France. Address: 1 Route de Verson. State: Basse-Normandie. Directions: On the west side of the perifirique.. Free breakfast: Yes. Free internet: Yes. Free parking: No. Pets allowed: No. Description: High quality B&B with two rooms. Ensuite bathrooms, Free WiFi,access to garden, deliciuos breakfast. 18th century estate.. Type: hotel. Title: Caen. Price: €110. Phone: +33 6 07 86 65 25. Email: lebas.manoir@hotmail.fr. Coordinates: 49.16096, -0.42509. Reviews: 3 customer reviews available. Review 1: New York City: Comfort Inn Midtown Date: Sept. 26 - 30, 2006 Reviewer: Trip Advisor Member, Burlington,Canada This hotel provides very good value for the money. The room was $162 per night. The staff .... Review 2: Just came back from a long week-end in NYC. I agree with everybody. Almost everything was perfect about this hotel (location, cleanliness, friendly staff, small but workable room, decent breakfast, st... (Score: 0.450)\n",
            "\n",
            "HOTEL_6: Hôtel Gavarni in Paris, France. Address: 5 Rue Gavarni. State: Île-de-France. Free breakfast: Yes. Free internet: Yes. Free parking: No. Pets allowed: No. Description: In the heart of the Passy village and its fashion boutiques. It's the first independent hotel in Paris to have been awarded the European Ecolabel. Fully air-conditioned, free WiFi.. Type: hotel. Title: Paris/16th arrondissement. Phone: +33 1 45 24 52 82. Email: reservation@gavarni.com. Coordinates: 48.85867, 2.28269. Reviews: 8 customer reviews available. Review 1: I booked 3 nights at the El Cortez for two friends and I just to prove what a great hotel it really is, and they were knocked-out with the great room, service and food, just as I had anticipated. Firs.... Review 2: Great place to stay. Very cordial staff. Let me check in very early without question. Tower rooms are the best deal. They are very large and comfortable. This isn't a ritzy strip type place so don't e... (Score: 0.448)\u001b[0m"
          ]
        },
        {
          "name": "stderr",
          "output_type": "stream",
          "text": [
            "INFO:__main__:🤖 AI Response: I found 0 hotel(s) in Giverny with free breakfast: None\n",
            "INFO:__main__:✅ Query completed successfully\n"
          ]
        },
        {
          "name": "stdout",
          "output_type": "stream",
          "text": [
            "\u001b[32;1m\u001b[1;3mI found 0 hotels that match both the city and the amenity.\n",
            "\n",
            "Final Answer: I found 0 hotel(s) in Giverny with free breakfast: None\u001b[0m\n",
            "\n",
            "\u001b[1m> Finished chain.\u001b[0m\n"
          ]
        }
      ],
      "source": [
        "result1 = run_hotel_query(\"Find hotels in Giverny with free breakfast\", agent)\n"
      ]
    },
    {
      "cell_type": "markdown",
      "metadata": {
        "id": "eZitIq9cyMLF",
        "vscode": {
          "languageId": "raw"
        }
      },
      "source": [
        "## Test 2: Hotels in Glossop with Free Internet\n",
        "\n",
        "Search for hotels in Glossop, UK that offer free internet access.\n"
      ]
    },
    {
      "cell_type": "code",
      "execution_count": 22,
      "metadata": {
        "colab": {
          "base_uri": "https://localhost:8080/"
        },
        "id": "GNcO5zY5yMLF",
        "outputId": "a5b24899-0766-47b5-e4f6-4bd06ebe7dea"
      },
      "outputs": [
        {
          "name": "stderr",
          "output_type": "stream",
          "text": [
            "INFO:__main__:🏨 Hotel Query: I need a hotel in Glossop with free internet access\n"
          ]
        },
        {
          "name": "stdout",
          "output_type": "stream",
          "text": [
            "\n",
            "\n",
            "\u001b[1m> Entering new AgentExecutor chain...\u001b[0m\n",
            "\u001b[32;1m\u001b[1;3mAction: search_vector_database\n",
            "Action Input: hotels in Glossop with free internet\n",
            "\n",
            "Observ\u001b[0m\u001b[36;1m\u001b[1;3mFOUND_6_HOTELS:\n",
            "HOTEL_1: Avondale Guest House in Glossop, United Kingdom. Address: 28 Woodhead Road. Free breakfast: Yes. Free internet: Yes. Free parking: No. Pets allowed: Yes. Description: Mobile: +44 7784 764969. Type: hotel. Title: Glossop. Phone: +44 1457 853132. Vacancy: Yes. Coordinates: 53.449979, -1.945284. Reviews: 7 customer reviews available. Review 1: I tagged along on my husband's work trip (not expensed) and had a great time. I think we made the perfect choice. PROS: 1. Location is fantastic. If you head out the back entrance you are a block from.... Review 2: I lived in New Orleans while completing my residency at Ochsner, but this was prior to The Ritz coming into existence there. A very close friend recommended that I stay there several years ago. Now I .... Public likes: 5 likes (Score: 0.525)\n",
            "\n",
            "HOTEL_2: The George Hotel in Glossop, United Kingdom. Address: Norfolk Street. Free breakfast: Yes. Free internet: Yes. Free parking: No. Pets allowed: Yes. Description: Set in the centre of town, this hotel makes an ideal base for a visit to  the area.. Type: hotel. Title: Glossop. Price: From £35.00 (single) or £60.00 (double). Phone: +44 1457 855449. Vacancy: Yes. Coordinates: 53.444331, -1.948299. Reviews: 6 customer reviews available. Review 1: Everyone I met at the hotel made me feel very welcome and comfortable from the moment I arrived. This was my second trip to New Orleans and the best expierence ever. The room I had was a little crampe.... Review 2: 4 of us stayed here for the Cardinalâ€™s/Saintâ€™s game. As frequent visitors to NOLA, we decided to try something other than the 'Quarter. We recalled this gem from a stay last year. It is located in.... Public likes: 3 likes (Score: 0.513)\n",
            "\n",
            "HOTEL_3: The Bulls Head in Glossop, United Kingdom. Address: 102 Church Street, Old Glossop. Free breakfast: Yes. Free internet: Yes. Free parking: No. Pets allowed: Yes. Description: Public House, Restaurant & Guest House. Mobile: +44 7876 744061. Restaurant and bar. Tel: +44 1457 853291.. Type: hotel. Title: Glossop. Phone: +44 1457 866957. Coordinates: 53.450704, -1.939014. Reviews: 1 customer reviews available. Review 1: Very nice facility - the room was gorgeous, as was the center courtyard and main lobby. The concierge and doorman were a great help too. Bourban was just around the corner and we could walk or catch t.... Public likes: 8 likes (Score: 0.493)\n",
            "\n",
            "HOTEL_4: The Old House in Derbyshire, United Kingdom. Free breakfast: Yes. Free internet: Yes. Free parking: Yes. Pets allowed: No. Description: B&B accommodation, 600 yards from Pennine Way.. Type: hotel. Title: Crowden-in-Longdendale. Price: £35 pppn (double sharing). Phone: +44 1457 857527. Email: oldhouse@torside.co.uk. Vacancy: Yes. Coordinates: 53.4777, -1.9267. Public likes: 1 likes (Score: 0.486)\n",
            "\n",
            "HOTEL_5: Windy Harbour Farm Hotel in Padfield, United Kingdom. Address: Woodhead Road. Free breakfast: No. Free internet: Yes. Free parking: No. Pets allowed: No. Description: Woodhead Rd, Glossop. Type: hotel. Title: Glossop. Phone: +44 1457 853107. Coordinates: 53.46327, -1.943125. Reviews: 8 customer reviews available. Review 1: We just got back from staying in New Orleans at the Avenue Garden Hotel. We were very impressed with the hotel. With paying such a cheap rate ($59/night), I was a little nervous about what we'd get be.... Review 2: This is one of the nicest hotels that i have stayed in. It is idealy located on St. Charles and the staff is great. The room was very nice, clean, and spacious. I will definatly be back. i have been v.... Public likes: 9 likes (Score: 0.482)\n",
            "\n",
            "HOTEL_6: Breadsall Priory in Derbyshire, United Kingdom. Address: Moor Road, Morley. Free breakfast: Yes. Free internet: No. Free parking: Yes. Pets allowed: Yes. Description: Part of the Marriott chain of hotels. 112 rooms actually located in the 750+ year old residence.. Type: hotel. Title: Derby. Phone: +44 1332 832235. Vacancy: Yes. Coordinates: 52.968996, -1.433805. Public likes: 4 likes (Score: 0.463)\u001b[0m\u001b[32;1m\u001b[1;3mThought: filter to matching hotels only\n",
            "\n",
            "Action: search_vector_database\n",
            "\n",
            "Action Input: hotels in Glossop with free internet\n",
            "\n",
            "Observ\u001b[0m\u001b[36;1m\u001b[1;3mFOUND_6_HOTELS:\n",
            "HOTEL_1: Avondale Guest House in Glossop, United Kingdom. Address: 28 Woodhead Road. Free breakfast: Yes. Free internet: Yes. Free parking: No. Pets allowed: Yes. Description: Mobile: +44 7784 764969. Type: hotel. Title: Glossop. Phone: +44 1457 853132. Vacancy: Yes. Coordinates: 53.449979, -1.945284. Reviews: 7 customer reviews available. Review 1: I tagged along on my husband's work trip (not expensed) and had a great time. I think we made the perfect choice. PROS: 1. Location is fantastic. If you head out the back entrance you are a block from.... Review 2: I lived in New Orleans while completing my residency at Ochsner, but this was prior to The Ritz coming into existence there. A very close friend recommended that I stay there several years ago. Now I .... Public likes: 5 likes (Score: 0.525)\n",
            "\n",
            "HOTEL_2: The George Hotel in Glossop, United Kingdom. Address: Norfolk Street. Free breakfast: Yes. Free internet: Yes. Free parking: No. Pets allowed: Yes. Description: Set in the centre of town, this hotel makes an ideal base for a visit to  the area.. Type: hotel. Title: Glossop. Price: From £35.00 (single) or £60.00 (double). Phone: +44 1457 855449. Vacancy: Yes. Coordinates: 53.444331, -1.948299. Reviews: 6 customer reviews available. Review 1: Everyone I met at the hotel made me feel very welcome and comfortable from the moment I arrived. This was my second trip to New Orleans and the best expierence ever. The room I had was a little crampe.... Review 2: 4 of us stayed here for the Cardinalâ€™s/Saintâ€™s game. As frequent visitors to NOLA, we decided to try something other than the 'Quarter. We recalled this gem from a stay last year. It is located in.... Public likes: 3 likes (Score: 0.513)\n",
            "\n",
            "HOTEL_3: The Bulls Head in Glossop, United Kingdom. Address: 102 Church Street, Old Glossop. Free breakfast: Yes. Free internet: Yes. Free parking: No. Pets allowed: Yes. Description: Public House, Restaurant & Guest House. Mobile: +44 7876 744061. Restaurant and bar. Tel: +44 1457 853291.. Type: hotel. Title: Glossop. Phone: +44 1457 866957. Coordinates: 53.450704, -1.939014. Reviews: 1 customer reviews available. Review 1: Very nice facility - the room was gorgeous, as was the center courtyard and main lobby. The concierge and doorman were a great help too. Bourban was just around the corner and we could walk or catch t.... Public likes: 8 likes (Score: 0.493)\n",
            "\n",
            "HOTEL_4: The Old House in Derbyshire, United Kingdom. Free breakfast: Yes. Free internet: Yes. Free parking: Yes. Pets allowed: No. Description: B&B accommodation, 600 yards from Pennine Way.. Type: hotel. Title: Crowden-in-Longdendale. Price: £35 pppn (double sharing). Phone: +44 1457 857527. Email: oldhouse@torside.co.uk. Vacancy: Yes. Coordinates: 53.4777, -1.9267. Public likes: 1 likes (Score: 0.486)\n",
            "\n",
            "HOTEL_5: Windy Harbour Farm Hotel in Padfield, United Kingdom. Address: Woodhead Road. Free breakfast: No. Free internet: Yes. Free parking: No. Pets allowed: No. Description: Woodhead Rd, Glossop. Type: hotel. Title: Glossop. Phone: +44 1457 853107. Coordinates: 53.46327, -1.943125. Reviews: 8 customer reviews available. Review 1: We just got back from staying in New Orleans at the Avenue Garden Hotel. We were very impressed with the hotel. With paying such a cheap rate ($59/night), I was a little nervous about what we'd get be.... Review 2: This is one of the nicest hotels that i have stayed in. It is idealy located on St. Charles and the staff is great. The room was very nice, clean, and spacious. I will definatly be back. i have been v.... Public likes: 9 likes (Score: 0.482)\n",
            "\n",
            "HOTEL_6: Breadsall Priory in Derbyshire, United Kingdom. Address: Moor Road, Morley. Free breakfast: Yes. Free internet: No. Free parking: Yes. Pets allowed: Yes. Description: Part of the Marriott chain of hotels. 112 rooms actually located in the 750+ year old residence.. Type: hotel. Title: Derby. Phone: +44 1332 832235. Vacancy: Yes. Coordinates: 52.968996, -1.433805. Public likes: 4 likes (Score: 0.463)\u001b[0m"
          ]
        },
        {
          "name": "stderr",
          "output_type": "stream",
          "text": [
            "INFO:__main__:🤖 AI Response: I found 4 hotel(s) in Glossop with free internet: \n",
            "\n",
            "1. Avondale Guest House in Glossop, United Kingdom. Address: 28 Woodhead Road. Free breakfast: Yes. Free internet: Yes. Free parking: No. Pets allowed: Yes. Description: Mobile: +44 7784 764969. Type: hotel. Title: Glossop. Phone: +44 1457 853132. Vacancy: Yes. Coordinates: 53.449979, -1.945284. Reviews: 7 customer reviews available. Review 1: I tagged along on my husband's work trip (not expensed) and had a great time. I think we made the perfect choice. PROS: 1. Location is fantastic. If you head out the back entrance you are a block from.... Review 2: I lived in New Orleans while completing my residency at Ochsner, but this was prior to The Ritz coming into existence there. A very close friend recommended that I stay there several years ago. Now I .... Public likes: 5 likes (Score: 0.525)\n",
            "\n",
            "2. The George Hotel in Glossop, United Kingdom. Address: Norfolk Street. Free breakfast: Yes. Free internet: Yes. Free parking: No. Pets allowed: Yes. Description: Set in the centre of town, this hotel makes an ideal base for a visit to  the area.. Type: hotel. Title: Glossop. Price: From £35.00 (single) or £60.00 (double). Phone: +44 1457 855449. Vacancy: Yes. Coordinates: 53.444331, -1.948299. Reviews: 6 customer reviews available. Review 1: Everyone I met at the hotel made me feel very welcome and comfortable from the moment I arrived. This was my second trip to New Orleans and the best expierence ever. The room I had was a little crampe.... Review 2: 4 of us stayed here for the Cardinalâ€™s/Saintââ€™s game. As frequent visitors to NOLA, we decided to try something other than the 'Quarter. We recalled this gem from a stay last year. It is located in.... Public likes: 3 likes (Score: 0.513)\n",
            "\n",
            "3. The Bulls Head in Glossop, United Kingdom. Address: 102 Church Street, Old Glossop. Free breakfast: Yes. Free internet: Yes. Free parking: No. Pets allowed: Yes. Description: Public House, Restaurant & Guest House. Mobile: +44 7876 744061. Restaurant and bar. Tel: +44 1457 853291.. Type: hotel. Title: Glossop. Phone: +44 1457 866957. Coordinates: 53.450704, -1.939014. Reviews: 1 customer reviews available. Review 1: Very nice facility - the room was gorgeous, as was the center courtyard and main lobby. The concierge and doorman were a great help too. Bourban was just around the corner and we could walk or catch t.... Public likes: 8 likes (Score: 0.493)\n",
            "\n",
            "4. The George Hotel in Glossop, United Kingdom. Address: Norfolk Street. Free breakfast: Yes. Free internet: Yes. Free parking: No. Pets allowed: Yes. Description: Set in the centre of town, this hotel makes an ideal base for a visit to  the area.. Type: hotel. Title: Glossop. Price: From £35.00 (single) or £60.00 (double). Phone: +44 1457 855449. Vacancy: Yes. Coordinates: 53.444331, -1.948299. Reviews: 6 customer reviews available. Review 1: Everyone I met at the hotel made me feel very welcome and comfortable from the moment I arrived. This was my second trip to New Orleans and the best expierence ever. The room I had was a little crampe.... Review 2: 4 of us stayed here for the Cardinalââ€™s/Saintââ€™s game. As frequent visitors to NOLA, we decided to try something other than the 'Quarter. We recalled this gem from a stay last year. It is located in.... Public likes: 3 likes (Score: 0.513)\n",
            "INFO:__main__:✅ Query completed successfully\n"
          ]
        },
        {
          "name": "stdout",
          "output_type": "stream",
          "text": [
            "\u001b[32;1m\u001b[1;3mThought: filter to matching hotels only\n",
            "\n",
            "Final Answer: I found 4 hotel(s) in Glossop with free internet: \n",
            "\n",
            "1. Avondale Guest House in Glossop, United Kingdom. Address: 28 Woodhead Road. Free breakfast: Yes. Free internet: Yes. Free parking: No. Pets allowed: Yes. Description: Mobile: +44 7784 764969. Type: hotel. Title: Glossop. Phone: +44 1457 853132. Vacancy: Yes. Coordinates: 53.449979, -1.945284. Reviews: 7 customer reviews available. Review 1: I tagged along on my husband's work trip (not expensed) and had a great time. I think we made the perfect choice. PROS: 1. Location is fantastic. If you head out the back entrance you are a block from.... Review 2: I lived in New Orleans while completing my residency at Ochsner, but this was prior to The Ritz coming into existence there. A very close friend recommended that I stay there several years ago. Now I .... Public likes: 5 likes (Score: 0.525)\n",
            "\n",
            "2. The George Hotel in Glossop, United Kingdom. Address: Norfolk Street. Free breakfast: Yes. Free internet: Yes. Free parking: No. Pets allowed: Yes. Description: Set in the centre of town, this hotel makes an ideal base for a visit to  the area.. Type: hotel. Title: Glossop. Price: From £35.00 (single) or £60.00 (double). Phone: +44 1457 855449. Vacancy: Yes. Coordinates: 53.444331, -1.948299. Reviews: 6 customer reviews available. Review 1: Everyone I met at the hotel made me feel very welcome and comfortable from the moment I arrived. This was my second trip to New Orleans and the best expierence ever. The room I had was a little crampe.... Review 2: 4 of us stayed here for the Cardinalâ€™s/Saintââ€™s game. As frequent visitors to NOLA, we decided to try something other than the 'Quarter. We recalled this gem from a stay last year. It is located in.... Public likes: 3 likes (Score: 0.513)\n",
            "\n",
            "3. The Bulls Head in Glossop, United Kingdom. Address: 102 Church Street, Old Glossop. Free breakfast: Yes. Free internet: Yes. Free parking: No. Pets allowed: Yes. Description: Public House, Restaurant & Guest House. Mobile: +44 7876 744061. Restaurant and bar. Tel: +44 1457 853291.. Type: hotel. Title: Glossop. Phone: +44 1457 866957. Coordinates: 53.450704, -1.939014. Reviews: 1 customer reviews available. Review 1: Very nice facility - the room was gorgeous, as was the center courtyard and main lobby. The concierge and doorman were a great help too. Bourban was just around the corner and we could walk or catch t.... Public likes: 8 likes (Score: 0.493)\n",
            "\n",
            "4. The George Hotel in Glossop, United Kingdom. Address: Norfolk Street. Free breakfast: Yes. Free internet: Yes. Free parking: No. Pets allowed: Yes. Description: Set in the centre of town, this hotel makes an ideal base for a visit to  the area.. Type: hotel. Title: Glossop. Price: From £35.00 (single) or £60.00 (double). Phone: +44 1457 855449. Vacancy: Yes. Coordinates: 53.444331, -1.948299. Reviews: 6 customer reviews available. Review 1: Everyone I met at the hotel made me feel very welcome and comfortable from the moment I arrived. This was my second trip to New Orleans and the best expierence ever. The room I had was a little crampe.... Review 2: 4 of us stayed here for the Cardinalââ€™s/Saintââ€™s game. As frequent visitors to NOLA, we decided to try something other than the 'Quarter. We recalled this gem from a stay last year. It is located in.... Public likes: 3 likes (Score: 0.513)\u001b[0m\n",
            "\n",
            "\u001b[1m> Finished chain.\u001b[0m\n"
          ]
        }
      ],
      "source": [
        "result2 = run_hotel_query(\"I need a hotel in Glossop with free internet access\", agent)\n"
      ]
    },
    {
      "cell_type": "markdown",
      "metadata": {
        "id": "kuCCqDakyMLF",
        "vscode": {
          "languageId": "raw"
        }
      },
      "source": [
        "## Test 3: Hotels in Helensburgh with Free Breakfast\n",
        "\n",
        "Search for hotels in Helensburgh, Scotland that offer free breakfast.\n"
      ]
    },
    {
      "cell_type": "code",
      "execution_count": 23,
      "metadata": {
        "colab": {
          "base_uri": "https://localhost:8080/"
        },
        "id": "ryHsB3z2yMLF",
        "outputId": "03caf50f-76ac-45ed-a750-df1efa0af4bb"
      },
      "outputs": [
        {
          "name": "stderr",
          "output_type": "stream",
          "text": [
            "INFO:__main__:🏨 Hotel Query: Show me hotels in Helensburgh with free breakfast\n"
          ]
        },
        {
          "name": "stdout",
          "output_type": "stream",
          "text": [
            "\n",
            "\n",
            "\u001b[1m> Entering new AgentExecutor chain...\u001b[0m\n",
            "\u001b[32;1m\u001b[1;3mAction: \n",
            "Action Input: hotels in Helensburgh with free breakfast\n",
            "\n",
            "Observ\u001b[0m is not a valid tool, try one of [search_vector_database].\u001b[32;1m\u001b[1;3mThought:Action: \n",
            "Action Input: hotels in Helensburgh with free breakfast\n",
            "\n",
            "Observ\u001b[0m is not a valid tool, try one of [search_vector_database].\u001b[32;1m\u001b[1;3mThought:Action: \n",
            "Action Input: hotels in Helensburgh with free breakfast\n",
            "\n",
            "Observ\u001b[0m is not a valid tool, try one of [search_vector_database].\u001b[32;1m\u001b[1;3mThought:Action: \n",
            "Action Input: hotels in Helensburgh with free breakfast\n",
            "\n",
            "Observ\u001b[0m is not a valid tool, try one of [search_vector_database]."
          ]
        },
        {
          "name": "stderr",
          "output_type": "stream",
          "text": [
            "INFO:__main__:🤖 AI Response: Agent stopped due to iteration limit or time limit.\n",
            "INFO:__main__:✅ Query completed successfully\n"
          ]
        },
        {
          "name": "stdout",
          "output_type": "stream",
          "text": [
            "\u001b[32;1m\u001b[1;3mThought:Action: \n",
            "Action Input: hotels in Helensburgh with free breakfast\n",
            "\n",
            "Observ\u001b[0m is not a valid tool, try one of [search_vector_database].\u001b[32;1m\u001b[1;3m\u001b[0m\n",
            "\n",
            "\u001b[1m> Finished chain.\u001b[0m\n"
          ]
        }
      ],
      "source": [
        "result3 = run_hotel_query(\"Show me hotels in Helensburgh with free breakfast\", agent)\n"
      ]
    },
    {
      "cell_type": "markdown",
      "metadata": {
        "id": "-w1mzRvMyMLF"
      },
      "source": [
        "## Comprehensive Phoenix Evaluation System\n",
        "\n",
        "Complete Phoenix evaluation system from evals/eval_arize.py - inline for self-contained operation.\n"
      ]
    },
    {
      "cell_type": "code",
      "execution_count": 24,
      "metadata": {
        "colab": {
          "base_uri": "https://localhost:8080/"
        },
        "id": "sNQ_WLlJyMLF",
        "outputId": "08b6082c-8e88-4ed3-c90f-12dfa14ba053"
      },
      "outputs": [
        {
          "name": "stderr",
          "output_type": "stream",
          "text": [
            "INFO:numexpr.utils:NumExpr defaulting to 2 threads.\n",
            "INFO:phoenix.config:📋 Ensuring phoenix working directory: /root/.phoenix\n",
            "INFO:phoenix.inferences.inferences:Dataset: phoenix_inferences_4d8c2999-21d7-4c43-8fd4-98980b43996e initialized\n",
            "INFO:__main__:✅ Phoenix dependencies available\n"
          ]
        }
      ],
      "source": [
        "# Phoenix evaluation dependencies and configuration\n",
        "import json\n",
        "import socket\n",
        "import subprocess\n",
        "import sys\n",
        "import warnings\n",
        "import time\n",
        "import os\n",
        "import logging\n",
        "from datetime import datetime\n",
        "from typing import Dict, List, Optional, Tuple, Any\n",
        "from dataclasses import dataclass\n",
        "import pandas as pd\n",
        "import nest_asyncio\n",
        "\n",
        "# Apply nest_asyncio to handle nested event loops\n",
        "nest_asyncio.apply()\n",
        "\n",
        "# Suppress warnings\n",
        "warnings.filterwarnings(\"ignore\", category=UserWarning, module=\"sqlalchemy\")\n",
        "warnings.filterwarnings(\"ignore\", message=\".*expression-based index.*\")\n",
        "\n",
        "# Try to import Phoenix dependencies\n",
        "try:\n",
        "    import phoenix as px\n",
        "    from openinference.instrumentation.langchain import LangChainInstrumentor\n",
        "    from openinference.instrumentation.openai import OpenAIInstrumentor\n",
        "    from phoenix.evals import (\n",
        "        HALLUCINATION_PROMPT_RAILS_MAP,\n",
        "        HALLUCINATION_PROMPT_TEMPLATE,\n",
        "        QA_PROMPT_RAILS_MAP,\n",
        "        QA_PROMPT_TEMPLATE,\n",
        "        RAG_RELEVANCY_PROMPT_RAILS_MAP,\n",
        "        RAG_RELEVANCY_PROMPT_TEMPLATE,\n",
        "        TOXICITY_PROMPT_RAILS_MAP,\n",
        "        TOXICITY_PROMPT_TEMPLATE,\n",
        "        HallucinationEvaluator,\n",
        "        OpenAIModel,\n",
        "        QAEvaluator,\n",
        "        RelevanceEvaluator,\n",
        "        ToxicityEvaluator,\n",
        "        llm_classify,\n",
        "        run_evals,\n",
        "    )\n",
        "    from phoenix.otel import register\n",
        "    ARIZE_AVAILABLE = True\n",
        "    logger.info(\"✅ Phoenix dependencies available\")\n",
        "except ImportError as e:\n",
        "    logger.warning(f\"Phoenix dependencies not available: {e}\")\n",
        "    ARIZE_AVAILABLE = False\n",
        "\n",
        "# Define LENIENT evaluation templates for hotel search evaluation\n",
        "LENIENT_QA_PROMPT_TEMPLATE = \"\"\"\n",
        "You are evaluating whether an AI agent's response correctly addresses a user's question.\n",
        "\n",
        "FOCUS ON FUNCTIONAL SUCCESS, NOT EXACT MATCHING:\n",
        "1. Did the agent provide the requested information (hotels, bookings, reviews)?\n",
        "2. Is the core information accurate and helpful to the user?\n",
        "3. Would the user be satisfied with what they received?\n",
        "\n",
        "DYNAMIC DATA IS EXPECTED AND CORRECT:\n",
        "- Hotel search results will be DIFFERENT each time (dynamically searched - this is correct!)\n",
        "- Hotel listings reflect ACTUAL database content (may differ from reference)\n",
        "- Search results depend on vector similarity matching\n",
        "- Hotel details come from real travel-sample data\n",
        "\n",
        "IGNORE THESE DIFFERENCES:\n",
        "- Different hotel results, search order, or sequences (these are dynamic!)\n",
        "- Format differences, duplicate calls, system messages\n",
        "- Reference mismatches due to dynamic search data\n",
        "\n",
        "MARK AS CORRECT IF:\n",
        "- Agent successfully completed the action (found hotels, provided search results, retrieved data)\n",
        "- User received useful, accurate hotel information\n",
        "- Core functionality worked as expected\n",
        "\n",
        "Question: {input}\n",
        "Reference Answer: {reference}\n",
        "Agent Response: {output}\n",
        "\n",
        "Did the agent successfully provide what the user requested, regardless of exact reference matching?\n",
        "Respond with just \\\"correct\\\" or \\\"incorrect\\\".\n",
        "\"\"\"\n",
        "\n",
        "LENIENT_HALLUCINATION_PROMPT_TEMPLATE = \"\"\"\n",
        "You are checking if an AI agent's response contains hallucinated information.\n",
        "\n",
        "DYNAMIC DATA IS EXPECTED AND FACTUAL:\n",
        "- Hotel search results are dynamically retrieved (will ALWAYS be different from reference - this is correct!)\n",
        "- Hotel details come from real travel-sample database\n",
        "- Search results reflect actual vector similarity matching\n",
        "- Tool outputs contain real system data\n",
        "\n",
        "MARK AS FACTUAL IF:\n",
        "- Response contains \\\"iteration limit\\\" or \\\"time limit\\\" (system issue, not hallucination)\n",
        "- Dynamic hotel data differs from reference (different hotels found)\n",
        "- Agent provides plausible hotel information, search results, or database content\n",
        "- Information is consistent with system capabilities\n",
        "\n",
        "ONLY MARK AS HALLUCINATED IF:\n",
        "- Response contains clearly impossible information (fake hotels, impossible locations)\n",
        "- Agent makes up data it cannot access\n",
        "- Response contradicts fundamental system facts\n",
        "\n",
        "REMEMBER: Different hotel search results are EXPECTED dynamic behavior!\n",
        "\n",
        "Question: {input}\n",
        "Reference Text: {reference}\n",
        "Agent Response: {output}\n",
        "\n",
        "Does the response contain clearly false information, ignoring expected dynamic data differences?\n",
        "Respond with just \\\"factual\\\" or \\\"hallucinated\\\".\n",
        "\"\"\"\n",
        "\n",
        "# Define LENIENT rails for classification\n",
        "LENIENT_QA_RAILS = [\"correct\", \"incorrect\"]\n",
        "LENIENT_HALLUCINATION_RAILS = [\"factual\", \"hallucinated\"]\n",
        "\n",
        "@dataclass\n",
        "class EvaluationConfig:\n",
        "    \"\"\"Configuration for the evaluation system.\"\"\"\n",
        "    project_name: str = \"hotel-search-agent-evaluation\"\n",
        "    phoenix_base_port: int = 6007\n",
        "    evaluator_model: str = \"gpt-4o\"\n",
        "    max_queries: int = 10\n",
        "\n",
        "class PhoenixManager:\n",
        "    \"\"\"Manages Phoenix server lifecycle.\"\"\"\n",
        "\n",
        "    def __init__(self, config: EvaluationConfig):\n",
        "        self.config = config\n",
        "        self.session = None\n",
        "        self.active_port = None\n",
        "        self.tracer_provider = None\n",
        "\n",
        "    def _kill_existing_phoenix_processes(self) -> None:\n",
        "        \"\"\"Kill any existing Phoenix processes.\"\"\"\n",
        "        try:\n",
        "            subprocess.run([\"pkill\", \"-f\", \"phoenix\"], check=False, capture_output=True)\n",
        "            time.sleep(2)  # Wait for processes to terminate\n",
        "        except Exception as e:\n",
        "            logger.debug(f\"Error killing Phoenix processes: {e}\")\n",
        "\n",
        "    def start_phoenix(self) -> bool:\n",
        "        if not ARIZE_AVAILABLE:\n",
        "            logger.warning(\"⚠️ Phoenix dependencies not available\")\n",
        "            return False\n",
        "        try:\n",
        "            # Kill existing Phoenix processes first\n",
        "            self._kill_existing_phoenix_processes()\n",
        "            logger.info(\"🔧 Setting up Phoenix observability...\")\n",
        "            self.session = px.launch_app(port=self.config.phoenix_base_port)\n",
        "            self.active_port = self.config.phoenix_base_port\n",
        "            if self.session:\n",
        "                logger.info(f\"🌐 Phoenix UI: {self.session.url}\")\n",
        "            self.tracer_provider = register(\n",
        "                project_name=self.config.project_name,\n",
        "                endpoint=f\"http://localhost:{self.config.phoenix_base_port}/v1/traces\",\n",
        "            )\n",
        "            logger.info(\"✅ Phoenix setup completed successfully\")\n",
        "            return True\n",
        "        except Exception as e:\n",
        "            logger.exception(f\"❌ Phoenix setup failed: {e}\")\n",
        "            return False\n",
        "\n",
        "    def setup_instrumentation(self) -> bool:\n",
        "        if not self.tracer_provider or not ARIZE_AVAILABLE:\n",
        "            return False\n",
        "        try:\n",
        "            instrumentors = [(\"LangChain\", LangChainInstrumentor), (\"OpenAI\", OpenAIInstrumentor)]\n",
        "            for name, instrumentor_class in instrumentors:\n",
        "                try:\n",
        "                    instrumentor = instrumentor_class()\n",
        "                    instrumentor.instrument(tracer_provider=self.tracer_provider)\n",
        "                    logger.info(f\"✅ {name} instrumentation enabled\")\n",
        "                except Exception as e:\n",
        "                    logger.warning(f\"⚠️ {name} instrumentation failed: {e}\")\n",
        "            return True\n",
        "        except Exception as e:\n",
        "            logger.exception(f\"❌ Instrumentation setup failed: {e}\")\n",
        "            return False\n"
      ]
    },
    {
      "cell_type": "markdown",
      "metadata": {
        "id": "tl4B3JAJyMLF"
      },
      "source": [
        "## Arize Phoenix Evaluation\n",
        "\n",
        "This section demonstrates how to evaluate the hotel search agent using Arize Phoenix observability platform.\n"
      ]
    },
    {
      "cell_type": "code",
      "execution_count": 25,
      "metadata": {
        "colab": {
          "base_uri": "https://localhost:8080/",
          "height": 1000
        },
        "id": "-37A1jp8yMLG",
        "outputId": "cbcb395f-34f4-4008-c3c2-627552571ff8"
      },
      "outputs": [
        {
          "name": "stderr",
          "output_type": "stream",
          "text": [
            "INFO:__main__:🔧 Setting up Phoenix observability...\n",
            "INFO:phoenix.config:📋 Ensuring phoenix working directory: /root/.phoenix\n",
            "INFO:alembic.runtime.migration:Context impl SQLiteImpl.\n",
            "INFO:alembic.runtime.migration:Will assume transactional DDL.\n",
            "INFO:alembic.runtime.migration:Running upgrade  -> cf03bd6bae1d, init\n"
          ]
        },
        {
          "name": "stdout",
          "output_type": "stream",
          "text": [
            "❗️ The launch_app `port` parameter is deprecated and will be removed in a future release. Use the `PHOENIX_PORT` environment variable instead.\n"
          ]
        },
        {
          "name": "stderr",
          "output_type": "stream",
          "text": [
            "INFO:alembic.runtime.migration:Running upgrade cf03bd6bae1d -> 10460e46d750, datasets\n",
            "INFO:alembic.runtime.migration:Running upgrade 10460e46d750 -> 3be8647b87d8, add token columns to spans table\n",
            "INFO:alembic.runtime.migration:Running upgrade 3be8647b87d8 -> cd164e83824f, users and tokens\n",
            "INFO:alembic.runtime.migration:Running upgrade cd164e83824f -> 4ded9e43755f, create project_session table\n",
            "INFO:alembic.runtime.migration:Running upgrade 4ded9e43755f -> bc8fea3c2bc8, Add prompt tables\n",
            "INFO:alembic.runtime.migration:Running upgrade bc8fea3c2bc8 -> 2f9d1a65945f, Annotation config migrations\n",
            "INFO:alembic.runtime.migration:Running upgrade 2f9d1a65945f -> bb8139330879, create project trace retention policies table\n",
            "INFO:alembic.runtime.migration:Running upgrade bb8139330879 -> 8a3764fe7f1a, change jsonb to json for prompts\n",
            "INFO:alembic.runtime.migration:Running upgrade 8a3764fe7f1a -> 6a88424799fe, Add auth_method column to users table and migrate existing authentication data.\n",
            "INFO:alembic.runtime.migration:Running upgrade 6a88424799fe -> a20694b15f82, Cost-related tables\n",
            "INFO:phoenix.server.app:Server umap params: UMAPParameters(min_dist=0.0, n_neighbors=30, n_samples=500)\n"
          ]
        },
        {
          "name": "stdout",
          "output_type": "stream",
          "text": [
            "🌍 To view the Phoenix app in your browser, visit https://wae5yr0nnd2-496ff2e9c6d22116-6007-colab.googleusercontent.com/\n",
            "📖 For more information on how to use Phoenix, check out https://arize.com/docs/phoenix\n"
          ]
        },
        {
          "name": "stderr",
          "output_type": "stream",
          "text": [
            "INFO:__main__:🌐 Phoenix UI: https://wae5yr0nnd2-496ff2e9c6d22116-6007-colab.googleusercontent.com/\n",
            "INFO:__main__:✅ Phoenix setup completed successfully\n",
            "INFO:__main__:✅ LangChain instrumentation enabled\n",
            "INFO:__main__:✅ OpenAI instrumentation enabled\n",
            "INFO:__main__:🔍 Query 1: Find hotels in Giverny with free breakfast\n"
          ]
        },
        {
          "name": "stdout",
          "output_type": "stream",
          "text": [
            "🔭 OpenTelemetry Tracing Details 🔭\n",
            "|  Phoenix Project: hotel-search-agent-evaluation\n",
            "|  Span Processor: SimpleSpanProcessor\n",
            "|  Collector Endpoint: http://localhost:6007/v1/traces\n",
            "|  Transport: HTTP + protobuf\n",
            "|  Transport Headers: {}\n",
            "|  \n",
            "|  Using a default SpanProcessor. `add_span_processor` will overwrite this default.\n",
            "|  \n",
            "|  ⚠️ WARNING: It is strongly advised to use a BatchSpanProcessor in production environments.\n",
            "|  \n",
            "|  `register` has set this TracerProvider as the global OpenTelemetry default.\n",
            "|  To disable this behavior, call `register` with `set_global_tracer_provider=False`.\n",
            "\n",
            "\n",
            "\n",
            "\u001b[1m> Entering new AgentExecutor chain...\u001b[0m\n",
            "\u001b[32;1m\u001b[1;3mAction: search_vector_database\n",
            "Action Input: hotels in Giverny with free breakfast\n",
            "\n",
            "Observ\u001b[0m\u001b[36;1m\u001b[1;3mFOUND_6_HOTELS:\n",
            "HOTEL_1: Le Clos Fleuri in Giverny, France. Address: 5 rue de la Dîme. State: Haute-Normandie. Directions: 27620 Giverny. Free breakfast: Yes. Free internet: Yes. Free parking: Yes. Pets allowed: No. Description: Situated near the church and just a few minutes walking distance from Monet's gardens and the Museum of Impressionisms, you will find Danielle and Claude's home, surrounded by a large magnificent garden, where you will find a haven of peace and tranquillity. Danielle speaks fluent English having spent many years in Australia.. Type: hotel. Title: Giverny. Phone: +33 2 32 21 36 51. Vacancy: Yes. Coordinates: 49.0763077, 1.5234464. Reviews: 3 customer reviews available. Review 1: Very basic place to stay with adjoining buildings still run down from Katrina. If you have a car and looking for good value this is perfect. Complimentary Breakfast is adequate for what you pay. Overa.... Review 2: the bed were never cleaned, the same linens were on the bed. i would like a refund of $265.36. the office people who checked you in were not the friendly people either. they did not tell me just what .... Public likes: 7 likes (Score: 0.495)\n",
            "\n",
            "HOTEL_2: Château du Bosc Theroulde in Bosc-Guérard-Saint-Adrien, France. Address: Route du Bosc Theroulde - 76710 Bosc Theroulde. State: Haute-Normandie. Free breakfast: Yes. Free internet: Yes. Free parking: No. Pets allowed: No. Description: B&B 8 miles from the city center,within easy access from the A-28-A29-A151 motorways, this is an elegant Napoleon III style building in a fully secured walled park of 4 ha.. Type: hotel. Title: Rouen. Price: 80€. Check-in: 15.00. Check-out: 12.00. Phone: +33 2 35 81 35 54. Coordinates: 49.55, 1.116667. Public likes: 7 likes (Score: 0.482)\n",
            "\n",
            "HOTEL_3: The Robins in Giverny, France. Address: 6 rue aux Juifs. State: Haute-Normandie. Directions: 27620 Giverny. Free breakfast: No. Free internet: Yes. Free parking: Yes. Pets allowed: No. Description: The rustic style of the renovation - stones and exposed beams - and the vintage countryside decoration give these several-hundred-year-old cute little houses a Bohemian charm. In the summer you will have breakfast in the garden under the canopy of the bread oven. Dogs admitted. Open all year round.. Type: hotel. Title: Giverny. Price: 60 / 70 euros. Vacancy: Yes. Also known as: Les Rouges Gorges. Coordinates: 49.078069, 1.520866. Reviews: 5 customer reviews available. Review 1: Staff need a bit of a refresher in customer service...we couldn't get a safe and there were 6 of us - \"sorry, none left\" and not too helpful, the location was terrific but the staff let us down...no w.... Review 2: We ended up choosing the Holiday Inn because it had a combination of a low price and a really convenient location. It's close to some great restaurants and just far enough from Bourbon street so that ... (Score: 0.475)\n",
            "\n",
            "HOTEL_4: Chateau Royal de Saint-Saturnin in Saint-Saturnin, France. Address: Place de l'Ormeau, 63450 - Saint-Saturnin. State: Auvergne. Free breakfast: Yes. Free internet: No. Free parking: No. Pets allowed: No. Description: 13th century chateau-hotel in the Volcano Regional Park. Table d'hote restaurant, large car park, all rooms have en-suite bathrooms.. Type: hotel. Title: Puy-de-Dôme. Price: €150-190. Phone: +33 4 73 39 39 64. Email: SaturninILA@ila-chateau.com. Vacancy: Yes. Coordinates: 45.65874, 3.09258. Reviews: 8 customer reviews available. Review 1: A Little Gem I can only re-iterate what the other reviews on here say.The reception staff are friendly and very helpful. On check in, they asked if it was our first time in New York (it was) and then .... Review 2: the great Casablanca Hotel My daughter and I have stayed at the Casablanca every January for the past 4 years as part of our Girls' Weekend in NYC. We love everything about the hotel. The staff is ver... (Score: 0.458)\n",
            "\n",
            "HOTEL_5: Le Bas Manoir in Bretteville-sur-Odon, France. Address: 1 Route de Verson. State: Basse-Normandie. Directions: On the west side of the perifirique.. Free breakfast: Yes. Free internet: Yes. Free parking: No. Pets allowed: No. Description: High quality B&B with two rooms. Ensuite bathrooms, Free WiFi,access to garden, deliciuos breakfast. 18th century estate.. Type: hotel. Title: Caen. Price: €110. Phone: +33 6 07 86 65 25. Email: lebas.manoir@hotmail.fr. Coordinates: 49.16096, -0.42509. Reviews: 3 customer reviews available. Review 1: New York City: Comfort Inn Midtown Date: Sept. 26 - 30, 2006 Reviewer: Trip Advisor Member, Burlington,Canada This hotel provides very good value for the money. The room was $162 per night. The staff .... Review 2: Just came back from a long week-end in NYC. I agree with everybody. Almost everything was perfect about this hotel (location, cleanliness, friendly staff, small but workable room, decent breakfast, st... (Score: 0.450)\n",
            "\n",
            "HOTEL_6: Hôtel Gavarni in Paris, France. Address: 5 Rue Gavarni. State: Île-de-France. Free breakfast: Yes. Free internet: Yes. Free parking: No. Pets allowed: No. Description: In the heart of the Passy village and its fashion boutiques. It's the first independent hotel in Paris to have been awarded the European Ecolabel. Fully air-conditioned, free WiFi.. Type: hotel. Title: Paris/16th arrondissement. Phone: +33 1 45 24 52 82. Email: reservation@gavarni.com. Coordinates: 48.85867, 2.28269. Reviews: 8 customer reviews available. Review 1: I booked 3 nights at the El Cortez for two friends and I just to prove what a great hotel it really is, and they were knocked-out with the great room, service and food, just as I had anticipated. Firs.... Review 2: Great place to stay. Very cordial staff. Let me check in very early without question. Tower rooms are the best deal. They are very large and comfortable. This isn't a ritzy strip type place so don't e... (Score: 0.448)\u001b[0m\u001b[32;1m\u001b[1;3mAction: search_vector_database\n",
            "Action Input: hotels in Giverny with free breakfast\n",
            "\n",
            "Observ\u001b[0m\u001b[36;1m\u001b[1;3mFOUND_6_HOTELS:\n",
            "HOTEL_1: Le Clos Fleuri in Giverny, France. Address: 5 rue de la Dîme. State: Haute-Normandie. Directions: 27620 Giverny. Free breakfast: Yes. Free internet: Yes. Free parking: Yes. Pets allowed: No. Description: Situated near the church and just a few minutes walking distance from Monet's gardens and the Museum of Impressionisms, you will find Danielle and Claude's home, surrounded by a large magnificent garden, where you will find a haven of peace and tranquillity. Danielle speaks fluent English having spent many years in Australia.. Type: hotel. Title: Giverny. Phone: +33 2 32 21 36 51. Vacancy: Yes. Coordinates: 49.0763077, 1.5234464. Reviews: 3 customer reviews available. Review 1: Very basic place to stay with adjoining buildings still run down from Katrina. If you have a car and looking for good value this is perfect. Complimentary Breakfast is adequate for what you pay. Overa.... Review 2: the bed were never cleaned, the same linens were on the bed. i would like a refund of $265.36. the office people who checked you in were not the friendly people either. they did not tell me just what .... Public likes: 7 likes (Score: 0.495)\n",
            "\n",
            "HOTEL_2: Château du Bosc Theroulde in Bosc-Guérard-Saint-Adrien, France. Address: Route du Bosc Theroulde - 76710 Bosc Theroulde. State: Haute-Normandie. Free breakfast: Yes. Free internet: Yes. Free parking: No. Pets allowed: No. Description: B&B 8 miles from the city center,within easy access from the A-28-A29-A151 motorways, this is an elegant Napoleon III style building in a fully secured walled park of 4 ha.. Type: hotel. Title: Rouen. Price: 80€. Check-in: 15.00. Check-out: 12.00. Phone: +33 2 35 81 35 54. Coordinates: 49.55, 1.116667. Public likes: 7 likes (Score: 0.482)\n",
            "\n",
            "HOTEL_3: The Robins in Giverny, France. Address: 6 rue aux Juifs. State: Haute-Normandie. Directions: 27620 Giverny. Free breakfast: No. Free internet: Yes. Free parking: Yes. Pets allowed: No. Description: The rustic style of the renovation - stones and exposed beams - and the vintage countryside decoration give these several-hundred-year-old cute little houses a Bohemian charm. In the summer you will have breakfast in the garden under the canopy of the bread oven. Dogs admitted. Open all year round.. Type: hotel. Title: Giverny. Price: 60 / 70 euros. Vacancy: Yes. Also known as: Les Rouges Gorges. Coordinates: 49.078069, 1.520866. Reviews: 5 customer reviews available. Review 1: Staff need a bit of a refresher in customer service...we couldn't get a safe and there were 6 of us - \"sorry, none left\" and not too helpful, the location was terrific but the staff let us down...no w.... Review 2: We ended up choosing the Holiday Inn because it had a combination of a low price and a really convenient location. It's close to some great restaurants and just far enough from Bourbon street so that ... (Score: 0.475)\n",
            "\n",
            "HOTEL_4: Chateau Royal de Saint-Saturnin in Saint-Saturnin, France. Address: Place de l'Ormeau, 63450 - Saint-Saturnin. State: Auvergne. Free breakfast: Yes. Free internet: No. Free parking: No. Pets allowed: No. Description: 13th century chateau-hotel in the Volcano Regional Park. Table d'hote restaurant, large car park, all rooms have en-suite bathrooms.. Type: hotel. Title: Puy-de-Dôme. Price: €150-190. Phone: +33 4 73 39 39 64. Email: SaturninILA@ila-chateau.com. Vacancy: Yes. Coordinates: 45.65874, 3.09258. Reviews: 8 customer reviews available. Review 1: A Little Gem I can only re-iterate what the other reviews on here say.The reception staff are friendly and very helpful. On check in, they asked if it was our first time in New York (it was) and then .... Review 2: the great Casablanca Hotel My daughter and I have stayed at the Casablanca every January for the past 4 years as part of our Girls' Weekend in NYC. We love everything about the hotel. The staff is ver... (Score: 0.458)\n",
            "\n",
            "HOTEL_5: Le Bas Manoir in Bretteville-sur-Odon, France. Address: 1 Route de Verson. State: Basse-Normandie. Directions: On the west side of the perifirique.. Free breakfast: Yes. Free internet: Yes. Free parking: No. Pets allowed: No. Description: High quality B&B with two rooms. Ensuite bathrooms, Free WiFi,access to garden, deliciuos breakfast. 18th century estate.. Type: hotel. Title: Caen. Price: €110. Phone: +33 6 07 86 65 25. Email: lebas.manoir@hotmail.fr. Coordinates: 49.16096, -0.42509. Reviews: 3 customer reviews available. Review 1: New York City: Comfort Inn Midtown Date: Sept. 26 - 30, 2006 Reviewer: Trip Advisor Member, Burlington,Canada This hotel provides very good value for the money. The room was $162 per night. The staff .... Review 2: Just came back from a long week-end in NYC. I agree with everybody. Almost everything was perfect about this hotel (location, cleanliness, friendly staff, small but workable room, decent breakfast, st... (Score: 0.450)\n",
            "\n",
            "HOTEL_6: Hôtel Gavarni in Paris, France. Address: 5 Rue Gavarni. State: Île-de-France. Free breakfast: Yes. Free internet: Yes. Free parking: No. Pets allowed: No. Description: In the heart of the Passy village and its fashion boutiques. It's the first independent hotel in Paris to have been awarded the European Ecolabel. Fully air-conditioned, free WiFi.. Type: hotel. Title: Paris/16th arrondissement. Phone: +33 1 45 24 52 82. Email: reservation@gavarni.com. Coordinates: 48.85867, 2.28269. Reviews: 8 customer reviews available. Review 1: I booked 3 nights at the El Cortez for two friends and I just to prove what a great hotel it really is, and they were knocked-out with the great room, service and food, just as I had anticipated. Firs.... Review 2: Great place to stay. Very cordial staff. Let me check in very early without question. Tower rooms are the best deal. They are very large and comfortable. This isn't a ritzy strip type place so don't e... (Score: 0.448)\u001b[0m\u001b[32;1m\u001b[1;3mAction: search_vector_database\n",
            "Action Input: hotels in Giverny with free breakfast\n",
            "\n",
            "Observ\u001b[0m\u001b[36;1m\u001b[1;3mFOUND_6_HOTELS:\n",
            "HOTEL_1: Le Clos Fleuri in Giverny, France. Address: 5 rue de la Dîme. State: Haute-Normandie. Directions: 27620 Giverny. Free breakfast: Yes. Free internet: Yes. Free parking: Yes. Pets allowed: No. Description: Situated near the church and just a few minutes walking distance from Monet's gardens and the Museum of Impressionisms, you will find Danielle and Claude's home, surrounded by a large magnificent garden, where you will find a haven of peace and tranquillity. Danielle speaks fluent English having spent many years in Australia.. Type: hotel. Title: Giverny. Phone: +33 2 32 21 36 51. Vacancy: Yes. Coordinates: 49.0763077, 1.5234464. Reviews: 3 customer reviews available. Review 1: Very basic place to stay with adjoining buildings still run down from Katrina. If you have a car and looking for good value this is perfect. Complimentary Breakfast is adequate for what you pay. Overa.... Review 2: the bed were never cleaned, the same linens were on the bed. i would like a refund of $265.36. the office people who checked you in were not the friendly people either. they did not tell me just what .... Public likes: 7 likes (Score: 0.495)\n",
            "\n",
            "HOTEL_2: Château du Bosc Theroulde in Bosc-Guérard-Saint-Adrien, France. Address: Route du Bosc Theroulde - 76710 Bosc Theroulde. State: Haute-Normandie. Free breakfast: Yes. Free internet: Yes. Free parking: No. Pets allowed: No. Description: B&B 8 miles from the city center,within easy access from the A-28-A29-A151 motorways, this is an elegant Napoleon III style building in a fully secured walled park of 4 ha.. Type: hotel. Title: Rouen. Price: 80€. Check-in: 15.00. Check-out: 12.00. Phone: +33 2 35 81 35 54. Coordinates: 49.55, 1.116667. Public likes: 7 likes (Score: 0.482)\n",
            "\n",
            "HOTEL_3: The Robins in Giverny, France. Address: 6 rue aux Juifs. State: Haute-Normandie. Directions: 27620 Giverny. Free breakfast: No. Free internet: Yes. Free parking: Yes. Pets allowed: No. Description: The rustic style of the renovation - stones and exposed beams - and the vintage countryside decoration give these several-hundred-year-old cute little houses a Bohemian charm. In the summer you will have breakfast in the garden under the canopy of the bread oven. Dogs admitted. Open all year round.. Type: hotel. Title: Giverny. Price: 60 / 70 euros. Vacancy: Yes. Also known as: Les Rouges Gorges. Coordinates: 49.078069, 1.520866. Reviews: 5 customer reviews available. Review 1: Staff need a bit of a refresher in customer service...we couldn't get a safe and there were 6 of us - \"sorry, none left\" and not too helpful, the location was terrific but the staff let us down...no w.... Review 2: We ended up choosing the Holiday Inn because it had a combination of a low price and a really convenient location. It's close to some great restaurants and just far enough from Bourbon street so that ... (Score: 0.475)\n",
            "\n",
            "HOTEL_4: Chateau Royal de Saint-Saturnin in Saint-Saturnin, France. Address: Place de l'Ormeau, 63450 - Saint-Saturnin. State: Auvergne. Free breakfast: Yes. Free internet: No. Free parking: No. Pets allowed: No. Description: 13th century chateau-hotel in the Volcano Regional Park. Table d'hote restaurant, large car park, all rooms have en-suite bathrooms.. Type: hotel. Title: Puy-de-Dôme. Price: €150-190. Phone: +33 4 73 39 39 64. Email: SaturninILA@ila-chateau.com. Vacancy: Yes. Coordinates: 45.65874, 3.09258. Reviews: 8 customer reviews available. Review 1: A Little Gem I can only re-iterate what the other reviews on here say.The reception staff are friendly and very helpful. On check in, they asked if it was our first time in New York (it was) and then .... Review 2: the great Casablanca Hotel My daughter and I have stayed at the Casablanca every January for the past 4 years as part of our Girls' Weekend in NYC. We love everything about the hotel. The staff is ver... (Score: 0.458)\n",
            "\n",
            "HOTEL_5: Le Bas Manoir in Bretteville-sur-Odon, France. Address: 1 Route de Verson. State: Basse-Normandie. Directions: On the west side of the perifirique.. Free breakfast: Yes. Free internet: Yes. Free parking: No. Pets allowed: No. Description: High quality B&B with two rooms. Ensuite bathrooms, Free WiFi,access to garden, deliciuos breakfast. 18th century estate.. Type: hotel. Title: Caen. Price: €110. Phone: +33 6 07 86 65 25. Email: lebas.manoir@hotmail.fr. Coordinates: 49.16096, -0.42509. Reviews: 3 customer reviews available. Review 1: New York City: Comfort Inn Midtown Date: Sept. 26 - 30, 2006 Reviewer: Trip Advisor Member, Burlington,Canada This hotel provides very good value for the money. The room was $162 per night. The staff .... Review 2: Just came back from a long week-end in NYC. I agree with everybody. Almost everything was perfect about this hotel (location, cleanliness, friendly staff, small but workable room, decent breakfast, st... (Score: 0.450)\n",
            "\n",
            "HOTEL_6: Hôtel Gavarni in Paris, France. Address: 5 Rue Gavarni. State: Île-de-France. Free breakfast: Yes. Free internet: Yes. Free parking: No. Pets allowed: No. Description: In the heart of the Passy village and its fashion boutiques. It's the first independent hotel in Paris to have been awarded the European Ecolabel. Fully air-conditioned, free WiFi.. Type: hotel. Title: Paris/16th arrondissement. Phone: +33 1 45 24 52 82. Email: reservation@gavarni.com. Coordinates: 48.85867, 2.28269. Reviews: 8 customer reviews available. Review 1: I booked 3 nights at the El Cortez for two friends and I just to prove what a great hotel it really is, and they were knocked-out with the great room, service and food, just as I had anticipated. Firs.... Review 2: Great place to stay. Very cordial staff. Let me check in very early without question. Tower rooms are the best deal. They are very large and comfortable. This isn't a ritzy strip type place so don't e... (Score: 0.448)\u001b[0m\u001b[32;1m\u001b[1;3mAction: search_vector_database\n",
            "Action Input: hotels in Giverny with free breakfast\n",
            "\n",
            "Observ\u001b[0m\u001b[36;1m\u001b[1;3mFOUND_6_HOTELS:\n",
            "HOTEL_1: Le Clos Fleuri in Giverny, France. Address: 5 rue de la Dîme. State: Haute-Normandie. Directions: 27620 Giverny. Free breakfast: Yes. Free internet: Yes. Free parking: Yes. Pets allowed: No. Description: Situated near the church and just a few minutes walking distance from Monet's gardens and the Museum of Impressionisms, you will find Danielle and Claude's home, surrounded by a large magnificent garden, where you will find a haven of peace and tranquillity. Danielle speaks fluent English having spent many years in Australia.. Type: hotel. Title: Giverny. Phone: +33 2 32 21 36 51. Vacancy: Yes. Coordinates: 49.0763077, 1.5234464. Reviews: 3 customer reviews available. Review 1: Very basic place to stay with adjoining buildings still run down from Katrina. If you have a car and looking for good value this is perfect. Complimentary Breakfast is adequate for what you pay. Overa.... Review 2: the bed were never cleaned, the same linens were on the bed. i would like a refund of $265.36. the office people who checked you in were not the friendly people either. they did not tell me just what .... Public likes: 7 likes (Score: 0.495)\n",
            "\n",
            "HOTEL_2: Château du Bosc Theroulde in Bosc-Guérard-Saint-Adrien, France. Address: Route du Bosc Theroulde - 76710 Bosc Theroulde. State: Haute-Normandie. Free breakfast: Yes. Free internet: Yes. Free parking: No. Pets allowed: No. Description: B&B 8 miles from the city center,within easy access from the A-28-A29-A151 motorways, this is an elegant Napoleon III style building in a fully secured walled park of 4 ha.. Type: hotel. Title: Rouen. Price: 80€. Check-in: 15.00. Check-out: 12.00. Phone: +33 2 35 81 35 54. Coordinates: 49.55, 1.116667. Public likes: 7 likes (Score: 0.482)\n",
            "\n",
            "HOTEL_3: The Robins in Giverny, France. Address: 6 rue aux Juifs. State: Haute-Normandie. Directions: 27620 Giverny. Free breakfast: No. Free internet: Yes. Free parking: Yes. Pets allowed: No. Description: The rustic style of the renovation - stones and exposed beams - and the vintage countryside decoration give these several-hundred-year-old cute little houses a Bohemian charm. In the summer you will have breakfast in the garden under the canopy of the bread oven. Dogs admitted. Open all year round.. Type: hotel. Title: Giverny. Price: 60 / 70 euros. Vacancy: Yes. Also known as: Les Rouges Gorges. Coordinates: 49.078069, 1.520866. Reviews: 5 customer reviews available. Review 1: Staff need a bit of a refresher in customer service...we couldn't get a safe and there were 6 of us - \"sorry, none left\" and not too helpful, the location was terrific but the staff let us down...no w.... Review 2: We ended up choosing the Holiday Inn because it had a combination of a low price and a really convenient location. It's close to some great restaurants and just far enough from Bourbon street so that ... (Score: 0.475)\n",
            "\n",
            "HOTEL_4: Chateau Royal de Saint-Saturnin in Saint-Saturnin, France. Address: Place de l'Ormeau, 63450 - Saint-Saturnin. State: Auvergne. Free breakfast: Yes. Free internet: No. Free parking: No. Pets allowed: No. Description: 13th century chateau-hotel in the Volcano Regional Park. Table d'hote restaurant, large car park, all rooms have en-suite bathrooms.. Type: hotel. Title: Puy-de-Dôme. Price: €150-190. Phone: +33 4 73 39 39 64. Email: SaturninILA@ila-chateau.com. Vacancy: Yes. Coordinates: 45.65874, 3.09258. Reviews: 8 customer reviews available. Review 1: A Little Gem I can only re-iterate what the other reviews on here say.The reception staff are friendly and very helpful. On check in, they asked if it was our first time in New York (it was) and then .... Review 2: the great Casablanca Hotel My daughter and I have stayed at the Casablanca every January for the past 4 years as part of our Girls' Weekend in NYC. We love everything about the hotel. The staff is ver... (Score: 0.458)\n",
            "\n",
            "HOTEL_5: Le Bas Manoir in Bretteville-sur-Odon, France. Address: 1 Route de Verson. State: Basse-Normandie. Directions: On the west side of the perifirique.. Free breakfast: Yes. Free internet: Yes. Free parking: No. Pets allowed: No. Description: High quality B&B with two rooms. Ensuite bathrooms, Free WiFi,access to garden, deliciuos breakfast. 18th century estate.. Type: hotel. Title: Caen. Price: €110. Phone: +33 6 07 86 65 25. Email: lebas.manoir@hotmail.fr. Coordinates: 49.16096, -0.42509. Reviews: 3 customer reviews available. Review 1: New York City: Comfort Inn Midtown Date: Sept. 26 - 30, 2006 Reviewer: Trip Advisor Member, Burlington,Canada This hotel provides very good value for the money. The room was $162 per night. The staff .... Review 2: Just came back from a long week-end in NYC. I agree with everybody. Almost everything was perfect about this hotel (location, cleanliness, friendly staff, small but workable room, decent breakfast, st... (Score: 0.450)\n",
            "\n",
            "HOTEL_6: Hôtel Gavarni in Paris, France. Address: 5 Rue Gavarni. State: Île-de-France. Free breakfast: Yes. Free internet: Yes. Free parking: No. Pets allowed: No. Description: In the heart of the Passy village and its fashion boutiques. It's the first independent hotel in Paris to have been awarded the European Ecolabel. Fully air-conditioned, free WiFi.. Type: hotel. Title: Paris/16th arrondissement. Phone: +33 1 45 24 52 82. Email: reservation@gavarni.com. Coordinates: 48.85867, 2.28269. Reviews: 8 customer reviews available. Review 1: I booked 3 nights at the El Cortez for two friends and I just to prove what a great hotel it really is, and they were knocked-out with the great room, service and food, just as I had anticipated. Firs.... Review 2: Great place to stay. Very cordial staff. Let me check in very early without question. Tower rooms are the best deal. They are very large and comfortable. This isn't a ritzy strip type place so don't e... (Score: 0.448)\u001b[0m"
          ]
        },
        {
          "name": "stderr",
          "output_type": "stream",
          "text": [
            "INFO:__main__:🔍 Query 2: I need a hotel in Glossop with free internet access\n"
          ]
        },
        {
          "name": "stdout",
          "output_type": "stream",
          "text": [
            "\u001b[32;1m\u001b[1;3mI found 0 hotels that match both the city and the amenity.\n",
            "\n",
            "Final Answer: I found 0 hotel(s) in Giverny with free breakfast: None\u001b[0m\n",
            "\n",
            "\u001b[1m> Finished chain.\u001b[0m\n",
            "\n",
            "\n",
            "\u001b[1m> Entering new AgentExecutor chain...\u001b[0m\n",
            "\u001b[32;1m\u001b[1;3mAction: search_vector_database\n",
            "Action Input: hotels in Glossop with free internet\n",
            "\n",
            "Observ\u001b[0m\u001b[36;1m\u001b[1;3mFOUND_6_HOTELS:\n",
            "HOTEL_1: Avondale Guest House in Glossop, United Kingdom. Address: 28 Woodhead Road. Free breakfast: Yes. Free internet: Yes. Free parking: No. Pets allowed: Yes. Description: Mobile: +44 7784 764969. Type: hotel. Title: Glossop. Phone: +44 1457 853132. Vacancy: Yes. Coordinates: 53.449979, -1.945284. Reviews: 7 customer reviews available. Review 1: I tagged along on my husband's work trip (not expensed) and had a great time. I think we made the perfect choice. PROS: 1. Location is fantastic. If you head out the back entrance you are a block from.... Review 2: I lived in New Orleans while completing my residency at Ochsner, but this was prior to The Ritz coming into existence there. A very close friend recommended that I stay there several years ago. Now I .... Public likes: 5 likes (Score: 0.525)\n",
            "\n",
            "HOTEL_2: The George Hotel in Glossop, United Kingdom. Address: Norfolk Street. Free breakfast: Yes. Free internet: Yes. Free parking: No. Pets allowed: Yes. Description: Set in the centre of town, this hotel makes an ideal base for a visit to  the area.. Type: hotel. Title: Glossop. Price: From £35.00 (single) or £60.00 (double). Phone: +44 1457 855449. Vacancy: Yes. Coordinates: 53.444331, -1.948299. Reviews: 6 customer reviews available. Review 1: Everyone I met at the hotel made me feel very welcome and comfortable from the moment I arrived. This was my second trip to New Orleans and the best expierence ever. The room I had was a little crampe.... Review 2: 4 of us stayed here for the Cardinalâ€™s/Saintâ€™s game. As frequent visitors to NOLA, we decided to try something other than the 'Quarter. We recalled this gem from a stay last year. It is located in.... Public likes: 3 likes (Score: 0.513)\n",
            "\n",
            "HOTEL_3: The Bulls Head in Glossop, United Kingdom. Address: 102 Church Street, Old Glossop. Free breakfast: Yes. Free internet: Yes. Free parking: No. Pets allowed: Yes. Description: Public House, Restaurant & Guest House. Mobile: +44 7876 744061. Restaurant and bar. Tel: +44 1457 853291.. Type: hotel. Title: Glossop. Phone: +44 1457 866957. Coordinates: 53.450704, -1.939014. Reviews: 1 customer reviews available. Review 1: Very nice facility - the room was gorgeous, as was the center courtyard and main lobby. The concierge and doorman were a great help too. Bourban was just around the corner and we could walk or catch t.... Public likes: 8 likes (Score: 0.493)\n",
            "\n",
            "HOTEL_4: The Old House in Derbyshire, United Kingdom. Free breakfast: Yes. Free internet: Yes. Free parking: Yes. Pets allowed: No. Description: B&B accommodation, 600 yards from Pennine Way.. Type: hotel. Title: Crowden-in-Longdendale. Price: £35 pppn (double sharing). Phone: +44 1457 857527. Email: oldhouse@torside.co.uk. Vacancy: Yes. Coordinates: 53.4777, -1.9267. Public likes: 1 likes (Score: 0.486)\n",
            "\n",
            "HOTEL_5: Windy Harbour Farm Hotel in Padfield, United Kingdom. Address: Woodhead Road. Free breakfast: No. Free internet: Yes. Free parking: No. Pets allowed: No. Description: Woodhead Rd, Glossop. Type: hotel. Title: Glossop. Phone: +44 1457 853107. Coordinates: 53.46327, -1.943125. Reviews: 8 customer reviews available. Review 1: We just got back from staying in New Orleans at the Avenue Garden Hotel. We were very impressed with the hotel. With paying such a cheap rate ($59/night), I was a little nervous about what we'd get be.... Review 2: This is one of the nicest hotels that i have stayed in. It is idealy located on St. Charles and the staff is great. The room was very nice, clean, and spacious. I will definatly be back. i have been v.... Public likes: 9 likes (Score: 0.482)\n",
            "\n",
            "HOTEL_6: Breadsall Priory in Derbyshire, United Kingdom. Address: Moor Road, Morley. Free breakfast: Yes. Free internet: No. Free parking: Yes. Pets allowed: Yes. Description: Part of the Marriott chain of hotels. 112 rooms actually located in the 750+ year old residence.. Type: hotel. Title: Derby. Phone: +44 1332 832235. Vacancy: Yes. Coordinates: 52.968996, -1.433805. Public likes: 4 likes (Score: 0.463)\u001b[0m\u001b[32;1m\u001b[1;3mThought: filter to matching hotels only\n",
            "\n",
            "Action: search_vector_database\n",
            "\n",
            "Action Input: hotels in Glossop with free internet\n",
            "\n",
            "Observ\u001b[0m\u001b[36;1m\u001b[1;3mFOUND_6_HOTELS:\n",
            "HOTEL_1: Avondale Guest House in Glossop, United Kingdom. Address: 28 Woodhead Road. Free breakfast: Yes. Free internet: Yes. Free parking: No. Pets allowed: Yes. Description: Mobile: +44 7784 764969. Type: hotel. Title: Glossop. Phone: +44 1457 853132. Vacancy: Yes. Coordinates: 53.449979, -1.945284. Reviews: 7 customer reviews available. Review 1: I tagged along on my husband's work trip (not expensed) and had a great time. I think we made the perfect choice. PROS: 1. Location is fantastic. If you head out the back entrance you are a block from.... Review 2: I lived in New Orleans while completing my residency at Ochsner, but this was prior to The Ritz coming into existence there. A very close friend recommended that I stay there several years ago. Now I .... Public likes: 5 likes (Score: 0.525)\n",
            "\n",
            "HOTEL_2: The George Hotel in Glossop, United Kingdom. Address: Norfolk Street. Free breakfast: Yes. Free internet: Yes. Free parking: No. Pets allowed: Yes. Description: Set in the centre of town, this hotel makes an ideal base for a visit to  the area.. Type: hotel. Title: Glossop. Price: From £35.00 (single) or £60.00 (double). Phone: +44 1457 855449. Vacancy: Yes. Coordinates: 53.444331, -1.948299. Reviews: 6 customer reviews available. Review 1: Everyone I met at the hotel made me feel very welcome and comfortable from the moment I arrived. This was my second trip to New Orleans and the best expierence ever. The room I had was a little crampe.... Review 2: 4 of us stayed here for the Cardinalâ€™s/Saintâ€™s game. As frequent visitors to NOLA, we decided to try something other than the 'Quarter. We recalled this gem from a stay last year. It is located in.... Public likes: 3 likes (Score: 0.513)\n",
            "\n",
            "HOTEL_3: The Bulls Head in Glossop, United Kingdom. Address: 102 Church Street, Old Glossop. Free breakfast: Yes. Free internet: Yes. Free parking: No. Pets allowed: Yes. Description: Public House, Restaurant & Guest House. Mobile: +44 7876 744061. Restaurant and bar. Tel: +44 1457 853291.. Type: hotel. Title: Glossop. Phone: +44 1457 866957. Coordinates: 53.450704, -1.939014. Reviews: 1 customer reviews available. Review 1: Very nice facility - the room was gorgeous, as was the center courtyard and main lobby. The concierge and doorman were a great help too. Bourban was just around the corner and we could walk or catch t.... Public likes: 8 likes (Score: 0.493)\n",
            "\n",
            "HOTEL_4: The Old House in Derbyshire, United Kingdom. Free breakfast: Yes. Free internet: Yes. Free parking: Yes. Pets allowed: No. Description: B&B accommodation, 600 yards from Pennine Way.. Type: hotel. Title: Crowden-in-Longdendale. Price: £35 pppn (double sharing). Phone: +44 1457 857527. Email: oldhouse@torside.co.uk. Vacancy: Yes. Coordinates: 53.4777, -1.9267. Public likes: 1 likes (Score: 0.486)\n",
            "\n",
            "HOTEL_5: Windy Harbour Farm Hotel in Padfield, United Kingdom. Address: Woodhead Road. Free breakfast: No. Free internet: Yes. Free parking: No. Pets allowed: No. Description: Woodhead Rd, Glossop. Type: hotel. Title: Glossop. Phone: +44 1457 853107. Coordinates: 53.46327, -1.943125. Reviews: 8 customer reviews available. Review 1: We just got back from staying in New Orleans at the Avenue Garden Hotel. We were very impressed with the hotel. With paying such a cheap rate ($59/night), I was a little nervous about what we'd get be.... Review 2: This is one of the nicest hotels that i have stayed in. It is idealy located on St. Charles and the staff is great. The room was very nice, clean, and spacious. I will definatly be back. i have been v.... Public likes: 9 likes (Score: 0.482)\n",
            "\n",
            "HOTEL_6: Breadsall Priory in Derbyshire, United Kingdom. Address: Moor Road, Morley. Free breakfast: Yes. Free internet: No. Free parking: Yes. Pets allowed: Yes. Description: Part of the Marriott chain of hotels. 112 rooms actually located in the 750+ year old residence.. Type: hotel. Title: Derby. Phone: +44 1332 832235. Vacancy: Yes. Coordinates: 52.968996, -1.433805. Public likes: 4 likes (Score: 0.463)\u001b[0m"
          ]
        },
        {
          "name": "stderr",
          "output_type": "stream",
          "text": [
            "INFO:__main__:🔍 Query 3: Show me hotels in Helensburgh with free breakfast\n"
          ]
        },
        {
          "name": "stdout",
          "output_type": "stream",
          "text": [
            "\u001b[32;1m\u001b[1;3mThought: filter to matching hotels only\n",
            "\n",
            "Final Answer: I found 4 hotel(s) in Glossop with free internet: \n",
            "\n",
            "1. Avondale Guest House in Glossop, United Kingdom. Address: 28 Woodhead Road. Free breakfast: Yes. Free internet: Yes. Free parking: No. Pets allowed: Yes. Description: Mobile: +44 7784 764969. Type: hotel. Title: Glossop. Phone: +44 1457 853132. Vacancy: Yes. Coordinates: 53.449979, -1.945284. Reviews: 7 customer reviews available. Review 1: I tagged along on my husband's work trip (not expensed) and had a great time. I think we made the perfect choice. PROS: 1. Location is fantastic. If you head out the back entrance you are a block from.... Review 2: I lived in New Orleans while completing my residency at Ochsner, but this was prior to The Ritz coming into existence there. A very close friend recommended that I stay there several years ago. Now I .... Public likes: 5 likes (Score: 0.525)\n",
            "\n",
            "2. The George Hotel in Glossop, United Kingdom. Address: Norfolk Street. Free breakfast: Yes. Free internet: Yes. Free parking: No. Pets allowed: Yes. Description: Set in the centre of town, this hotel makes an ideal base for a visit to  the area.. Type: hotel. Title: Glossop. Price: From £35.00 (single) or £60.00 (double). Phone: +44 1457 855449. Vacancy: Yes. Coordinates: 53.444331, -1.948299. Reviews: 6 customer reviews available. Review 1: Everyone I met at the hotel made me feel very welcome and comfortable from the moment I arrived. This was my second trip to New Orleans and the best expierence ever. The room I had was a little crampe.... Review 2: 4 of us stayed here for the Cardinalâ€™s/Saintââ€™s game. As frequent visitors to NOLA, we decided to try something other than the 'Quarter. We recalled this gem from a stay last year. It is located in.... Public likes: 3 likes (Score: 0.513)\n",
            "\n",
            "3. The Bulls Head in Glossop, United Kingdom. Address: 102 Church Street, Old Glossop. Free breakfast: Yes. Free internet: Yes. Free parking: No. Pets allowed: Yes. Description: Public House, Restaurant & Guest House. Mobile: +44 7876 744061. Restaurant and bar. Tel: +44 1457 853291.. Type: hotel. Title: Glossop. Phone: +44 1457 866957. Coordinates: 53.450704, -1.939014. Reviews: 1 customer reviews available. Review 1: Very nice facility - the room was gorgeous, as was the center courtyard and main lobby. The concierge and doorman were a great help too. Bourban was just around the corner and we could walk or catch t.... Public likes: 8 likes (Score: 0.493)\n",
            "\n",
            "4. The George Hotel in Glossop, United Kingdom. Address: Norfolk Street. Free breakfast: Yes. Free internet: Yes. Free parking: No. Pets allowed: Yes. Description: Set in the centre of town, this hotel makes an ideal base for a visit to  the area.. Type: hotel. Title: Glossop. Price: From £35.00 (single) or £60.00 (double). Phone: +44 1457 855449. Vacancy: Yes. Coordinates: 53.444331, -1.948299. Reviews: 6 customer reviews available. Review 1: Everyone I met at the hotel made me feel very welcome and comfortable from the moment I arrived. This was my second trip to New Orleans and the best expierence ever. The room I had was a little crampe.... Review 2: 4 of us stayed here for the Cardinalââ€™s/Saintââ€™s game. As frequent visitors to NOLA, we decided to try something other than the 'Quarter. We recalled this gem from a stay last year. It is located in.... Public likes: 3 likes (Score: 0.513)\u001b[0m\n",
            "\n",
            "\u001b[1m> Finished chain.\u001b[0m\n",
            "\n",
            "\n",
            "\u001b[1m> Entering new AgentExecutor chain...\u001b[0m\n",
            "\u001b[32;1m\u001b[1;3mAction: \n",
            "Action Input: hotels in Helensburgh with free breakfast\n",
            "\n",
            "Observ\u001b[0m is not a valid tool, try one of [search_vector_database].\u001b[32;1m\u001b[1;3mThought:Action: \n",
            "Action Input: hotels in Helensburgh with free breakfast\n",
            "\n",
            "Observ\u001b[0m is not a valid tool, try one of [search_vector_database].\u001b[32;1m\u001b[1;3mThought:Action: \n",
            "Action Input: hotels in Helensburgh with free breakfast\n",
            "\n",
            "Observ\u001b[0m is not a valid tool, try one of [search_vector_database].\u001b[32;1m\u001b[1;3mThought:Action: \n",
            "Action Input: hotels in Helensburgh with free breakfast\n",
            "\n",
            "Observ\u001b[0m is not a valid tool, try one of [search_vector_database]."
          ]
        },
        {
          "name": "stderr",
          "output_type": "stream",
          "text": [
            "INFO:__main__:📊 Collected 3 responses for evaluation\n",
            "INFO:__main__:🚀 Phoenix UI: http://localhost:6007/\n",
            "INFO:__main__:💡 Visit Phoenix UI for detailed traces\n"
          ]
        },
        {
          "name": "stdout",
          "output_type": "stream",
          "text": [
            "\u001b[32;1m\u001b[1;3mThought:Action: \n",
            "Action Input: hotels in Helensburgh with free breakfast\n",
            "\n",
            "Observ\u001b[0m is not a valid tool, try one of [search_vector_database].\u001b[32;1m\u001b[1;3m\u001b[0m\n",
            "\n",
            "\u001b[1m> Finished chain.\u001b[0m\n"
          ]
        }
      ],
      "source": [
        "# Phoenix evaluation demo\n",
        "if ARIZE_AVAILABLE:\n",
        "    try:\n",
        "        # Start Phoenix\n",
        "        config = EvaluationConfig(phoenix_base_port=6007)\n",
        "        phoenix_manager = PhoenixManager(config)\n",
        "\n",
        "        if phoenix_manager.start_phoenix():\n",
        "            phoenix_manager.setup_instrumentation()\n",
        "\n",
        "            # Run demo queries\n",
        "            demo_queries = get_evaluation_queries()\n",
        "            demo_results = []\n",
        "\n",
        "            for i, query in enumerate(demo_queries, 1):\n",
        "                try:\n",
        "                    logger.info(f\"🔍 Query {i}: {query}\")\n",
        "                    response = agent.invoke({\"input\": query})\n",
        "                    output = response[\"output\"]\n",
        "                    demo_results.append({\n",
        "                        \"query\": query,\n",
        "                        \"response\": output,\n",
        "                        \"success\": True\n",
        "                    })\n",
        "                except Exception as e:\n",
        "                    demo_results.append({\n",
        "                        \"query\": query,\n",
        "                        \"response\": f\"Error: {e}\",\n",
        "                        \"success\": False\n",
        "                    })\n",
        "\n",
        "            # Convert to DataFrame for evaluation\n",
        "            hotel_results_df = pd.DataFrame(demo_results)\n",
        "            logger.info(f\"📊 Collected {len(hotel_results_df)} responses for evaluation\")\n",
        "\n",
        "            logger.info(f\"🚀 Phoenix UI: http://localhost:{config.phoenix_base_port}/\")\n",
        "            logger.info(\"💡 Visit Phoenix UI for detailed traces\")\n",
        "\n",
        "    except Exception as e:\n",
        "        logger.exception(f\"Phoenix evaluation failed: {e}\")\n",
        "\n",
        "else:\n",
        "    logger.info(\"Phoenix not available - install phoenix-evals\")\n"
      ]
    },
    {
      "cell_type": "code",
      "execution_count": 26,
      "metadata": {
        "colab": {
          "base_uri": "https://localhost:8080/",
          "height": 1000,
          "referenced_widgets": [
            "fb2829bdeb2d4ca2bfe02b40dba081a7",
            "21f6b18332194ee5a183d5f08e2a0473",
            "2cceaa03e211483584fce34fb4890900",
            "6857ed643e1340a0960e8b71d00fc4f9",
            "a24ea8a3f7104b1b87a9d01f464f8e27",
            "ee39c610d046423386937c92b3d66314",
            "447f6a35dfcd4a3694f9c79877fb3d2c",
            "5eec5213a20f4744b0d9f1278124c6f6",
            "78b946e6da424fd99d5b61ca2554057d",
            "4bf13c796b2d436a9b96c123b381d5fd",
            "72d2aed9b8a34b5b8b5582e0ccdbc46f",
            "182a2a531aec4f548058afc39f671761",
            "d533bd097f6b42e5b70ddc9698a69ed5",
            "1a93f2b842ce4c93aa76e98054093080",
            "936e1aa65b2941e9aeef689725cf0be1",
            "ce6c3a448cbf4801a4d61f2e5542dc25",
            "501116dcfe2d49b0bdbd43bd350acf72",
            "2f05b705d757460dbeaa18da88766c9e",
            "2a90cb5edfa74d8985410893af345700",
            "9aee3de7b6c14bd2b4732e176df1b47c",
            "a12c91de053b4bcd94675cdb07ea3c6e",
            "1cd8a0399f5449beb286ca9199b010b7",
            "a5eb6f0f970546d7b68b372f997c8a21",
            "c02ff7fdad0c4028a1911683c661d727",
            "54edd1c9463c4e839727cc99a1280c54",
            "e2c6e4a0d16b4f2a82373967b226d190",
            "956e107c7530455ebafb2aade373c046",
            "809a9909f57c4e26873f214905c69726",
            "25c5998cb1a64b8999306f35c1955ec2",
            "32b6568b90b644b896c40552a5b63d21",
            "6c4a2565f0a84d588d3bf915d9deab2b",
            "611f4c3963044e5ab26389b1912b3d47",
            "fcab1584f3fd489cbf1b08e6cdfdb791",
            "36d23b158c804fe282479efd2a03127d",
            "8c701382d05843f5acb2fab9295e456d",
            "d4636a8c850f4cdbb5bf91fc23053ea7",
            "a2aded43a659446b87275d01acd34f5e",
            "a46f9439cef34c53b6747f0a2bcd4db0",
            "6790fbd4971b4dccbc355924e1c9696c",
            "f4acc489540a4a339fd7e3737460625d",
            "93887fabd9ca421cbfc49369bd0de010",
            "2e8bf31a5b9541b193191ceb61eb1b41",
            "f3400b191ce34039b384fad85328676c",
            "0913423214704bf09170851581c48f62"
          ]
        },
        "id": "ss2zZaqZyMLG",
        "outputId": "ebcf8032-90c1-4511-a4cb-0091fdaa4143"
      },
      "outputs": [
        {
          "name": "stderr",
          "output_type": "stream",
          "text": [
            "INFO:__main__:🔍 Running comprehensive Phoenix evaluations...\n",
            "INFO:__main__:📊 Prepared 3 queries for Phoenix evaluation\n",
            "INFO:__main__:🔍 Running Relevance Evaluation...\n"
          ]
        },
        {
          "data": {
            "application/vnd.jupyter.widget-view+json": {
              "model_id": "fb2829bdeb2d4ca2bfe02b40dba081a7",
              "version_major": 2,
              "version_minor": 0
            },
            "text/plain": [
              "llm_classify |          | 0/3 (0.0%) | ⏳ 00:00<? | ?it/s"
            ]
          },
          "metadata": {},
          "output_type": "display_data"
        },
        {
          "name": "stderr",
          "output_type": "stream",
          "text": [
            "INFO:__main__:✅ Relevance Evaluation Results:\n",
            "INFO:__main__:   Query 1: Find hotels in Giverny with free breakfast\n",
            "INFO:__main__:   Relevance: relevant\n",
            "INFO:__main__:   Explanation: The question asks for hotels in Giverny that offer free breakfast. The reference text provides information about a specific hotel in Giverny, named Le Clos Fleuri, which offers free breakfast as one of its amenities. This directly addresses the question by providing a specific example of a hotel that meets the criteria of having free breakfast. Therefore, the reference text contains relevant information that answers the question.\n",
            "INFO:__main__:   --------------------------------------------------\n",
            "INFO:__main__:   Query 2: I need a hotel in Glossop with free internet access\n",
            "INFO:__main__:   Relevance: relevant\n",
            "INFO:__main__:   Explanation: The question asks for a hotel in Glossop with free internet access. The reference text provides information about two hotels in Glossop, specifically mentioning that both offer free internet access. This directly addresses the requirement stated in the question. Additionally, the reference text includes other details about the hotels, such as their addresses, phone numbers, and amenities, which could be useful for someone looking for a hotel. Therefore, the reference text contains relevant information that answers the question.\n",
            "INFO:__main__:   --------------------------------------------------\n",
            "INFO:__main__:   Query 3: Show me hotels in Helensburgh with free breakfast\n",
            "INFO:__main__:   Relevance: relevant\n",
            "INFO:__main__:   Explanation: The question asks for hotels in Helensburgh that offer free breakfast. The reference text provides a list of hotels in Helensburgh that offer free breakfast, specifically mentioning two hotels: County Lodge Hotel and Commodore Hotel. It includes details such as location, address, phone number, website, amenities, price, and description for each hotel. This information directly answers the question by listing hotels in Helensburgh with the requested amenity of free breakfast.\n",
            "INFO:__main__:   --------------------------------------------------\n",
            "INFO:__main__:🔍 Running QA Evaluation...\n"
          ]
        },
        {
          "data": {
            "application/vnd.jupyter.widget-view+json": {
              "model_id": "182a2a531aec4f548058afc39f671761",
              "version_major": 2,
              "version_minor": 0
            },
            "text/plain": [
              "llm_classify |          | 0/3 (0.0%) | ⏳ 00:00<? | ?it/s"
            ]
          },
          "metadata": {},
          "output_type": "display_data"
        },
        {
          "name": "stderr",
          "output_type": "stream",
          "text": [
            "INFO:__main__:✅ QA Evaluation Results:\n",
            "INFO:__main__:   Query 1: Find hotels in Giverny with free breakfast\n",
            "INFO:__main__:   QA Score: incorrect\n",
            "INFO:__main__:   Explanation: The agent failed to provide any hotel information in Giverny with free breakfast, stating that there are 0 hotels available. This does not meet the user's request for hotels with the specified amenity. The reference answer indicates that there is at least one hotel available, suggesting that the agent's response is incorrect.\n",
            "INFO:__main__:   --------------------------------------------------\n",
            "INFO:__main__:   Query 2: I need a hotel in Glossop with free internet access\n",
            "INFO:__main__:   QA Score: correct\n",
            "INFO:__main__:   Explanation: The agent successfully provided a list of hotels in Glossop that offer free internet access, which was the user's request. The response included details such as addresses, amenities, and reviews for each hotel, which are useful and relevant to the user's needs. The dynamic nature of the data means that the specific hotels listed may differ from the reference, but the core functionality of finding hotels with the specified amenity was achieved.\n",
            "INFO:__main__:   --------------------------------------------------\n",
            "INFO:__main__:   Query 3: Show me hotels in Helensburgh with free breakfast\n",
            "INFO:__main__:   QA Score: incorrect\n",
            "INFO:__main__:   Explanation: The agent did not provide any hotel information or results for the user's request. The response indicates a failure due to iteration or time limits, which means the user did not receive the requested information about hotels in Helensburgh with free breakfast.\n",
            "INFO:__main__:   --------------------------------------------------\n",
            "INFO:__main__:🔍 Running Hallucination Evaluation...\n"
          ]
        },
        {
          "data": {
            "application/vnd.jupyter.widget-view+json": {
              "model_id": "a5eb6f0f970546d7b68b372f997c8a21",
              "version_major": 2,
              "version_minor": 0
            },
            "text/plain": [
              "llm_classify |          | 0/3 (0.0%) | ⏳ 00:00<? | ?it/s"
            ]
          },
          "metadata": {},
          "output_type": "display_data"
        },
        {
          "name": "stderr",
          "output_type": "stream",
          "text": [
            "INFO:__main__:✅ Hallucination Evaluation Results:\n",
            "INFO:__main__:   Query 1: Find hotels in Giverny with free breakfast\n",
            "INFO:__main__:   Hallucination: factual\n",
            "INFO:__main__:   Explanation: The agent's response indicates that no hotels were found in Giverny with free breakfast. This is a plausible outcome given that hotel search results are dynamic and can change over time. The reference text shows a hotel with free breakfast, but the agent's response is not necessarily incorrect as the availability of such hotels can vary. Therefore, the response is factual.\n",
            "INFO:__main__:   --------------------------------------------------\n",
            "INFO:__main__:   Query 2: I need a hotel in Glossop with free internet access\n",
            "INFO:__main__:   Hallucination: factual\n",
            "INFO:__main__:   Explanation: The agent's response includes plausible hotel information for Glossop, with details about free internet access, addresses, phone numbers, and reviews. The presence of dynamic data differences, such as additional hotels or variations in reviews, is expected and does not indicate hallucination. The response does not contain any impossible or fabricated information.\n",
            "INFO:__main__:   --------------------------------------------------\n",
            "INFO:__main__:   Query 3: Show me hotels in Helensburgh with free breakfast\n",
            "INFO:__main__:   Hallucination: factual\n",
            "INFO:__main__:   Explanation: The agent's response indicates a system issue (iteration limit or time limit), which is not a hallucination. The response does not contain any fabricated or impossible information about hotels in Helensburgh.\n",
            "INFO:__main__:   --------------------------------------------------\n",
            "INFO:__main__:🔍 Running Toxicity Evaluation...\n"
          ]
        },
        {
          "data": {
            "application/vnd.jupyter.widget-view+json": {
              "model_id": "36d23b158c804fe282479efd2a03127d",
              "version_major": 2,
              "version_minor": 0
            },
            "text/plain": [
              "llm_classify |          | 0/3 (0.0%) | ⏳ 00:00<? | ?it/s"
            ]
          },
          "metadata": {},
          "output_type": "display_data"
        },
        {
          "name": "stderr",
          "output_type": "stream",
          "text": [
            "INFO:__main__:✅ Toxicity Evaluation Results:\n",
            "INFO:__main__:   Query 1: Find hotels in Giverny with free breakfast\n",
            "INFO:__main__:   Toxicity: non-toxic\n",
            "INFO:__main__:   Explanation: To determine whether the text is toxic, we need to analyze the content for any signs of hateful language, demeaning statements, inappropriate language, or threats of violence. The text in question is: \"Find hotels in Giverny with free breakfast.\" This statement is a straightforward request or search query for hotels in a specific location that offer a particular amenity (free breakfast). It does not contain any language that could be considered hateful, demeaning, or threatening. There are no inappropriate words or sentiments expressed. The text is neutral and purely informational, focusing on a travel-related inquiry. Therefore, a reasonable audience would not find this text toxic.\n",
            "INFO:__main__:   --------------------------------------------------\n",
            "INFO:__main__:   Query 2: I need a hotel in Glossop with free internet access\n",
            "INFO:__main__:   Toxicity: non-toxic\n",
            "INFO:__main__:   Explanation: To determine whether the text is toxic, we need to analyze the content for any signs of hateful language, demeaning statements, inappropriate language, or threats of violence. The text in question is: \"I need a hotel in Glossop with free internet access.\" This statement is a straightforward request for information about a hotel with a specific amenity (free internet access) in a particular location (Glossop). There are no words or phrases that suggest hatefulness, demeaning language, inappropriate language, or threats. The text is neutral and purely informational, focusing on a personal need for accommodation. Therefore, it does not meet any criteria for toxicity.\n",
            "INFO:__main__:   --------------------------------------------------\n",
            "INFO:__main__:   Query 3: Show me hotels in Helensburgh with free breakfast\n",
            "INFO:__main__:   Toxicity: non-toxic\n",
            "INFO:__main__:   Explanation: To determine whether the text is toxic, we need to analyze the content for any signs of hateful language, demeaning statements, inappropriate language, or threats of violence. The text in question is: \"Show me hotels in Helensburgh with free breakfast.\" \n",
            "\n",
            "1. **Hateful Statements**: The text does not contain any language that expresses hate towards any individual or group.\n",
            "2. **Demeaning or Disparaging Language**: There is no language that demeans or disparages anyone. The text is a simple request for information about hotels.\n",
            "3. **Inappropriate Language**: The language used is appropriate and polite. There are no swear words or offensive terms.\n",
            "4. **Threats of Violence**: There are no threats, either physical or emotional, present in the text.\n",
            "\n",
            "Given these observations, the text does not meet any criteria for toxicity. It is a straightforward request for information about hotels with a specific amenity.\n",
            "INFO:__main__:   --------------------------------------------------\n",
            "INFO:__main__:\n",
            "📊 Phoenix Evaluation Summary:\n",
            "INFO:__main__:  Relevance: {'relevant': np.int64(3)}\n",
            "INFO:__main__:  QA Correctness: {'incorrect': np.int64(2), 'correct': np.int64(1)}\n",
            "INFO:__main__:  Hallucination: {'factual': np.int64(3)}\n",
            "INFO:__main__:  Toxicity: {'non-toxic': np.int64(3)}\n"
          ]
        }
      ],
      "source": [
        "# Run comprehensive Phoenix evaluations with lenient templates\n",
        "if ARIZE_AVAILABLE and len(demo_results) > 0:\n",
        "    logger.info(\"🔍 Running comprehensive Phoenix evaluations...\")\n",
        "\n",
        "    # Setup evaluator LLM\n",
        "    evaluator_llm = OpenAIModel(model=\"gpt-4o\", temperature=0.1)\n",
        "\n",
        "    # Prepare evaluation data\n",
        "    hotel_eval_data = []\n",
        "    for _, row in hotel_results_df.iterrows():\n",
        "        hotel_eval_data.append({\n",
        "            \"input\": row[\"query\"],\n",
        "            \"output\": row[\"response\"],\n",
        "            \"reference\": get_reference_answer(row[\"query\"]),\n",
        "            \"text\": row[\"response\"],  # For toxicity evaluation\n",
        "        })\n",
        "\n",
        "    hotel_eval_df = pd.DataFrame(hotel_eval_data)\n",
        "    logger.info(f\"📊 Prepared {len(hotel_eval_df)} queries for Phoenix evaluation\")\n",
        "\n",
        "    try:\n",
        "        # 1. Relevance Evaluation\n",
        "        logger.info(\"🔍 Running Relevance Evaluation...\")\n",
        "        hotel_relevance_results = llm_classify(\n",
        "            data=hotel_eval_df[[\"input\", \"reference\"]],\n",
        "            model=evaluator_llm,\n",
        "            template=RAG_RELEVANCY_PROMPT_TEMPLATE,\n",
        "            rails=list(RAG_RELEVANCY_PROMPT_RAILS_MAP.values()),\n",
        "            provide_explanation=True,\n",
        "        )\n",
        "\n",
        "        logger.info(\"✅ Relevance Evaluation Results:\")\n",
        "        relevance_labels = hotel_relevance_results['label'].tolist() if 'label' in hotel_relevance_results.columns else []\n",
        "        relevance_explanations = hotel_relevance_results['explanation'].tolist() if 'explanation' in hotel_relevance_results.columns else [\"No explanation\"] * len(relevance_labels)\n",
        "        for i, (query, label, explanation) in enumerate(zip(hotel_eval_df['input'], relevance_labels, relevance_explanations)):\n",
        "            logger.info(f\"   Query {i+1}: {query}\")\n",
        "            logger.info(f\"   Relevance: {label}\")\n",
        "            logger.info(f\"   Explanation: {explanation}\")\n",
        "            logger.info(\"   \" + \"-\"*50)\n",
        "\n",
        "        # 2. QA Evaluation (using LENIENT template for dynamic search results)\n",
        "        logger.info(\"🔍 Running QA Evaluation...\")\n",
        "        hotel_qa_results = llm_classify(\n",
        "            data=hotel_eval_df[[\"input\", \"output\", \"reference\"]],\n",
        "            model=evaluator_llm,\n",
        "            template=LENIENT_QA_PROMPT_TEMPLATE,\n",
        "            rails=LENIENT_QA_RAILS,\n",
        "            provide_explanation=True,\n",
        "        )\n",
        "\n",
        "        logger.info(\"✅ QA Evaluation Results:\")\n",
        "        qa_labels = hotel_qa_results['label'].tolist() if 'label' in hotel_qa_results.columns else []\n",
        "        qa_explanations = hotel_qa_results['explanation'].tolist() if 'explanation' in hotel_qa_results.columns else [\"No explanation\"] * len(qa_labels)\n",
        "        for i, (query, label, explanation) in enumerate(zip(hotel_eval_df['input'], qa_labels, qa_explanations)):\n",
        "            logger.info(f\"   Query {i+1}: {query}\")\n",
        "            logger.info(f\"   QA Score: {label}\")\n",
        "            logger.info(f\"   Explanation: {explanation}\")\n",
        "            logger.info(\"   \" + \"-\"*50)\n",
        "\n",
        "        # 3. Hallucination Evaluation (using LENIENT template for dynamic search results)\n",
        "        logger.info(\"🔍 Running Hallucination Evaluation...\")\n",
        "        hotel_hallucination_results = llm_classify(\n",
        "            data=hotel_eval_df[[\"input\", \"reference\", \"output\"]],\n",
        "            model=evaluator_llm,\n",
        "            template=LENIENT_HALLUCINATION_PROMPT_TEMPLATE,\n",
        "            rails=LENIENT_HALLUCINATION_RAILS,\n",
        "            provide_explanation=True,\n",
        "        )\n",
        "\n",
        "        logger.info(\"✅ Hallucination Evaluation Results:\")\n",
        "        hallucination_labels = hotel_hallucination_results['label'].tolist() if 'label' in hotel_hallucination_results.columns else []\n",
        "        hallucination_explanations = hotel_hallucination_results['explanation'].tolist() if 'explanation' in hotel_hallucination_results.columns else [\"No explanation\"] * len(hallucination_labels)\n",
        "        for i, (query, label, explanation) in enumerate(zip(hotel_eval_df['input'], hallucination_labels, hallucination_explanations)):\n",
        "            logger.info(f\"   Query {i+1}: {query}\")\n",
        "            logger.info(f\"   Hallucination: {label}\")\n",
        "            logger.info(f\"   Explanation: {explanation}\")\n",
        "            logger.info(\"   \" + \"-\"*50)\n",
        "\n",
        "        # 4. Toxicity Evaluation\n",
        "        logger.info(\"🔍 Running Toxicity Evaluation...\")\n",
        "        hotel_toxicity_results = llm_classify(\n",
        "            data=hotel_eval_df[[\"input\"]],\n",
        "            model=evaluator_llm,\n",
        "            template=TOXICITY_PROMPT_TEMPLATE,\n",
        "            rails=list(TOXICITY_PROMPT_RAILS_MAP.values()),\n",
        "            provide_explanation=True,\n",
        "        )\n",
        "\n",
        "        logger.info(\"✅ Toxicity Evaluation Results:\")\n",
        "        toxicity_labels = hotel_toxicity_results['label'].tolist() if 'label' in hotel_toxicity_results.columns else []\n",
        "        toxicity_explanations = hotel_toxicity_results['explanation'].tolist() if 'explanation' in hotel_toxicity_results.columns else [\"No explanation\"] * len(toxicity_labels)\n",
        "        for i, (query, label, explanation) in enumerate(zip(hotel_eval_df['input'], toxicity_labels, toxicity_explanations)):\n",
        "            logger.info(f\"   Query {i+1}: {query}\")\n",
        "            logger.info(f\"   Toxicity: {label}\")\n",
        "            logger.info(f\"   Explanation: {explanation}\")\n",
        "            logger.info(\"   \" + \"-\"*50)\n",
        "\n",
        "        # Summary\n",
        "        logger.info(\"\\n📊 Phoenix Evaluation Summary:\")\n",
        "        logger.info(f\"  Relevance: {dict(pd.Series(relevance_labels).value_counts())}\")\n",
        "        logger.info(f\"  QA Correctness: {dict(pd.Series(qa_labels).value_counts())}\")\n",
        "        logger.info(f\"  Hallucination: {dict(pd.Series(hallucination_labels).value_counts())}\")\n",
        "        logger.info(f\"  Toxicity: {dict(pd.Series(toxicity_labels).value_counts())}\")\n",
        "\n",
        "    except Exception as e:\n",
        "        logger.exception(f\"❌ Phoenix evaluation failed: {e}\")\n",
        "\n",
        "else:\n",
        "    logger.info(\"⚠️ Skipping Phoenix evaluations - no demo results available\")\n"
      ]
    },
    {
      "cell_type": "markdown",
      "metadata": {
        "id": "LM-4W9QqyMLG"
      },
      "source": [
        "## Summary\n",
        "\n",
        "This notebook demonstrates a complete hotel search agent using LangChain, Couchbase vector store, and Capella AI. The agent handles hotel search queries with amenity filtering and location-based recommendations using real travel-sample data.\n",
        "\n",
        "## Key Features\n",
        "\n",
        "1. **LangChain ReAct Agent**: Uses LangChain's ReAct pattern for reasoning and action\n",
        "2. **Couchbase Vector Store**: Real travel-sample hotel data with vector search\n",
        "3. **Capella AI Integration**: Priority 1 AI services with OpenAI fallback\n",
        "4. **Agent Catalog**: Tool and prompt discovery and integration\n",
        "5. **Phoenix Evaluation**: Comprehensive evaluation with relevance, QA, hallucination, and toxicity metrics\n",
        "\n",
        "## Phoenix Evaluation Metrics\n",
        "\n",
        "The notebook demonstrates all four key Phoenix evaluation types:\n",
        "\n",
        "1. **Relevance Evaluation**: Measures how relevant responses are to hotel queries\n",
        "2. **QA Evaluation**: Assesses the quality and accuracy of hotel information\n",
        "3. **Hallucination Detection**: Identifies fabricated or incorrect hotel information\n",
        "4. **Toxicity Detection**: Screens for harmful or inappropriate content\n"
      ]
    }
  ],
  "metadata": {
    "colab": {
      "provenance": []
    },
    "kernelspec": {
      "display_name": "Python 3",
      "language": "python",
      "name": "python3"
    },
    "language_info": {
      "codemirror_mode": {
        "name": "ipython",
        "version": 3
      },
      "file_extension": ".py",
      "mimetype": "text/x-python",
      "name": "python",
      "nbconvert_exporter": "python",
      "pygments_lexer": "ipython3",
      "version": "3.12.3"
    },
    "widgets": {
      "application/vnd.jupyter.widget-state+json": {
        "0913423214704bf09170851581c48f62": {
          "model_module": "@jupyter-widgets/controls",
          "model_module_version": "1.5.0",
          "model_name": "DescriptionStyleModel",
          "state": {
            "_model_module": "@jupyter-widgets/controls",
            "_model_module_version": "1.5.0",
            "_model_name": "DescriptionStyleModel",
            "_view_count": null,
            "_view_module": "@jupyter-widgets/base",
            "_view_module_version": "1.2.0",
            "_view_name": "StyleView",
            "description_width": ""
          }
        },
        "182a2a531aec4f548058afc39f671761": {
          "model_module": "@jupyter-widgets/controls",
          "model_module_version": "1.5.0",
          "model_name": "HBoxModel",
          "state": {
            "_dom_classes": [],
            "_model_module": "@jupyter-widgets/controls",
            "_model_module_version": "1.5.0",
            "_model_name": "HBoxModel",
            "_view_count": null,
            "_view_module": "@jupyter-widgets/controls",
            "_view_module_version": "1.5.0",
            "_view_name": "HBoxView",
            "box_style": "",
            "children": [
              "IPY_MODEL_d533bd097f6b42e5b70ddc9698a69ed5",
              "IPY_MODEL_1a93f2b842ce4c93aa76e98054093080",
              "IPY_MODEL_936e1aa65b2941e9aeef689725cf0be1"
            ],
            "layout": "IPY_MODEL_ce6c3a448cbf4801a4d61f2e5542dc25"
          }
        },
        "1a93f2b842ce4c93aa76e98054093080": {
          "model_module": "@jupyter-widgets/controls",
          "model_module_version": "1.5.0",
          "model_name": "FloatProgressModel",
          "state": {
            "_dom_classes": [],
            "_model_module": "@jupyter-widgets/controls",
            "_model_module_version": "1.5.0",
            "_model_name": "FloatProgressModel",
            "_view_count": null,
            "_view_module": "@jupyter-widgets/controls",
            "_view_module_version": "1.5.0",
            "_view_name": "ProgressView",
            "bar_style": "success",
            "description": "",
            "description_tooltip": null,
            "layout": "IPY_MODEL_2a90cb5edfa74d8985410893af345700",
            "max": 3,
            "min": 0,
            "orientation": "horizontal",
            "style": "IPY_MODEL_9aee3de7b6c14bd2b4732e176df1b47c",
            "value": 3
          }
        },
        "1cd8a0399f5449beb286ca9199b010b7": {
          "model_module": "@jupyter-widgets/controls",
          "model_module_version": "1.5.0",
          "model_name": "DescriptionStyleModel",
          "state": {
            "_model_module": "@jupyter-widgets/controls",
            "_model_module_version": "1.5.0",
            "_model_name": "DescriptionStyleModel",
            "_view_count": null,
            "_view_module": "@jupyter-widgets/base",
            "_view_module_version": "1.2.0",
            "_view_name": "StyleView",
            "description_width": ""
          }
        },
        "21f6b18332194ee5a183d5f08e2a0473": {
          "model_module": "@jupyter-widgets/controls",
          "model_module_version": "1.5.0",
          "model_name": "HTMLModel",
          "state": {
            "_dom_classes": [],
            "_model_module": "@jupyter-widgets/controls",
            "_model_module_version": "1.5.0",
            "_model_name": "HTMLModel",
            "_view_count": null,
            "_view_module": "@jupyter-widgets/controls",
            "_view_module_version": "1.5.0",
            "_view_name": "HTMLView",
            "description": "",
            "description_tooltip": null,
            "layout": "IPY_MODEL_ee39c610d046423386937c92b3d66314",
            "placeholder": "​",
            "style": "IPY_MODEL_447f6a35dfcd4a3694f9c79877fb3d2c",
            "value": "llm_classify "
          }
        },
        "25c5998cb1a64b8999306f35c1955ec2": {
          "model_module": "@jupyter-widgets/controls",
          "model_module_version": "1.5.0",
          "model_name": "DescriptionStyleModel",
          "state": {
            "_model_module": "@jupyter-widgets/controls",
            "_model_module_version": "1.5.0",
            "_model_name": "DescriptionStyleModel",
            "_view_count": null,
            "_view_module": "@jupyter-widgets/base",
            "_view_module_version": "1.2.0",
            "_view_name": "StyleView",
            "description_width": ""
          }
        },
        "2a90cb5edfa74d8985410893af345700": {
          "model_module": "@jupyter-widgets/base",
          "model_module_version": "1.2.0",
          "model_name": "LayoutModel",
          "state": {
            "_model_module": "@jupyter-widgets/base",
            "_model_module_version": "1.2.0",
            "_model_name": "LayoutModel",
            "_view_count": null,
            "_view_module": "@jupyter-widgets/base",
            "_view_module_version": "1.2.0",
            "_view_name": "LayoutView",
            "align_content": null,
            "align_items": null,
            "align_self": null,
            "border": null,
            "bottom": null,
            "display": null,
            "flex": null,
            "flex_flow": null,
            "grid_area": null,
            "grid_auto_columns": null,
            "grid_auto_flow": null,
            "grid_auto_rows": null,
            "grid_column": null,
            "grid_gap": null,
            "grid_row": null,
            "grid_template_areas": null,
            "grid_template_columns": null,
            "grid_template_rows": null,
            "height": null,
            "justify_content": null,
            "justify_items": null,
            "left": null,
            "margin": null,
            "max_height": null,
            "max_width": null,
            "min_height": null,
            "min_width": null,
            "object_fit": null,
            "object_position": null,
            "order": null,
            "overflow": null,
            "overflow_x": null,
            "overflow_y": null,
            "padding": null,
            "right": null,
            "top": null,
            "visibility": null,
            "width": null
          }
        },
        "2cceaa03e211483584fce34fb4890900": {
          "model_module": "@jupyter-widgets/controls",
          "model_module_version": "1.5.0",
          "model_name": "FloatProgressModel",
          "state": {
            "_dom_classes": [],
            "_model_module": "@jupyter-widgets/controls",
            "_model_module_version": "1.5.0",
            "_model_name": "FloatProgressModel",
            "_view_count": null,
            "_view_module": "@jupyter-widgets/controls",
            "_view_module_version": "1.5.0",
            "_view_name": "ProgressView",
            "bar_style": "success",
            "description": "",
            "description_tooltip": null,
            "layout": "IPY_MODEL_5eec5213a20f4744b0d9f1278124c6f6",
            "max": 3,
            "min": 0,
            "orientation": "horizontal",
            "style": "IPY_MODEL_78b946e6da424fd99d5b61ca2554057d",
            "value": 3
          }
        },
        "2e8bf31a5b9541b193191ceb61eb1b41": {
          "model_module": "@jupyter-widgets/controls",
          "model_module_version": "1.5.0",
          "model_name": "ProgressStyleModel",
          "state": {
            "_model_module": "@jupyter-widgets/controls",
            "_model_module_version": "1.5.0",
            "_model_name": "ProgressStyleModel",
            "_view_count": null,
            "_view_module": "@jupyter-widgets/base",
            "_view_module_version": "1.2.0",
            "_view_name": "StyleView",
            "bar_color": null,
            "description_width": ""
          }
        },
        "2f05b705d757460dbeaa18da88766c9e": {
          "model_module": "@jupyter-widgets/controls",
          "model_module_version": "1.5.0",
          "model_name": "DescriptionStyleModel",
          "state": {
            "_model_module": "@jupyter-widgets/controls",
            "_model_module_version": "1.5.0",
            "_model_name": "DescriptionStyleModel",
            "_view_count": null,
            "_view_module": "@jupyter-widgets/base",
            "_view_module_version": "1.2.0",
            "_view_name": "StyleView",
            "description_width": ""
          }
        },
        "32b6568b90b644b896c40552a5b63d21": {
          "model_module": "@jupyter-widgets/base",
          "model_module_version": "1.2.0",
          "model_name": "LayoutModel",
          "state": {
            "_model_module": "@jupyter-widgets/base",
            "_model_module_version": "1.2.0",
            "_model_name": "LayoutModel",
            "_view_count": null,
            "_view_module": "@jupyter-widgets/base",
            "_view_module_version": "1.2.0",
            "_view_name": "LayoutView",
            "align_content": null,
            "align_items": null,
            "align_self": null,
            "border": null,
            "bottom": null,
            "display": null,
            "flex": null,
            "flex_flow": null,
            "grid_area": null,
            "grid_auto_columns": null,
            "grid_auto_flow": null,
            "grid_auto_rows": null,
            "grid_column": null,
            "grid_gap": null,
            "grid_row": null,
            "grid_template_areas": null,
            "grid_template_columns": null,
            "grid_template_rows": null,
            "height": null,
            "justify_content": null,
            "justify_items": null,
            "left": null,
            "margin": null,
            "max_height": null,
            "max_width": null,
            "min_height": null,
            "min_width": null,
            "object_fit": null,
            "object_position": null,
            "order": null,
            "overflow": null,
            "overflow_x": null,
            "overflow_y": null,
            "padding": null,
            "right": null,
            "top": null,
            "visibility": null,
            "width": null
          }
        },
        "36d23b158c804fe282479efd2a03127d": {
          "model_module": "@jupyter-widgets/controls",
          "model_module_version": "1.5.0",
          "model_name": "HBoxModel",
          "state": {
            "_dom_classes": [],
            "_model_module": "@jupyter-widgets/controls",
            "_model_module_version": "1.5.0",
            "_model_name": "HBoxModel",
            "_view_count": null,
            "_view_module": "@jupyter-widgets/controls",
            "_view_module_version": "1.5.0",
            "_view_name": "HBoxView",
            "box_style": "",
            "children": [
              "IPY_MODEL_8c701382d05843f5acb2fab9295e456d",
              "IPY_MODEL_d4636a8c850f4cdbb5bf91fc23053ea7",
              "IPY_MODEL_a2aded43a659446b87275d01acd34f5e"
            ],
            "layout": "IPY_MODEL_a46f9439cef34c53b6747f0a2bcd4db0"
          }
        },
        "447f6a35dfcd4a3694f9c79877fb3d2c": {
          "model_module": "@jupyter-widgets/controls",
          "model_module_version": "1.5.0",
          "model_name": "DescriptionStyleModel",
          "state": {
            "_model_module": "@jupyter-widgets/controls",
            "_model_module_version": "1.5.0",
            "_model_name": "DescriptionStyleModel",
            "_view_count": null,
            "_view_module": "@jupyter-widgets/base",
            "_view_module_version": "1.2.0",
            "_view_name": "StyleView",
            "description_width": ""
          }
        },
        "4bf13c796b2d436a9b96c123b381d5fd": {
          "model_module": "@jupyter-widgets/base",
          "model_module_version": "1.2.0",
          "model_name": "LayoutModel",
          "state": {
            "_model_module": "@jupyter-widgets/base",
            "_model_module_version": "1.2.0",
            "_model_name": "LayoutModel",
            "_view_count": null,
            "_view_module": "@jupyter-widgets/base",
            "_view_module_version": "1.2.0",
            "_view_name": "LayoutView",
            "align_content": null,
            "align_items": null,
            "align_self": null,
            "border": null,
            "bottom": null,
            "display": null,
            "flex": null,
            "flex_flow": null,
            "grid_area": null,
            "grid_auto_columns": null,
            "grid_auto_flow": null,
            "grid_auto_rows": null,
            "grid_column": null,
            "grid_gap": null,
            "grid_row": null,
            "grid_template_areas": null,
            "grid_template_columns": null,
            "grid_template_rows": null,
            "height": null,
            "justify_content": null,
            "justify_items": null,
            "left": null,
            "margin": null,
            "max_height": null,
            "max_width": null,
            "min_height": null,
            "min_width": null,
            "object_fit": null,
            "object_position": null,
            "order": null,
            "overflow": null,
            "overflow_x": null,
            "overflow_y": null,
            "padding": null,
            "right": null,
            "top": null,
            "visibility": null,
            "width": null
          }
        },
        "501116dcfe2d49b0bdbd43bd350acf72": {
          "model_module": "@jupyter-widgets/base",
          "model_module_version": "1.2.0",
          "model_name": "LayoutModel",
          "state": {
            "_model_module": "@jupyter-widgets/base",
            "_model_module_version": "1.2.0",
            "_model_name": "LayoutModel",
            "_view_count": null,
            "_view_module": "@jupyter-widgets/base",
            "_view_module_version": "1.2.0",
            "_view_name": "LayoutView",
            "align_content": null,
            "align_items": null,
            "align_self": null,
            "border": null,
            "bottom": null,
            "display": null,
            "flex": null,
            "flex_flow": null,
            "grid_area": null,
            "grid_auto_columns": null,
            "grid_auto_flow": null,
            "grid_auto_rows": null,
            "grid_column": null,
            "grid_gap": null,
            "grid_row": null,
            "grid_template_areas": null,
            "grid_template_columns": null,
            "grid_template_rows": null,
            "height": null,
            "justify_content": null,
            "justify_items": null,
            "left": null,
            "margin": null,
            "max_height": null,
            "max_width": null,
            "min_height": null,
            "min_width": null,
            "object_fit": null,
            "object_position": null,
            "order": null,
            "overflow": null,
            "overflow_x": null,
            "overflow_y": null,
            "padding": null,
            "right": null,
            "top": null,
            "visibility": null,
            "width": null
          }
        },
        "54edd1c9463c4e839727cc99a1280c54": {
          "model_module": "@jupyter-widgets/controls",
          "model_module_version": "1.5.0",
          "model_name": "FloatProgressModel",
          "state": {
            "_dom_classes": [],
            "_model_module": "@jupyter-widgets/controls",
            "_model_module_version": "1.5.0",
            "_model_name": "FloatProgressModel",
            "_view_count": null,
            "_view_module": "@jupyter-widgets/controls",
            "_view_module_version": "1.5.0",
            "_view_name": "ProgressView",
            "bar_style": "success",
            "description": "",
            "description_tooltip": null,
            "layout": "IPY_MODEL_32b6568b90b644b896c40552a5b63d21",
            "max": 3,
            "min": 0,
            "orientation": "horizontal",
            "style": "IPY_MODEL_6c4a2565f0a84d588d3bf915d9deab2b",
            "value": 3
          }
        },
        "5eec5213a20f4744b0d9f1278124c6f6": {
          "model_module": "@jupyter-widgets/base",
          "model_module_version": "1.2.0",
          "model_name": "LayoutModel",
          "state": {
            "_model_module": "@jupyter-widgets/base",
            "_model_module_version": "1.2.0",
            "_model_name": "LayoutModel",
            "_view_count": null,
            "_view_module": "@jupyter-widgets/base",
            "_view_module_version": "1.2.0",
            "_view_name": "LayoutView",
            "align_content": null,
            "align_items": null,
            "align_self": null,
            "border": null,
            "bottom": null,
            "display": null,
            "flex": null,
            "flex_flow": null,
            "grid_area": null,
            "grid_auto_columns": null,
            "grid_auto_flow": null,
            "grid_auto_rows": null,
            "grid_column": null,
            "grid_gap": null,
            "grid_row": null,
            "grid_template_areas": null,
            "grid_template_columns": null,
            "grid_template_rows": null,
            "height": null,
            "justify_content": null,
            "justify_items": null,
            "left": null,
            "margin": null,
            "max_height": null,
            "max_width": null,
            "min_height": null,
            "min_width": null,
            "object_fit": null,
            "object_position": null,
            "order": null,
            "overflow": null,
            "overflow_x": null,
            "overflow_y": null,
            "padding": null,
            "right": null,
            "top": null,
            "visibility": null,
            "width": null
          }
        },
        "611f4c3963044e5ab26389b1912b3d47": {
          "model_module": "@jupyter-widgets/base",
          "model_module_version": "1.2.0",
          "model_name": "LayoutModel",
          "state": {
            "_model_module": "@jupyter-widgets/base",
            "_model_module_version": "1.2.0",
            "_model_name": "LayoutModel",
            "_view_count": null,
            "_view_module": "@jupyter-widgets/base",
            "_view_module_version": "1.2.0",
            "_view_name": "LayoutView",
            "align_content": null,
            "align_items": null,
            "align_self": null,
            "border": null,
            "bottom": null,
            "display": null,
            "flex": null,
            "flex_flow": null,
            "grid_area": null,
            "grid_auto_columns": null,
            "grid_auto_flow": null,
            "grid_auto_rows": null,
            "grid_column": null,
            "grid_gap": null,
            "grid_row": null,
            "grid_template_areas": null,
            "grid_template_columns": null,
            "grid_template_rows": null,
            "height": null,
            "justify_content": null,
            "justify_items": null,
            "left": null,
            "margin": null,
            "max_height": null,
            "max_width": null,
            "min_height": null,
            "min_width": null,
            "object_fit": null,
            "object_position": null,
            "order": null,
            "overflow": null,
            "overflow_x": null,
            "overflow_y": null,
            "padding": null,
            "right": null,
            "top": null,
            "visibility": null,
            "width": null
          }
        },
        "6790fbd4971b4dccbc355924e1c9696c": {
          "model_module": "@jupyter-widgets/base",
          "model_module_version": "1.2.0",
          "model_name": "LayoutModel",
          "state": {
            "_model_module": "@jupyter-widgets/base",
            "_model_module_version": "1.2.0",
            "_model_name": "LayoutModel",
            "_view_count": null,
            "_view_module": "@jupyter-widgets/base",
            "_view_module_version": "1.2.0",
            "_view_name": "LayoutView",
            "align_content": null,
            "align_items": null,
            "align_self": null,
            "border": null,
            "bottom": null,
            "display": null,
            "flex": null,
            "flex_flow": null,
            "grid_area": null,
            "grid_auto_columns": null,
            "grid_auto_flow": null,
            "grid_auto_rows": null,
            "grid_column": null,
            "grid_gap": null,
            "grid_row": null,
            "grid_template_areas": null,
            "grid_template_columns": null,
            "grid_template_rows": null,
            "height": null,
            "justify_content": null,
            "justify_items": null,
            "left": null,
            "margin": null,
            "max_height": null,
            "max_width": null,
            "min_height": null,
            "min_width": null,
            "object_fit": null,
            "object_position": null,
            "order": null,
            "overflow": null,
            "overflow_x": null,
            "overflow_y": null,
            "padding": null,
            "right": null,
            "top": null,
            "visibility": null,
            "width": null
          }
        },
        "6857ed643e1340a0960e8b71d00fc4f9": {
          "model_module": "@jupyter-widgets/controls",
          "model_module_version": "1.5.0",
          "model_name": "HTMLModel",
          "state": {
            "_dom_classes": [],
            "_model_module": "@jupyter-widgets/controls",
            "_model_module_version": "1.5.0",
            "_model_name": "HTMLModel",
            "_view_count": null,
            "_view_module": "@jupyter-widgets/controls",
            "_view_module_version": "1.5.0",
            "_view_name": "HTMLView",
            "description": "",
            "description_tooltip": null,
            "layout": "IPY_MODEL_4bf13c796b2d436a9b96c123b381d5fd",
            "placeholder": "​",
            "style": "IPY_MODEL_72d2aed9b8a34b5b8b5582e0ccdbc46f",
            "value": " 3/3 (100.0%) | ⏳ 00:16&lt;00:00 |  1.02it/s"
          }
        },
        "6c4a2565f0a84d588d3bf915d9deab2b": {
          "model_module": "@jupyter-widgets/controls",
          "model_module_version": "1.5.0",
          "model_name": "ProgressStyleModel",
          "state": {
            "_model_module": "@jupyter-widgets/controls",
            "_model_module_version": "1.5.0",
            "_model_name": "ProgressStyleModel",
            "_view_count": null,
            "_view_module": "@jupyter-widgets/base",
            "_view_module_version": "1.2.0",
            "_view_name": "StyleView",
            "bar_color": null,
            "description_width": ""
          }
        },
        "72d2aed9b8a34b5b8b5582e0ccdbc46f": {
          "model_module": "@jupyter-widgets/controls",
          "model_module_version": "1.5.0",
          "model_name": "DescriptionStyleModel",
          "state": {
            "_model_module": "@jupyter-widgets/controls",
            "_model_module_version": "1.5.0",
            "_model_name": "DescriptionStyleModel",
            "_view_count": null,
            "_view_module": "@jupyter-widgets/base",
            "_view_module_version": "1.2.0",
            "_view_name": "StyleView",
            "description_width": ""
          }
        },
        "78b946e6da424fd99d5b61ca2554057d": {
          "model_module": "@jupyter-widgets/controls",
          "model_module_version": "1.5.0",
          "model_name": "ProgressStyleModel",
          "state": {
            "_model_module": "@jupyter-widgets/controls",
            "_model_module_version": "1.5.0",
            "_model_name": "ProgressStyleModel",
            "_view_count": null,
            "_view_module": "@jupyter-widgets/base",
            "_view_module_version": "1.2.0",
            "_view_name": "StyleView",
            "bar_color": null,
            "description_width": ""
          }
        },
        "809a9909f57c4e26873f214905c69726": {
          "model_module": "@jupyter-widgets/base",
          "model_module_version": "1.2.0",
          "model_name": "LayoutModel",
          "state": {
            "_model_module": "@jupyter-widgets/base",
            "_model_module_version": "1.2.0",
            "_model_name": "LayoutModel",
            "_view_count": null,
            "_view_module": "@jupyter-widgets/base",
            "_view_module_version": "1.2.0",
            "_view_name": "LayoutView",
            "align_content": null,
            "align_items": null,
            "align_self": null,
            "border": null,
            "bottom": null,
            "display": null,
            "flex": null,
            "flex_flow": null,
            "grid_area": null,
            "grid_auto_columns": null,
            "grid_auto_flow": null,
            "grid_auto_rows": null,
            "grid_column": null,
            "grid_gap": null,
            "grid_row": null,
            "grid_template_areas": null,
            "grid_template_columns": null,
            "grid_template_rows": null,
            "height": null,
            "justify_content": null,
            "justify_items": null,
            "left": null,
            "margin": null,
            "max_height": null,
            "max_width": null,
            "min_height": null,
            "min_width": null,
            "object_fit": null,
            "object_position": null,
            "order": null,
            "overflow": null,
            "overflow_x": null,
            "overflow_y": null,
            "padding": null,
            "right": null,
            "top": null,
            "visibility": null,
            "width": null
          }
        },
        "8c701382d05843f5acb2fab9295e456d": {
          "model_module": "@jupyter-widgets/controls",
          "model_module_version": "1.5.0",
          "model_name": "HTMLModel",
          "state": {
            "_dom_classes": [],
            "_model_module": "@jupyter-widgets/controls",
            "_model_module_version": "1.5.0",
            "_model_name": "HTMLModel",
            "_view_count": null,
            "_view_module": "@jupyter-widgets/controls",
            "_view_module_version": "1.5.0",
            "_view_name": "HTMLView",
            "description": "",
            "description_tooltip": null,
            "layout": "IPY_MODEL_6790fbd4971b4dccbc355924e1c9696c",
            "placeholder": "​",
            "style": "IPY_MODEL_f4acc489540a4a339fd7e3737460625d",
            "value": "llm_classify "
          }
        },
        "936e1aa65b2941e9aeef689725cf0be1": {
          "model_module": "@jupyter-widgets/controls",
          "model_module_version": "1.5.0",
          "model_name": "HTMLModel",
          "state": {
            "_dom_classes": [],
            "_model_module": "@jupyter-widgets/controls",
            "_model_module_version": "1.5.0",
            "_model_name": "HTMLModel",
            "_view_count": null,
            "_view_module": "@jupyter-widgets/controls",
            "_view_module_version": "1.5.0",
            "_view_name": "HTMLView",
            "description": "",
            "description_tooltip": null,
            "layout": "IPY_MODEL_a12c91de053b4bcd94675cdb07ea3c6e",
            "placeholder": "​",
            "style": "IPY_MODEL_1cd8a0399f5449beb286ca9199b010b7",
            "value": " 3/3 (100.0%) | ⏳ 00:11&lt;00:00 |  1.26s/it"
          }
        },
        "93887fabd9ca421cbfc49369bd0de010": {
          "model_module": "@jupyter-widgets/base",
          "model_module_version": "1.2.0",
          "model_name": "LayoutModel",
          "state": {
            "_model_module": "@jupyter-widgets/base",
            "_model_module_version": "1.2.0",
            "_model_name": "LayoutModel",
            "_view_count": null,
            "_view_module": "@jupyter-widgets/base",
            "_view_module_version": "1.2.0",
            "_view_name": "LayoutView",
            "align_content": null,
            "align_items": null,
            "align_self": null,
            "border": null,
            "bottom": null,
            "display": null,
            "flex": null,
            "flex_flow": null,
            "grid_area": null,
            "grid_auto_columns": null,
            "grid_auto_flow": null,
            "grid_auto_rows": null,
            "grid_column": null,
            "grid_gap": null,
            "grid_row": null,
            "grid_template_areas": null,
            "grid_template_columns": null,
            "grid_template_rows": null,
            "height": null,
            "justify_content": null,
            "justify_items": null,
            "left": null,
            "margin": null,
            "max_height": null,
            "max_width": null,
            "min_height": null,
            "min_width": null,
            "object_fit": null,
            "object_position": null,
            "order": null,
            "overflow": null,
            "overflow_x": null,
            "overflow_y": null,
            "padding": null,
            "right": null,
            "top": null,
            "visibility": null,
            "width": null
          }
        },
        "956e107c7530455ebafb2aade373c046": {
          "model_module": "@jupyter-widgets/base",
          "model_module_version": "1.2.0",
          "model_name": "LayoutModel",
          "state": {
            "_model_module": "@jupyter-widgets/base",
            "_model_module_version": "1.2.0",
            "_model_name": "LayoutModel",
            "_view_count": null,
            "_view_module": "@jupyter-widgets/base",
            "_view_module_version": "1.2.0",
            "_view_name": "LayoutView",
            "align_content": null,
            "align_items": null,
            "align_self": null,
            "border": null,
            "bottom": null,
            "display": null,
            "flex": null,
            "flex_flow": null,
            "grid_area": null,
            "grid_auto_columns": null,
            "grid_auto_flow": null,
            "grid_auto_rows": null,
            "grid_column": null,
            "grid_gap": null,
            "grid_row": null,
            "grid_template_areas": null,
            "grid_template_columns": null,
            "grid_template_rows": null,
            "height": null,
            "justify_content": null,
            "justify_items": null,
            "left": null,
            "margin": null,
            "max_height": null,
            "max_width": null,
            "min_height": null,
            "min_width": null,
            "object_fit": null,
            "object_position": null,
            "order": null,
            "overflow": null,
            "overflow_x": null,
            "overflow_y": null,
            "padding": null,
            "right": null,
            "top": null,
            "visibility": null,
            "width": null
          }
        },
        "9aee3de7b6c14bd2b4732e176df1b47c": {
          "model_module": "@jupyter-widgets/controls",
          "model_module_version": "1.5.0",
          "model_name": "ProgressStyleModel",
          "state": {
            "_model_module": "@jupyter-widgets/controls",
            "_model_module_version": "1.5.0",
            "_model_name": "ProgressStyleModel",
            "_view_count": null,
            "_view_module": "@jupyter-widgets/base",
            "_view_module_version": "1.2.0",
            "_view_name": "StyleView",
            "bar_color": null,
            "description_width": ""
          }
        },
        "a12c91de053b4bcd94675cdb07ea3c6e": {
          "model_module": "@jupyter-widgets/base",
          "model_module_version": "1.2.0",
          "model_name": "LayoutModel",
          "state": {
            "_model_module": "@jupyter-widgets/base",
            "_model_module_version": "1.2.0",
            "_model_name": "LayoutModel",
            "_view_count": null,
            "_view_module": "@jupyter-widgets/base",
            "_view_module_version": "1.2.0",
            "_view_name": "LayoutView",
            "align_content": null,
            "align_items": null,
            "align_self": null,
            "border": null,
            "bottom": null,
            "display": null,
            "flex": null,
            "flex_flow": null,
            "grid_area": null,
            "grid_auto_columns": null,
            "grid_auto_flow": null,
            "grid_auto_rows": null,
            "grid_column": null,
            "grid_gap": null,
            "grid_row": null,
            "grid_template_areas": null,
            "grid_template_columns": null,
            "grid_template_rows": null,
            "height": null,
            "justify_content": null,
            "justify_items": null,
            "left": null,
            "margin": null,
            "max_height": null,
            "max_width": null,
            "min_height": null,
            "min_width": null,
            "object_fit": null,
            "object_position": null,
            "order": null,
            "overflow": null,
            "overflow_x": null,
            "overflow_y": null,
            "padding": null,
            "right": null,
            "top": null,
            "visibility": null,
            "width": null
          }
        },
        "a24ea8a3f7104b1b87a9d01f464f8e27": {
          "model_module": "@jupyter-widgets/base",
          "model_module_version": "1.2.0",
          "model_name": "LayoutModel",
          "state": {
            "_model_module": "@jupyter-widgets/base",
            "_model_module_version": "1.2.0",
            "_model_name": "LayoutModel",
            "_view_count": null,
            "_view_module": "@jupyter-widgets/base",
            "_view_module_version": "1.2.0",
            "_view_name": "LayoutView",
            "align_content": null,
            "align_items": null,
            "align_self": null,
            "border": null,
            "bottom": null,
            "display": null,
            "flex": null,
            "flex_flow": null,
            "grid_area": null,
            "grid_auto_columns": null,
            "grid_auto_flow": null,
            "grid_auto_rows": null,
            "grid_column": null,
            "grid_gap": null,
            "grid_row": null,
            "grid_template_areas": null,
            "grid_template_columns": null,
            "grid_template_rows": null,
            "height": null,
            "justify_content": null,
            "justify_items": null,
            "left": null,
            "margin": null,
            "max_height": null,
            "max_width": null,
            "min_height": null,
            "min_width": null,
            "object_fit": null,
            "object_position": null,
            "order": null,
            "overflow": null,
            "overflow_x": null,
            "overflow_y": null,
            "padding": null,
            "right": null,
            "top": null,
            "visibility": null,
            "width": null
          }
        },
        "a2aded43a659446b87275d01acd34f5e": {
          "model_module": "@jupyter-widgets/controls",
          "model_module_version": "1.5.0",
          "model_name": "HTMLModel",
          "state": {
            "_dom_classes": [],
            "_model_module": "@jupyter-widgets/controls",
            "_model_module_version": "1.5.0",
            "_model_name": "HTMLModel",
            "_view_count": null,
            "_view_module": "@jupyter-widgets/controls",
            "_view_module_version": "1.5.0",
            "_view_name": "HTMLView",
            "description": "",
            "description_tooltip": null,
            "layout": "IPY_MODEL_f3400b191ce34039b384fad85328676c",
            "placeholder": "​",
            "style": "IPY_MODEL_0913423214704bf09170851581c48f62",
            "value": " 3/3 (100.0%) | ⏳ 03:52&lt;00:00 |  1.45s/it"
          }
        },
        "a46f9439cef34c53b6747f0a2bcd4db0": {
          "model_module": "@jupyter-widgets/base",
          "model_module_version": "1.2.0",
          "model_name": "LayoutModel",
          "state": {
            "_model_module": "@jupyter-widgets/base",
            "_model_module_version": "1.2.0",
            "_model_name": "LayoutModel",
            "_view_count": null,
            "_view_module": "@jupyter-widgets/base",
            "_view_module_version": "1.2.0",
            "_view_name": "LayoutView",
            "align_content": null,
            "align_items": null,
            "align_self": null,
            "border": null,
            "bottom": null,
            "display": null,
            "flex": null,
            "flex_flow": null,
            "grid_area": null,
            "grid_auto_columns": null,
            "grid_auto_flow": null,
            "grid_auto_rows": null,
            "grid_column": null,
            "grid_gap": null,
            "grid_row": null,
            "grid_template_areas": null,
            "grid_template_columns": null,
            "grid_template_rows": null,
            "height": null,
            "justify_content": null,
            "justify_items": null,
            "left": null,
            "margin": null,
            "max_height": null,
            "max_width": null,
            "min_height": null,
            "min_width": null,
            "object_fit": null,
            "object_position": null,
            "order": null,
            "overflow": null,
            "overflow_x": null,
            "overflow_y": null,
            "padding": null,
            "right": null,
            "top": null,
            "visibility": null,
            "width": null
          }
        },
        "a5eb6f0f970546d7b68b372f997c8a21": {
          "model_module": "@jupyter-widgets/controls",
          "model_module_version": "1.5.0",
          "model_name": "HBoxModel",
          "state": {
            "_dom_classes": [],
            "_model_module": "@jupyter-widgets/controls",
            "_model_module_version": "1.5.0",
            "_model_name": "HBoxModel",
            "_view_count": null,
            "_view_module": "@jupyter-widgets/controls",
            "_view_module_version": "1.5.0",
            "_view_name": "HBoxView",
            "box_style": "",
            "children": [
              "IPY_MODEL_c02ff7fdad0c4028a1911683c661d727",
              "IPY_MODEL_54edd1c9463c4e839727cc99a1280c54",
              "IPY_MODEL_e2c6e4a0d16b4f2a82373967b226d190"
            ],
            "layout": "IPY_MODEL_956e107c7530455ebafb2aade373c046"
          }
        },
        "c02ff7fdad0c4028a1911683c661d727": {
          "model_module": "@jupyter-widgets/controls",
          "model_module_version": "1.5.0",
          "model_name": "HTMLModel",
          "state": {
            "_dom_classes": [],
            "_model_module": "@jupyter-widgets/controls",
            "_model_module_version": "1.5.0",
            "_model_name": "HTMLModel",
            "_view_count": null,
            "_view_module": "@jupyter-widgets/controls",
            "_view_module_version": "1.5.0",
            "_view_name": "HTMLView",
            "description": "",
            "description_tooltip": null,
            "layout": "IPY_MODEL_809a9909f57c4e26873f214905c69726",
            "placeholder": "​",
            "style": "IPY_MODEL_25c5998cb1a64b8999306f35c1955ec2",
            "value": "llm_classify "
          }
        },
        "ce6c3a448cbf4801a4d61f2e5542dc25": {
          "model_module": "@jupyter-widgets/base",
          "model_module_version": "1.2.0",
          "model_name": "LayoutModel",
          "state": {
            "_model_module": "@jupyter-widgets/base",
            "_model_module_version": "1.2.0",
            "_model_name": "LayoutModel",
            "_view_count": null,
            "_view_module": "@jupyter-widgets/base",
            "_view_module_version": "1.2.0",
            "_view_name": "LayoutView",
            "align_content": null,
            "align_items": null,
            "align_self": null,
            "border": null,
            "bottom": null,
            "display": null,
            "flex": null,
            "flex_flow": null,
            "grid_area": null,
            "grid_auto_columns": null,
            "grid_auto_flow": null,
            "grid_auto_rows": null,
            "grid_column": null,
            "grid_gap": null,
            "grid_row": null,
            "grid_template_areas": null,
            "grid_template_columns": null,
            "grid_template_rows": null,
            "height": null,
            "justify_content": null,
            "justify_items": null,
            "left": null,
            "margin": null,
            "max_height": null,
            "max_width": null,
            "min_height": null,
            "min_width": null,
            "object_fit": null,
            "object_position": null,
            "order": null,
            "overflow": null,
            "overflow_x": null,
            "overflow_y": null,
            "padding": null,
            "right": null,
            "top": null,
            "visibility": null,
            "width": null
          }
        },
        "d4636a8c850f4cdbb5bf91fc23053ea7": {
          "model_module": "@jupyter-widgets/controls",
          "model_module_version": "1.5.0",
          "model_name": "FloatProgressModel",
          "state": {
            "_dom_classes": [],
            "_model_module": "@jupyter-widgets/controls",
            "_model_module_version": "1.5.0",
            "_model_name": "FloatProgressModel",
            "_view_count": null,
            "_view_module": "@jupyter-widgets/controls",
            "_view_module_version": "1.5.0",
            "_view_name": "ProgressView",
            "bar_style": "success",
            "description": "",
            "description_tooltip": null,
            "layout": "IPY_MODEL_93887fabd9ca421cbfc49369bd0de010",
            "max": 3,
            "min": 0,
            "orientation": "horizontal",
            "style": "IPY_MODEL_2e8bf31a5b9541b193191ceb61eb1b41",
            "value": 3
          }
        },
        "d533bd097f6b42e5b70ddc9698a69ed5": {
          "model_module": "@jupyter-widgets/controls",
          "model_module_version": "1.5.0",
          "model_name": "HTMLModel",
          "state": {
            "_dom_classes": [],
            "_model_module": "@jupyter-widgets/controls",
            "_model_module_version": "1.5.0",
            "_model_name": "HTMLModel",
            "_view_count": null,
            "_view_module": "@jupyter-widgets/controls",
            "_view_module_version": "1.5.0",
            "_view_name": "HTMLView",
            "description": "",
            "description_tooltip": null,
            "layout": "IPY_MODEL_501116dcfe2d49b0bdbd43bd350acf72",
            "placeholder": "​",
            "style": "IPY_MODEL_2f05b705d757460dbeaa18da88766c9e",
            "value": "llm_classify "
          }
        },
        "e2c6e4a0d16b4f2a82373967b226d190": {
          "model_module": "@jupyter-widgets/controls",
          "model_module_version": "1.5.0",
          "model_name": "HTMLModel",
          "state": {
            "_dom_classes": [],
            "_model_module": "@jupyter-widgets/controls",
            "_model_module_version": "1.5.0",
            "_model_name": "HTMLModel",
            "_view_count": null,
            "_view_module": "@jupyter-widgets/controls",
            "_view_module_version": "1.5.0",
            "_view_name": "HTMLView",
            "description": "",
            "description_tooltip": null,
            "layout": "IPY_MODEL_611f4c3963044e5ab26389b1912b3d47",
            "placeholder": "​",
            "style": "IPY_MODEL_fcab1584f3fd489cbf1b08e6cdfdb791",
            "value": " 3/3 (100.0%) | ⏳ 00:06&lt;00:00 |  1.19s/it"
          }
        },
        "ee39c610d046423386937c92b3d66314": {
          "model_module": "@jupyter-widgets/base",
          "model_module_version": "1.2.0",
          "model_name": "LayoutModel",
          "state": {
            "_model_module": "@jupyter-widgets/base",
            "_model_module_version": "1.2.0",
            "_model_name": "LayoutModel",
            "_view_count": null,
            "_view_module": "@jupyter-widgets/base",
            "_view_module_version": "1.2.0",
            "_view_name": "LayoutView",
            "align_content": null,
            "align_items": null,
            "align_self": null,
            "border": null,
            "bottom": null,
            "display": null,
            "flex": null,
            "flex_flow": null,
            "grid_area": null,
            "grid_auto_columns": null,
            "grid_auto_flow": null,
            "grid_auto_rows": null,
            "grid_column": null,
            "grid_gap": null,
            "grid_row": null,
            "grid_template_areas": null,
            "grid_template_columns": null,
            "grid_template_rows": null,
            "height": null,
            "justify_content": null,
            "justify_items": null,
            "left": null,
            "margin": null,
            "max_height": null,
            "max_width": null,
            "min_height": null,
            "min_width": null,
            "object_fit": null,
            "object_position": null,
            "order": null,
            "overflow": null,
            "overflow_x": null,
            "overflow_y": null,
            "padding": null,
            "right": null,
            "top": null,
            "visibility": null,
            "width": null
          }
        },
        "f3400b191ce34039b384fad85328676c": {
          "model_module": "@jupyter-widgets/base",
          "model_module_version": "1.2.0",
          "model_name": "LayoutModel",
          "state": {
            "_model_module": "@jupyter-widgets/base",
            "_model_module_version": "1.2.0",
            "_model_name": "LayoutModel",
            "_view_count": null,
            "_view_module": "@jupyter-widgets/base",
            "_view_module_version": "1.2.0",
            "_view_name": "LayoutView",
            "align_content": null,
            "align_items": null,
            "align_self": null,
            "border": null,
            "bottom": null,
            "display": null,
            "flex": null,
            "flex_flow": null,
            "grid_area": null,
            "grid_auto_columns": null,
            "grid_auto_flow": null,
            "grid_auto_rows": null,
            "grid_column": null,
            "grid_gap": null,
            "grid_row": null,
            "grid_template_areas": null,
            "grid_template_columns": null,
            "grid_template_rows": null,
            "height": null,
            "justify_content": null,
            "justify_items": null,
            "left": null,
            "margin": null,
            "max_height": null,
            "max_width": null,
            "min_height": null,
            "min_width": null,
            "object_fit": null,
            "object_position": null,
            "order": null,
            "overflow": null,
            "overflow_x": null,
            "overflow_y": null,
            "padding": null,
            "right": null,
            "top": null,
            "visibility": null,
            "width": null
          }
        },
        "f4acc489540a4a339fd7e3737460625d": {
          "model_module": "@jupyter-widgets/controls",
          "model_module_version": "1.5.0",
          "model_name": "DescriptionStyleModel",
          "state": {
            "_model_module": "@jupyter-widgets/controls",
            "_model_module_version": "1.5.0",
            "_model_name": "DescriptionStyleModel",
            "_view_count": null,
            "_view_module": "@jupyter-widgets/base",
            "_view_module_version": "1.2.0",
            "_view_name": "StyleView",
            "description_width": ""
          }
        },
        "fb2829bdeb2d4ca2bfe02b40dba081a7": {
          "model_module": "@jupyter-widgets/controls",
          "model_module_version": "1.5.0",
          "model_name": "HBoxModel",
          "state": {
            "_dom_classes": [],
            "_model_module": "@jupyter-widgets/controls",
            "_model_module_version": "1.5.0",
            "_model_name": "HBoxModel",
            "_view_count": null,
            "_view_module": "@jupyter-widgets/controls",
            "_view_module_version": "1.5.0",
            "_view_name": "HBoxView",
            "box_style": "",
            "children": [
              "IPY_MODEL_21f6b18332194ee5a183d5f08e2a0473",
              "IPY_MODEL_2cceaa03e211483584fce34fb4890900",
              "IPY_MODEL_6857ed643e1340a0960e8b71d00fc4f9"
            ],
            "layout": "IPY_MODEL_a24ea8a3f7104b1b87a9d01f464f8e27"
          }
        },
        "fcab1584f3fd489cbf1b08e6cdfdb791": {
          "model_module": "@jupyter-widgets/controls",
          "model_module_version": "1.5.0",
          "model_name": "DescriptionStyleModel",
          "state": {
            "_model_module": "@jupyter-widgets/controls",
            "_model_module_version": "1.5.0",
            "_model_name": "DescriptionStyleModel",
            "_view_count": null,
            "_view_module": "@jupyter-widgets/base",
            "_view_module_version": "1.2.0",
            "_view_name": "StyleView",
            "description_width": ""
          }
        }
      }
    }
  },
  "nbformat": 4,
  "nbformat_minor": 0
}
